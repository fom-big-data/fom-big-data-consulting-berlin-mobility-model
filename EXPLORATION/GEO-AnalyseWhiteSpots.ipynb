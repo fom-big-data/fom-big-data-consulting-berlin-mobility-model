{
 "cells": [
  {
   "cell_type": "code",
   "execution_count": 99,
   "metadata": {},
   "outputs": [],
   "source": [
    "import osmnx as ox\n",
    "import matplotlib.pyplot as plt\n",
    "import geopandas as gp\n",
    "import networkx as nx\n",
    "import os.path\n",
    "from os import path\n",
    "import pathlib\n",
    "import pandas as pd\n",
    "from points_in_polygons import if_point_inpolygon, if_points_in_polygonlist, count_points_in_polygonlist, if_points_in_polygon\n",
    "ox.config(log_console=True, use_cache=True)\n",
    "from shapely.geometry import Point, Polygon"
   ]
  },
  {
   "cell_type": "markdown",
   "metadata": {},
   "source": [
    "# Story Helper to calculate some deskriptive analysis"
   ]
  },
  {
   "cell_type": "markdown",
   "metadata": {},
   "source": [
    "## None IsoChrones"
   ]
  },
  {
   "cell_type": "code",
   "execution_count": 100,
   "metadata": {},
   "outputs": [],
   "source": [
    "df = gp.read_file(\"../results/berlin-inhabitants-improved.geojson\")"
   ]
  },
  {
   "cell_type": "code",
   "execution_count": 101,
   "metadata": {},
   "outputs": [],
   "source": [
    "# Get the centroid of the Polygon\n",
    "poly_centroid = df.geometry[0].centroid\n",
    "\n",
    "# Get the area of the Polygon\n",
    "poly_area = df.geometry[0].area\n",
    "\n",
    "# Get the bounds of the Polygon (i.e. bounding box)\n",
    "poly_bbox = df.geometry[0].bounds\n",
    "\n",
    "# Get the exterior of the Polygon\n",
    "poly_ext = df.geometry[0].exterior\n",
    "\n",
    "# Get the length of the exterior\n",
    "poly_ext_length = df.geometry[0].length"
   ]
  },
  {
   "cell_type": "code",
   "execution_count": 102,
   "metadata": {},
   "outputs": [],
   "source": [
    "#print(\"Poly centroid: \", poly_centroid)\n",
    "#print(\"Poly Area: \", poly_area)\n",
    "#print(\"Poly Bounding Box: \", poly_bbox)\n",
    "#print(\"Poly Exterior: \", poly_ext)\n",
    "#print(\"Poly Exterior Length: \", poly_ext_length)\n"
   ]
  },
  {
   "cell_type": "code",
   "execution_count": 103,
   "metadata": {},
   "outputs": [
    {
     "data": {
      "text/plain": [
       "[<shapely.geometry.polygon.Polygon at 0x242ea23a9a0>,\n",
       " <shapely.geometry.polygon.Polygon at 0x242ea23a700>]"
      ]
     },
     "execution_count": 103,
     "metadata": {},
     "output_type": "execute_result"
    }
   ],
   "source": [
    "plist = df.geometry[0:2].tolist()\n",
    "plist"
   ]
  },
  {
   "cell_type": "code",
   "execution_count": 104,
   "metadata": {},
   "outputs": [],
   "source": [
    "pointlist = [(13.08835, 52.41963), (13.08835, 52.41963)]"
   ]
  },
  {
   "cell_type": "code",
   "execution_count": 105,
   "metadata": {},
   "outputs": [],
   "source": [
    "countliste = if_points_in_polygon(df.geometry[0],pointlist)"
   ]
  },
  {
   "cell_type": "code",
   "execution_count": 106,
   "metadata": {},
   "outputs": [
    {
     "data": {
      "text/plain": [
       "[True, True]"
      ]
     },
     "execution_count": 106,
     "metadata": {},
     "output_type": "execute_result"
    }
   ],
   "source": [
    "countliste"
   ]
  },
  {
   "cell_type": "code",
   "execution_count": 107,
   "metadata": {},
   "outputs": [
    {
     "data": {
      "text/html": [
       "<div>\n",
       "<style scoped>\n",
       "    .dataframe tbody tr th:only-of-type {\n",
       "        vertical-align: middle;\n",
       "    }\n",
       "\n",
       "    .dataframe tbody tr th {\n",
       "        vertical-align: top;\n",
       "    }\n",
       "\n",
       "    .dataframe thead th {\n",
       "        text-align: right;\n",
       "    }\n",
       "</style>\n",
       "<table border=\"1\" class=\"dataframe\">\n",
       "  <thead>\n",
       "    <tr style=\"text-align: right;\">\n",
       "      <th></th>\n",
       "      <th>plz</th>\n",
       "      <th>first_dig_plz</th>\n",
       "      <th>einwohner</th>\n",
       "      <th>area_m2</th>\n",
       "      <th>area_km2</th>\n",
       "      <th>einwohner_km2</th>\n",
       "      <th>einwohner_m2</th>\n",
       "      <th>geometry</th>\n",
       "    </tr>\n",
       "  </thead>\n",
       "  <tbody>\n",
       "    <tr>\n",
       "      <th>0</th>\n",
       "      <td>14109</td>\n",
       "      <td>1</td>\n",
       "      <td>10049</td>\n",
       "      <td>2.522886e+07</td>\n",
       "      <td>25.228865</td>\n",
       "      <td>398.314</td>\n",
       "      <td>0.000398</td>\n",
       "      <td>POLYGON ((13.08835 52.41963, 13.09584 52.42198...</td>\n",
       "    </tr>\n",
       "    <tr>\n",
       "      <th>1</th>\n",
       "      <td>14089</td>\n",
       "      <td>1</td>\n",
       "      <td>17734</td>\n",
       "      <td>2.488821e+07</td>\n",
       "      <td>24.888210</td>\n",
       "      <td>712.546</td>\n",
       "      <td>0.000713</td>\n",
       "      <td>POLYGON ((13.10929 52.45063, 13.10956 52.45108...</td>\n",
       "    </tr>\n",
       "    <tr>\n",
       "      <th>2</th>\n",
       "      <td>13591</td>\n",
       "      <td>1</td>\n",
       "      <td>26762</td>\n",
       "      <td>8.988007e+06</td>\n",
       "      <td>8.988007</td>\n",
       "      <td>2977.523</td>\n",
       "      <td>0.002978</td>\n",
       "      <td>POLYGON ((13.11738 52.51706, 13.11811 52.52010...</td>\n",
       "    </tr>\n",
       "    <tr>\n",
       "      <th>3</th>\n",
       "      <td>13587</td>\n",
       "      <td>1</td>\n",
       "      <td>20108</td>\n",
       "      <td>1.747880e+07</td>\n",
       "      <td>17.478802</td>\n",
       "      <td>1150.422</td>\n",
       "      <td>0.001150</td>\n",
       "      <td>POLYGON ((13.12796 52.58313, 13.12934 52.58593...</td>\n",
       "    </tr>\n",
       "    <tr>\n",
       "      <th>4</th>\n",
       "      <td>13593</td>\n",
       "      <td>1</td>\n",
       "      <td>20238</td>\n",
       "      <td>4.561552e+06</td>\n",
       "      <td>4.561552</td>\n",
       "      <td>4436.647</td>\n",
       "      <td>0.004437</td>\n",
       "      <td>POLYGON ((13.14288 52.52181, 13.14306 52.52179...</td>\n",
       "    </tr>\n",
       "    <tr>\n",
       "      <th>...</th>\n",
       "      <td>...</td>\n",
       "      <td>...</td>\n",
       "      <td>...</td>\n",
       "      <td>...</td>\n",
       "      <td>...</td>\n",
       "      <td>...</td>\n",
       "      <td>...</td>\n",
       "      <td>...</td>\n",
       "    </tr>\n",
       "    <tr>\n",
       "      <th>193</th>\n",
       "      <td>12559</td>\n",
       "      <td>1</td>\n",
       "      <td>1</td>\n",
       "      <td>2.820620e+03</td>\n",
       "      <td>0.002821</td>\n",
       "      <td>354.532</td>\n",
       "      <td>0.000355</td>\n",
       "      <td>POLYGON ((13.58139 52.44185, 13.58151 52.44239...</td>\n",
       "    </tr>\n",
       "    <tr>\n",
       "      <th>194</th>\n",
       "      <td>12559</td>\n",
       "      <td>1</td>\n",
       "      <td>17643</td>\n",
       "      <td>3.761828e+07</td>\n",
       "      <td>37.618275</td>\n",
       "      <td>469.001</td>\n",
       "      <td>0.000469</td>\n",
       "      <td>POLYGON ((13.58177 52.44236, 13.58248 52.44299...</td>\n",
       "    </tr>\n",
       "    <tr>\n",
       "      <th>195</th>\n",
       "      <td>12627</td>\n",
       "      <td>1</td>\n",
       "      <td>35353</td>\n",
       "      <td>3.985389e+06</td>\n",
       "      <td>3.985389</td>\n",
       "      <td>8870.652</td>\n",
       "      <td>0.008871</td>\n",
       "      <td>POLYGON ((13.59131 52.53367, 13.59148 52.53485...</td>\n",
       "    </tr>\n",
       "    <tr>\n",
       "      <th>196</th>\n",
       "      <td>12587</td>\n",
       "      <td>1</td>\n",
       "      <td>17717</td>\n",
       "      <td>1.529608e+07</td>\n",
       "      <td>15.296081</td>\n",
       "      <td>1158.271</td>\n",
       "      <td>0.001158</td>\n",
       "      <td>POLYGON ((13.59408 52.45418, 13.59430 52.45452...</td>\n",
       "    </tr>\n",
       "    <tr>\n",
       "      <th>197</th>\n",
       "      <td>12589</td>\n",
       "      <td>1</td>\n",
       "      <td>9236</td>\n",
       "      <td>2.144565e+07</td>\n",
       "      <td>21.445649</td>\n",
       "      <td>430.670</td>\n",
       "      <td>0.000431</td>\n",
       "      <td>POLYGON ((13.65676 52.43742, 13.66248 52.44738...</td>\n",
       "    </tr>\n",
       "  </tbody>\n",
       "</table>\n",
       "<p>198 rows × 8 columns</p>\n",
       "</div>"
      ],
      "text/plain": [
       "       plz first_dig_plz  einwohner       area_m2   area_km2  einwohner_km2  \\\n",
       "0    14109             1      10049  2.522886e+07  25.228865        398.314   \n",
       "1    14089             1      17734  2.488821e+07  24.888210        712.546   \n",
       "2    13591             1      26762  8.988007e+06   8.988007       2977.523   \n",
       "3    13587             1      20108  1.747880e+07  17.478802       1150.422   \n",
       "4    13593             1      20238  4.561552e+06   4.561552       4436.647   \n",
       "..     ...           ...        ...           ...        ...            ...   \n",
       "193  12559             1          1  2.820620e+03   0.002821        354.532   \n",
       "194  12559             1      17643  3.761828e+07  37.618275        469.001   \n",
       "195  12627             1      35353  3.985389e+06   3.985389       8870.652   \n",
       "196  12587             1      17717  1.529608e+07  15.296081       1158.271   \n",
       "197  12589             1       9236  2.144565e+07  21.445649        430.670   \n",
       "\n",
       "     einwohner_m2                                           geometry  \n",
       "0        0.000398  POLYGON ((13.08835 52.41963, 13.09584 52.42198...  \n",
       "1        0.000713  POLYGON ((13.10929 52.45063, 13.10956 52.45108...  \n",
       "2        0.002978  POLYGON ((13.11738 52.51706, 13.11811 52.52010...  \n",
       "3        0.001150  POLYGON ((13.12796 52.58313, 13.12934 52.58593...  \n",
       "4        0.004437  POLYGON ((13.14288 52.52181, 13.14306 52.52179...  \n",
       "..            ...                                                ...  \n",
       "193      0.000355  POLYGON ((13.58139 52.44185, 13.58151 52.44239...  \n",
       "194      0.000469  POLYGON ((13.58177 52.44236, 13.58248 52.44299...  \n",
       "195      0.008871  POLYGON ((13.59131 52.53367, 13.59148 52.53485...  \n",
       "196      0.001158  POLYGON ((13.59408 52.45418, 13.59430 52.45452...  \n",
       "197      0.000431  POLYGON ((13.65676 52.43742, 13.66248 52.44738...  \n",
       "\n",
       "[198 rows x 8 columns]"
      ]
     },
     "execution_count": 107,
     "metadata": {},
     "output_type": "execute_result"
    }
   ],
   "source": [
    "df"
   ]
  },
  {
   "cell_type": "code",
   "execution_count": 108,
   "metadata": {},
   "outputs": [],
   "source": [
    "dfnew = df[df.plz == '14089']# & (df.plz == '13593')]#,'13595','13581','13591','13589','13587','12559','12527','12557'\n",
    "\n",
    "#14089, 13593, 13595, 13581, 13591, 13589, 13587, 12559, 12527, 12557"
   ]
  },
  {
   "cell_type": "code",
   "execution_count": 109,
   "metadata": {},
   "outputs": [],
   "source": [
    "dfnew = dfnew.append(df[df.plz == '13593'])"
   ]
  },
  {
   "cell_type": "code",
   "execution_count": 110,
   "metadata": {},
   "outputs": [],
   "source": [
    "dfnew = dfnew.append(df[df.plz == '13595'])"
   ]
  },
  {
   "cell_type": "code",
   "execution_count": 111,
   "metadata": {},
   "outputs": [],
   "source": [
    "dfnew = dfnew.append(df[df.plz == '13581'])"
   ]
  },
  {
   "cell_type": "code",
   "execution_count": 112,
   "metadata": {},
   "outputs": [],
   "source": [
    "dfnew = dfnew.append(df[df.plz == '13591'])"
   ]
  },
  {
   "cell_type": "code",
   "execution_count": 113,
   "metadata": {},
   "outputs": [],
   "source": [
    "dfnew = dfnew.append(df[df.plz == '13589'])"
   ]
  },
  {
   "cell_type": "code",
   "execution_count": 114,
   "metadata": {},
   "outputs": [],
   "source": [
    "dfnew = dfnew.append(df[df.plz == '13587'])"
   ]
  },
  {
   "cell_type": "code",
   "execution_count": 115,
   "metadata": {},
   "outputs": [],
   "source": [
    "dfnew = dfnew.append(df[df.plz == '12559'])"
   ]
  },
  {
   "cell_type": "code",
   "execution_count": 116,
   "metadata": {},
   "outputs": [],
   "source": [
    "dfnew = dfnew.append(df[df.plz == '12527'])"
   ]
  },
  {
   "cell_type": "code",
   "execution_count": 117,
   "metadata": {},
   "outputs": [],
   "source": [
    "dfnew = dfnew.append(df[df.plz == '12557'])"
   ]
  },
  {
   "cell_type": "code",
   "execution_count": 118,
   "metadata": {},
   "outputs": [
    {
     "data": {
      "text/html": [
       "<div>\n",
       "<style scoped>\n",
       "    .dataframe tbody tr th:only-of-type {\n",
       "        vertical-align: middle;\n",
       "    }\n",
       "\n",
       "    .dataframe tbody tr th {\n",
       "        vertical-align: top;\n",
       "    }\n",
       "\n",
       "    .dataframe thead th {\n",
       "        text-align: right;\n",
       "    }\n",
       "</style>\n",
       "<table border=\"1\" class=\"dataframe\">\n",
       "  <thead>\n",
       "    <tr style=\"text-align: right;\">\n",
       "      <th></th>\n",
       "      <th>plz</th>\n",
       "      <th>first_dig_plz</th>\n",
       "      <th>einwohner</th>\n",
       "      <th>area_m2</th>\n",
       "      <th>area_km2</th>\n",
       "      <th>einwohner_km2</th>\n",
       "      <th>einwohner_m2</th>\n",
       "      <th>geometry</th>\n",
       "    </tr>\n",
       "  </thead>\n",
       "  <tbody>\n",
       "    <tr>\n",
       "      <th>1</th>\n",
       "      <td>14089</td>\n",
       "      <td>1</td>\n",
       "      <td>17734</td>\n",
       "      <td>2.488821e+07</td>\n",
       "      <td>24.888210</td>\n",
       "      <td>712.546</td>\n",
       "      <td>0.000713</td>\n",
       "      <td>POLYGON ((13.10929 52.45063, 13.10956 52.45108...</td>\n",
       "    </tr>\n",
       "    <tr>\n",
       "      <th>4</th>\n",
       "      <td>13593</td>\n",
       "      <td>1</td>\n",
       "      <td>20238</td>\n",
       "      <td>4.561552e+06</td>\n",
       "      <td>4.561552</td>\n",
       "      <td>4436.647</td>\n",
       "      <td>0.004437</td>\n",
       "      <td>POLYGON ((13.14288 52.52181, 13.14306 52.52179...</td>\n",
       "    </tr>\n",
       "    <tr>\n",
       "      <th>9</th>\n",
       "      <td>13595</td>\n",
       "      <td>1</td>\n",
       "      <td>19966</td>\n",
       "      <td>5.294865e+06</td>\n",
       "      <td>5.294865</td>\n",
       "      <td>3770.823</td>\n",
       "      <td>0.003771</td>\n",
       "      <td>POLYGON ((13.17354 52.50851, 13.17399 52.50926...</td>\n",
       "    </tr>\n",
       "    <tr>\n",
       "      <th>6</th>\n",
       "      <td>13581</td>\n",
       "      <td>1</td>\n",
       "      <td>14355</td>\n",
       "      <td>3.942352e+06</td>\n",
       "      <td>3.942352</td>\n",
       "      <td>3641.227</td>\n",
       "      <td>0.003641</td>\n",
       "      <td>POLYGON ((13.15664 52.53667, 13.15679 52.53734...</td>\n",
       "    </tr>\n",
       "    <tr>\n",
       "      <th>2</th>\n",
       "      <td>13591</td>\n",
       "      <td>1</td>\n",
       "      <td>26762</td>\n",
       "      <td>8.988007e+06</td>\n",
       "      <td>8.988007</td>\n",
       "      <td>2977.523</td>\n",
       "      <td>0.002978</td>\n",
       "      <td>POLYGON ((13.11738 52.51706, 13.11811 52.52010...</td>\n",
       "    </tr>\n",
       "    <tr>\n",
       "      <th>5</th>\n",
       "      <td>13589</td>\n",
       "      <td>1</td>\n",
       "      <td>21103</td>\n",
       "      <td>6.903208e+06</td>\n",
       "      <td>6.903208</td>\n",
       "      <td>3056.984</td>\n",
       "      <td>0.003057</td>\n",
       "      <td>POLYGON ((13.14345 52.55039, 13.14350 52.55090...</td>\n",
       "    </tr>\n",
       "    <tr>\n",
       "      <th>3</th>\n",
       "      <td>13587</td>\n",
       "      <td>1</td>\n",
       "      <td>20108</td>\n",
       "      <td>1.747880e+07</td>\n",
       "      <td>17.478802</td>\n",
       "      <td>1150.422</td>\n",
       "      <td>0.001150</td>\n",
       "      <td>POLYGON ((13.12796 52.58313, 13.12934 52.58593...</td>\n",
       "    </tr>\n",
       "    <tr>\n",
       "      <th>193</th>\n",
       "      <td>12559</td>\n",
       "      <td>1</td>\n",
       "      <td>1</td>\n",
       "      <td>2.820620e+03</td>\n",
       "      <td>0.002821</td>\n",
       "      <td>354.532</td>\n",
       "      <td>0.000355</td>\n",
       "      <td>POLYGON ((13.58139 52.44185, 13.58151 52.44239...</td>\n",
       "    </tr>\n",
       "    <tr>\n",
       "      <th>194</th>\n",
       "      <td>12559</td>\n",
       "      <td>1</td>\n",
       "      <td>17643</td>\n",
       "      <td>3.761828e+07</td>\n",
       "      <td>37.618275</td>\n",
       "      <td>469.001</td>\n",
       "      <td>0.000469</td>\n",
       "      <td>POLYGON ((13.58177 52.44236, 13.58248 52.44299...</td>\n",
       "    </tr>\n",
       "    <tr>\n",
       "      <th>186</th>\n",
       "      <td>12527</td>\n",
       "      <td>1</td>\n",
       "      <td>9425</td>\n",
       "      <td>2.620787e+07</td>\n",
       "      <td>26.207873</td>\n",
       "      <td>359.625</td>\n",
       "      <td>0.000360</td>\n",
       "      <td>POLYGON ((13.55431 52.42579, 13.55542 52.42590...</td>\n",
       "    </tr>\n",
       "    <tr>\n",
       "      <th>187</th>\n",
       "      <td>12557</td>\n",
       "      <td>1</td>\n",
       "      <td>21494</td>\n",
       "      <td>8.095616e+06</td>\n",
       "      <td>8.095616</td>\n",
       "      <td>2655.017</td>\n",
       "      <td>0.002655</td>\n",
       "      <td>POLYGON ((13.55915 52.44178, 13.56040 52.44222...</td>\n",
       "    </tr>\n",
       "  </tbody>\n",
       "</table>\n",
       "</div>"
      ],
      "text/plain": [
       "       plz first_dig_plz  einwohner       area_m2   area_km2  einwohner_km2  \\\n",
       "1    14089             1      17734  2.488821e+07  24.888210        712.546   \n",
       "4    13593             1      20238  4.561552e+06   4.561552       4436.647   \n",
       "9    13595             1      19966  5.294865e+06   5.294865       3770.823   \n",
       "6    13581             1      14355  3.942352e+06   3.942352       3641.227   \n",
       "2    13591             1      26762  8.988007e+06   8.988007       2977.523   \n",
       "5    13589             1      21103  6.903208e+06   6.903208       3056.984   \n",
       "3    13587             1      20108  1.747880e+07  17.478802       1150.422   \n",
       "193  12559             1          1  2.820620e+03   0.002821        354.532   \n",
       "194  12559             1      17643  3.761828e+07  37.618275        469.001   \n",
       "186  12527             1       9425  2.620787e+07  26.207873        359.625   \n",
       "187  12557             1      21494  8.095616e+06   8.095616       2655.017   \n",
       "\n",
       "     einwohner_m2                                           geometry  \n",
       "1        0.000713  POLYGON ((13.10929 52.45063, 13.10956 52.45108...  \n",
       "4        0.004437  POLYGON ((13.14288 52.52181, 13.14306 52.52179...  \n",
       "9        0.003771  POLYGON ((13.17354 52.50851, 13.17399 52.50926...  \n",
       "6        0.003641  POLYGON ((13.15664 52.53667, 13.15679 52.53734...  \n",
       "2        0.002978  POLYGON ((13.11738 52.51706, 13.11811 52.52010...  \n",
       "5        0.003057  POLYGON ((13.14345 52.55039, 13.14350 52.55090...  \n",
       "3        0.001150  POLYGON ((13.12796 52.58313, 13.12934 52.58593...  \n",
       "193      0.000355  POLYGON ((13.58139 52.44185, 13.58151 52.44239...  \n",
       "194      0.000469  POLYGON ((13.58177 52.44236, 13.58248 52.44299...  \n",
       "186      0.000360  POLYGON ((13.55431 52.42579, 13.55542 52.42590...  \n",
       "187      0.002655  POLYGON ((13.55915 52.44178, 13.56040 52.44222...  "
      ]
     },
     "execution_count": 118,
     "metadata": {},
     "output_type": "execute_result"
    }
   ],
   "source": [
    "dfnew.to_file('../results/berlin-plz-whitespots',driver='GeoJSON')"
   ]
  },
  {
   "cell_type": "code",
   "execution_count": 39,
   "metadata": {},
   "outputs": [],
   "source": [
    "# making boolean series for a team name \n",
    "#filter1 = df['plz'] == '14089'\n",
    "#filter2 = df['plz'] == '13593'\n",
    "  \n",
    "# making boolean series for age \n",
    "#dfnew = df\n",
    "  \n",
    "# filtering data on basis of both filters \n",
    "#dfnew = df.where(filter1 & filter2)\n",
    "#dfnew"
   ]
  },
  {
   "cell_type": "code",
   "execution_count": 57,
   "metadata": {},
   "outputs": [],
   "source": [
    "#dfnew = df\n",
    "#dfnew.set_index(\"plz\", inplace=True)\n",
    "#print(df.loc['13593'])\n",
    "\n",
    "#op = df.loc[(df['plz'] == 13593)]\n",
    "#print(op)"
   ]
  },
  {
   "cell_type": "code",
   "execution_count": 59,
   "metadata": {},
   "outputs": [],
   "source": [
    "#dfnew"
   ]
  },
  {
   "cell_type": "code",
   "execution_count": null,
   "metadata": {},
   "outputs": [],
   "source": []
  },
  {
   "cell_type": "code",
   "execution_count": 21,
   "metadata": {},
   "outputs": [
    {
     "ename": "TypeError",
     "evalue": "Cannot perform 'rand_' with a dtyped [object] array and scalar of type [bool]",
     "output_type": "error",
     "traceback": [
      "\u001b[1;31m---------------------------------------------------------------------------\u001b[0m",
      "\u001b[1;31mTypeError\u001b[0m                                 Traceback (most recent call last)",
      "\u001b[1;32m~\\anaconda3\\envs\\geo\\lib\\site-packages\\pandas\\core\\ops\\array_ops.py\u001b[0m in \u001b[0;36mna_logical_op\u001b[1;34m(x, y, op)\u001b[0m\n\u001b[0;32m    265\u001b[0m         \u001b[1;31m#  (xint or xbool) and (yint or bool)\u001b[0m\u001b[1;33m\u001b[0m\u001b[1;33m\u001b[0m\u001b[1;33m\u001b[0m\u001b[0m\n\u001b[1;32m--> 266\u001b[1;33m         \u001b[0mresult\u001b[0m \u001b[1;33m=\u001b[0m \u001b[0mop\u001b[0m\u001b[1;33m(\u001b[0m\u001b[0mx\u001b[0m\u001b[1;33m,\u001b[0m \u001b[0my\u001b[0m\u001b[1;33m)\u001b[0m\u001b[1;33m\u001b[0m\u001b[1;33m\u001b[0m\u001b[0m\n\u001b[0m\u001b[0;32m    267\u001b[0m     \u001b[1;32mexcept\u001b[0m \u001b[0mTypeError\u001b[0m\u001b[1;33m:\u001b[0m\u001b[1;33m\u001b[0m\u001b[1;33m\u001b[0m\u001b[0m\n",
      "\u001b[1;32m~\\anaconda3\\envs\\geo\\lib\\site-packages\\pandas\\core\\ops\\roperator.py\u001b[0m in \u001b[0;36mrand_\u001b[1;34m(left, right)\u001b[0m\n\u001b[0;32m     51\u001b[0m \u001b[1;32mdef\u001b[0m \u001b[0mrand_\u001b[0m\u001b[1;33m(\u001b[0m\u001b[0mleft\u001b[0m\u001b[1;33m,\u001b[0m \u001b[0mright\u001b[0m\u001b[1;33m)\u001b[0m\u001b[1;33m:\u001b[0m\u001b[1;33m\u001b[0m\u001b[1;33m\u001b[0m\u001b[0m\n\u001b[1;32m---> 52\u001b[1;33m     \u001b[1;32mreturn\u001b[0m \u001b[0moperator\u001b[0m\u001b[1;33m.\u001b[0m\u001b[0mand_\u001b[0m\u001b[1;33m(\u001b[0m\u001b[0mright\u001b[0m\u001b[1;33m,\u001b[0m \u001b[0mleft\u001b[0m\u001b[1;33m)\u001b[0m\u001b[1;33m\u001b[0m\u001b[1;33m\u001b[0m\u001b[0m\n\u001b[0m\u001b[0;32m     53\u001b[0m \u001b[1;33m\u001b[0m\u001b[0m\n",
      "\u001b[1;31mTypeError\u001b[0m: unsupported operand type(s) for &: 'str' and 'str'",
      "\nDuring handling of the above exception, another exception occurred:\n",
      "\u001b[1;31mTypeError\u001b[0m                                 Traceback (most recent call last)",
      "\u001b[1;32m~\\anaconda3\\envs\\geo\\lib\\site-packages\\pandas\\core\\ops\\array_ops.py\u001b[0m in \u001b[0;36mna_logical_op\u001b[1;34m(x, y, op)\u001b[0m\n\u001b[0;32m    279\u001b[0m             \u001b[1;32mtry\u001b[0m\u001b[1;33m:\u001b[0m\u001b[1;33m\u001b[0m\u001b[1;33m\u001b[0m\u001b[0m\n\u001b[1;32m--> 280\u001b[1;33m                 \u001b[0mresult\u001b[0m \u001b[1;33m=\u001b[0m \u001b[0mlibops\u001b[0m\u001b[1;33m.\u001b[0m\u001b[0mscalar_binop\u001b[0m\u001b[1;33m(\u001b[0m\u001b[0mx\u001b[0m\u001b[1;33m,\u001b[0m \u001b[0my\u001b[0m\u001b[1;33m,\u001b[0m \u001b[0mop\u001b[0m\u001b[1;33m)\u001b[0m\u001b[1;33m\u001b[0m\u001b[1;33m\u001b[0m\u001b[0m\n\u001b[0m\u001b[0;32m    281\u001b[0m             except (\n",
      "\u001b[1;32mpandas\\_libs\\ops.pyx\u001b[0m in \u001b[0;36mpandas._libs.ops.scalar_binop\u001b[1;34m()\u001b[0m\n",
      "\u001b[1;32m~\\anaconda3\\envs\\geo\\lib\\site-packages\\pandas\\core\\ops\\roperator.py\u001b[0m in \u001b[0;36mrand_\u001b[1;34m(left, right)\u001b[0m\n\u001b[0;32m     51\u001b[0m \u001b[1;32mdef\u001b[0m \u001b[0mrand_\u001b[0m\u001b[1;33m(\u001b[0m\u001b[0mleft\u001b[0m\u001b[1;33m,\u001b[0m \u001b[0mright\u001b[0m\u001b[1;33m)\u001b[0m\u001b[1;33m:\u001b[0m\u001b[1;33m\u001b[0m\u001b[1;33m\u001b[0m\u001b[0m\n\u001b[1;32m---> 52\u001b[1;33m     \u001b[1;32mreturn\u001b[0m \u001b[0moperator\u001b[0m\u001b[1;33m.\u001b[0m\u001b[0mand_\u001b[0m\u001b[1;33m(\u001b[0m\u001b[0mright\u001b[0m\u001b[1;33m,\u001b[0m \u001b[0mleft\u001b[0m\u001b[1;33m)\u001b[0m\u001b[1;33m\u001b[0m\u001b[1;33m\u001b[0m\u001b[0m\n\u001b[0m\u001b[0;32m     53\u001b[0m \u001b[1;33m\u001b[0m\u001b[0m\n",
      "\u001b[1;31mTypeError\u001b[0m: unsupported operand type(s) for &: 'bool' and 'str'",
      "\nThe above exception was the direct cause of the following exception:\n",
      "\u001b[1;31mTypeError\u001b[0m                                 Traceback (most recent call last)",
      "\u001b[1;32m<ipython-input-21-a9ef43a4d66e>\u001b[0m in \u001b[0;36m<module>\u001b[1;34m\u001b[0m\n\u001b[1;32m----> 1\u001b[1;33m \u001b[0mdfnew\u001b[0m \u001b[1;33m=\u001b[0m \u001b[0mdf\u001b[0m\u001b[1;33m[\u001b[0m\u001b[0mdf\u001b[0m\u001b[1;33m[\u001b[0m\u001b[1;34m'plz'\u001b[0m\u001b[1;33m]\u001b[0m\u001b[1;33m==\u001b[0m \u001b[1;34m'14089'\u001b[0m \u001b[1;33m&\u001b[0m \u001b[0mdf\u001b[0m\u001b[1;33m[\u001b[0m\u001b[1;34m'plz'\u001b[0m\u001b[1;33m]\u001b[0m\u001b[1;33m==\u001b[0m\u001b[1;34m'13593'\u001b[0m\u001b[1;33m]\u001b[0m\u001b[1;31m#,'13595','13581','13591','13589','13587','12559','12527','12557'\u001b[0m\u001b[1;33m\u001b[0m\u001b[1;33m\u001b[0m\u001b[0m\n\u001b[0m",
      "\u001b[1;32m~\\anaconda3\\envs\\geo\\lib\\site-packages\\pandas\\core\\ops\\common.py\u001b[0m in \u001b[0;36mnew_method\u001b[1;34m(self, other)\u001b[0m\n\u001b[0;32m     63\u001b[0m         \u001b[0mother\u001b[0m \u001b[1;33m=\u001b[0m \u001b[0mitem_from_zerodim\u001b[0m\u001b[1;33m(\u001b[0m\u001b[0mother\u001b[0m\u001b[1;33m)\u001b[0m\u001b[1;33m\u001b[0m\u001b[1;33m\u001b[0m\u001b[0m\n\u001b[0;32m     64\u001b[0m \u001b[1;33m\u001b[0m\u001b[0m\n\u001b[1;32m---> 65\u001b[1;33m         \u001b[1;32mreturn\u001b[0m \u001b[0mmethod\u001b[0m\u001b[1;33m(\u001b[0m\u001b[0mself\u001b[0m\u001b[1;33m,\u001b[0m \u001b[0mother\u001b[0m\u001b[1;33m)\u001b[0m\u001b[1;33m\u001b[0m\u001b[1;33m\u001b[0m\u001b[0m\n\u001b[0m\u001b[0;32m     66\u001b[0m \u001b[1;33m\u001b[0m\u001b[0m\n\u001b[0;32m     67\u001b[0m     \u001b[1;32mreturn\u001b[0m \u001b[0mnew_method\u001b[0m\u001b[1;33m\u001b[0m\u001b[1;33m\u001b[0m\u001b[0m\n",
      "\u001b[1;32m~\\anaconda3\\envs\\geo\\lib\\site-packages\\pandas\\core\\ops\\__init__.py\u001b[0m in \u001b[0;36mwrapper\u001b[1;34m(self, other)\u001b[0m\n\u001b[0;32m    392\u001b[0m         \u001b[0mrvalues\u001b[0m \u001b[1;33m=\u001b[0m \u001b[0mextract_array\u001b[0m\u001b[1;33m(\u001b[0m\u001b[0mother\u001b[0m\u001b[1;33m,\u001b[0m \u001b[0mextract_numpy\u001b[0m\u001b[1;33m=\u001b[0m\u001b[1;32mTrue\u001b[0m\u001b[1;33m)\u001b[0m\u001b[1;33m\u001b[0m\u001b[1;33m\u001b[0m\u001b[0m\n\u001b[0;32m    393\u001b[0m \u001b[1;33m\u001b[0m\u001b[0m\n\u001b[1;32m--> 394\u001b[1;33m         \u001b[0mres_values\u001b[0m \u001b[1;33m=\u001b[0m \u001b[0mlogical_op\u001b[0m\u001b[1;33m(\u001b[0m\u001b[0mlvalues\u001b[0m\u001b[1;33m,\u001b[0m \u001b[0mrvalues\u001b[0m\u001b[1;33m,\u001b[0m \u001b[0mop\u001b[0m\u001b[1;33m)\u001b[0m\u001b[1;33m\u001b[0m\u001b[1;33m\u001b[0m\u001b[0m\n\u001b[0m\u001b[0;32m    395\u001b[0m         \u001b[1;32mreturn\u001b[0m \u001b[0mself\u001b[0m\u001b[1;33m.\u001b[0m\u001b[0m_construct_result\u001b[0m\u001b[1;33m(\u001b[0m\u001b[0mres_values\u001b[0m\u001b[1;33m,\u001b[0m \u001b[0mname\u001b[0m\u001b[1;33m=\u001b[0m\u001b[0mres_name\u001b[0m\u001b[1;33m)\u001b[0m\u001b[1;33m\u001b[0m\u001b[1;33m\u001b[0m\u001b[0m\n\u001b[0;32m    396\u001b[0m \u001b[1;33m\u001b[0m\u001b[0m\n",
      "\u001b[1;32m~\\anaconda3\\envs\\geo\\lib\\site-packages\\pandas\\core\\ops\\array_ops.py\u001b[0m in \u001b[0;36mlogical_op\u001b[1;34m(left, right, op)\u001b[0m\n\u001b[0;32m    354\u001b[0m         \u001b[0mfiller\u001b[0m \u001b[1;33m=\u001b[0m \u001b[0mfill_int\u001b[0m \u001b[1;32mif\u001b[0m \u001b[0mis_self_int_dtype\u001b[0m \u001b[1;32mand\u001b[0m \u001b[0mis_other_int_dtype\u001b[0m \u001b[1;32melse\u001b[0m \u001b[0mfill_bool\u001b[0m\u001b[1;33m\u001b[0m\u001b[1;33m\u001b[0m\u001b[0m\n\u001b[0;32m    355\u001b[0m \u001b[1;33m\u001b[0m\u001b[0m\n\u001b[1;32m--> 356\u001b[1;33m         \u001b[0mres_values\u001b[0m \u001b[1;33m=\u001b[0m \u001b[0mna_logical_op\u001b[0m\u001b[1;33m(\u001b[0m\u001b[0mlvalues\u001b[0m\u001b[1;33m,\u001b[0m \u001b[0mrvalues\u001b[0m\u001b[1;33m,\u001b[0m \u001b[0mop\u001b[0m\u001b[1;33m)\u001b[0m\u001b[1;33m\u001b[0m\u001b[1;33m\u001b[0m\u001b[0m\n\u001b[0m\u001b[0;32m    357\u001b[0m         \u001b[0mres_values\u001b[0m \u001b[1;33m=\u001b[0m \u001b[0mfiller\u001b[0m\u001b[1;33m(\u001b[0m\u001b[0mres_values\u001b[0m\u001b[1;33m)\u001b[0m  \u001b[1;31m# type: ignore\u001b[0m\u001b[1;33m\u001b[0m\u001b[1;33m\u001b[0m\u001b[0m\n\u001b[0;32m    358\u001b[0m \u001b[1;33m\u001b[0m\u001b[0m\n",
      "\u001b[1;32m~\\anaconda3\\envs\\geo\\lib\\site-packages\\pandas\\core\\ops\\array_ops.py\u001b[0m in \u001b[0;36mna_logical_op\u001b[1;34m(x, y, op)\u001b[0m\n\u001b[0;32m    287\u001b[0m             ) as err:\n\u001b[0;32m    288\u001b[0m                 \u001b[0mtyp\u001b[0m \u001b[1;33m=\u001b[0m \u001b[0mtype\u001b[0m\u001b[1;33m(\u001b[0m\u001b[0my\u001b[0m\u001b[1;33m)\u001b[0m\u001b[1;33m.\u001b[0m\u001b[0m__name__\u001b[0m\u001b[1;33m\u001b[0m\u001b[1;33m\u001b[0m\u001b[0m\n\u001b[1;32m--> 289\u001b[1;33m                 raise TypeError(\n\u001b[0m\u001b[0;32m    290\u001b[0m                     \u001b[1;34mf\"Cannot perform '{op.__name__}' with a dtyped [{x.dtype}] array \"\u001b[0m\u001b[1;33m\u001b[0m\u001b[1;33m\u001b[0m\u001b[0m\n\u001b[0;32m    291\u001b[0m                     \u001b[1;34mf\"and scalar of type [{typ}]\"\u001b[0m\u001b[1;33m\u001b[0m\u001b[1;33m\u001b[0m\u001b[0m\n",
      "\u001b[1;31mTypeError\u001b[0m: Cannot perform 'rand_' with a dtyped [object] array and scalar of type [bool]"
     ]
    }
   ],
   "source": [
    "dfnew = df[ &]#,'13595','13581','13591','13589','13587','12559','12527','12557'"
   ]
  },
  {
   "cell_type": "code",
   "execution_count": 18,
   "metadata": {},
   "outputs": [
    {
     "data": {
      "text/html": [
       "<div>\n",
       "<style scoped>\n",
       "    .dataframe tbody tr th:only-of-type {\n",
       "        vertical-align: middle;\n",
       "    }\n",
       "\n",
       "    .dataframe tbody tr th {\n",
       "        vertical-align: top;\n",
       "    }\n",
       "\n",
       "    .dataframe thead th {\n",
       "        text-align: right;\n",
       "    }\n",
       "</style>\n",
       "<table border=\"1\" class=\"dataframe\">\n",
       "  <thead>\n",
       "    <tr style=\"text-align: right;\">\n",
       "      <th></th>\n",
       "      <th>plz</th>\n",
       "      <th>first_dig_plz</th>\n",
       "      <th>einwohner</th>\n",
       "      <th>area_m2</th>\n",
       "      <th>area_km2</th>\n",
       "      <th>einwohner_km2</th>\n",
       "      <th>einwohner_m2</th>\n",
       "      <th>geometry</th>\n",
       "    </tr>\n",
       "  </thead>\n",
       "  <tbody>\n",
       "    <tr>\n",
       "      <th>1</th>\n",
       "      <td>14089</td>\n",
       "      <td>1</td>\n",
       "      <td>17734</td>\n",
       "      <td>2.488821e+07</td>\n",
       "      <td>24.88821</td>\n",
       "      <td>712.546</td>\n",
       "      <td>0.000713</td>\n",
       "      <td>POLYGON ((13.10929 52.45063, 13.10956 52.45108...</td>\n",
       "    </tr>\n",
       "  </tbody>\n",
       "</table>\n",
       "</div>"
      ],
      "text/plain": [
       "     plz first_dig_plz  einwohner       area_m2  area_km2  einwohner_km2  \\\n",
       "1  14089             1      17734  2.488821e+07  24.88821        712.546   \n",
       "\n",
       "   einwohner_m2                                           geometry  \n",
       "1      0.000713  POLYGON ((13.10929 52.45063, 13.10956 52.45108...  "
      ]
     },
     "execution_count": 18,
     "metadata": {},
     "output_type": "execute_result"
    }
   ],
   "source": []
  },
  {
   "cell_type": "code",
   "execution_count": null,
   "metadata": {},
   "outputs": [],
   "source": []
  },
  {
   "cell_type": "code",
   "execution_count": null,
   "metadata": {},
   "outputs": [],
   "source": []
  },
  {
   "cell_type": "code",
   "execution_count": null,
   "metadata": {},
   "outputs": [],
   "source": []
  },
  {
   "cell_type": "code",
   "execution_count": null,
   "metadata": {},
   "outputs": [],
   "source": []
  },
  {
   "cell_type": "code",
   "execution_count": null,
   "metadata": {},
   "outputs": [],
   "source": []
  },
  {
   "cell_type": "code",
   "execution_count": null,
   "metadata": {},
   "outputs": [],
   "source": [
    "df"
   ]
  },
  {
   "cell_type": "code",
   "execution_count": null,
   "metadata": {},
   "outputs": [],
   "source": [
    "df.mean(axis=0)"
   ]
  },
  {
   "cell_type": "code",
   "execution_count": null,
   "metadata": {},
   "outputs": [],
   "source": [
    "df.max(axis=0)"
   ]
  },
  {
   "cell_type": "code",
   "execution_count": null,
   "metadata": {},
   "outputs": [],
   "source": [
    "df.min(axis=0)"
   ]
  },
  {
   "cell_type": "markdown",
   "metadata": {},
   "source": [
    "# IsoCHrones"
   ]
  },
  {
   "cell_type": "markdown",
   "metadata": {},
   "source": [
    "### Drive"
   ]
  },
  {
   "cell_type": "code",
   "execution_count": null,
   "metadata": {},
   "outputs": [],
   "source": [
    "df = gp.read_file(\"../results/isochrones-drive-15.geojson\")\n",
    "print(\"Drive\\nMinimum: \"+str(df.min(axis=0)))\n",
    "print(\"Maximum: \"+str(df.max(axis=0)))\n",
    "print(\"Mean: \"+str(df.mean(axis=0)))"
   ]
  },
  {
   "cell_type": "code",
   "execution_count": null,
   "metadata": {},
   "outputs": [],
   "source": [
    "df = gp.read_file(\"../results/isochrones-bike-15.geojson\")\n",
    "print(\"Bike\\nMinimum: \"+str(df.min(axis=0)))\n",
    "print(\"Maximum: \"+str(df.max(axis=0)))\n",
    "print(\"Mean: \"+str(df.mean(axis=0)))\n",
    "\n",
    "print(3.050*4)"
   ]
  },
  {
   "cell_type": "code",
   "execution_count": null,
   "metadata": {},
   "outputs": [],
   "source": [
    "df = gp.read_file(\"../results/isochrones-subway-15.geojson\")\n",
    "print(\"Subway\\nMinimum: \"+str(df.min(axis=0)))\n",
    "print(\"Maximum: \"+str(df.max(axis=0)))\n",
    "print(\"Mean: \"+str(df.mean(axis=0)))"
   ]
  },
  {
   "cell_type": "code",
   "execution_count": null,
   "metadata": {},
   "outputs": [],
   "source": [
    "df = gp.read_file(\"../results/isochrones-light_rail-15.geojson\")\n",
    "print(\"Light-Rail\\nMinimum: \"+str(df.min(axis=0)))\n",
    "print(\"Maximum: \"+str(df.max(axis=0)))\n",
    "print(\"Mean: \"+str(df.mean(axis=0)))"
   ]
  },
  {
   "cell_type": "code",
   "execution_count": null,
   "metadata": {},
   "outputs": [],
   "source": [
    "df = gp.read_file(\"../results/isochrones-tram-15.geojson\")\n",
    "print(\"Tram\\nMinimum: \"+str(df.min(axis=0)))\n",
    "print(\"Maximum: \"+str(df.max(axis=0)))\n",
    "print(\"Mean: \"+str(df.mean(axis=0)))"
   ]
  },
  {
   "cell_type": "code",
   "execution_count": null,
   "metadata": {},
   "outputs": [],
   "source": [
    "df = gp.read_file(\"../results/isochrones-bus-15.geojson\")\n",
    "print(\"Bus\\nMinimum: \"+str(df.min(axis=0)))\n",
    "print(\"Maximum: \"+str(df.max(axis=0)))\n",
    "print(\"Mean: \"+str(df.mean(axis=0)))"
   ]
  },
  {
   "cell_type": "code",
   "execution_count": null,
   "metadata": {},
   "outputs": [],
   "source": []
  },
  {
   "cell_type": "markdown",
   "metadata": {},
   "source": [
    "## Lebensräume"
   ]
  },
  {
   "cell_type": "code",
   "execution_count": null,
   "metadata": {},
   "outputs": [],
   "source": [
    "df = gp.read_file(\"../results/berlin-inhabitants-centerpoints-top5.geojson\")"
   ]
  },
  {
   "cell_type": "code",
   "execution_count": null,
   "metadata": {},
   "outputs": [],
   "source": [
    "#df = df.sort_values(by='einwohner', ascending=False).head(10)"
   ]
  },
  {
   "cell_type": "code",
   "execution_count": null,
   "metadata": {},
   "outputs": [],
   "source": [
    "df"
   ]
  },
  {
   "cell_type": "markdown",
   "metadata": {},
   "source": [
    "##  Standard Deviation "
   ]
  },
  {
   "cell_type": "code",
   "execution_count": null,
   "metadata": {},
   "outputs": [],
   "source": [
    "df = gp.read_file(\"../results/berlin-inhabitants-improved.geojson\")"
   ]
  },
  {
   "cell_type": "code",
   "execution_count": null,
   "metadata": {},
   "outputs": [],
   "source": [
    "print(\"Bus\\nMinimum: \"+str(df.min(axis=0)))\n",
    "print(\"Maximum: \"+str(df.max(axis=0)))\n",
    "print(\"Mean: \"+str(df.mean(axis=0)))"
   ]
  },
  {
   "cell_type": "code",
   "execution_count": null,
   "metadata": {},
   "outputs": [],
   "source": [
    "top = df.sort_values(by='einwohner_km2', ascending=False).head(1)\n",
    "tail = df.sort_values(by='einwohner_km2', ascending=False).tail(1)\n",
    "mean = 2.044887*10000"
   ]
  },
  {
   "cell_type": "code",
   "execution_count": null,
   "metadata": {},
   "outputs": [],
   "source": [
    "mean"
   ]
  },
  {
   "cell_type": "code",
   "execution_count": null,
   "metadata": {},
   "outputs": [],
   "source": [
    "abw = top.einwohner_km2[0] - tail.einwohner_km2[0]\n",
    "abw"
   ]
  },
  {
   "cell_type": "code",
   "execution_count": null,
   "metadata": {},
   "outputs": [],
   "source": [
    "print(\"Mean: \"+str(df.mean(axis=0)))"
   ]
  },
  {
   "cell_type": "code",
   "execution_count": null,
   "metadata": {},
   "outputs": [],
   "source": [
    "deviations = [(x - mean) ** 2 for x in data]"
   ]
  },
  {
   "cell_type": "markdown",
   "metadata": {},
   "source": [
    "## Industrial"
   ]
  },
  {
   "cell_type": "code",
   "execution_count": null,
   "metadata": {},
   "outputs": [],
   "source": [
    "df = gp.read_file(\"../results/residential.geojson\")"
   ]
  },
  {
   "cell_type": "code",
   "execution_count": null,
   "metadata": {},
   "outputs": [],
   "source": [
    "df"
   ]
  },
  {
   "cell_type": "code",
   "execution_count": null,
   "metadata": {},
   "outputs": [],
   "source": [
    "PLACE_NAME = \"Berlin, Germany\"\n",
    "#CUSTOM_FILTER = {[\"amenity\"=\"college\"][\"building\"=\"university\"][\"residential\"=\"university\"]}\n",
    "g_education = ox.graph_from_place(PLACE_NAME, simplify=False)"
   ]
  },
  {
   "cell_type": "code",
   "execution_count": null,
   "metadata": {},
   "outputs": [],
   "source": [
    "'''\n",
    "amenity=college - A place for \"further education\", usually a post-secondary education institution, rather than an institution of \"higher education\"\n",
    "amenity=school - Secondary and Primary schools, which use a similar tagging system.\n",
    "Proposed features/University Campus (tertiary education) - original proposal for this tag\n",
    "amenity=hospital - Hospitals can be large institutions comprising many buildings. We should follow a similar approach when mapping them\n",
    "building=university - buildings constructed as university buildings\n",
    "residential=university \n",
    "'''"
   ]
  },
  {
   "cell_type": "code",
   "execution_count": null,
   "metadata": {},
   "outputs": [],
   "source": [
    "g_education_poly = ox.load_graphml_from_file(g_education, place_name=PLACE_NAME,\n",
    "                                                 custom_filter='[\"amenity\"~\"college|school\"][\"building\"~\"university\"][\"residential\"~\"university\"]')\n"
   ]
  },
  {
   "cell_type": "code",
   "execution_count": null,
   "metadata": {},
   "outputs": [],
   "source": [
    "def load_graphml_from_file(file_path, place_name, network_type=None, custom_filter=None):\n",
    "    if not path.exists(file_path):\n",
    "        print(\"Download \" + file_path)\n",
    "        graph = load_graphml(place_name=place_name,\n",
    "                             network_type=network_type,\n",
    "                             custom_filter=custom_filter)\n",
    "        ox.save_graphml(graph, file_path)\n",
    "        return graph\n",
    "    else:\n",
    "        print(\"Load \" + file_path)\n",
    "        return ox.io.load_graphml(file_path)\n",
    "\n",
    "\n",
    "def load_graphml(place_name, network_type=None, custom_filter=None):\n",
    "    return ox.graph.graph_from_place(query=place_name,\n",
    "                                     simplify=True,\n",
    "                                     retain_all=False,\n",
    "                                     buffer_dist=2500,\n",
    "                                     network_type=network_type,\n",
    "                                     custom_filter=custom_filter)"
   ]
  },
  {
   "cell_type": "code",
   "execution_count": null,
   "metadata": {},
   "outputs": [],
   "source": [
    "g_education = load_graphml_from_file(file_path=\"tmp/education.graphml\",\n",
    "                                                 place_name=PLACE_NAME,\n",
    "                                                 custom_filter='[\"amenity\"~\"college|school\"][\"building\"~\"university\"][\"residential\"~\"university\"]')\n",
    "        "
   ]
  },
  {
   "cell_type": "code",
   "execution_count": null,
   "metadata": {},
   "outputs": [],
   "source": [
    "buildings = ox.footprints_from_place(PLACE_NAME)"
   ]
  },
  {
   "cell_type": "code",
   "execution_count": null,
   "metadata": {},
   "outputs": [],
   "source": [
    "buildings"
   ]
  },
  {
   "cell_type": "code",
   "execution_count": null,
   "metadata": {},
   "outputs": [],
   "source": [
    "list1 = buildings.columns"
   ]
  },
  {
   "cell_type": "code",
   "execution_count": null,
   "metadata": {},
   "outputs": [],
   "source": [
    "list1.values"
   ]
  },
  {
   "cell_type": "code",
   "execution_count": null,
   "metadata": {},
   "outputs": [],
   "source": [
    "buildings.plot()"
   ]
  },
  {
   "cell_type": "code",
   "execution_count": null,
   "metadata": {},
   "outputs": [],
   "source": [
    "buildings.info()"
   ]
  },
  {
   "cell_type": "code",
   "execution_count": null,
   "metadata": {},
   "outputs": [],
   "source": [
    "buildings.describe()"
   ]
  },
  {
   "cell_type": "code",
   "execution_count": null,
   "metadata": {},
   "outputs": [],
   "source": [
    "buildings['building'].unique()"
   ]
  },
  {
   "cell_type": "markdown",
   "metadata": {},
   "source": [
    "array(['yes', 'static_caravan', 'house', 'detached', 'residential',\n",
    "       'service', 'office', 'ruins', 'commercial', 'apartments', 'roof',\n",
    "       'industrial', 'retail', 'exhibition_hall', 'parking', 'civic',\n",
    "       'church', 'museum', 'public', 'construction', 'sports_centre',\n",
    "       'mall', 'school', 'steps', 'government', 'bridge', 'hotel',\n",
    "       'garage', 'station', 'library', 'kindergarten', 'train_station',\n",
    "       'electricity', 'hospital', 'supermarket', 'hangar', 'tower',\n",
    "       'chapel', 'opera_house', 'transportation', 'terrace',\n",
    "       'public_building', 'dormitory', 'canopy', 'cinema', 'sports_hall',\n",
    "       'university', 'warehouse', 'synagogue', 'garages', 'embassy',\n",
    "       'greenhouse', 'grandstand', 'shed', 'fire_station', 'stadium',\n",
    "       'railway', 'hall', 'shop', 'manufacture', 'arena', 'clinic',\n",
    "       'depot', 'manor', 'theatre', 'bunker', 'silo', 'courthouse',\n",
    "       'cathedral', 'govern', 'stands', 'belfry', 'monument', 'prison',\n",
    "       'pavilion', 'farm_auxiliary', 'tent', 'college', 'bungalow', '6',\n",
    "       'concert_hall', 'theater', 'no', 'semidetached_house', 'kiosk',\n",
    "       'carport', 'retail;apartments', 'aviary', 'abandoned',\n",
    "       'bell_tower', 'hybrid', 'apartments;retail', 'religious',\n",
    "       'car_wash', 'gym', 'tunnel', 'riding_hall', 'bleachers', 'mosque',\n",
    "       'leisure', '4', 'storage_tank', 'switch_box', 'floating_platform',\n",
    "       'stable', 'cot', 'cowshed', 'pylon', 'prefabricated', 'toilets',\n",
    "       'container', 'water_tower', 'villa', 'allotment_house', 'platform',\n",
    "       'gas_station', 'power', 'hut', 'waterworks', 'windmill',\n",
    "       'restaurant', 'undefined', 'viaduct', 'barn', 'boathouse',\n",
    "       'elevator', 'monastery', 'chimney', 'pharmacy', 'collapsed',\n",
    "       'shelter', 'boat', 'staircase', 'transformer_tower',\n",
    "       'sewage_pumping_station', 'military', 'dwelling_house',\n",
    "       'glasshouse', '7', 'gatehouse', 'retirement_home', 'hunting_stand',\n",
    "       'heating', 'castle', 'cabin', 'bridge_support', 'new', 'grate',\n",
    "       'bus_shelter', 'hostel', 'temple', 'stairs', 'ramp', 'column',\n",
    "       'vacant', 'barracks', 'appartements', 'garbage_shed', 'toolsher',\n",
    "       'ship', 'bastion', 'fort', 'mansion', 'parish_hall',\n",
    "       'conservatory', 'gate', 'office; residential; embassy',\n",
    "       'waste_disposal', 'booth', 'spa', 'guardhouse', 'boad',\n",
    "       'houseboat', 'balcony', 'substation', 'telescope', 'tech_cab',\n",
    "       'orangery', 'latrine', 'lift_shaft', 'sauna', 'datscha', 'stage',\n",
    "       'cargo_container', 'steirs', 'tank', 'outline', 'parking_entrance',\n",
    "       'kindergarten;community_centre', 'townhall', 'airdome', 'farm',\n",
    "       'archway', 'static_bus', 'airport', 'apartments;yes'], dtype=object)"
   ]
  },
  {
   "cell_type": "markdown",
   "metadata": {},
   "source": [
    "school\n",
    "university\n",
    "college"
   ]
  },
  {
   "cell_type": "code",
   "execution_count": null,
   "metadata": {},
   "outputs": [],
   "source": [
    "school = buildings[buildings['building']=='school']\n",
    "school = school[['geometry', 'building','name']]\n",
    "school"
   ]
  },
  {
   "cell_type": "code",
   "execution_count": null,
   "metadata": {},
   "outputs": [],
   "source": [
    "%matplotlib inline\n",
    "plt.rcParams['figure.figsize'] = (140, 125)\n",
    "test.plot()"
   ]
  },
  {
   "cell_type": "code",
   "execution_count": null,
   "metadata": {},
   "outputs": [],
   "source": []
  },
  {
   "cell_type": "code",
   "execution_count": null,
   "metadata": {},
   "outputs": [],
   "source": [
    "uni = buildings[buildings['building']=='university']\n",
    "uni = uni[['geometry', 'building','name','website','wikipedia:de']]\n",
    "uni"
   ]
  },
  {
   "cell_type": "code",
   "execution_count": null,
   "metadata": {},
   "outputs": [],
   "source": [
    "uni.plot()"
   ]
  },
  {
   "cell_type": "code",
   "execution_count": null,
   "metadata": {},
   "outputs": [],
   "source": [
    "uni.to_file(\"../results/university.geojson\", driver=\"GeoJSON\")"
   ]
  },
  {
   "cell_type": "code",
   "execution_count": null,
   "metadata": {},
   "outputs": [],
   "source": [
    "college = buildings[buildings['building']=='college']\n",
    "college = college[['geometry', 'building','name','']]\n",
    "college"
   ]
  },
  {
   "cell_type": "code",
   "execution_count": null,
   "metadata": {},
   "outputs": [],
   "source": [
    "college.plot()"
   ]
  },
  {
   "cell_type": "code",
   "execution_count": null,
   "metadata": {},
   "outputs": [],
   "source": [
    "college.to_file(\"../results/college.geojson\", driver=\"GeoJSON\")"
   ]
  },
  {
   "cell_type": "code",
   "execution_count": null,
   "metadata": {},
   "outputs": [],
   "source": []
  }
 ],
 "metadata": {
  "kernelspec": {
   "display_name": "Python 3",
   "language": "python",
   "name": "python3"
  },
  "language_info": {
   "codemirror_mode": {
    "name": "ipython",
    "version": 3
   },
   "file_extension": ".py",
   "mimetype": "text/x-python",
   "name": "python",
   "nbconvert_exporter": "python",
   "pygments_lexer": "ipython3",
   "version": "3.8.5"
  }
 },
 "nbformat": 4,
 "nbformat_minor": 4
}
