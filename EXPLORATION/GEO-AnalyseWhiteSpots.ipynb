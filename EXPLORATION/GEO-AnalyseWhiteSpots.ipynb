{
 "cells": [
  {
   "cell_type": "code",
   "execution_count": 99,
   "metadata": {},
   "outputs": [],
   "source": [
    "import osmnx as ox\n",
    "import matplotlib.pyplot as plt\n",
    "import geopandas as gp\n",
    "import networkx as nx\n",
    "import os.path\n",
    "from os import path\n",
    "import pathlib\n",
    "import pandas as pd\n",
    "from points_in_polygons import if_point_inpolygon, if_points_in_polygonlist, count_points_in_polygonlist, if_points_in_polygon\n",
    "ox.config(log_console=True, use_cache=True)\n",
    "from shapely.geometry import Point, Polygon"
   ]
  },
  {
   "cell_type": "markdown",
   "metadata": {},
   "source": [
    "# Story Helper to calculate some deskriptive analysis"
   ]
  },
  {
   "cell_type": "markdown",
   "metadata": {},
   "source": [
    "## None IsoChrones"
   ]
  },
  {
   "cell_type": "code",
   "execution_count": 100,
   "metadata": {},
   "outputs": [],
   "source": [
    "df = gp.read_file(\"../results/berlin-inhabitants-improved.geojson\")"
   ]
  },
  {
   "cell_type": "code",
   "execution_count": 101,
   "metadata": {},
   "outputs": [],
   "source": [
    "# Get the centroid of the Polygon\n",
    "poly_centroid = df.geometry[0].centroid\n",
    "\n",
    "# Get the area of the Polygon\n",
    "poly_area = df.geometry[0].area\n",
    "\n",
    "# Get the bounds of the Polygon (i.e. bounding box)\n",
    "poly_bbox = df.geometry[0].bounds\n",
    "\n",
    "# Get the exterior of the Polygon\n",
    "poly_ext = df.geometry[0].exterior\n",
    "\n",
    "# Get the length of the exterior\n",
    "poly_ext_length = df.geometry[0].length"
   ]
  },
  {
   "cell_type": "code",
   "execution_count": 102,
   "metadata": {},
   "outputs": [],
   "source": [
    "#print(\"Poly centroid: \", poly_centroid)\n",
    "#print(\"Poly Area: \", poly_area)\n",
    "#print(\"Poly Bounding Box: \", poly_bbox)\n",
    "#print(\"Poly Exterior: \", poly_ext)\n",
    "#print(\"Poly Exterior Length: \", poly_ext_length)\n"
   ]
  },
  {
   "cell_type": "code",
   "execution_count": 103,
   "metadata": {},
   "outputs": [
    {
     "data": {
      "text/plain": [
       "[<shapely.geometry.polygon.Polygon at 0x242ea23a9a0>,\n",
       " <shapely.geometry.polygon.Polygon at 0x242ea23a700>]"
      ]
     },
     "execution_count": 103,
     "metadata": {},
     "output_type": "execute_result"
    }
   ],
   "source": [
    "plist = df.geometry[0:2].tolist()\n",
    "plist"
   ]
  },
  {
   "cell_type": "code",
   "execution_count": 104,
   "metadata": {},
   "outputs": [],
   "source": [
    "pointlist = [(13.08835, 52.41963), (13.08835, 52.41963)]"
   ]
  },
  {
   "cell_type": "code",
   "execution_count": 105,
   "metadata": {},
   "outputs": [],
   "source": [
    "countliste = if_points_in_polygon(df.geometry[0],pointlist)"
   ]
  },
  {
   "cell_type": "code",
   "execution_count": 106,
   "metadata": {},
   "outputs": [
    {
     "data": {
      "text/plain": [
       "[True, True]"
      ]
     },
     "execution_count": 106,
     "metadata": {},
     "output_type": "execute_result"
    }
   ],
   "source": [
    "countliste"
   ]
  },
  {
   "cell_type": "code",
   "execution_count": 107,
   "metadata": {},
   "outputs": [
    {
     "data": {
      "text/html": [
       "<div>\n",
       "<style scoped>\n",
       "    .dataframe tbody tr th:only-of-type {\n",
       "        vertical-align: middle;\n",
       "    }\n",
       "\n",
       "    .dataframe tbody tr th {\n",
       "        vertical-align: top;\n",
       "    }\n",
       "\n",
       "    .dataframe thead th {\n",
       "        text-align: right;\n",
       "    }\n",
       "</style>\n",
       "<table border=\"1\" class=\"dataframe\">\n",
       "  <thead>\n",
       "    <tr style=\"text-align: right;\">\n",
       "      <th></th>\n",
       "      <th>plz</th>\n",
       "      <th>first_dig_plz</th>\n",
       "      <th>einwohner</th>\n",
       "      <th>area_m2</th>\n",
       "      <th>area_km2</th>\n",
       "      <th>einwohner_km2</th>\n",
       "      <th>einwohner_m2</th>\n",
       "      <th>geometry</th>\n",
       "    </tr>\n",
       "  </thead>\n",
       "  <tbody>\n",
       "    <tr>\n",
       "      <th>0</th>\n",
       "      <td>14109</td>\n",
       "      <td>1</td>\n",
       "      <td>10049</td>\n",
       "      <td>2.522886e+07</td>\n",
       "      <td>25.228865</td>\n",
       "      <td>398.314</td>\n",
       "      <td>0.000398</td>\n",
       "      <td>POLYGON ((13.08835 52.41963, 13.09584 52.42198...</td>\n",
       "    </tr>\n",
       "    <tr>\n",
       "      <th>1</th>\n",
       "      <td>14089</td>\n",
       "      <td>1</td>\n",
       "      <td>17734</td>\n",
       "      <td>2.488821e+07</td>\n",
       "      <td>24.888210</td>\n",
       "      <td>712.546</td>\n",
       "      <td>0.000713</td>\n",
       "      <td>POLYGON ((13.10929 52.45063, 13.10956 52.45108...</td>\n",
       "    </tr>\n",
       "    <tr>\n",
       "      <th>2</th>\n",
       "      <td>13591</td>\n",
       "      <td>1</td>\n",
       "      <td>26762</td>\n",
       "      <td>8.988007e+06</td>\n",
       "      <td>8.988007</td>\n",
       "      <td>2977.523</td>\n",
       "      <td>0.002978</td>\n",
       "      <td>POLYGON ((13.11738 52.51706, 13.11811 52.52010...</td>\n",
       "    </tr>\n",
       "    <tr>\n",
       "      <th>3</th>\n",
       "      <td>13587</td>\n",
       "      <td>1</td>\n",
       "      <td>20108</td>\n",
       "      <td>1.747880e+07</td>\n",
       "      <td>17.478802</td>\n",
       "      <td>1150.422</td>\n",
       "      <td>0.001150</td>\n",
       "      <td>POLYGON ((13.12796 52.58313, 13.12934 52.58593...</td>\n",
       "    </tr>\n",
       "    <tr>\n",
       "      <th>4</th>\n",
       "      <td>13593</td>\n",
       "      <td>1</td>\n",
       "      <td>20238</td>\n",
       "      <td>4.561552e+06</td>\n",
       "      <td>4.561552</td>\n",
       "      <td>4436.647</td>\n",
       "      <td>0.004437</td>\n",
       "      <td>POLYGON ((13.14288 52.52181, 13.14306 52.52179...</td>\n",
       "    </tr>\n",
       "    <tr>\n",
       "      <th>...</th>\n",
       "      <td>...</td>\n",
       "      <td>...</td>\n",
       "      <td>...</td>\n",
       "      <td>...</td>\n",
       "      <td>...</td>\n",
       "      <td>...</td>\n",
       "      <td>...</td>\n",
       "      <td>...</td>\n",
       "    </tr>\n",
       "    <tr>\n",
       "      <th>193</th>\n",
       "      <td>12559</td>\n",
       "      <td>1</td>\n",
       "      <td>1</td>\n",
       "      <td>2.820620e+03</td>\n",
       "      <td>0.002821</td>\n",
       "      <td>354.532</td>\n",
       "      <td>0.000355</td>\n",
       "      <td>POLYGON ((13.58139 52.44185, 13.58151 52.44239...</td>\n",
       "    </tr>\n",
       "    <tr>\n",
       "      <th>194</th>\n",
       "      <td>12559</td>\n",
       "      <td>1</td>\n",
       "      <td>17643</td>\n",
       "      <td>3.761828e+07</td>\n",
       "      <td>37.618275</td>\n",
       "      <td>469.001</td>\n",
       "      <td>0.000469</td>\n",
       "      <td>POLYGON ((13.58177 52.44236, 13.58248 52.44299...</td>\n",
       "    </tr>\n",
       "    <tr>\n",
       "      <th>195</th>\n",
       "      <td>12627</td>\n",
       "      <td>1</td>\n",
       "      <td>35353</td>\n",
       "      <td>3.985389e+06</td>\n",
       "      <td>3.985389</td>\n",
       "      <td>8870.652</td>\n",
       "      <td>0.008871</td>\n",
       "      <td>POLYGON ((13.59131 52.53367, 13.59148 52.53485...</td>\n",
       "    </tr>\n",
       "    <tr>\n",
       "      <th>196</th>\n",
       "      <td>12587</td>\n",
       "      <td>1</td>\n",
       "      <td>17717</td>\n",
       "      <td>1.529608e+07</td>\n",
       "      <td>15.296081</td>\n",
       "      <td>1158.271</td>\n",
       "      <td>0.001158</td>\n",
       "      <td>POLYGON ((13.59408 52.45418, 13.59430 52.45452...</td>\n",
       "    </tr>\n",
       "    <tr>\n",
       "      <th>197</th>\n",
       "      <td>12589</td>\n",
       "      <td>1</td>\n",
       "      <td>9236</td>\n",
       "      <td>2.144565e+07</td>\n",
       "      <td>21.445649</td>\n",
       "      <td>430.670</td>\n",
       "      <td>0.000431</td>\n",
       "      <td>POLYGON ((13.65676 52.43742, 13.66248 52.44738...</td>\n",
       "    </tr>\n",
       "  </tbody>\n",
       "</table>\n",
       "<p>198 rows × 8 columns</p>\n",
       "</div>"
      ],
      "text/plain": [
       "       plz first_dig_plz  einwohner       area_m2   area_km2  einwohner_km2  \\\n",
       "0    14109             1      10049  2.522886e+07  25.228865        398.314   \n",
       "1    14089             1      17734  2.488821e+07  24.888210        712.546   \n",
       "2    13591             1      26762  8.988007e+06   8.988007       2977.523   \n",
       "3    13587             1      20108  1.747880e+07  17.478802       1150.422   \n",
       "4    13593             1      20238  4.561552e+06   4.561552       4436.647   \n",
       "..     ...           ...        ...           ...        ...            ...   \n",
       "193  12559             1          1  2.820620e+03   0.002821        354.532   \n",
       "194  12559             1      17643  3.761828e+07  37.618275        469.001   \n",
       "195  12627             1      35353  3.985389e+06   3.985389       8870.652   \n",
       "196  12587             1      17717  1.529608e+07  15.296081       1158.271   \n",
       "197  12589             1       9236  2.144565e+07  21.445649        430.670   \n",
       "\n",
       "     einwohner_m2                                           geometry  \n",
       "0        0.000398  POLYGON ((13.08835 52.41963, 13.09584 52.42198...  \n",
       "1        0.000713  POLYGON ((13.10929 52.45063, 13.10956 52.45108...  \n",
       "2        0.002978  POLYGON ((13.11738 52.51706, 13.11811 52.52010...  \n",
       "3        0.001150  POLYGON ((13.12796 52.58313, 13.12934 52.58593...  \n",
       "4        0.004437  POLYGON ((13.14288 52.52181, 13.14306 52.52179...  \n",
       "..            ...                                                ...  \n",
       "193      0.000355  POLYGON ((13.58139 52.44185, 13.58151 52.44239...  \n",
       "194      0.000469  POLYGON ((13.58177 52.44236, 13.58248 52.44299...  \n",
       "195      0.008871  POLYGON ((13.59131 52.53367, 13.59148 52.53485...  \n",
       "196      0.001158  POLYGON ((13.59408 52.45418, 13.59430 52.45452...  \n",
       "197      0.000431  POLYGON ((13.65676 52.43742, 13.66248 52.44738...  \n",
       "\n",
       "[198 rows x 8 columns]"
      ]
     },
     "execution_count": 107,
     "metadata": {},
     "output_type": "execute_result"
    }
   ],
   "source": [
    "df"
   ]
  },
  {
   "cell_type": "code",
   "execution_count": 108,
   "metadata": {},
   "outputs": [],
   "source": [
    "dfnew = df[df.plz == '14089']# & (df.plz == '13593')]#,'13595','13581','13591','13589','13587','12559','12527','12557'\n",
    "\n",
    "#14089, 13593, 13595, 13581, 13591, 13589, 13587, 12559, 12527, 12557, 13159"
   ]
  },
  {
   "cell_type": "code",
   "execution_count": 109,
   "metadata": {},
   "outputs": [],
   "source": [
    "dfnew = dfnew.append(df[df.plz == '13593'])\n",
    "dfnew = dfnew.append(df[df.plz == '13595'])\n",
    "dfnew = dfnew.append(df[df.plz == '13581'])\n",
    "dfnew = dfnew.append(df[df.plz == '13591'])\n",
    "dfnew = dfnew.append(df[df.plz == '13589'])\n",
    "dfnew = dfnew.append(df[df.plz == '13587'])\n",
    "dfnew = dfnew.append(df[df.plz == '12559'])\n",
    "dfnew = dfnew.append(df[df.plz == '12527'])\n",
    "dfnew = dfnew.append(df[df.plz == '12557'])\n",
    "dfnew = dfnew.append(df[df.plz == '13159'])\n",
    "dfnew"
   ]
  },
  {
   "cell_type": "code",
   "execution_count": 121,
   "metadata": {},
   "outputs": [],
   "source": [
    "dfnew.to_file('../results/berlin-plz-whitespots',driver='GeoJSON')"
   ]
  },
  {
   "cell_type": "code",
   "execution_count": 39,
   "metadata": {},
   "outputs": [],
   "source": [
    "# making boolean series for a team name \n",
    "#filter1 = df['plz'] == '14089'\n",
    "#filter2 = df['plz'] == '13593'\n",
    "  \n",
    "# making boolean series for age \n",
    "#dfnew = df\n",
    "  \n",
    "# filtering data on basis of both filters \n",
    "#dfnew = df.where(filter1 & filter2)\n",
    "#dfnew"
   ]
  },
  {
   "cell_type": "code",
   "execution_count": 57,
   "metadata": {},
   "outputs": [],
   "source": [
    "#dfnew = df\n",
    "#dfnew.set_index(\"plz\", inplace=True)\n",
    "#print(df.loc['13593'])\n",
    "\n",
    "#op = df.loc[(df['plz'] == 13593)]\n",
    "#print(op)"
   ]
  },
  {
   "cell_type": "code",
   "execution_count": 59,
   "metadata": {},
   "outputs": [],
   "source": [
    "#dfnew"
   ]
  },
  {
   "cell_type": "code",
   "execution_count": 126,
   "metadata": {},
   "outputs": [],
   "source": [
    "df_poly = gp.read_file(\"../results/berlin-plz-whitespots\")"
   ]
  },
  {
   "cell_type": "code",
   "execution_count": 209,
   "metadata": {},
   "outputs": [],
   "source": [
    "#df_points = gp.read_file(\"../results/isochrones-drive-15.geojson\")\n",
    "#df_points = gp.read_file(\"../results/isochrones-all-15.geojson\")\n",
    "df_points = gp.read_file(\"../results/isochrones-bus-15.geojson\")"
   ]
  },
  {
   "cell_type": "code",
   "execution_count": 210,
   "metadata": {},
   "outputs": [
    {
     "data": {
      "text/html": [
       "<div>\n",
       "<style scoped>\n",
       "    .dataframe tbody tr th:only-of-type {\n",
       "        vertical-align: middle;\n",
       "    }\n",
       "\n",
       "    .dataframe tbody tr th {\n",
       "        vertical-align: top;\n",
       "    }\n",
       "\n",
       "    .dataframe thead th {\n",
       "        text-align: right;\n",
       "    }\n",
       "</style>\n",
       "<table border=\"1\" class=\"dataframe\">\n",
       "  <thead>\n",
       "    <tr style=\"text-align: right;\">\n",
       "      <th></th>\n",
       "      <th>max_spatial_distance_15min</th>\n",
       "      <th>mean_spatial_distance_15min</th>\n",
       "      <th>median_spatial_distance_15min</th>\n",
       "      <th>min_spatial_distance_15min</th>\n",
       "      <th>geometry</th>\n",
       "    </tr>\n",
       "  </thead>\n",
       "  <tbody>\n",
       "    <tr>\n",
       "      <th>0</th>\n",
       "      <td>3593.690081</td>\n",
       "      <td>2950.934517</td>\n",
       "      <td>3084.513124</td>\n",
       "      <td>2082.072314</td>\n",
       "      <td>None</td>\n",
       "    </tr>\n",
       "    <tr>\n",
       "      <th>1</th>\n",
       "      <td>3262.028274</td>\n",
       "      <td>2795.416316</td>\n",
       "      <td>2739.107296</td>\n",
       "      <td>2307.601951</td>\n",
       "      <td>None</td>\n",
       "    </tr>\n",
       "    <tr>\n",
       "      <th>2</th>\n",
       "      <td>3211.065069</td>\n",
       "      <td>2871.517980</td>\n",
       "      <td>2850.977341</td>\n",
       "      <td>2369.720032</td>\n",
       "      <td>None</td>\n",
       "    </tr>\n",
       "    <tr>\n",
       "      <th>3</th>\n",
       "      <td>3798.324619</td>\n",
       "      <td>3499.544556</td>\n",
       "      <td>3501.226210</td>\n",
       "      <td>3080.866905</td>\n",
       "      <td>None</td>\n",
       "    </tr>\n",
       "    <tr>\n",
       "      <th>4</th>\n",
       "      <td>3701.120938</td>\n",
       "      <td>2932.810866</td>\n",
       "      <td>2978.551670</td>\n",
       "      <td>2202.152823</td>\n",
       "      <td>None</td>\n",
       "    </tr>\n",
       "    <tr>\n",
       "      <th>...</th>\n",
       "      <td>...</td>\n",
       "      <td>...</td>\n",
       "      <td>...</td>\n",
       "      <td>...</td>\n",
       "      <td>...</td>\n",
       "    </tr>\n",
       "    <tr>\n",
       "      <th>95</th>\n",
       "      <td>3643.792258</td>\n",
       "      <td>2812.853165</td>\n",
       "      <td>2882.125738</td>\n",
       "      <td>1850.289616</td>\n",
       "      <td>None</td>\n",
       "    </tr>\n",
       "    <tr>\n",
       "      <th>96</th>\n",
       "      <td>4395.145627</td>\n",
       "      <td>3476.335663</td>\n",
       "      <td>3350.983280</td>\n",
       "      <td>2925.857758</td>\n",
       "      <td>None</td>\n",
       "    </tr>\n",
       "    <tr>\n",
       "      <th>97</th>\n",
       "      <td>3370.105612</td>\n",
       "      <td>2784.645485</td>\n",
       "      <td>2610.475797</td>\n",
       "      <td>2183.937351</td>\n",
       "      <td>None</td>\n",
       "    </tr>\n",
       "    <tr>\n",
       "      <th>98</th>\n",
       "      <td>3925.022768</td>\n",
       "      <td>3288.192778</td>\n",
       "      <td>3173.064397</td>\n",
       "      <td>2668.934442</td>\n",
       "      <td>None</td>\n",
       "    </tr>\n",
       "    <tr>\n",
       "      <th>99</th>\n",
       "      <td>3062.898655</td>\n",
       "      <td>2438.094837</td>\n",
       "      <td>2622.210010</td>\n",
       "      <td>1246.708131</td>\n",
       "      <td>None</td>\n",
       "    </tr>\n",
       "  </tbody>\n",
       "</table>\n",
       "<p>100 rows × 5 columns</p>\n",
       "</div>"
      ],
      "text/plain": [
       "    max_spatial_distance_15min  mean_spatial_distance_15min  \\\n",
       "0                  3593.690081                  2950.934517   \n",
       "1                  3262.028274                  2795.416316   \n",
       "2                  3211.065069                  2871.517980   \n",
       "3                  3798.324619                  3499.544556   \n",
       "4                  3701.120938                  2932.810866   \n",
       "..                         ...                          ...   \n",
       "95                 3643.792258                  2812.853165   \n",
       "96                 4395.145627                  3476.335663   \n",
       "97                 3370.105612                  2784.645485   \n",
       "98                 3925.022768                  3288.192778   \n",
       "99                 3062.898655                  2438.094837   \n",
       "\n",
       "    median_spatial_distance_15min  min_spatial_distance_15min geometry  \n",
       "0                     3084.513124                 2082.072314     None  \n",
       "1                     2739.107296                 2307.601951     None  \n",
       "2                     2850.977341                 2369.720032     None  \n",
       "3                     3501.226210                 3080.866905     None  \n",
       "4                     2978.551670                 2202.152823     None  \n",
       "..                            ...                         ...      ...  \n",
       "95                    2882.125738                 1850.289616     None  \n",
       "96                    3350.983280                 2925.857758     None  \n",
       "97                    2610.475797                 2183.937351     None  \n",
       "98                    3173.064397                 2668.934442     None  \n",
       "99                    2622.210010                 1246.708131     None  \n",
       "\n",
       "[100 rows x 5 columns]"
      ]
     },
     "execution_count": 210,
     "metadata": {},
     "output_type": "execute_result"
    }
   ],
   "source": [
    "df_points.head(100)"
   ]
  },
  {
   "cell_type": "code",
   "execution_count": 124,
   "metadata": {},
   "outputs": [],
   "source": [
    "df_points['whitespot_plz'] = False\n",
    "df_points"
   ]
  },
  {
   "cell_type": "code",
   "execution_count": 143,
   "metadata": {},
   "outputs": [
    {
     "data": {
      "text/plain": [
       "False"
      ]
     },
     "execution_count": 143,
     "metadata": {},
     "output_type": "execute_result"
    }
   ],
   "source": [
    "if_point_inpolygon(df_poly.geometry[0], df_points.geometry[0])"
   ]
  },
  {
   "cell_type": "code",
   "execution_count": 200,
   "metadata": {},
   "outputs": [],
   "source": [
    "def add_mean_spatial_to_plz_whitespot(postal_poly,dataname):\n",
    "    # drive\n",
    "    df_points = gp.read_file(\"../results/isochrones-\"+str(dataname)+\"-15.geojson\")\n",
    "    \n",
    "    postal_poly['mean_spatial_distance_15min'] = 0.0\n",
    "    postal_poly['median_spatial_distance_15min']= 0.0\n",
    "    postal_poly['max_spatial_distance_15min']= 0.0\n",
    "    postal_poly['min_spatial_distance_15min']= 0.0\n",
    "    postal_poly['q5_spatial_distance_15min']= 0.0\n",
    "    postal_poly['q10_spatial_distance_15min']= 0.0\n",
    "    postal_poly['q15_spatial_distance_15min']= 0.0\n",
    "    postal_poly['q25_spatial_distance_15min']= 0.0\n",
    "    postal_poly['q50_spatial_distance_15min']= 0.0\n",
    "    postal_poly['q75_spatial_distance_15min']= 0.0\n",
    "    postal_poly['q95_spatial_distance_15min']= 0.0\n",
    "    postal_poly['q99_spatial_distance_15min']= 0.0\n",
    "    \n",
    "    #mean_count = []\n",
    "    #print(postal_poly)\n",
    "    for i in range(len(postal_poly)):\n",
    "        mean_count = []\n",
    "        for j in range(len(df_points)):\n",
    "            if if_point_inpolygon(postal_poly.geometry[i], df_points.geometry[j]):\n",
    "                mean_count.append(df_points.mean_spatial_distance_15min[j])\n",
    "        postal_poly['mean_spatial_distance_15min'][i] = measure.mean()\n",
    "        postal_poly['median_spatial_distance_15min'][i] = measure.median()\n",
    "        postal_poly['max_spatial_distance_15min'][i] = measure.max()\n",
    "        postal_poly['min_spatial_distance_15min'][i] = measure.min()\n",
    "        postal_poly['q5_spatial_distance_15min'][i] = measure.quantile(q=0.05)\n",
    "        postal_poly['q10_spatial_distance_15min'][i] = measure.quantile(q=0.1)\n",
    "        postal_poly['q15_spatial_distance_15min'][i] = measure.quantile(q=0.15)\n",
    "        postal_poly['q25_spatial_distance_15min'][i] = measure.quantile(q=0.25)\n",
    "        postal_poly['q50_spatial_distance_15min'][i] = measure.quantile(q=0.50)\n",
    "        postal_poly['q75_spatial_distance_15min'][i] = measure.quantile(q=0.75)\n",
    "        postal_poly['q95_spatial_distance_15min'][i] = measure.quantile(q=0.95)\n",
    "        postal_poly['q99_spatial_distance_15min'][i] = measure.quantile(q=0.99)\n",
    "    postal_poly.to_file('../results/berlin-plz-whitespots-'+str(dataname)+'-analysis-15min.geojson',driver='GeoJSON')\n",
    "    return mean_count         "
   ]
  },
  {
   "cell_type": "code",
   "execution_count": 204,
   "metadata": {},
   "outputs": [
    {
     "ename": "TypeError",
     "evalue": "'NoneType' object is not iterable",
     "output_type": "error",
     "traceback": [
      "\u001b[1;31m---------------------------------------------------------------------------\u001b[0m",
      "\u001b[1;31mTypeError\u001b[0m                                 Traceback (most recent call last)",
      "\u001b[1;32m<ipython-input-204-6df24deeab51>\u001b[0m in \u001b[0;36m<module>\u001b[1;34m\u001b[0m\n\u001b[1;32m----> 1\u001b[1;33m \u001b[0mmeasure\u001b[0m \u001b[1;33m=\u001b[0m \u001b[0mpd\u001b[0m\u001b[1;33m.\u001b[0m\u001b[0mDataFrame\u001b[0m\u001b[1;33m(\u001b[0m\u001b[0madd_mean_spatial_to_plz_whitespot\u001b[0m\u001b[1;33m(\u001b[0m\u001b[0mdf_poly\u001b[0m\u001b[1;33m,\u001b[0m \u001b[1;34m\"bus\"\u001b[0m\u001b[1;33m)\u001b[0m\u001b[1;33m)\u001b[0m\u001b[1;33m\u001b[0m\u001b[1;33m\u001b[0m\u001b[0m\n\u001b[0m\u001b[0;32m      2\u001b[0m \u001b[1;31m#type(measure)\u001b[0m\u001b[1;33m\u001b[0m\u001b[1;33m\u001b[0m\u001b[1;33m\u001b[0m\u001b[0m\n",
      "\u001b[1;32m<ipython-input-200-aed2d75a5b06>\u001b[0m in \u001b[0;36madd_mean_spatial_to_plz_whitespot\u001b[1;34m(postal_poly, dataname)\u001b[0m\n\u001b[0;32m     21\u001b[0m         \u001b[0mmean_count\u001b[0m \u001b[1;33m=\u001b[0m \u001b[1;33m[\u001b[0m\u001b[1;33m]\u001b[0m\u001b[1;33m\u001b[0m\u001b[1;33m\u001b[0m\u001b[0m\n\u001b[0;32m     22\u001b[0m         \u001b[1;32mfor\u001b[0m \u001b[0mj\u001b[0m \u001b[1;32min\u001b[0m \u001b[0mrange\u001b[0m\u001b[1;33m(\u001b[0m\u001b[0mlen\u001b[0m\u001b[1;33m(\u001b[0m\u001b[0mdf_points\u001b[0m\u001b[1;33m)\u001b[0m\u001b[1;33m)\u001b[0m\u001b[1;33m:\u001b[0m\u001b[1;33m\u001b[0m\u001b[1;33m\u001b[0m\u001b[0m\n\u001b[1;32m---> 23\u001b[1;33m             \u001b[1;32mif\u001b[0m \u001b[0mif_point_inpolygon\u001b[0m\u001b[1;33m(\u001b[0m\u001b[0mpostal_poly\u001b[0m\u001b[1;33m.\u001b[0m\u001b[0mgeometry\u001b[0m\u001b[1;33m[\u001b[0m\u001b[0mi\u001b[0m\u001b[1;33m]\u001b[0m\u001b[1;33m,\u001b[0m \u001b[0mdf_points\u001b[0m\u001b[1;33m.\u001b[0m\u001b[0mgeometry\u001b[0m\u001b[1;33m[\u001b[0m\u001b[0mj\u001b[0m\u001b[1;33m]\u001b[0m\u001b[1;33m)\u001b[0m\u001b[1;33m:\u001b[0m\u001b[1;33m\u001b[0m\u001b[1;33m\u001b[0m\u001b[0m\n\u001b[0m\u001b[0;32m     24\u001b[0m                 \u001b[0mmean_count\u001b[0m\u001b[1;33m.\u001b[0m\u001b[0mappend\u001b[0m\u001b[1;33m(\u001b[0m\u001b[0mdf_points\u001b[0m\u001b[1;33m.\u001b[0m\u001b[0mmean_spatial_distance_15min\u001b[0m\u001b[1;33m[\u001b[0m\u001b[0mj\u001b[0m\u001b[1;33m]\u001b[0m\u001b[1;33m)\u001b[0m\u001b[1;33m\u001b[0m\u001b[1;33m\u001b[0m\u001b[0m\n\u001b[0;32m     25\u001b[0m         \u001b[0mpostal_poly\u001b[0m\u001b[1;33m[\u001b[0m\u001b[1;34m'mean_spatial_distance_15min'\u001b[0m\u001b[1;33m]\u001b[0m\u001b[1;33m[\u001b[0m\u001b[0mi\u001b[0m\u001b[1;33m]\u001b[0m \u001b[1;33m=\u001b[0m \u001b[0mmeasure\u001b[0m\u001b[1;33m.\u001b[0m\u001b[0mmean\u001b[0m\u001b[1;33m(\u001b[0m\u001b[1;33m)\u001b[0m\u001b[1;33m\u001b[0m\u001b[1;33m\u001b[0m\u001b[0m\n",
      "\u001b[1;32m~\\fom-big-data-consulting-berlin-mobility-model\\EXPLORATION\\points_in_polygons.py\u001b[0m in \u001b[0;36mif_point_inpolygon\u001b[1;34m(polygon, point)\u001b[0m\n\u001b[0;32m     27\u001b[0m         \"\"\"\n\u001b[0;32m     28\u001b[0m     \u001b[1;31m#polygon = Polygon(polygon)\u001b[0m\u001b[1;33m\u001b[0m\u001b[1;33m\u001b[0m\u001b[1;33m\u001b[0m\u001b[0m\n\u001b[1;32m---> 29\u001b[1;33m     \u001b[0mpoint\u001b[0m \u001b[1;33m=\u001b[0m \u001b[0mPoint\u001b[0m\u001b[1;33m(\u001b[0m\u001b[0mpoint\u001b[0m\u001b[1;33m)\u001b[0m\u001b[1;33m\u001b[0m\u001b[1;33m\u001b[0m\u001b[0m\n\u001b[0m\u001b[0;32m     30\u001b[0m     \u001b[1;32mreturn\u001b[0m \u001b[0mpoint\u001b[0m\u001b[1;33m.\u001b[0m\u001b[0mwithin\u001b[0m\u001b[1;33m(\u001b[0m\u001b[0mpolygon\u001b[0m\u001b[1;33m)\u001b[0m\u001b[1;33m\u001b[0m\u001b[1;33m\u001b[0m\u001b[0m\n\u001b[0;32m     31\u001b[0m \u001b[1;33m\u001b[0m\u001b[0m\n",
      "\u001b[1;32m~\\anaconda3\\envs\\geo\\lib\\site-packages\\shapely\\geometry\\point.py\u001b[0m in \u001b[0;36m__init__\u001b[1;34m(self, *args)\u001b[0m\n\u001b[0;32m     46\u001b[0m         \u001b[0mBaseGeometry\u001b[0m\u001b[1;33m.\u001b[0m\u001b[0m__init__\u001b[0m\u001b[1;33m(\u001b[0m\u001b[0mself\u001b[0m\u001b[1;33m)\u001b[0m\u001b[1;33m\u001b[0m\u001b[1;33m\u001b[0m\u001b[0m\n\u001b[0;32m     47\u001b[0m         \u001b[1;32mif\u001b[0m \u001b[0mlen\u001b[0m\u001b[1;33m(\u001b[0m\u001b[0margs\u001b[0m\u001b[1;33m)\u001b[0m \u001b[1;33m>\u001b[0m \u001b[1;36m0\u001b[0m\u001b[1;33m:\u001b[0m\u001b[1;33m\u001b[0m\u001b[1;33m\u001b[0m\u001b[0m\n\u001b[1;32m---> 48\u001b[1;33m             \u001b[0mself\u001b[0m\u001b[1;33m.\u001b[0m\u001b[0m_set_coords\u001b[0m\u001b[1;33m(\u001b[0m\u001b[1;33m*\u001b[0m\u001b[0margs\u001b[0m\u001b[1;33m)\u001b[0m\u001b[1;33m\u001b[0m\u001b[1;33m\u001b[0m\u001b[0m\n\u001b[0m\u001b[0;32m     49\u001b[0m \u001b[1;33m\u001b[0m\u001b[0m\n\u001b[0;32m     50\u001b[0m     \u001b[1;31m# Coordinate getters and setters\u001b[0m\u001b[1;33m\u001b[0m\u001b[1;33m\u001b[0m\u001b[1;33m\u001b[0m\u001b[0m\n",
      "\u001b[1;32m~\\anaconda3\\envs\\geo\\lib\\site-packages\\shapely\\geometry\\point.py\u001b[0m in \u001b[0;36m_set_coords\u001b[1;34m(self, *args)\u001b[0m\n\u001b[0;32m    131\u001b[0m         \u001b[0mself\u001b[0m\u001b[1;33m.\u001b[0m\u001b[0mempty\u001b[0m\u001b[1;33m(\u001b[0m\u001b[1;33m)\u001b[0m\u001b[1;33m\u001b[0m\u001b[1;33m\u001b[0m\u001b[0m\n\u001b[0;32m    132\u001b[0m         \u001b[1;32mif\u001b[0m \u001b[0mlen\u001b[0m\u001b[1;33m(\u001b[0m\u001b[0margs\u001b[0m\u001b[1;33m)\u001b[0m \u001b[1;33m==\u001b[0m \u001b[1;36m1\u001b[0m\u001b[1;33m:\u001b[0m\u001b[1;33m\u001b[0m\u001b[1;33m\u001b[0m\u001b[0m\n\u001b[1;32m--> 133\u001b[1;33m             \u001b[0mself\u001b[0m\u001b[1;33m.\u001b[0m\u001b[0m_geom\u001b[0m\u001b[1;33m,\u001b[0m \u001b[0mself\u001b[0m\u001b[1;33m.\u001b[0m\u001b[0m_ndim\u001b[0m \u001b[1;33m=\u001b[0m \u001b[0mgeos_point_from_py\u001b[0m\u001b[1;33m(\u001b[0m\u001b[0margs\u001b[0m\u001b[1;33m[\u001b[0m\u001b[1;36m0\u001b[0m\u001b[1;33m]\u001b[0m\u001b[1;33m)\u001b[0m\u001b[1;33m\u001b[0m\u001b[1;33m\u001b[0m\u001b[0m\n\u001b[0m\u001b[0;32m    134\u001b[0m         \u001b[1;32melif\u001b[0m \u001b[0mlen\u001b[0m\u001b[1;33m(\u001b[0m\u001b[0margs\u001b[0m\u001b[1;33m)\u001b[0m \u001b[1;33m>\u001b[0m \u001b[1;36m3\u001b[0m\u001b[1;33m:\u001b[0m\u001b[1;33m\u001b[0m\u001b[1;33m\u001b[0m\u001b[0m\n\u001b[0;32m    135\u001b[0m             \u001b[1;32mraise\u001b[0m \u001b[0mTypeError\u001b[0m\u001b[1;33m(\u001b[0m\u001b[1;34m\"Point() takes at most 3 arguments ({} given)\"\u001b[0m\u001b[1;33m.\u001b[0m\u001b[0mformat\u001b[0m\u001b[1;33m(\u001b[0m\u001b[0mlen\u001b[0m\u001b[1;33m(\u001b[0m\u001b[0margs\u001b[0m\u001b[1;33m)\u001b[0m\u001b[1;33m)\u001b[0m\u001b[1;33m)\u001b[0m\u001b[1;33m\u001b[0m\u001b[1;33m\u001b[0m\u001b[0m\n",
      "\u001b[1;32m~\\anaconda3\\envs\\geo\\lib\\site-packages\\shapely\\geometry\\point.py\u001b[0m in \u001b[0;36mgeos_point_from_py\u001b[1;34m(ob, update_geom, update_ndim)\u001b[0m\n\u001b[0;32m    205\u001b[0m     \u001b[1;31m# Accept either (x, y) or [(x, y)]\u001b[0m\u001b[1;33m\u001b[0m\u001b[1;33m\u001b[0m\u001b[1;33m\u001b[0m\u001b[0m\n\u001b[0;32m    206\u001b[0m     \u001b[1;32mif\u001b[0m \u001b[1;32mnot\u001b[0m \u001b[0mhasattr\u001b[0m\u001b[1;33m(\u001b[0m\u001b[0mob\u001b[0m\u001b[1;33m,\u001b[0m \u001b[1;34m'__getitem__'\u001b[0m\u001b[1;33m)\u001b[0m\u001b[1;33m:\u001b[0m  \u001b[1;31m# Iterators, e.g. Python 3 zip\u001b[0m\u001b[1;33m\u001b[0m\u001b[1;33m\u001b[0m\u001b[0m\n\u001b[1;32m--> 207\u001b[1;33m         \u001b[0mob\u001b[0m \u001b[1;33m=\u001b[0m \u001b[0mlist\u001b[0m\u001b[1;33m(\u001b[0m\u001b[0mob\u001b[0m\u001b[1;33m)\u001b[0m\u001b[1;33m\u001b[0m\u001b[1;33m\u001b[0m\u001b[0m\n\u001b[0m\u001b[0;32m    208\u001b[0m \u001b[1;33m\u001b[0m\u001b[0m\n\u001b[0;32m    209\u001b[0m     \u001b[1;32mif\u001b[0m \u001b[0misinstance\u001b[0m\u001b[1;33m(\u001b[0m\u001b[0mob\u001b[0m\u001b[1;33m[\u001b[0m\u001b[1;36m0\u001b[0m\u001b[1;33m]\u001b[0m\u001b[1;33m,\u001b[0m \u001b[0mtuple\u001b[0m\u001b[1;33m)\u001b[0m\u001b[1;33m:\u001b[0m\u001b[1;33m\u001b[0m\u001b[1;33m\u001b[0m\u001b[0m\n",
      "\u001b[1;31mTypeError\u001b[0m: 'NoneType' object is not iterable"
     ]
    }
   ],
   "source": [
    "measure = pd.DataFrame(add_mean_spatial_to_plz_whitespot(df_poly, \"bus\"))\n",
    "#type(measure)"
   ]
  },
  {
   "cell_type": "code",
   "execution_count": 202,
   "metadata": {},
   "outputs": [
    {
     "data": {
      "text/html": [
       "<div>\n",
       "<style scoped>\n",
       "    .dataframe tbody tr th:only-of-type {\n",
       "        vertical-align: middle;\n",
       "    }\n",
       "\n",
       "    .dataframe tbody tr th {\n",
       "        vertical-align: top;\n",
       "    }\n",
       "\n",
       "    .dataframe thead th {\n",
       "        text-align: right;\n",
       "    }\n",
       "</style>\n",
       "<table border=\"1\" class=\"dataframe\">\n",
       "  <thead>\n",
       "    <tr style=\"text-align: right;\">\n",
       "      <th></th>\n",
       "      <th>plz</th>\n",
       "      <th>first_dig_plz</th>\n",
       "      <th>einwohner</th>\n",
       "      <th>area_m2</th>\n",
       "      <th>area_km2</th>\n",
       "      <th>einwohner_km2</th>\n",
       "      <th>einwohner_m2</th>\n",
       "      <th>mean_spatial_distance_15min</th>\n",
       "      <th>median_spatial_distance_15min</th>\n",
       "      <th>max_spatial_distance_15min</th>\n",
       "      <th>min_spatial_distance_15min</th>\n",
       "      <th>q5_spatial_distance_15min</th>\n",
       "      <th>q10_spatial_distance_15min</th>\n",
       "      <th>q15_spatial_distance_15min</th>\n",
       "      <th>q25_spatial_distance_15min</th>\n",
       "      <th>q50_spatial_distance_15min</th>\n",
       "      <th>q75_spatial_distance_15min</th>\n",
       "      <th>q95_spatial_distance_15min</th>\n",
       "      <th>q99_spatial_distance_15min</th>\n",
       "      <th>geometry</th>\n",
       "    </tr>\n",
       "  </thead>\n",
       "  <tbody>\n",
       "    <tr>\n",
       "      <th>0</th>\n",
       "      <td>14089</td>\n",
       "      <td>1</td>\n",
       "      <td>17734</td>\n",
       "      <td>2.488821e+07</td>\n",
       "      <td>24.888210</td>\n",
       "      <td>712.546</td>\n",
       "      <td>0.000713</td>\n",
       "      <td>11466.823723</td>\n",
       "      <td>12104.840663</td>\n",
       "      <td>13511.893792</td>\n",
       "      <td>0.0</td>\n",
       "      <td>9039.922949</td>\n",
       "      <td>10713.858743</td>\n",
       "      <td>11060.242925</td>\n",
       "      <td>11425.880429</td>\n",
       "      <td>12104.840663</td>\n",
       "      <td>12412.171885</td>\n",
       "      <td>13229.674334</td>\n",
       "      <td>13383.602613</td>\n",
       "      <td>POLYGON ((13.10929 52.45063, 13.10956 52.45108...</td>\n",
       "    </tr>\n",
       "    <tr>\n",
       "      <th>1</th>\n",
       "      <td>13593</td>\n",
       "      <td>1</td>\n",
       "      <td>20238</td>\n",
       "      <td>4.561552e+06</td>\n",
       "      <td>4.561552</td>\n",
       "      <td>4436.647</td>\n",
       "      <td>0.004437</td>\n",
       "      <td>11466.823723</td>\n",
       "      <td>12104.840663</td>\n",
       "      <td>13511.893792</td>\n",
       "      <td>0.0</td>\n",
       "      <td>9039.922949</td>\n",
       "      <td>10713.858743</td>\n",
       "      <td>11060.242925</td>\n",
       "      <td>11425.880429</td>\n",
       "      <td>12104.840663</td>\n",
       "      <td>12412.171885</td>\n",
       "      <td>13229.674334</td>\n",
       "      <td>13383.602613</td>\n",
       "      <td>POLYGON ((13.14288 52.52181, 13.14306 52.52179...</td>\n",
       "    </tr>\n",
       "    <tr>\n",
       "      <th>2</th>\n",
       "      <td>13595</td>\n",
       "      <td>1</td>\n",
       "      <td>19966</td>\n",
       "      <td>5.294865e+06</td>\n",
       "      <td>5.294865</td>\n",
       "      <td>3770.823</td>\n",
       "      <td>0.003771</td>\n",
       "      <td>11466.823723</td>\n",
       "      <td>12104.840663</td>\n",
       "      <td>13511.893792</td>\n",
       "      <td>0.0</td>\n",
       "      <td>9039.922949</td>\n",
       "      <td>10713.858743</td>\n",
       "      <td>11060.242925</td>\n",
       "      <td>11425.880429</td>\n",
       "      <td>12104.840663</td>\n",
       "      <td>12412.171885</td>\n",
       "      <td>13229.674334</td>\n",
       "      <td>13383.602613</td>\n",
       "      <td>POLYGON ((13.17354 52.50851, 13.17399 52.50926...</td>\n",
       "    </tr>\n",
       "    <tr>\n",
       "      <th>3</th>\n",
       "      <td>13581</td>\n",
       "      <td>1</td>\n",
       "      <td>14355</td>\n",
       "      <td>3.942352e+06</td>\n",
       "      <td>3.942352</td>\n",
       "      <td>3641.227</td>\n",
       "      <td>0.003641</td>\n",
       "      <td>11466.823723</td>\n",
       "      <td>12104.840663</td>\n",
       "      <td>13511.893792</td>\n",
       "      <td>0.0</td>\n",
       "      <td>9039.922949</td>\n",
       "      <td>10713.858743</td>\n",
       "      <td>11060.242925</td>\n",
       "      <td>11425.880429</td>\n",
       "      <td>12104.840663</td>\n",
       "      <td>12412.171885</td>\n",
       "      <td>13229.674334</td>\n",
       "      <td>13383.602613</td>\n",
       "      <td>POLYGON ((13.15664 52.53667, 13.15679 52.53734...</td>\n",
       "    </tr>\n",
       "    <tr>\n",
       "      <th>4</th>\n",
       "      <td>13591</td>\n",
       "      <td>1</td>\n",
       "      <td>26762</td>\n",
       "      <td>8.988007e+06</td>\n",
       "      <td>8.988007</td>\n",
       "      <td>2977.523</td>\n",
       "      <td>0.002978</td>\n",
       "      <td>11466.823723</td>\n",
       "      <td>12104.840663</td>\n",
       "      <td>13511.893792</td>\n",
       "      <td>0.0</td>\n",
       "      <td>9039.922949</td>\n",
       "      <td>10713.858743</td>\n",
       "      <td>11060.242925</td>\n",
       "      <td>11425.880429</td>\n",
       "      <td>12104.840663</td>\n",
       "      <td>12412.171885</td>\n",
       "      <td>13229.674334</td>\n",
       "      <td>13383.602613</td>\n",
       "      <td>POLYGON ((13.11738 52.51706, 13.11811 52.52010...</td>\n",
       "    </tr>\n",
       "    <tr>\n",
       "      <th>5</th>\n",
       "      <td>13589</td>\n",
       "      <td>1</td>\n",
       "      <td>21103</td>\n",
       "      <td>6.903208e+06</td>\n",
       "      <td>6.903208</td>\n",
       "      <td>3056.984</td>\n",
       "      <td>0.003057</td>\n",
       "      <td>11466.823723</td>\n",
       "      <td>12104.840663</td>\n",
       "      <td>13511.893792</td>\n",
       "      <td>0.0</td>\n",
       "      <td>9039.922949</td>\n",
       "      <td>10713.858743</td>\n",
       "      <td>11060.242925</td>\n",
       "      <td>11425.880429</td>\n",
       "      <td>12104.840663</td>\n",
       "      <td>12412.171885</td>\n",
       "      <td>13229.674334</td>\n",
       "      <td>13383.602613</td>\n",
       "      <td>POLYGON ((13.14345 52.55039, 13.14350 52.55090...</td>\n",
       "    </tr>\n",
       "    <tr>\n",
       "      <th>6</th>\n",
       "      <td>13587</td>\n",
       "      <td>1</td>\n",
       "      <td>20108</td>\n",
       "      <td>1.747880e+07</td>\n",
       "      <td>17.478802</td>\n",
       "      <td>1150.422</td>\n",
       "      <td>0.001150</td>\n",
       "      <td>11466.823723</td>\n",
       "      <td>12104.840663</td>\n",
       "      <td>13511.893792</td>\n",
       "      <td>0.0</td>\n",
       "      <td>9039.922949</td>\n",
       "      <td>10713.858743</td>\n",
       "      <td>11060.242925</td>\n",
       "      <td>11425.880429</td>\n",
       "      <td>12104.840663</td>\n",
       "      <td>12412.171885</td>\n",
       "      <td>13229.674334</td>\n",
       "      <td>13383.602613</td>\n",
       "      <td>POLYGON ((13.12796 52.58313, 13.12934 52.58593...</td>\n",
       "    </tr>\n",
       "    <tr>\n",
       "      <th>7</th>\n",
       "      <td>12559</td>\n",
       "      <td>1</td>\n",
       "      <td>1</td>\n",
       "      <td>2.820620e+03</td>\n",
       "      <td>0.002821</td>\n",
       "      <td>354.532</td>\n",
       "      <td>0.000355</td>\n",
       "      <td>11466.823723</td>\n",
       "      <td>12104.840663</td>\n",
       "      <td>13511.893792</td>\n",
       "      <td>0.0</td>\n",
       "      <td>9039.922949</td>\n",
       "      <td>10713.858743</td>\n",
       "      <td>11060.242925</td>\n",
       "      <td>11425.880429</td>\n",
       "      <td>12104.840663</td>\n",
       "      <td>12412.171885</td>\n",
       "      <td>13229.674334</td>\n",
       "      <td>13383.602613</td>\n",
       "      <td>POLYGON ((13.58139 52.44185, 13.58151 52.44239...</td>\n",
       "    </tr>\n",
       "    <tr>\n",
       "      <th>8</th>\n",
       "      <td>12559</td>\n",
       "      <td>1</td>\n",
       "      <td>17643</td>\n",
       "      <td>3.761828e+07</td>\n",
       "      <td>37.618275</td>\n",
       "      <td>469.001</td>\n",
       "      <td>0.000469</td>\n",
       "      <td>11466.823723</td>\n",
       "      <td>12104.840663</td>\n",
       "      <td>13511.893792</td>\n",
       "      <td>0.0</td>\n",
       "      <td>9039.922949</td>\n",
       "      <td>10713.858743</td>\n",
       "      <td>11060.242925</td>\n",
       "      <td>11425.880429</td>\n",
       "      <td>12104.840663</td>\n",
       "      <td>12412.171885</td>\n",
       "      <td>13229.674334</td>\n",
       "      <td>13383.602613</td>\n",
       "      <td>POLYGON ((13.58177 52.44236, 13.58248 52.44299...</td>\n",
       "    </tr>\n",
       "    <tr>\n",
       "      <th>9</th>\n",
       "      <td>12527</td>\n",
       "      <td>1</td>\n",
       "      <td>9425</td>\n",
       "      <td>2.620787e+07</td>\n",
       "      <td>26.207873</td>\n",
       "      <td>359.625</td>\n",
       "      <td>0.000360</td>\n",
       "      <td>11466.823723</td>\n",
       "      <td>12104.840663</td>\n",
       "      <td>13511.893792</td>\n",
       "      <td>0.0</td>\n",
       "      <td>9039.922949</td>\n",
       "      <td>10713.858743</td>\n",
       "      <td>11060.242925</td>\n",
       "      <td>11425.880429</td>\n",
       "      <td>12104.840663</td>\n",
       "      <td>12412.171885</td>\n",
       "      <td>13229.674334</td>\n",
       "      <td>13383.602613</td>\n",
       "      <td>POLYGON ((13.55431 52.42579, 13.55542 52.42590...</td>\n",
       "    </tr>\n",
       "    <tr>\n",
       "      <th>10</th>\n",
       "      <td>12557</td>\n",
       "      <td>1</td>\n",
       "      <td>21494</td>\n",
       "      <td>8.095616e+06</td>\n",
       "      <td>8.095616</td>\n",
       "      <td>2655.017</td>\n",
       "      <td>0.002655</td>\n",
       "      <td>11466.823723</td>\n",
       "      <td>12104.840663</td>\n",
       "      <td>13511.893792</td>\n",
       "      <td>0.0</td>\n",
       "      <td>9039.922949</td>\n",
       "      <td>10713.858743</td>\n",
       "      <td>11060.242925</td>\n",
       "      <td>11425.880429</td>\n",
       "      <td>12104.840663</td>\n",
       "      <td>12412.171885</td>\n",
       "      <td>13229.674334</td>\n",
       "      <td>13383.602613</td>\n",
       "      <td>POLYGON ((13.55915 52.44178, 13.56040 52.44222...</td>\n",
       "    </tr>\n",
       "    <tr>\n",
       "      <th>11</th>\n",
       "      <td>13159</td>\n",
       "      <td>1</td>\n",
       "      <td>1762</td>\n",
       "      <td>1.093987e+07</td>\n",
       "      <td>10.939874</td>\n",
       "      <td>161.062</td>\n",
       "      <td>0.000161</td>\n",
       "      <td>11466.823723</td>\n",
       "      <td>12104.840663</td>\n",
       "      <td>13511.893792</td>\n",
       "      <td>0.0</td>\n",
       "      <td>9039.922949</td>\n",
       "      <td>10713.858743</td>\n",
       "      <td>11060.242925</td>\n",
       "      <td>11425.880429</td>\n",
       "      <td>12104.840663</td>\n",
       "      <td>12412.171885</td>\n",
       "      <td>13229.674334</td>\n",
       "      <td>13383.602613</td>\n",
       "      <td>POLYGON ((13.36691 52.62544, 13.36697 52.62547...</td>\n",
       "    </tr>\n",
       "  </tbody>\n",
       "</table>\n",
       "</div>"
      ],
      "text/plain": [
       "      plz first_dig_plz  einwohner       area_m2   area_km2  einwohner_km2  \\\n",
       "0   14089             1      17734  2.488821e+07  24.888210        712.546   \n",
       "1   13593             1      20238  4.561552e+06   4.561552       4436.647   \n",
       "2   13595             1      19966  5.294865e+06   5.294865       3770.823   \n",
       "3   13581             1      14355  3.942352e+06   3.942352       3641.227   \n",
       "4   13591             1      26762  8.988007e+06   8.988007       2977.523   \n",
       "5   13589             1      21103  6.903208e+06   6.903208       3056.984   \n",
       "6   13587             1      20108  1.747880e+07  17.478802       1150.422   \n",
       "7   12559             1          1  2.820620e+03   0.002821        354.532   \n",
       "8   12559             1      17643  3.761828e+07  37.618275        469.001   \n",
       "9   12527             1       9425  2.620787e+07  26.207873        359.625   \n",
       "10  12557             1      21494  8.095616e+06   8.095616       2655.017   \n",
       "11  13159             1       1762  1.093987e+07  10.939874        161.062   \n",
       "\n",
       "    einwohner_m2  mean_spatial_distance_15min  median_spatial_distance_15min  \\\n",
       "0       0.000713                 11466.823723                   12104.840663   \n",
       "1       0.004437                 11466.823723                   12104.840663   \n",
       "2       0.003771                 11466.823723                   12104.840663   \n",
       "3       0.003641                 11466.823723                   12104.840663   \n",
       "4       0.002978                 11466.823723                   12104.840663   \n",
       "5       0.003057                 11466.823723                   12104.840663   \n",
       "6       0.001150                 11466.823723                   12104.840663   \n",
       "7       0.000355                 11466.823723                   12104.840663   \n",
       "8       0.000469                 11466.823723                   12104.840663   \n",
       "9       0.000360                 11466.823723                   12104.840663   \n",
       "10      0.002655                 11466.823723                   12104.840663   \n",
       "11      0.000161                 11466.823723                   12104.840663   \n",
       "\n",
       "    max_spatial_distance_15min  min_spatial_distance_15min  \\\n",
       "0                 13511.893792                         0.0   \n",
       "1                 13511.893792                         0.0   \n",
       "2                 13511.893792                         0.0   \n",
       "3                 13511.893792                         0.0   \n",
       "4                 13511.893792                         0.0   \n",
       "5                 13511.893792                         0.0   \n",
       "6                 13511.893792                         0.0   \n",
       "7                 13511.893792                         0.0   \n",
       "8                 13511.893792                         0.0   \n",
       "9                 13511.893792                         0.0   \n",
       "10                13511.893792                         0.0   \n",
       "11                13511.893792                         0.0   \n",
       "\n",
       "    q5_spatial_distance_15min  q10_spatial_distance_15min  \\\n",
       "0                 9039.922949                10713.858743   \n",
       "1                 9039.922949                10713.858743   \n",
       "2                 9039.922949                10713.858743   \n",
       "3                 9039.922949                10713.858743   \n",
       "4                 9039.922949                10713.858743   \n",
       "5                 9039.922949                10713.858743   \n",
       "6                 9039.922949                10713.858743   \n",
       "7                 9039.922949                10713.858743   \n",
       "8                 9039.922949                10713.858743   \n",
       "9                 9039.922949                10713.858743   \n",
       "10                9039.922949                10713.858743   \n",
       "11                9039.922949                10713.858743   \n",
       "\n",
       "    q15_spatial_distance_15min  q25_spatial_distance_15min  \\\n",
       "0                 11060.242925                11425.880429   \n",
       "1                 11060.242925                11425.880429   \n",
       "2                 11060.242925                11425.880429   \n",
       "3                 11060.242925                11425.880429   \n",
       "4                 11060.242925                11425.880429   \n",
       "5                 11060.242925                11425.880429   \n",
       "6                 11060.242925                11425.880429   \n",
       "7                 11060.242925                11425.880429   \n",
       "8                 11060.242925                11425.880429   \n",
       "9                 11060.242925                11425.880429   \n",
       "10                11060.242925                11425.880429   \n",
       "11                11060.242925                11425.880429   \n",
       "\n",
       "    q50_spatial_distance_15min  q75_spatial_distance_15min  \\\n",
       "0                 12104.840663                12412.171885   \n",
       "1                 12104.840663                12412.171885   \n",
       "2                 12104.840663                12412.171885   \n",
       "3                 12104.840663                12412.171885   \n",
       "4                 12104.840663                12412.171885   \n",
       "5                 12104.840663                12412.171885   \n",
       "6                 12104.840663                12412.171885   \n",
       "7                 12104.840663                12412.171885   \n",
       "8                 12104.840663                12412.171885   \n",
       "9                 12104.840663                12412.171885   \n",
       "10                12104.840663                12412.171885   \n",
       "11                12104.840663                12412.171885   \n",
       "\n",
       "    q95_spatial_distance_15min  q99_spatial_distance_15min  \\\n",
       "0                 13229.674334                13383.602613   \n",
       "1                 13229.674334                13383.602613   \n",
       "2                 13229.674334                13383.602613   \n",
       "3                 13229.674334                13383.602613   \n",
       "4                 13229.674334                13383.602613   \n",
       "5                 13229.674334                13383.602613   \n",
       "6                 13229.674334                13383.602613   \n",
       "7                 13229.674334                13383.602613   \n",
       "8                 13229.674334                13383.602613   \n",
       "9                 13229.674334                13383.602613   \n",
       "10                13229.674334                13383.602613   \n",
       "11                13229.674334                13383.602613   \n",
       "\n",
       "                                             geometry  \n",
       "0   POLYGON ((13.10929 52.45063, 13.10956 52.45108...  \n",
       "1   POLYGON ((13.14288 52.52181, 13.14306 52.52179...  \n",
       "2   POLYGON ((13.17354 52.50851, 13.17399 52.50926...  \n",
       "3   POLYGON ((13.15664 52.53667, 13.15679 52.53734...  \n",
       "4   POLYGON ((13.11738 52.51706, 13.11811 52.52010...  \n",
       "5   POLYGON ((13.14345 52.55039, 13.14350 52.55090...  \n",
       "6   POLYGON ((13.12796 52.58313, 13.12934 52.58593...  \n",
       "7   POLYGON ((13.58139 52.44185, 13.58151 52.44239...  \n",
       "8   POLYGON ((13.58177 52.44236, 13.58248 52.44299...  \n",
       "9   POLYGON ((13.55431 52.42579, 13.55542 52.42590...  \n",
       "10  POLYGON ((13.55915 52.44178, 13.56040 52.44222...  \n",
       "11  POLYGON ((13.36691 52.62544, 13.36697 52.62547...  "
      ]
     },
     "execution_count": 202,
     "metadata": {},
     "output_type": "execute_result"
    }
   ],
   "source": [
    "dataname = \"drive\"\n",
    "df_test = gp.read_file('../results/berlin-plz-whitespots-'+str(dataname)+'-analysis-15min.geojson')\n",
    "df_test"
   ]
  },
  {
   "cell_type": "code",
   "execution_count": 193,
   "metadata": {},
   "outputs": [
    {
     "name": "stdout",
     "output_type": "stream",
     "text": [
      "0    12140.573855\n",
      "dtype: float64\n",
      "0    11676.908536\n",
      "dtype: float64\n",
      "0    15556.950175\n",
      "dtype: float64\n",
      "0    0.0\n",
      "dtype: float64\n",
      "0    8181.585127\n",
      "Name: 0.05, dtype: float64\n",
      "0    8759.823513\n",
      "Name: 0.1, dtype: float64\n",
      "0    9321.696234\n",
      "Name: 0.15, dtype: float64\n",
      "0    10884.648888\n",
      "Name: 0.25, dtype: float64\n",
      "0    12140.573855\n",
      "Name: 0.5, dtype: float64\n",
      "0    12972.198971\n",
      "Name: 0.75, dtype: float64\n",
      "0    14128.580993\n",
      "Name: 0.95, dtype: float64\n",
      "0    14736.978385\n",
      "Name: 0.99, dtype: float64\n"
     ]
    }
   ],
   "source": [
    "print(measure.median())\n",
    "print(measure.mean())\n",
    "print(measure.max())\n",
    "print(measure.min())\n",
    "print(measure.quantile(q=0.05))\n",
    "print(measure.quantile(q=0.1))\n",
    "print(measure.quantile(q=0.15))\n",
    "print(measure.quantile(q=0.25))\n",
    "print(measure.quantile(q=0.5))\n",
    "print(measure.quantile(q=0.75))\n",
    "print(measure.quantile(q=0.95))\n",
    "print(measure.quantile(q=0.99))"
   ]
  },
  {
   "cell_type": "code",
   "execution_count": 191,
   "metadata": {},
   "outputs": [
    {
     "name": "stdout",
     "output_type": "stream",
     "text": [
      "                  0\n",
      "count    973.000000\n",
      "mean   11676.908536\n",
      "std     2002.928419\n",
      "min        0.000000\n",
      "25%    10884.648888\n",
      "50%    12140.573855\n",
      "75%    12972.198971\n",
      "max    15556.950175\n"
     ]
    },
    {
     "data": {
      "text/html": [
       "<div>\n",
       "<style scoped>\n",
       "    .dataframe tbody tr th:only-of-type {\n",
       "        vertical-align: middle;\n",
       "    }\n",
       "\n",
       "    .dataframe tbody tr th {\n",
       "        vertical-align: top;\n",
       "    }\n",
       "\n",
       "    .dataframe thead th {\n",
       "        text-align: right;\n",
       "    }\n",
       "</style>\n",
       "<table border=\"1\" class=\"dataframe\">\n",
       "  <thead>\n",
       "    <tr style=\"text-align: right;\">\n",
       "      <th></th>\n",
       "      <th>0</th>\n",
       "    </tr>\n",
       "  </thead>\n",
       "  <tbody>\n",
       "    <tr>\n",
       "      <th>count</th>\n",
       "      <td>973.000000</td>\n",
       "    </tr>\n",
       "    <tr>\n",
       "      <th>mean</th>\n",
       "      <td>11676.908536</td>\n",
       "    </tr>\n",
       "    <tr>\n",
       "      <th>std</th>\n",
       "      <td>2002.928419</td>\n",
       "    </tr>\n",
       "    <tr>\n",
       "      <th>min</th>\n",
       "      <td>0.000000</td>\n",
       "    </tr>\n",
       "    <tr>\n",
       "      <th>25%</th>\n",
       "      <td>10884.648888</td>\n",
       "    </tr>\n",
       "    <tr>\n",
       "      <th>50%</th>\n",
       "      <td>12140.573855</td>\n",
       "    </tr>\n",
       "    <tr>\n",
       "      <th>75%</th>\n",
       "      <td>12972.198971</td>\n",
       "    </tr>\n",
       "    <tr>\n",
       "      <th>max</th>\n",
       "      <td>15556.950175</td>\n",
       "    </tr>\n",
       "  </tbody>\n",
       "</table>\n",
       "</div>"
      ],
      "text/plain": [
       "                  0\n",
       "count    973.000000\n",
       "mean   11676.908536\n",
       "std     2002.928419\n",
       "min        0.000000\n",
       "25%    10884.648888\n",
       "50%    12140.573855\n",
       "75%    12972.198971\n",
       "max    15556.950175"
      ]
     },
     "execution_count": 191,
     "metadata": {},
     "output_type": "execute_result"
    }
   ],
   "source": [
    "print(measure.describe())\n",
    "\n",
    "dataframe = measure.describe()\n",
    "dataframe"
   ]
  },
  {
   "cell_type": "code",
   "execution_count": 127,
   "metadata": {},
   "outputs": [],
   "source": [
    "polygonlist = df_poly.geometry.tolist()\n",
    "pointlist = df_points.geometry.tolist()"
   ]
  },
  {
   "cell_type": "code",
   "execution_count": 128,
   "metadata": {},
   "outputs": [],
   "source": [
    "if_in_whiteplz_list = if_points_in_polygonlist(polygonlist,pointlist)"
   ]
  },
  {
   "cell_type": "code",
   "execution_count": 142,
   "metadata": {},
   "outputs": [
    {
     "data": {
      "text/plain": [
       "116100"
      ]
     },
     "execution_count": 142,
     "metadata": {},
     "output_type": "execute_result"
    }
   ],
   "source": [
    "newliste = []\n",
    "for myListIndex in if_in_whiteplz_list:\n",
    "    for ListIndex in myListIndex:\n",
    "        #print(ListIndex)\n",
    "        newliste.append(ListIndex)\n",
    "len(newliste)"
   ]
  },
  {
   "cell_type": "code",
   "execution_count": null,
   "metadata": {},
   "outputs": [],
   "source": [
    "df"
   ]
  },
  {
   "cell_type": "code",
   "execution_count": null,
   "metadata": {},
   "outputs": [],
   "source": [
    "df.mean(axis=0)"
   ]
  },
  {
   "cell_type": "code",
   "execution_count": null,
   "metadata": {},
   "outputs": [],
   "source": [
    "df.max(axis=0)"
   ]
  },
  {
   "cell_type": "code",
   "execution_count": null,
   "metadata": {},
   "outputs": [],
   "source": [
    "df.min(axis=0)"
   ]
  },
  {
   "cell_type": "markdown",
   "metadata": {},
   "source": [
    "# IsoCHrones"
   ]
  },
  {
   "cell_type": "markdown",
   "metadata": {},
   "source": [
    "### Drive"
   ]
  },
  {
   "cell_type": "code",
   "execution_count": null,
   "metadata": {},
   "outputs": [],
   "source": [
    "df = gp.read_file(\"../results/isochrones-drive-15.geojson\")\n",
    "print(\"Drive\\nMinimum: \"+str(df.min(axis=0)))\n",
    "print(\"Maximum: \"+str(df.max(axis=0)))\n",
    "print(\"Mean: \"+str(df.mean(axis=0)))"
   ]
  },
  {
   "cell_type": "code",
   "execution_count": null,
   "metadata": {},
   "outputs": [],
   "source": [
    "df = gp.read_file(\"../results/isochrones-bike-15.geojson\")\n",
    "print(\"Bike\\nMinimum: \"+str(df.min(axis=0)))\n",
    "print(\"Maximum: \"+str(df.max(axis=0)))\n",
    "print(\"Mean: \"+str(df.mean(axis=0)))\n",
    "\n",
    "print(3.050*4)"
   ]
  },
  {
   "cell_type": "code",
   "execution_count": null,
   "metadata": {},
   "outputs": [],
   "source": [
    "df = gp.read_file(\"../results/isochrones-subway-15.geojson\")\n",
    "print(\"Subway\\nMinimum: \"+str(df.min(axis=0)))\n",
    "print(\"Maximum: \"+str(df.max(axis=0)))\n",
    "print(\"Mean: \"+str(df.mean(axis=0)))"
   ]
  },
  {
   "cell_type": "code",
   "execution_count": null,
   "metadata": {},
   "outputs": [],
   "source": [
    "df = gp.read_file(\"../results/isochrones-light_rail-15.geojson\")\n",
    "print(\"Light-Rail\\nMinimum: \"+str(df.min(axis=0)))\n",
    "print(\"Maximum: \"+str(df.max(axis=0)))\n",
    "print(\"Mean: \"+str(df.mean(axis=0)))"
   ]
  },
  {
   "cell_type": "code",
   "execution_count": null,
   "metadata": {},
   "outputs": [],
   "source": [
    "df = gp.read_file(\"../results/isochrones-tram-15.geojson\")\n",
    "print(\"Tram\\nMinimum: \"+str(df.min(axis=0)))\n",
    "print(\"Maximum: \"+str(df.max(axis=0)))\n",
    "print(\"Mean: \"+str(df.mean(axis=0)))"
   ]
  },
  {
   "cell_type": "code",
   "execution_count": null,
   "metadata": {},
   "outputs": [],
   "source": [
    "df = gp.read_file(\"../results/isochrones-bus-15.geojson\")\n",
    "print(\"Bus\\nMinimum: \"+str(df.min(axis=0)))\n",
    "print(\"Maximum: \"+str(df.max(axis=0)))\n",
    "print(\"Mean: \"+str(df.mean(axis=0)))"
   ]
  },
  {
   "cell_type": "code",
   "execution_count": null,
   "metadata": {},
   "outputs": [],
   "source": []
  },
  {
   "cell_type": "markdown",
   "metadata": {},
   "source": [
    "## Lebensräume"
   ]
  },
  {
   "cell_type": "code",
   "execution_count": null,
   "metadata": {},
   "outputs": [],
   "source": [
    "df = gp.read_file(\"../results/berlin-inhabitants-centerpoints-top5.geojson\")"
   ]
  },
  {
   "cell_type": "code",
   "execution_count": null,
   "metadata": {},
   "outputs": [],
   "source": [
    "#df = df.sort_values(by='einwohner', ascending=False).head(10)"
   ]
  },
  {
   "cell_type": "code",
   "execution_count": null,
   "metadata": {},
   "outputs": [],
   "source": [
    "df"
   ]
  },
  {
   "cell_type": "markdown",
   "metadata": {},
   "source": [
    "##  Standard Deviation "
   ]
  },
  {
   "cell_type": "code",
   "execution_count": null,
   "metadata": {},
   "outputs": [],
   "source": [
    "df = gp.read_file(\"../results/berlin-inhabitants-improved.geojson\")"
   ]
  },
  {
   "cell_type": "code",
   "execution_count": null,
   "metadata": {},
   "outputs": [],
   "source": [
    "print(\"Bus\\nMinimum: \"+str(df.min(axis=0)))\n",
    "print(\"Maximum: \"+str(df.max(axis=0)))\n",
    "print(\"Mean: \"+str(df.mean(axis=0)))"
   ]
  },
  {
   "cell_type": "code",
   "execution_count": null,
   "metadata": {},
   "outputs": [],
   "source": [
    "top = df.sort_values(by='einwohner_km2', ascending=False).head(1)\n",
    "tail = df.sort_values(by='einwohner_km2', ascending=False).tail(1)\n",
    "mean = 2.044887*10000"
   ]
  },
  {
   "cell_type": "code",
   "execution_count": null,
   "metadata": {},
   "outputs": [],
   "source": [
    "mean"
   ]
  },
  {
   "cell_type": "code",
   "execution_count": null,
   "metadata": {},
   "outputs": [],
   "source": [
    "abw = top.einwohner_km2[0] - tail.einwohner_km2[0]\n",
    "abw"
   ]
  },
  {
   "cell_type": "code",
   "execution_count": null,
   "metadata": {},
   "outputs": [],
   "source": [
    "print(\"Mean: \"+str(df.mean(axis=0)))"
   ]
  },
  {
   "cell_type": "code",
   "execution_count": null,
   "metadata": {},
   "outputs": [],
   "source": [
    "deviations = [(x - mean) ** 2 for x in data]"
   ]
  },
  {
   "cell_type": "markdown",
   "metadata": {},
   "source": [
    "## Industrial"
   ]
  },
  {
   "cell_type": "code",
   "execution_count": null,
   "metadata": {},
   "outputs": [],
   "source": [
    "df = gp.read_file(\"../results/residential.geojson\")"
   ]
  },
  {
   "cell_type": "code",
   "execution_count": null,
   "metadata": {},
   "outputs": [],
   "source": [
    "df"
   ]
  },
  {
   "cell_type": "code",
   "execution_count": null,
   "metadata": {},
   "outputs": [],
   "source": [
    "PLACE_NAME = \"Berlin, Germany\"\n",
    "#CUSTOM_FILTER = {[\"amenity\"=\"college\"][\"building\"=\"university\"][\"residential\"=\"university\"]}\n",
    "g_education = ox.graph_from_place(PLACE_NAME, simplify=False)"
   ]
  },
  {
   "cell_type": "code",
   "execution_count": null,
   "metadata": {},
   "outputs": [],
   "source": [
    "'''\n",
    "amenity=college - A place for \"further education\", usually a post-secondary education institution, rather than an institution of \"higher education\"\n",
    "amenity=school - Secondary and Primary schools, which use a similar tagging system.\n",
    "Proposed features/University Campus (tertiary education) - original proposal for this tag\n",
    "amenity=hospital - Hospitals can be large institutions comprising many buildings. We should follow a similar approach when mapping them\n",
    "building=university - buildings constructed as university buildings\n",
    "residential=university \n",
    "'''"
   ]
  },
  {
   "cell_type": "code",
   "execution_count": null,
   "metadata": {},
   "outputs": [],
   "source": [
    "g_education_poly = ox.load_graphml_from_file(g_education, place_name=PLACE_NAME,\n",
    "                                                 custom_filter='[\"amenity\"~\"college|school\"][\"building\"~\"university\"][\"residential\"~\"university\"]')\n"
   ]
  },
  {
   "cell_type": "code",
   "execution_count": null,
   "metadata": {},
   "outputs": [],
   "source": [
    "def load_graphml_from_file(file_path, place_name, network_type=None, custom_filter=None):\n",
    "    if not path.exists(file_path):\n",
    "        print(\"Download \" + file_path)\n",
    "        graph = load_graphml(place_name=place_name,\n",
    "                             network_type=network_type,\n",
    "                             custom_filter=custom_filter)\n",
    "        ox.save_graphml(graph, file_path)\n",
    "        return graph\n",
    "    else:\n",
    "        print(\"Load \" + file_path)\n",
    "        return ox.io.load_graphml(file_path)\n",
    "\n",
    "\n",
    "def load_graphml(place_name, network_type=None, custom_filter=None):\n",
    "    return ox.graph.graph_from_place(query=place_name,\n",
    "                                     simplify=True,\n",
    "                                     retain_all=False,\n",
    "                                     buffer_dist=2500,\n",
    "                                     network_type=network_type,\n",
    "                                     custom_filter=custom_filter)"
   ]
  },
  {
   "cell_type": "code",
   "execution_count": null,
   "metadata": {},
   "outputs": [],
   "source": [
    "g_education = load_graphml_from_file(file_path=\"tmp/education.graphml\",\n",
    "                                                 place_name=PLACE_NAME,\n",
    "                                                 custom_filter='[\"amenity\"~\"college|school\"][\"building\"~\"university\"][\"residential\"~\"university\"]')\n",
    "        "
   ]
  },
  {
   "cell_type": "code",
   "execution_count": null,
   "metadata": {},
   "outputs": [],
   "source": [
    "buildings = ox.footprints_from_place(PLACE_NAME)"
   ]
  },
  {
   "cell_type": "code",
   "execution_count": null,
   "metadata": {},
   "outputs": [],
   "source": [
    "buildings"
   ]
  },
  {
   "cell_type": "code",
   "execution_count": null,
   "metadata": {},
   "outputs": [],
   "source": [
    "list1 = buildings.columns"
   ]
  },
  {
   "cell_type": "code",
   "execution_count": null,
   "metadata": {},
   "outputs": [],
   "source": [
    "list1.values"
   ]
  },
  {
   "cell_type": "code",
   "execution_count": null,
   "metadata": {},
   "outputs": [],
   "source": [
    "buildings.plot()"
   ]
  },
  {
   "cell_type": "code",
   "execution_count": null,
   "metadata": {},
   "outputs": [],
   "source": [
    "buildings.info()"
   ]
  },
  {
   "cell_type": "code",
   "execution_count": null,
   "metadata": {},
   "outputs": [],
   "source": [
    "buildings.describe()"
   ]
  },
  {
   "cell_type": "code",
   "execution_count": null,
   "metadata": {},
   "outputs": [],
   "source": [
    "buildings['building'].unique()"
   ]
  },
  {
   "cell_type": "markdown",
   "metadata": {},
   "source": [
    "array(['yes', 'static_caravan', 'house', 'detached', 'residential',\n",
    "       'service', 'office', 'ruins', 'commercial', 'apartments', 'roof',\n",
    "       'industrial', 'retail', 'exhibition_hall', 'parking', 'civic',\n",
    "       'church', 'museum', 'public', 'construction', 'sports_centre',\n",
    "       'mall', 'school', 'steps', 'government', 'bridge', 'hotel',\n",
    "       'garage', 'station', 'library', 'kindergarten', 'train_station',\n",
    "       'electricity', 'hospital', 'supermarket', 'hangar', 'tower',\n",
    "       'chapel', 'opera_house', 'transportation', 'terrace',\n",
    "       'public_building', 'dormitory', 'canopy', 'cinema', 'sports_hall',\n",
    "       'university', 'warehouse', 'synagogue', 'garages', 'embassy',\n",
    "       'greenhouse', 'grandstand', 'shed', 'fire_station', 'stadium',\n",
    "       'railway', 'hall', 'shop', 'manufacture', 'arena', 'clinic',\n",
    "       'depot', 'manor', 'theatre', 'bunker', 'silo', 'courthouse',\n",
    "       'cathedral', 'govern', 'stands', 'belfry', 'monument', 'prison',\n",
    "       'pavilion', 'farm_auxiliary', 'tent', 'college', 'bungalow', '6',\n",
    "       'concert_hall', 'theater', 'no', 'semidetached_house', 'kiosk',\n",
    "       'carport', 'retail;apartments', 'aviary', 'abandoned',\n",
    "       'bell_tower', 'hybrid', 'apartments;retail', 'religious',\n",
    "       'car_wash', 'gym', 'tunnel', 'riding_hall', 'bleachers', 'mosque',\n",
    "       'leisure', '4', 'storage_tank', 'switch_box', 'floating_platform',\n",
    "       'stable', 'cot', 'cowshed', 'pylon', 'prefabricated', 'toilets',\n",
    "       'container', 'water_tower', 'villa', 'allotment_house', 'platform',\n",
    "       'gas_station', 'power', 'hut', 'waterworks', 'windmill',\n",
    "       'restaurant', 'undefined', 'viaduct', 'barn', 'boathouse',\n",
    "       'elevator', 'monastery', 'chimney', 'pharmacy', 'collapsed',\n",
    "       'shelter', 'boat', 'staircase', 'transformer_tower',\n",
    "       'sewage_pumping_station', 'military', 'dwelling_house',\n",
    "       'glasshouse', '7', 'gatehouse', 'retirement_home', 'hunting_stand',\n",
    "       'heating', 'castle', 'cabin', 'bridge_support', 'new', 'grate',\n",
    "       'bus_shelter', 'hostel', 'temple', 'stairs', 'ramp', 'column',\n",
    "       'vacant', 'barracks', 'appartements', 'garbage_shed', 'toolsher',\n",
    "       'ship', 'bastion', 'fort', 'mansion', 'parish_hall',\n",
    "       'conservatory', 'gate', 'office; residential; embassy',\n",
    "       'waste_disposal', 'booth', 'spa', 'guardhouse', 'boad',\n",
    "       'houseboat', 'balcony', 'substation', 'telescope', 'tech_cab',\n",
    "       'orangery', 'latrine', 'lift_shaft', 'sauna', 'datscha', 'stage',\n",
    "       'cargo_container', 'steirs', 'tank', 'outline', 'parking_entrance',\n",
    "       'kindergarten;community_centre', 'townhall', 'airdome', 'farm',\n",
    "       'archway', 'static_bus', 'airport', 'apartments;yes'], dtype=object)"
   ]
  },
  {
   "cell_type": "markdown",
   "metadata": {},
   "source": [
    "school\n",
    "university\n",
    "college"
   ]
  },
  {
   "cell_type": "code",
   "execution_count": null,
   "metadata": {},
   "outputs": [],
   "source": [
    "school = buildings[buildings['building']=='school']\n",
    "school = school[['geometry', 'building','name']]\n",
    "school"
   ]
  },
  {
   "cell_type": "code",
   "execution_count": null,
   "metadata": {},
   "outputs": [],
   "source": [
    "%matplotlib inline\n",
    "plt.rcParams['figure.figsize'] = (140, 125)\n",
    "test.plot()"
   ]
  },
  {
   "cell_type": "code",
   "execution_count": null,
   "metadata": {},
   "outputs": [],
   "source": []
  },
  {
   "cell_type": "code",
   "execution_count": null,
   "metadata": {},
   "outputs": [],
   "source": [
    "uni = buildings[buildings['building']=='university']\n",
    "uni = uni[['geometry', 'building','name','website','wikipedia:de']]\n",
    "uni"
   ]
  },
  {
   "cell_type": "code",
   "execution_count": null,
   "metadata": {},
   "outputs": [],
   "source": [
    "uni.plot()"
   ]
  },
  {
   "cell_type": "code",
   "execution_count": null,
   "metadata": {},
   "outputs": [],
   "source": [
    "uni.to_file(\"../results/university.geojson\", driver=\"GeoJSON\")"
   ]
  },
  {
   "cell_type": "code",
   "execution_count": null,
   "metadata": {},
   "outputs": [],
   "source": [
    "college = buildings[buildings['building']=='college']\n",
    "college = college[['geometry', 'building','name','']]\n",
    "college"
   ]
  },
  {
   "cell_type": "code",
   "execution_count": null,
   "metadata": {},
   "outputs": [],
   "source": [
    "college.plot()"
   ]
  },
  {
   "cell_type": "code",
   "execution_count": null,
   "metadata": {},
   "outputs": [],
   "source": [
    "college.to_file(\"../results/college.geojson\", driver=\"GeoJSON\")"
   ]
  },
  {
   "cell_type": "code",
   "execution_count": null,
   "metadata": {},
   "outputs": [],
   "source": []
  }
 ],
 "metadata": {
  "kernelspec": {
   "display_name": "Python 3",
   "language": "python",
   "name": "python3"
  },
  "language_info": {
   "codemirror_mode": {
    "name": "ipython",
    "version": 3
   },
   "file_extension": ".py",
   "mimetype": "text/x-python",
   "name": "python",
   "nbconvert_exporter": "python",
   "pygments_lexer": "ipython3",
   "version": "3.8.5"
  }
 },
 "nbformat": 4,
 "nbformat_minor": 4
}
