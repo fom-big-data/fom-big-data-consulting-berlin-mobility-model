{
 "cells": [
  {
   "cell_type": "code",
   "execution_count": 1,
   "metadata": {},
   "outputs": [],
   "source": [
    "import osmnx as ox\n",
    "import matplotlib.pyplot as plt\n",
    "import geopandas as gp\n",
    "import networkx as nx\n",
    "import os.path\n",
    "from os import path\n",
    "import pathlib\n",
    "import pandas as pd\n",
    "import json\n",
    "from points_in_polygons import if_point_inpolygon, if_points_in_polygonlist, count_points_in_polygonlist, if_points_in_polygon\n",
    "ox.config(log_console=True, use_cache=True)\n",
    "from shapely.geometry import Point, Polygon\n",
    "\n",
    "\n",
    "import warnings\n",
    "\n",
    "warnings.filterwarnings('ignore')"
   ]
  },
  {
   "cell_type": "markdown",
   "metadata": {},
   "source": [
    "# Story Helper to calculate some deskriptive analysis for white spots"
   ]
  },
  {
   "cell_type": "markdown",
   "metadata": {},
   "source": [
    "## None IsoChrones"
   ]
  },
  {
   "cell_type": "code",
   "execution_count": 2,
   "metadata": {},
   "outputs": [],
   "source": [
    "df = gp.read_file(\"../results/berlin-inhabitants-improved.geojson\")"
   ]
  },
  {
   "cell_type": "code",
   "execution_count": 3,
   "metadata": {},
   "outputs": [],
   "source": [
    "# Get the centroid of the Polygon\n",
    "poly_centroid = df.geometry[0].centroid\n",
    "\n",
    "# Get the area of the Polygon\n",
    "poly_area = df.geometry[0].area\n",
    "\n",
    "# Get the bounds of the Polygon (i.e. bounding box)\n",
    "poly_bbox = df.geometry[0].bounds\n",
    "\n",
    "# Get the exterior of the Polygon\n",
    "poly_ext = df.geometry[0].exterior\n",
    "\n",
    "# Get the length of the exterior\n",
    "poly_ext_length = df.geometry[0].length"
   ]
  },
  {
   "cell_type": "code",
   "execution_count": 4,
   "metadata": {},
   "outputs": [],
   "source": [
    "#print(\"Poly centroid: \", poly_centroid)\n",
    "#print(\"Poly Area: \", poly_area)\n",
    "#print(\"Poly Bounding Box: \", poly_bbox)\n",
    "#print(\"Poly Exterior: \", poly_ext)\n",
    "#print(\"Poly Exterior Length: \", poly_ext_length)\n"
   ]
  },
  {
   "cell_type": "code",
   "execution_count": 5,
   "metadata": {},
   "outputs": [
    {
     "data": {
      "text/plain": [
       "[<shapely.geometry.polygon.Polygon at 0x21ddda6b700>,\n",
       " <shapely.geometry.polygon.Polygon at 0x21dd7865820>]"
      ]
     },
     "execution_count": 5,
     "metadata": {},
     "output_type": "execute_result"
    }
   ],
   "source": [
    "plist = df.geometry[0:2].tolist()\n",
    "plist"
   ]
  },
  {
   "cell_type": "code",
   "execution_count": 6,
   "metadata": {},
   "outputs": [],
   "source": [
    "pointlist = [(13.08835, 52.41963), (13.08835, 52.41963)]"
   ]
  },
  {
   "cell_type": "code",
   "execution_count": 7,
   "metadata": {},
   "outputs": [],
   "source": [
    "countliste = if_points_in_polygon(df.geometry[0],pointlist)"
   ]
  },
  {
   "cell_type": "code",
   "execution_count": 8,
   "metadata": {},
   "outputs": [
    {
     "data": {
      "text/plain": [
       "[True, True]"
      ]
     },
     "execution_count": 8,
     "metadata": {},
     "output_type": "execute_result"
    }
   ],
   "source": [
    "countliste"
   ]
  },
  {
   "cell_type": "code",
   "execution_count": 9,
   "metadata": {},
   "outputs": [
    {
     "data": {
      "text/html": [
       "<div>\n",
       "<style scoped>\n",
       "    .dataframe tbody tr th:only-of-type {\n",
       "        vertical-align: middle;\n",
       "    }\n",
       "\n",
       "    .dataframe tbody tr th {\n",
       "        vertical-align: top;\n",
       "    }\n",
       "\n",
       "    .dataframe thead th {\n",
       "        text-align: right;\n",
       "    }\n",
       "</style>\n",
       "<table border=\"1\" class=\"dataframe\">\n",
       "  <thead>\n",
       "    <tr style=\"text-align: right;\">\n",
       "      <th></th>\n",
       "      <th>plz</th>\n",
       "      <th>first_dig_plz</th>\n",
       "      <th>einwohner</th>\n",
       "      <th>area_m2</th>\n",
       "      <th>area_km2</th>\n",
       "      <th>einwohner_km2</th>\n",
       "      <th>einwohner_m2</th>\n",
       "      <th>geometry</th>\n",
       "    </tr>\n",
       "  </thead>\n",
       "  <tbody>\n",
       "    <tr>\n",
       "      <th>0</th>\n",
       "      <td>14109</td>\n",
       "      <td>1</td>\n",
       "      <td>10049</td>\n",
       "      <td>2.522886e+07</td>\n",
       "      <td>25.228865</td>\n",
       "      <td>398.314</td>\n",
       "      <td>0.000398</td>\n",
       "      <td>POLYGON ((13.08835 52.41963, 13.09584 52.42198...</td>\n",
       "    </tr>\n",
       "    <tr>\n",
       "      <th>1</th>\n",
       "      <td>14089</td>\n",
       "      <td>1</td>\n",
       "      <td>17734</td>\n",
       "      <td>2.488821e+07</td>\n",
       "      <td>24.888210</td>\n",
       "      <td>712.546</td>\n",
       "      <td>0.000713</td>\n",
       "      <td>POLYGON ((13.10929 52.45063, 13.10956 52.45108...</td>\n",
       "    </tr>\n",
       "    <tr>\n",
       "      <th>2</th>\n",
       "      <td>13591</td>\n",
       "      <td>1</td>\n",
       "      <td>26762</td>\n",
       "      <td>8.988007e+06</td>\n",
       "      <td>8.988007</td>\n",
       "      <td>2977.523</td>\n",
       "      <td>0.002978</td>\n",
       "      <td>POLYGON ((13.11738 52.51706, 13.11811 52.52010...</td>\n",
       "    </tr>\n",
       "    <tr>\n",
       "      <th>3</th>\n",
       "      <td>13587</td>\n",
       "      <td>1</td>\n",
       "      <td>20108</td>\n",
       "      <td>1.747880e+07</td>\n",
       "      <td>17.478802</td>\n",
       "      <td>1150.422</td>\n",
       "      <td>0.001150</td>\n",
       "      <td>POLYGON ((13.12796 52.58313, 13.12934 52.58593...</td>\n",
       "    </tr>\n",
       "    <tr>\n",
       "      <th>4</th>\n",
       "      <td>13593</td>\n",
       "      <td>1</td>\n",
       "      <td>20238</td>\n",
       "      <td>4.561552e+06</td>\n",
       "      <td>4.561552</td>\n",
       "      <td>4436.647</td>\n",
       "      <td>0.004437</td>\n",
       "      <td>POLYGON ((13.14288 52.52181, 13.14306 52.52179...</td>\n",
       "    </tr>\n",
       "    <tr>\n",
       "      <th>...</th>\n",
       "      <td>...</td>\n",
       "      <td>...</td>\n",
       "      <td>...</td>\n",
       "      <td>...</td>\n",
       "      <td>...</td>\n",
       "      <td>...</td>\n",
       "      <td>...</td>\n",
       "      <td>...</td>\n",
       "    </tr>\n",
       "    <tr>\n",
       "      <th>193</th>\n",
       "      <td>12559</td>\n",
       "      <td>1</td>\n",
       "      <td>1</td>\n",
       "      <td>2.820620e+03</td>\n",
       "      <td>0.002821</td>\n",
       "      <td>354.532</td>\n",
       "      <td>0.000355</td>\n",
       "      <td>POLYGON ((13.58139 52.44185, 13.58151 52.44239...</td>\n",
       "    </tr>\n",
       "    <tr>\n",
       "      <th>194</th>\n",
       "      <td>12559</td>\n",
       "      <td>1</td>\n",
       "      <td>17643</td>\n",
       "      <td>3.761828e+07</td>\n",
       "      <td>37.618275</td>\n",
       "      <td>469.001</td>\n",
       "      <td>0.000469</td>\n",
       "      <td>POLYGON ((13.58177 52.44236, 13.58248 52.44299...</td>\n",
       "    </tr>\n",
       "    <tr>\n",
       "      <th>195</th>\n",
       "      <td>12627</td>\n",
       "      <td>1</td>\n",
       "      <td>35353</td>\n",
       "      <td>3.985389e+06</td>\n",
       "      <td>3.985389</td>\n",
       "      <td>8870.652</td>\n",
       "      <td>0.008871</td>\n",
       "      <td>POLYGON ((13.59131 52.53367, 13.59148 52.53485...</td>\n",
       "    </tr>\n",
       "    <tr>\n",
       "      <th>196</th>\n",
       "      <td>12587</td>\n",
       "      <td>1</td>\n",
       "      <td>17717</td>\n",
       "      <td>1.529608e+07</td>\n",
       "      <td>15.296081</td>\n",
       "      <td>1158.271</td>\n",
       "      <td>0.001158</td>\n",
       "      <td>POLYGON ((13.59408 52.45418, 13.59430 52.45452...</td>\n",
       "    </tr>\n",
       "    <tr>\n",
       "      <th>197</th>\n",
       "      <td>12589</td>\n",
       "      <td>1</td>\n",
       "      <td>9236</td>\n",
       "      <td>2.144565e+07</td>\n",
       "      <td>21.445649</td>\n",
       "      <td>430.670</td>\n",
       "      <td>0.000431</td>\n",
       "      <td>POLYGON ((13.65676 52.43742, 13.66248 52.44738...</td>\n",
       "    </tr>\n",
       "  </tbody>\n",
       "</table>\n",
       "<p>198 rows × 8 columns</p>\n",
       "</div>"
      ],
      "text/plain": [
       "       plz first_dig_plz  einwohner       area_m2   area_km2  einwohner_km2  \\\n",
       "0    14109             1      10049  2.522886e+07  25.228865        398.314   \n",
       "1    14089             1      17734  2.488821e+07  24.888210        712.546   \n",
       "2    13591             1      26762  8.988007e+06   8.988007       2977.523   \n",
       "3    13587             1      20108  1.747880e+07  17.478802       1150.422   \n",
       "4    13593             1      20238  4.561552e+06   4.561552       4436.647   \n",
       "..     ...           ...        ...           ...        ...            ...   \n",
       "193  12559             1          1  2.820620e+03   0.002821        354.532   \n",
       "194  12559             1      17643  3.761828e+07  37.618275        469.001   \n",
       "195  12627             1      35353  3.985389e+06   3.985389       8870.652   \n",
       "196  12587             1      17717  1.529608e+07  15.296081       1158.271   \n",
       "197  12589             1       9236  2.144565e+07  21.445649        430.670   \n",
       "\n",
       "     einwohner_m2                                           geometry  \n",
       "0        0.000398  POLYGON ((13.08835 52.41963, 13.09584 52.42198...  \n",
       "1        0.000713  POLYGON ((13.10929 52.45063, 13.10956 52.45108...  \n",
       "2        0.002978  POLYGON ((13.11738 52.51706, 13.11811 52.52010...  \n",
       "3        0.001150  POLYGON ((13.12796 52.58313, 13.12934 52.58593...  \n",
       "4        0.004437  POLYGON ((13.14288 52.52181, 13.14306 52.52179...  \n",
       "..            ...                                                ...  \n",
       "193      0.000355  POLYGON ((13.58139 52.44185, 13.58151 52.44239...  \n",
       "194      0.000469  POLYGON ((13.58177 52.44236, 13.58248 52.44299...  \n",
       "195      0.008871  POLYGON ((13.59131 52.53367, 13.59148 52.53485...  \n",
       "196      0.001158  POLYGON ((13.59408 52.45418, 13.59430 52.45452...  \n",
       "197      0.000431  POLYGON ((13.65676 52.43742, 13.66248 52.44738...  \n",
       "\n",
       "[198 rows x 8 columns]"
      ]
     },
     "execution_count": 9,
     "metadata": {},
     "output_type": "execute_result"
    }
   ],
   "source": [
    "df"
   ]
  },
  {
   "cell_type": "code",
   "execution_count": 10,
   "metadata": {},
   "outputs": [],
   "source": [
    "dfnew = df[df.plz == '14089']# & (df.plz == '13593')]#,'13595','13581','13591','13589','13587','12559','12527','12557'\n",
    "\n",
    "#14089, 13593, 13595, 13581, 13591, 13589, 13587, 12559, 12527, 12557, 13159"
   ]
  },
  {
   "cell_type": "code",
   "execution_count": 11,
   "metadata": {},
   "outputs": [
    {
     "data": {
      "text/html": [
       "<div>\n",
       "<style scoped>\n",
       "    .dataframe tbody tr th:only-of-type {\n",
       "        vertical-align: middle;\n",
       "    }\n",
       "\n",
       "    .dataframe tbody tr th {\n",
       "        vertical-align: top;\n",
       "    }\n",
       "\n",
       "    .dataframe thead th {\n",
       "        text-align: right;\n",
       "    }\n",
       "</style>\n",
       "<table border=\"1\" class=\"dataframe\">\n",
       "  <thead>\n",
       "    <tr style=\"text-align: right;\">\n",
       "      <th></th>\n",
       "      <th>plz</th>\n",
       "      <th>first_dig_plz</th>\n",
       "      <th>einwohner</th>\n",
       "      <th>area_m2</th>\n",
       "      <th>area_km2</th>\n",
       "      <th>einwohner_km2</th>\n",
       "      <th>einwohner_m2</th>\n",
       "      <th>geometry</th>\n",
       "    </tr>\n",
       "  </thead>\n",
       "  <tbody>\n",
       "    <tr>\n",
       "      <th>1</th>\n",
       "      <td>14089</td>\n",
       "      <td>1</td>\n",
       "      <td>17734</td>\n",
       "      <td>2.488821e+07</td>\n",
       "      <td>24.888210</td>\n",
       "      <td>712.546</td>\n",
       "      <td>0.000713</td>\n",
       "      <td>POLYGON ((13.10929 52.45063, 13.10956 52.45108...</td>\n",
       "    </tr>\n",
       "    <tr>\n",
       "      <th>4</th>\n",
       "      <td>13593</td>\n",
       "      <td>1</td>\n",
       "      <td>20238</td>\n",
       "      <td>4.561552e+06</td>\n",
       "      <td>4.561552</td>\n",
       "      <td>4436.647</td>\n",
       "      <td>0.004437</td>\n",
       "      <td>POLYGON ((13.14288 52.52181, 13.14306 52.52179...</td>\n",
       "    </tr>\n",
       "    <tr>\n",
       "      <th>9</th>\n",
       "      <td>13595</td>\n",
       "      <td>1</td>\n",
       "      <td>19966</td>\n",
       "      <td>5.294865e+06</td>\n",
       "      <td>5.294865</td>\n",
       "      <td>3770.823</td>\n",
       "      <td>0.003771</td>\n",
       "      <td>POLYGON ((13.17354 52.50851, 13.17399 52.50926...</td>\n",
       "    </tr>\n",
       "    <tr>\n",
       "      <th>6</th>\n",
       "      <td>13581</td>\n",
       "      <td>1</td>\n",
       "      <td>14355</td>\n",
       "      <td>3.942352e+06</td>\n",
       "      <td>3.942352</td>\n",
       "      <td>3641.227</td>\n",
       "      <td>0.003641</td>\n",
       "      <td>POLYGON ((13.15664 52.53667, 13.15679 52.53734...</td>\n",
       "    </tr>\n",
       "    <tr>\n",
       "      <th>2</th>\n",
       "      <td>13591</td>\n",
       "      <td>1</td>\n",
       "      <td>26762</td>\n",
       "      <td>8.988007e+06</td>\n",
       "      <td>8.988007</td>\n",
       "      <td>2977.523</td>\n",
       "      <td>0.002978</td>\n",
       "      <td>POLYGON ((13.11738 52.51706, 13.11811 52.52010...</td>\n",
       "    </tr>\n",
       "    <tr>\n",
       "      <th>5</th>\n",
       "      <td>13589</td>\n",
       "      <td>1</td>\n",
       "      <td>21103</td>\n",
       "      <td>6.903208e+06</td>\n",
       "      <td>6.903208</td>\n",
       "      <td>3056.984</td>\n",
       "      <td>0.003057</td>\n",
       "      <td>POLYGON ((13.14345 52.55039, 13.14350 52.55090...</td>\n",
       "    </tr>\n",
       "    <tr>\n",
       "      <th>3</th>\n",
       "      <td>13587</td>\n",
       "      <td>1</td>\n",
       "      <td>20108</td>\n",
       "      <td>1.747880e+07</td>\n",
       "      <td>17.478802</td>\n",
       "      <td>1150.422</td>\n",
       "      <td>0.001150</td>\n",
       "      <td>POLYGON ((13.12796 52.58313, 13.12934 52.58593...</td>\n",
       "    </tr>\n",
       "    <tr>\n",
       "      <th>193</th>\n",
       "      <td>12559</td>\n",
       "      <td>1</td>\n",
       "      <td>1</td>\n",
       "      <td>2.820620e+03</td>\n",
       "      <td>0.002821</td>\n",
       "      <td>354.532</td>\n",
       "      <td>0.000355</td>\n",
       "      <td>POLYGON ((13.58139 52.44185, 13.58151 52.44239...</td>\n",
       "    </tr>\n",
       "    <tr>\n",
       "      <th>194</th>\n",
       "      <td>12559</td>\n",
       "      <td>1</td>\n",
       "      <td>17643</td>\n",
       "      <td>3.761828e+07</td>\n",
       "      <td>37.618275</td>\n",
       "      <td>469.001</td>\n",
       "      <td>0.000469</td>\n",
       "      <td>POLYGON ((13.58177 52.44236, 13.58248 52.44299...</td>\n",
       "    </tr>\n",
       "    <tr>\n",
       "      <th>186</th>\n",
       "      <td>12527</td>\n",
       "      <td>1</td>\n",
       "      <td>9425</td>\n",
       "      <td>2.620787e+07</td>\n",
       "      <td>26.207873</td>\n",
       "      <td>359.625</td>\n",
       "      <td>0.000360</td>\n",
       "      <td>POLYGON ((13.55431 52.42579, 13.55542 52.42590...</td>\n",
       "    </tr>\n",
       "    <tr>\n",
       "      <th>187</th>\n",
       "      <td>12557</td>\n",
       "      <td>1</td>\n",
       "      <td>21494</td>\n",
       "      <td>8.095616e+06</td>\n",
       "      <td>8.095616</td>\n",
       "      <td>2655.017</td>\n",
       "      <td>0.002655</td>\n",
       "      <td>POLYGON ((13.55915 52.44178, 13.56040 52.44222...</td>\n",
       "    </tr>\n",
       "    <tr>\n",
       "      <th>102</th>\n",
       "      <td>13159</td>\n",
       "      <td>1</td>\n",
       "      <td>1762</td>\n",
       "      <td>1.093987e+07</td>\n",
       "      <td>10.939874</td>\n",
       "      <td>161.062</td>\n",
       "      <td>0.000161</td>\n",
       "      <td>POLYGON ((13.36691 52.62544, 13.36697 52.62547...</td>\n",
       "    </tr>\n",
       "  </tbody>\n",
       "</table>\n",
       "</div>"
      ],
      "text/plain": [
       "       plz first_dig_plz  einwohner       area_m2   area_km2  einwohner_km2  \\\n",
       "1    14089             1      17734  2.488821e+07  24.888210        712.546   \n",
       "4    13593             1      20238  4.561552e+06   4.561552       4436.647   \n",
       "9    13595             1      19966  5.294865e+06   5.294865       3770.823   \n",
       "6    13581             1      14355  3.942352e+06   3.942352       3641.227   \n",
       "2    13591             1      26762  8.988007e+06   8.988007       2977.523   \n",
       "5    13589             1      21103  6.903208e+06   6.903208       3056.984   \n",
       "3    13587             1      20108  1.747880e+07  17.478802       1150.422   \n",
       "193  12559             1          1  2.820620e+03   0.002821        354.532   \n",
       "194  12559             1      17643  3.761828e+07  37.618275        469.001   \n",
       "186  12527             1       9425  2.620787e+07  26.207873        359.625   \n",
       "187  12557             1      21494  8.095616e+06   8.095616       2655.017   \n",
       "102  13159             1       1762  1.093987e+07  10.939874        161.062   \n",
       "\n",
       "     einwohner_m2                                           geometry  \n",
       "1        0.000713  POLYGON ((13.10929 52.45063, 13.10956 52.45108...  \n",
       "4        0.004437  POLYGON ((13.14288 52.52181, 13.14306 52.52179...  \n",
       "9        0.003771  POLYGON ((13.17354 52.50851, 13.17399 52.50926...  \n",
       "6        0.003641  POLYGON ((13.15664 52.53667, 13.15679 52.53734...  \n",
       "2        0.002978  POLYGON ((13.11738 52.51706, 13.11811 52.52010...  \n",
       "5        0.003057  POLYGON ((13.14345 52.55039, 13.14350 52.55090...  \n",
       "3        0.001150  POLYGON ((13.12796 52.58313, 13.12934 52.58593...  \n",
       "193      0.000355  POLYGON ((13.58139 52.44185, 13.58151 52.44239...  \n",
       "194      0.000469  POLYGON ((13.58177 52.44236, 13.58248 52.44299...  \n",
       "186      0.000360  POLYGON ((13.55431 52.42579, 13.55542 52.42590...  \n",
       "187      0.002655  POLYGON ((13.55915 52.44178, 13.56040 52.44222...  \n",
       "102      0.000161  POLYGON ((13.36691 52.62544, 13.36697 52.62547...  "
      ]
     },
     "execution_count": 11,
     "metadata": {},
     "output_type": "execute_result"
    }
   ],
   "source": [
    "dfnew = dfnew.append(df[df.plz == '13593'])\n",
    "dfnew = dfnew.append(df[df.plz == '13595'])\n",
    "dfnew = dfnew.append(df[df.plz == '13581'])\n",
    "dfnew = dfnew.append(df[df.plz == '13591'])\n",
    "dfnew = dfnew.append(df[df.plz == '13589'])\n",
    "dfnew = dfnew.append(df[df.plz == '13587'])\n",
    "dfnew = dfnew.append(df[df.plz == '12559'])\n",
    "dfnew = dfnew.append(df[df.plz == '12527'])\n",
    "dfnew = dfnew.append(df[df.plz == '12557'])\n",
    "dfnew = dfnew.append(df[df.plz == '13159'])\n",
    "dfnew"
   ]
  },
  {
   "cell_type": "code",
   "execution_count": 16,
   "metadata": {},
   "outputs": [],
   "source": [
    "dfnew.to_file('../results/berlin-plz-whitespots.geojson',driver='GeoJSON')"
   ]
  },
  {
   "cell_type": "code",
   "execution_count": 17,
   "metadata": {},
   "outputs": [],
   "source": [
    "# making boolean series for a team name \n",
    "#filter1 = df['plz'] == '14089'\n",
    "#filter2 = df['plz'] == '13593'\n",
    "  \n",
    "# making boolean series for age \n",
    "#dfnew = df\n",
    "  \n",
    "# filtering data on basis of both filters \n",
    "#dfnew = df.where(filter1 & filter2)\n",
    "#dfnew"
   ]
  },
  {
   "cell_type": "code",
   "execution_count": 18,
   "metadata": {},
   "outputs": [],
   "source": [
    "#dfnew = df\n",
    "#dfnew.set_index(\"plz\", inplace=True)\n",
    "#print(df.loc['13593'])\n",
    "\n",
    "#op = df.loc[(df['plz'] == 13593)]\n",
    "#print(op)"
   ]
  },
  {
   "cell_type": "code",
   "execution_count": 19,
   "metadata": {},
   "outputs": [],
   "source": [
    "#dfnew"
   ]
  },
  {
   "cell_type": "code",
   "execution_count": 20,
   "metadata": {},
   "outputs": [],
   "source": [
    "df_poly = gp.read_file(\"../results/berlin-plz-whitespots.geojson\")"
   ]
  },
  {
   "cell_type": "code",
   "execution_count": 21,
   "metadata": {},
   "outputs": [],
   "source": [
    "# Opening JSON file \n",
    "f = open('../results/isochrones-all-15.geojson',) \n",
    "  \n",
    "# returns JSON object as  \n",
    "# a dictionary \n",
    "data = json.load(f) \n",
    "  "
   ]
  },
  {
   "cell_type": "code",
   "execution_count": 22,
   "metadata": {},
   "outputs": [],
   "source": [
    "#new = data['features'][6]"
   ]
  },
  {
   "cell_type": "code",
   "execution_count": 23,
   "metadata": {},
   "outputs": [],
   "source": [
    "#new['geometry']['coordinates'][0]"
   ]
  },
  {
   "cell_type": "code",
   "execution_count": 24,
   "metadata": {},
   "outputs": [],
   "source": [
    "#print(float(data['features'][0]['geometry']['coordinates'][0]))\n",
    "#print(float(data['features'][0]['geometry']['coordinates'][1]))"
   ]
  },
  {
   "cell_type": "code",
   "execution_count": 25,
   "metadata": {},
   "outputs": [],
   "source": [
    "#\n",
    "#for i in range(len(data['features'])):\n",
    "    #print(data['features'][i])\n",
    "#    Point(float(data['features'][i]['geometry']['coordinates'][0]),float(data['features'][i]['geometry']['coordinates'][1]))\n",
    "    #print(float(data['features'][i]['geometry']['coordinates'][0]))\n",
    "    #print(float(data['features'][i]['geometry']['coordinates'][1]))"
   ]
  },
  {
   "cell_type": "code",
   "execution_count": null,
   "metadata": {},
   "outputs": [],
   "source": []
  },
  {
   "cell_type": "code",
   "execution_count": 26,
   "metadata": {},
   "outputs": [],
   "source": [
    "#df_points_helper = gp.read_file(\"../results/isochrones-drive-15.geojson\",driver='GeoJSON')\n",
    "df_points = gp.read_file(\"../results/isochrones-all-15.geojson\",driver='GeoJSON')\n",
    "df_points_helper = gp.read_file(\"../results/sample-points.geojson\",driver='GeoJSON')\n",
    "#df_points = pd.read_json(\"../results/isochrones-bus-15.geojson\", orient='values')\n",
    "#data = json.loads(\"../results/isochrones-bus-15.geojson\")\n",
    "df_points['geometry'] = df_points_helper['geometry']\n",
    "\n"
   ]
  },
  {
   "cell_type": "code",
   "execution_count": 27,
   "metadata": {},
   "outputs": [
    {
     "data": {
      "text/plain": [
       "10000"
      ]
     },
     "execution_count": 27,
     "metadata": {},
     "output_type": "execute_result"
    }
   ],
   "source": [
    "len(df_points['geometry'])"
   ]
  },
  {
   "cell_type": "code",
   "execution_count": 28,
   "metadata": {},
   "outputs": [
    {
     "data": {
      "text/plain": [
       "10000"
      ]
     },
     "execution_count": 28,
     "metadata": {},
     "output_type": "execute_result"
    }
   ],
   "source": [
    "len(df_points_helper['geometry'])"
   ]
  },
  {
   "cell_type": "code",
   "execution_count": 29,
   "metadata": {},
   "outputs": [
    {
     "data": {
      "text/html": [
       "<div>\n",
       "<style scoped>\n",
       "    .dataframe tbody tr th:only-of-type {\n",
       "        vertical-align: middle;\n",
       "    }\n",
       "\n",
       "    .dataframe tbody tr th {\n",
       "        vertical-align: top;\n",
       "    }\n",
       "\n",
       "    .dataframe thead th {\n",
       "        text-align: right;\n",
       "    }\n",
       "</style>\n",
       "<table border=\"1\" class=\"dataframe\">\n",
       "  <thead>\n",
       "    <tr style=\"text-align: right;\">\n",
       "      <th></th>\n",
       "      <th>max_spatial_distance_15min</th>\n",
       "      <th>mean_spatial_distance_15min</th>\n",
       "      <th>median_spatial_distance_15min</th>\n",
       "      <th>min_spatial_distance_15min</th>\n",
       "      <th>geometry</th>\n",
       "    </tr>\n",
       "  </thead>\n",
       "  <tbody>\n",
       "    <tr>\n",
       "      <th>0</th>\n",
       "      <td>4127.491167</td>\n",
       "      <td>3522.822971</td>\n",
       "      <td>3506.772727</td>\n",
       "      <td>2858.656213</td>\n",
       "      <td>POINT (13.40766 52.39305)</td>\n",
       "    </tr>\n",
       "    <tr>\n",
       "      <th>1</th>\n",
       "      <td>3262.028274</td>\n",
       "      <td>2850.713788</td>\n",
       "      <td>2814.454337</td>\n",
       "      <td>2307.601951</td>\n",
       "      <td>POINT (13.29389 52.62069)</td>\n",
       "    </tr>\n",
       "    <tr>\n",
       "      <th>2</th>\n",
       "      <td>3462.946762</td>\n",
       "      <td>2944.289695</td>\n",
       "      <td>3035.600888</td>\n",
       "      <td>2369.720032</td>\n",
       "      <td>POINT (13.55983 52.39874)</td>\n",
       "    </tr>\n",
       "    <tr>\n",
       "      <th>3</th>\n",
       "      <td>5436.461779</td>\n",
       "      <td>4457.479723</td>\n",
       "      <td>4503.619726</td>\n",
       "      <td>3339.721516</td>\n",
       "      <td>POINT (13.32518 52.48467)</td>\n",
       "    </tr>\n",
       "    <tr>\n",
       "      <th>4</th>\n",
       "      <td>1371.635107</td>\n",
       "      <td>1147.815859</td>\n",
       "      <td>1192.101357</td>\n",
       "      <td>861.801493</td>\n",
       "      <td>POINT (13.46647 52.66642)</td>\n",
       "    </tr>\n",
       "    <tr>\n",
       "      <th>...</th>\n",
       "      <td>...</td>\n",
       "      <td>...</td>\n",
       "      <td>...</td>\n",
       "      <td>...</td>\n",
       "      <td>...</td>\n",
       "    </tr>\n",
       "    <tr>\n",
       "      <th>9995</th>\n",
       "      <td>4640.791243</td>\n",
       "      <td>3652.745672</td>\n",
       "      <td>3620.155120</td>\n",
       "      <td>2004.019855</td>\n",
       "      <td>POINT (13.26623 52.51403)</td>\n",
       "    </tr>\n",
       "    <tr>\n",
       "      <th>9996</th>\n",
       "      <td>6399.635543</td>\n",
       "      <td>5117.285188</td>\n",
       "      <td>4837.317981</td>\n",
       "      <td>3384.127667</td>\n",
       "      <td>POINT (13.33180 52.46694)</td>\n",
       "    </tr>\n",
       "    <tr>\n",
       "      <th>9997</th>\n",
       "      <td>8294.163576</td>\n",
       "      <td>5176.036634</td>\n",
       "      <td>4616.139931</td>\n",
       "      <td>3249.039818</td>\n",
       "      <td>POINT (13.59042 52.51521)</td>\n",
       "    </tr>\n",
       "    <tr>\n",
       "      <th>9998</th>\n",
       "      <td>4094.889279</td>\n",
       "      <td>3069.446486</td>\n",
       "      <td>3200.077663</td>\n",
       "      <td>1819.202288</td>\n",
       "      <td>POINT (13.39571 52.44361)</td>\n",
       "    </tr>\n",
       "    <tr>\n",
       "      <th>9999</th>\n",
       "      <td>3089.350275</td>\n",
       "      <td>2693.747930</td>\n",
       "      <td>2727.824224</td>\n",
       "      <td>1593.610090</td>\n",
       "      <td>POINT (13.23582 52.54467)</td>\n",
       "    </tr>\n",
       "  </tbody>\n",
       "</table>\n",
       "<p>10000 rows × 5 columns</p>\n",
       "</div>"
      ],
      "text/plain": [
       "      max_spatial_distance_15min  mean_spatial_distance_15min  \\\n",
       "0                    4127.491167                  3522.822971   \n",
       "1                    3262.028274                  2850.713788   \n",
       "2                    3462.946762                  2944.289695   \n",
       "3                    5436.461779                  4457.479723   \n",
       "4                    1371.635107                  1147.815859   \n",
       "...                          ...                          ...   \n",
       "9995                 4640.791243                  3652.745672   \n",
       "9996                 6399.635543                  5117.285188   \n",
       "9997                 8294.163576                  5176.036634   \n",
       "9998                 4094.889279                  3069.446486   \n",
       "9999                 3089.350275                  2693.747930   \n",
       "\n",
       "      median_spatial_distance_15min  min_spatial_distance_15min  \\\n",
       "0                       3506.772727                 2858.656213   \n",
       "1                       2814.454337                 2307.601951   \n",
       "2                       3035.600888                 2369.720032   \n",
       "3                       4503.619726                 3339.721516   \n",
       "4                       1192.101357                  861.801493   \n",
       "...                             ...                         ...   \n",
       "9995                    3620.155120                 2004.019855   \n",
       "9996                    4837.317981                 3384.127667   \n",
       "9997                    4616.139931                 3249.039818   \n",
       "9998                    3200.077663                 1819.202288   \n",
       "9999                    2727.824224                 1593.610090   \n",
       "\n",
       "                       geometry  \n",
       "0     POINT (13.40766 52.39305)  \n",
       "1     POINT (13.29389 52.62069)  \n",
       "2     POINT (13.55983 52.39874)  \n",
       "3     POINT (13.32518 52.48467)  \n",
       "4     POINT (13.46647 52.66642)  \n",
       "...                         ...  \n",
       "9995  POINT (13.26623 52.51403)  \n",
       "9996  POINT (13.33180 52.46694)  \n",
       "9997  POINT (13.59042 52.51521)  \n",
       "9998  POINT (13.39571 52.44361)  \n",
       "9999  POINT (13.23582 52.54467)  \n",
       "\n",
       "[10000 rows x 5 columns]"
      ]
     },
     "execution_count": 29,
     "metadata": {},
     "output_type": "execute_result"
    }
   ],
   "source": [
    "df_points"
   ]
  },
  {
   "cell_type": "code",
   "execution_count": 30,
   "metadata": {},
   "outputs": [
    {
     "data": {
      "text/html": [
       "<div>\n",
       "<style scoped>\n",
       "    .dataframe tbody tr th:only-of-type {\n",
       "        vertical-align: middle;\n",
       "    }\n",
       "\n",
       "    .dataframe tbody tr th {\n",
       "        vertical-align: top;\n",
       "    }\n",
       "\n",
       "    .dataframe thead th {\n",
       "        text-align: right;\n",
       "    }\n",
       "</style>\n",
       "<table border=\"1\" class=\"dataframe\">\n",
       "  <thead>\n",
       "    <tr style=\"text-align: right;\">\n",
       "      <th></th>\n",
       "      <th>max_spatial_distance_15min</th>\n",
       "      <th>mean_spatial_distance_15min</th>\n",
       "      <th>median_spatial_distance_15min</th>\n",
       "      <th>min_spatial_distance_15min</th>\n",
       "      <th>geometry</th>\n",
       "    </tr>\n",
       "  </thead>\n",
       "  <tbody>\n",
       "    <tr>\n",
       "      <th>0</th>\n",
       "      <td>4127.491167</td>\n",
       "      <td>3522.822971</td>\n",
       "      <td>3506.772727</td>\n",
       "      <td>2858.656213</td>\n",
       "      <td>POINT (13.40766 52.39305)</td>\n",
       "    </tr>\n",
       "    <tr>\n",
       "      <th>1</th>\n",
       "      <td>3262.028274</td>\n",
       "      <td>2850.713788</td>\n",
       "      <td>2814.454337</td>\n",
       "      <td>2307.601951</td>\n",
       "      <td>POINT (13.29389 52.62069)</td>\n",
       "    </tr>\n",
       "    <tr>\n",
       "      <th>2</th>\n",
       "      <td>3462.946762</td>\n",
       "      <td>2944.289695</td>\n",
       "      <td>3035.600888</td>\n",
       "      <td>2369.720032</td>\n",
       "      <td>POINT (13.55983 52.39874)</td>\n",
       "    </tr>\n",
       "    <tr>\n",
       "      <th>3</th>\n",
       "      <td>5436.461779</td>\n",
       "      <td>4457.479723</td>\n",
       "      <td>4503.619726</td>\n",
       "      <td>3339.721516</td>\n",
       "      <td>POINT (13.32518 52.48467)</td>\n",
       "    </tr>\n",
       "    <tr>\n",
       "      <th>4</th>\n",
       "      <td>1371.635107</td>\n",
       "      <td>1147.815859</td>\n",
       "      <td>1192.101357</td>\n",
       "      <td>861.801493</td>\n",
       "      <td>POINT (13.46647 52.66642)</td>\n",
       "    </tr>\n",
       "    <tr>\n",
       "      <th>...</th>\n",
       "      <td>...</td>\n",
       "      <td>...</td>\n",
       "      <td>...</td>\n",
       "      <td>...</td>\n",
       "      <td>...</td>\n",
       "    </tr>\n",
       "    <tr>\n",
       "      <th>9995</th>\n",
       "      <td>4640.791243</td>\n",
       "      <td>3652.745672</td>\n",
       "      <td>3620.155120</td>\n",
       "      <td>2004.019855</td>\n",
       "      <td>POINT (13.26623 52.51403)</td>\n",
       "    </tr>\n",
       "    <tr>\n",
       "      <th>9996</th>\n",
       "      <td>6399.635543</td>\n",
       "      <td>5117.285188</td>\n",
       "      <td>4837.317981</td>\n",
       "      <td>3384.127667</td>\n",
       "      <td>POINT (13.33180 52.46694)</td>\n",
       "    </tr>\n",
       "    <tr>\n",
       "      <th>9997</th>\n",
       "      <td>8294.163576</td>\n",
       "      <td>5176.036634</td>\n",
       "      <td>4616.139931</td>\n",
       "      <td>3249.039818</td>\n",
       "      <td>POINT (13.59042 52.51521)</td>\n",
       "    </tr>\n",
       "    <tr>\n",
       "      <th>9998</th>\n",
       "      <td>4094.889279</td>\n",
       "      <td>3069.446486</td>\n",
       "      <td>3200.077663</td>\n",
       "      <td>1819.202288</td>\n",
       "      <td>POINT (13.39571 52.44361)</td>\n",
       "    </tr>\n",
       "    <tr>\n",
       "      <th>9999</th>\n",
       "      <td>3089.350275</td>\n",
       "      <td>2693.747930</td>\n",
       "      <td>2727.824224</td>\n",
       "      <td>1593.610090</td>\n",
       "      <td>POINT (13.23582 52.54467)</td>\n",
       "    </tr>\n",
       "  </tbody>\n",
       "</table>\n",
       "<p>10000 rows × 5 columns</p>\n",
       "</div>"
      ],
      "text/plain": [
       "      max_spatial_distance_15min  mean_spatial_distance_15min  \\\n",
       "0                    4127.491167                  3522.822971   \n",
       "1                    3262.028274                  2850.713788   \n",
       "2                    3462.946762                  2944.289695   \n",
       "3                    5436.461779                  4457.479723   \n",
       "4                    1371.635107                  1147.815859   \n",
       "...                          ...                          ...   \n",
       "9995                 4640.791243                  3652.745672   \n",
       "9996                 6399.635543                  5117.285188   \n",
       "9997                 8294.163576                  5176.036634   \n",
       "9998                 4094.889279                  3069.446486   \n",
       "9999                 3089.350275                  2693.747930   \n",
       "\n",
       "      median_spatial_distance_15min  min_spatial_distance_15min  \\\n",
       "0                       3506.772727                 2858.656213   \n",
       "1                       2814.454337                 2307.601951   \n",
       "2                       3035.600888                 2369.720032   \n",
       "3                       4503.619726                 3339.721516   \n",
       "4                       1192.101357                  861.801493   \n",
       "...                             ...                         ...   \n",
       "9995                    3620.155120                 2004.019855   \n",
       "9996                    4837.317981                 3384.127667   \n",
       "9997                    4616.139931                 3249.039818   \n",
       "9998                    3200.077663                 1819.202288   \n",
       "9999                    2727.824224                 1593.610090   \n",
       "\n",
       "                       geometry  \n",
       "0     POINT (13.40766 52.39305)  \n",
       "1     POINT (13.29389 52.62069)  \n",
       "2     POINT (13.55983 52.39874)  \n",
       "3     POINT (13.32518 52.48467)  \n",
       "4     POINT (13.46647 52.66642)  \n",
       "...                         ...  \n",
       "9995  POINT (13.26623 52.51403)  \n",
       "9996  POINT (13.33180 52.46694)  \n",
       "9997  POINT (13.59042 52.51521)  \n",
       "9998  POINT (13.39571 52.44361)  \n",
       "9999  POINT (13.23582 52.54467)  \n",
       "\n",
       "[10000 rows x 5 columns]"
      ]
     },
     "execution_count": 30,
     "metadata": {},
     "output_type": "execute_result"
    }
   ],
   "source": [
    "df_points"
   ]
  },
  {
   "cell_type": "code",
   "execution_count": 31,
   "metadata": {},
   "outputs": [
    {
     "data": {
      "text/html": [
       "<div>\n",
       "<style scoped>\n",
       "    .dataframe tbody tr th:only-of-type {\n",
       "        vertical-align: middle;\n",
       "    }\n",
       "\n",
       "    .dataframe tbody tr th {\n",
       "        vertical-align: top;\n",
       "    }\n",
       "\n",
       "    .dataframe thead th {\n",
       "        text-align: right;\n",
       "    }\n",
       "</style>\n",
       "<table border=\"1\" class=\"dataframe\">\n",
       "  <thead>\n",
       "    <tr style=\"text-align: right;\">\n",
       "      <th></th>\n",
       "      <th>max_spatial_distance_15min</th>\n",
       "      <th>mean_spatial_distance_15min</th>\n",
       "      <th>median_spatial_distance_15min</th>\n",
       "      <th>min_spatial_distance_15min</th>\n",
       "      <th>geometry</th>\n",
       "      <th>whitespot_plz</th>\n",
       "    </tr>\n",
       "  </thead>\n",
       "  <tbody>\n",
       "    <tr>\n",
       "      <th>0</th>\n",
       "      <td>4127.491167</td>\n",
       "      <td>3522.822971</td>\n",
       "      <td>3506.772727</td>\n",
       "      <td>2858.656213</td>\n",
       "      <td>POINT (13.40766 52.39305)</td>\n",
       "      <td>False</td>\n",
       "    </tr>\n",
       "    <tr>\n",
       "      <th>1</th>\n",
       "      <td>3262.028274</td>\n",
       "      <td>2850.713788</td>\n",
       "      <td>2814.454337</td>\n",
       "      <td>2307.601951</td>\n",
       "      <td>POINT (13.29389 52.62069)</td>\n",
       "      <td>False</td>\n",
       "    </tr>\n",
       "    <tr>\n",
       "      <th>2</th>\n",
       "      <td>3462.946762</td>\n",
       "      <td>2944.289695</td>\n",
       "      <td>3035.600888</td>\n",
       "      <td>2369.720032</td>\n",
       "      <td>POINT (13.55983 52.39874)</td>\n",
       "      <td>False</td>\n",
       "    </tr>\n",
       "    <tr>\n",
       "      <th>3</th>\n",
       "      <td>5436.461779</td>\n",
       "      <td>4457.479723</td>\n",
       "      <td>4503.619726</td>\n",
       "      <td>3339.721516</td>\n",
       "      <td>POINT (13.32518 52.48467)</td>\n",
       "      <td>False</td>\n",
       "    </tr>\n",
       "    <tr>\n",
       "      <th>4</th>\n",
       "      <td>1371.635107</td>\n",
       "      <td>1147.815859</td>\n",
       "      <td>1192.101357</td>\n",
       "      <td>861.801493</td>\n",
       "      <td>POINT (13.46647 52.66642)</td>\n",
       "      <td>False</td>\n",
       "    </tr>\n",
       "    <tr>\n",
       "      <th>...</th>\n",
       "      <td>...</td>\n",
       "      <td>...</td>\n",
       "      <td>...</td>\n",
       "      <td>...</td>\n",
       "      <td>...</td>\n",
       "      <td>...</td>\n",
       "    </tr>\n",
       "    <tr>\n",
       "      <th>9995</th>\n",
       "      <td>4640.791243</td>\n",
       "      <td>3652.745672</td>\n",
       "      <td>3620.155120</td>\n",
       "      <td>2004.019855</td>\n",
       "      <td>POINT (13.26623 52.51403)</td>\n",
       "      <td>False</td>\n",
       "    </tr>\n",
       "    <tr>\n",
       "      <th>9996</th>\n",
       "      <td>6399.635543</td>\n",
       "      <td>5117.285188</td>\n",
       "      <td>4837.317981</td>\n",
       "      <td>3384.127667</td>\n",
       "      <td>POINT (13.33180 52.46694)</td>\n",
       "      <td>False</td>\n",
       "    </tr>\n",
       "    <tr>\n",
       "      <th>9997</th>\n",
       "      <td>8294.163576</td>\n",
       "      <td>5176.036634</td>\n",
       "      <td>4616.139931</td>\n",
       "      <td>3249.039818</td>\n",
       "      <td>POINT (13.59042 52.51521)</td>\n",
       "      <td>False</td>\n",
       "    </tr>\n",
       "    <tr>\n",
       "      <th>9998</th>\n",
       "      <td>4094.889279</td>\n",
       "      <td>3069.446486</td>\n",
       "      <td>3200.077663</td>\n",
       "      <td>1819.202288</td>\n",
       "      <td>POINT (13.39571 52.44361)</td>\n",
       "      <td>False</td>\n",
       "    </tr>\n",
       "    <tr>\n",
       "      <th>9999</th>\n",
       "      <td>3089.350275</td>\n",
       "      <td>2693.747930</td>\n",
       "      <td>2727.824224</td>\n",
       "      <td>1593.610090</td>\n",
       "      <td>POINT (13.23582 52.54467)</td>\n",
       "      <td>False</td>\n",
       "    </tr>\n",
       "  </tbody>\n",
       "</table>\n",
       "<p>10000 rows × 6 columns</p>\n",
       "</div>"
      ],
      "text/plain": [
       "      max_spatial_distance_15min  mean_spatial_distance_15min  \\\n",
       "0                    4127.491167                  3522.822971   \n",
       "1                    3262.028274                  2850.713788   \n",
       "2                    3462.946762                  2944.289695   \n",
       "3                    5436.461779                  4457.479723   \n",
       "4                    1371.635107                  1147.815859   \n",
       "...                          ...                          ...   \n",
       "9995                 4640.791243                  3652.745672   \n",
       "9996                 6399.635543                  5117.285188   \n",
       "9997                 8294.163576                  5176.036634   \n",
       "9998                 4094.889279                  3069.446486   \n",
       "9999                 3089.350275                  2693.747930   \n",
       "\n",
       "      median_spatial_distance_15min  min_spatial_distance_15min  \\\n",
       "0                       3506.772727                 2858.656213   \n",
       "1                       2814.454337                 2307.601951   \n",
       "2                       3035.600888                 2369.720032   \n",
       "3                       4503.619726                 3339.721516   \n",
       "4                       1192.101357                  861.801493   \n",
       "...                             ...                         ...   \n",
       "9995                    3620.155120                 2004.019855   \n",
       "9996                    4837.317981                 3384.127667   \n",
       "9997                    4616.139931                 3249.039818   \n",
       "9998                    3200.077663                 1819.202288   \n",
       "9999                    2727.824224                 1593.610090   \n",
       "\n",
       "                       geometry  whitespot_plz  \n",
       "0     POINT (13.40766 52.39305)          False  \n",
       "1     POINT (13.29389 52.62069)          False  \n",
       "2     POINT (13.55983 52.39874)          False  \n",
       "3     POINT (13.32518 52.48467)          False  \n",
       "4     POINT (13.46647 52.66642)          False  \n",
       "...                         ...            ...  \n",
       "9995  POINT (13.26623 52.51403)          False  \n",
       "9996  POINT (13.33180 52.46694)          False  \n",
       "9997  POINT (13.59042 52.51521)          False  \n",
       "9998  POINT (13.39571 52.44361)          False  \n",
       "9999  POINT (13.23582 52.54467)          False  \n",
       "\n",
       "[10000 rows x 6 columns]"
      ]
     },
     "execution_count": 31,
     "metadata": {},
     "output_type": "execute_result"
    }
   ],
   "source": [
    "df_points['whitespot_plz'] = False\n",
    "df_points"
   ]
  },
  {
   "cell_type": "code",
   "execution_count": 35,
   "metadata": {},
   "outputs": [
    {
     "data": {
      "text/plain": [
       "False"
      ]
     },
     "execution_count": 35,
     "metadata": {},
     "output_type": "execute_result"
    }
   ],
   "source": [
    "if_point_inpolygon(df_poly.geometry[0], df_points.geometry[3])"
   ]
  },
  {
   "cell_type": "markdown",
   "metadata": {},
   "source": [
    "## Function to calculate from the sum of the mean from isochrone analysis"
   ]
  },
  {
   "cell_type": "code",
   "execution_count": 88,
   "metadata": {},
   "outputs": [],
   "source": [
    "import statistics\n",
    "\n",
    "def add_mean_spatial_to_plz_whitespot(postal_poly,dataname):\n",
    "    # drive\n",
    "    df_points = gp.read_file(\"../results/isochrones-\"+str(dataname)+\"-15.geojson\",driver='GeoJSON')\n",
    "    df_points_helper = gp.read_file(\"../results/sample-points.geojson\",driver='GeoJSON')\n",
    "    #df_points = pd.read_json(\"../results/isochrones-bus-15.geojson\", orient='values')\n",
    "    #data = json.loads(\"../results/isochrones-bus-15.geojson\")\n",
    "    df_points['geometry'] = df_points_helper['geometry']\n",
    "    \n",
    "    postal_poly['mean_spatial_distance_15min'] = 0.0\n",
    "    postal_poly['median_spatial_distance_15min']= 0.0\n",
    "    postal_poly['max_spatial_distance_15min']= 0.0\n",
    "    postal_poly['min_spatial_distance_15min']= 0.0\n",
    "    postal_poly['q5_spatial_distance_15min']= 0.0\n",
    "    postal_poly['q10_spatial_distance_15min']= 0.0\n",
    "    postal_poly['q15_spatial_distance_15min']= 0.0\n",
    "    postal_poly['q25_spatial_distance_15min']= 0.0\n",
    "    postal_poly['q50_spatial_distance_15min']= 0.0\n",
    "    postal_poly['q75_spatial_distance_15min']= 0.0\n",
    "    postal_poly['q95_spatial_distance_15min']= 0.0\n",
    "    postal_poly['q99_spatial_distance_15min']= 0.0\n",
    "    measureY = pd.DataFrame()\n",
    "    measureY['summe'] = 0.0\n",
    "    #mean_count = []\n",
    "    #print(postal_poly)\n",
    "    for i in range(len(postal_poly)):\n",
    "        mean_count = []\n",
    "        measureX = []\n",
    "        for j in range(len(df_points)):\n",
    "            if if_point_inpolygon(postal_poly.geometry[i], df_points.geometry[j]):\n",
    "                mean_count.append(df_points.mean_spatial_distance_15min[j])\n",
    "                #print(mean_count)\n",
    "        #measureY['summe'][i] = statistics.mean(mean_count)\n",
    "        #measureY['summe'][i] = float(sum(mean_count))\n",
    "        #measureX.append(sum(mean_count))\n",
    "        #measureY.append(float(sum(mean_count)))\n",
    "        #print(statistics.mean(measureX))\n",
    "        #print(measureY)\n",
    "        #print(\"TEST: \"+str(sum(mean_count)+\" -- COUNT i: \"+str(i)))\n",
    "        \"\"\"\n",
    "        postal_poly['mean_spatial_distance_15min'][i] = measure.mean()\n",
    "        postal_poly['median_spatial_distance_15min'][i] = measure.median()\n",
    "        postal_poly['max_spatial_distance_15min'][i] = measure.max()\n",
    "        postal_poly['min_spatial_distance_15min'][i] = measure.min()\n",
    "        postal_poly['q5_spatial_distance_15min'][i] = measure.quantile(q=0.05)\n",
    "        postal_poly['q10_spatial_distance_15min'][i] = measure.quantile(q=0.1)\n",
    "        postal_poly['q15_spatial_distance_15min'][i] = measure.quantile(q=0.15)\n",
    "        postal_poly['q25_spatial_distance_15min'][i] = measure.quantile(q=0.25)\n",
    "        postal_poly['q50_spatial_distance_15min'][i] = measure.quantile(q=0.50)\n",
    "        postal_poly['q75_spatial_distance_15min'][i] = measure.quantile(q=0.75)\n",
    "        postal_poly['q95_spatial_distance_15min'][i] = measure.quantile(q=0.95)\n",
    "        postal_poly['q99_spatial_distance_15min'][i] = measure.quantile(q=0.99)\n",
    "        \"\"\"\n",
    "        try:\n",
    "            x = statistics.mean(mean_count)\n",
    "            print(x)\n",
    "        except:\n",
    "\n",
    "        #y = statistics.median(mean_count)\n",
    "        #print(y)\n",
    "        \"\"\"\n",
    "        #print(\"TEST: \"+str(sum(mean_count)+\" -- COUNT i: \"+str(i)))\n",
    "        postal_poly['mean_spatial_distance_15min'][i] = measure.mean()\n",
    "        postal_poly['median_spatial_distance_15min'][i] = measure.median()\n",
    "        postal_poly['max_spatial_distance_15min'][i] = measure.max()\n",
    "        postal_poly['min_spatial_distance_15min'][i] = measure.min()\n",
    "        postal_poly['q5_spatial_distance_15min'][i] = measure.quantile(q=0.05)\n",
    "        postal_poly['q10_spatial_distance_15min'][i] = measure.quantile(q=0.1)\n",
    "        postal_poly['q15_spatial_distance_15min'][i] = measure.quantile(q=0.15)\n",
    "        postal_poly['q25_spatial_distance_15min'][i] = measure.quantile(q=0.25)\n",
    "        postal_poly['q50_spatial_distance_15min'][i] = measure.quantile(q=0.50)\n",
    "        postal_poly['q75_spatial_distance_15min'][i] = measure.quantile(q=0.75)\n",
    "        postal_poly['q95_spatial_distance_15min'][i] = measure.quantile(q=0.95)\n",
    "        postal_poly['q99_spatial_distance_15min'][i] = measure.quantile(q=0.99)\n",
    "        \"\"\"\n",
    "        \n",
    "    postal_poly.to_file('../results/berlin-plz-whitespots-'+str(dataname)+'-analysis-15min.geojson',driver='GeoJSON')\n",
    "    return measureY#, measureY         "
   ]
  },
  {
   "cell_type": "code",
   "execution_count": 89,
   "metadata": {},
   "outputs": [
    {
     "name": "stdout",
     "output_type": "stream",
     "text": [
      "2064.509019533359\n",
      "2625.688545817315\n",
      "3000.11987271902\n",
      "3170.002543175485\n",
      "2685.039541312087\n",
      "2941.6826754774524\n",
      "2736.2122939273586\n"
     ]
    },
    {
     "ename": "StatisticsError",
     "evalue": "mean requires at least one data point",
     "output_type": "error",
     "traceback": [
      "\u001b[1;31m---------------------------------------------------------------------------\u001b[0m",
      "\u001b[1;31mStatisticsError\u001b[0m                           Traceback (most recent call last)",
      "\u001b[1;32m<ipython-input-89-eeea8b1f784e>\u001b[0m in \u001b[0;36m<module>\u001b[1;34m\u001b[0m\n\u001b[0;32m      2\u001b[0m \u001b[1;33m\u001b[0m\u001b[0m\n\u001b[0;32m      3\u001b[0m \u001b[1;32mfor\u001b[0m \u001b[0mi\u001b[0m \u001b[1;32min\u001b[0m \u001b[0mrange\u001b[0m\u001b[1;33m(\u001b[0m\u001b[0mlen\u001b[0m\u001b[1;33m(\u001b[0m\u001b[0mdatanames\u001b[0m\u001b[1;33m)\u001b[0m\u001b[1;33m)\u001b[0m\u001b[1;33m:\u001b[0m\u001b[1;33m\u001b[0m\u001b[1;33m\u001b[0m\u001b[0m\n\u001b[1;32m----> 4\u001b[1;33m         \u001b[0mdataframeY\u001b[0m \u001b[1;33m=\u001b[0m \u001b[0madd_mean_spatial_to_plz_whitespot\u001b[0m\u001b[1;33m(\u001b[0m\u001b[0mdf_poly\u001b[0m\u001b[1;33m,\u001b[0m \u001b[0mdatanames\u001b[0m\u001b[1;33m[\u001b[0m\u001b[0mi\u001b[0m\u001b[1;33m]\u001b[0m\u001b[1;33m)\u001b[0m\u001b[1;33m\u001b[0m\u001b[1;33m\u001b[0m\u001b[0m\n\u001b[0m\u001b[0;32m      5\u001b[0m \u001b[1;31m#type(measure)\u001b[0m\u001b[1;33m\u001b[0m\u001b[1;33m\u001b[0m\u001b[1;33m\u001b[0m\u001b[0m\n\u001b[0;32m      6\u001b[0m \u001b[1;31m#print(listencount)\u001b[0m\u001b[1;33m\u001b[0m\u001b[1;33m\u001b[0m\u001b[1;33m\u001b[0m\u001b[0m\n",
      "\u001b[1;32m<ipython-input-88-583beb362e70>\u001b[0m in \u001b[0;36madd_mean_spatial_to_plz_whitespot\u001b[1;34m(postal_poly, dataname)\u001b[0m\n\u001b[0;32m     53\u001b[0m         \u001b[0mpostal_poly\u001b[0m\u001b[1;33m[\u001b[0m\u001b[1;34m'q99_spatial_distance_15min'\u001b[0m\u001b[1;33m]\u001b[0m\u001b[1;33m[\u001b[0m\u001b[0mi\u001b[0m\u001b[1;33m]\u001b[0m \u001b[1;33m=\u001b[0m \u001b[0mmeasure\u001b[0m\u001b[1;33m.\u001b[0m\u001b[0mquantile\u001b[0m\u001b[1;33m(\u001b[0m\u001b[0mq\u001b[0m\u001b[1;33m=\u001b[0m\u001b[1;36m0.99\u001b[0m\u001b[1;33m)\u001b[0m\u001b[1;33m\u001b[0m\u001b[1;33m\u001b[0m\u001b[0m\n\u001b[0;32m     54\u001b[0m         \"\"\"\n\u001b[1;32m---> 55\u001b[1;33m         \u001b[0mx\u001b[0m \u001b[1;33m=\u001b[0m \u001b[0mstatistics\u001b[0m\u001b[1;33m.\u001b[0m\u001b[0mmean\u001b[0m\u001b[1;33m(\u001b[0m\u001b[0mmean_count\u001b[0m\u001b[1;33m)\u001b[0m\u001b[1;33m\u001b[0m\u001b[1;33m\u001b[0m\u001b[0m\n\u001b[0m\u001b[0;32m     56\u001b[0m         \u001b[0mprint\u001b[0m\u001b[1;33m(\u001b[0m\u001b[0mx\u001b[0m\u001b[1;33m)\u001b[0m\u001b[1;33m\u001b[0m\u001b[1;33m\u001b[0m\u001b[0m\n\u001b[0;32m     57\u001b[0m \u001b[1;33m\u001b[0m\u001b[0m\n",
      "\u001b[1;32m~\\anaconda3\\envs\\geo\\lib\\statistics.py\u001b[0m in \u001b[0;36mmean\u001b[1;34m(data)\u001b[0m\n\u001b[0;32m    313\u001b[0m     \u001b[0mn\u001b[0m \u001b[1;33m=\u001b[0m \u001b[0mlen\u001b[0m\u001b[1;33m(\u001b[0m\u001b[0mdata\u001b[0m\u001b[1;33m)\u001b[0m\u001b[1;33m\u001b[0m\u001b[1;33m\u001b[0m\u001b[0m\n\u001b[0;32m    314\u001b[0m     \u001b[1;32mif\u001b[0m \u001b[0mn\u001b[0m \u001b[1;33m<\u001b[0m \u001b[1;36m1\u001b[0m\u001b[1;33m:\u001b[0m\u001b[1;33m\u001b[0m\u001b[1;33m\u001b[0m\u001b[0m\n\u001b[1;32m--> 315\u001b[1;33m         \u001b[1;32mraise\u001b[0m \u001b[0mStatisticsError\u001b[0m\u001b[1;33m(\u001b[0m\u001b[1;34m'mean requires at least one data point'\u001b[0m\u001b[1;33m)\u001b[0m\u001b[1;33m\u001b[0m\u001b[1;33m\u001b[0m\u001b[0m\n\u001b[0m\u001b[0;32m    316\u001b[0m     \u001b[0mT\u001b[0m\u001b[1;33m,\u001b[0m \u001b[0mtotal\u001b[0m\u001b[1;33m,\u001b[0m \u001b[0mcount\u001b[0m \u001b[1;33m=\u001b[0m \u001b[0m_sum\u001b[0m\u001b[1;33m(\u001b[0m\u001b[0mdata\u001b[0m\u001b[1;33m)\u001b[0m\u001b[1;33m\u001b[0m\u001b[1;33m\u001b[0m\u001b[0m\n\u001b[0;32m    317\u001b[0m     \u001b[1;32massert\u001b[0m \u001b[0mcount\u001b[0m \u001b[1;33m==\u001b[0m \u001b[0mn\u001b[0m\u001b[1;33m\u001b[0m\u001b[1;33m\u001b[0m\u001b[0m\n",
      "\u001b[1;31mStatisticsError\u001b[0m: mean requires at least one data point"
     ]
    }
   ],
   "source": [
    "datanames = [\"all\",\"drive\",\"bike\",\"bus\",\"light_rail\",\"subway\",\"tram\"]\n",
    "\n",
    "for i in range(len(datanames)):\n",
    "        dataframeY = add_mean_spatial_to_plz_whitespot(df_poly, datanames[i])\n",
    "#type(measure)\n",
    "#print(listencount)\n",
    "dataframeY"
   ]
  },
  {
   "cell_type": "code",
   "execution_count": 90,
   "metadata": {},
   "outputs": [
    {
     "name": "stdout",
     "output_type": "stream",
     "text": [
      "13502.400085034806\n",
      "13425.154908005135\n",
      "13275.795019141287\n",
      "13081.877491431227\n",
      "13322.485334293575\n",
      "13396.53864755146\n",
      "13710.794407167234\n"
     ]
    },
    {
     "ename": "StatisticsError",
     "evalue": "mean requires at least one data point",
     "output_type": "error",
     "traceback": [
      "\u001b[1;31m---------------------------------------------------------------------------\u001b[0m",
      "\u001b[1;31mStatisticsError\u001b[0m                           Traceback (most recent call last)",
      "\u001b[1;32m<ipython-input-90-9cb8e2e37d4a>\u001b[0m in \u001b[0;36m<module>\u001b[1;34m\u001b[0m\n\u001b[1;32m----> 1\u001b[1;33m \u001b[0mdataframeY\u001b[0m \u001b[1;33m=\u001b[0m \u001b[0madd_mean_spatial_to_plz_whitespot\u001b[0m\u001b[1;33m(\u001b[0m\u001b[0mdf_poly\u001b[0m\u001b[1;33m,\u001b[0m \u001b[1;34m\"drive\"\u001b[0m\u001b[1;33m)\u001b[0m\u001b[1;33m\u001b[0m\u001b[1;33m\u001b[0m\u001b[0m\n\u001b[0m",
      "\u001b[1;32m<ipython-input-88-583beb362e70>\u001b[0m in \u001b[0;36madd_mean_spatial_to_plz_whitespot\u001b[1;34m(postal_poly, dataname)\u001b[0m\n\u001b[0;32m     53\u001b[0m         \u001b[0mpostal_poly\u001b[0m\u001b[1;33m[\u001b[0m\u001b[1;34m'q99_spatial_distance_15min'\u001b[0m\u001b[1;33m]\u001b[0m\u001b[1;33m[\u001b[0m\u001b[0mi\u001b[0m\u001b[1;33m]\u001b[0m \u001b[1;33m=\u001b[0m \u001b[0mmeasure\u001b[0m\u001b[1;33m.\u001b[0m\u001b[0mquantile\u001b[0m\u001b[1;33m(\u001b[0m\u001b[0mq\u001b[0m\u001b[1;33m=\u001b[0m\u001b[1;36m0.99\u001b[0m\u001b[1;33m)\u001b[0m\u001b[1;33m\u001b[0m\u001b[1;33m\u001b[0m\u001b[0m\n\u001b[0;32m     54\u001b[0m         \"\"\"\n\u001b[1;32m---> 55\u001b[1;33m         \u001b[0mx\u001b[0m \u001b[1;33m=\u001b[0m \u001b[0mstatistics\u001b[0m\u001b[1;33m.\u001b[0m\u001b[0mmean\u001b[0m\u001b[1;33m(\u001b[0m\u001b[0mmean_count\u001b[0m\u001b[1;33m)\u001b[0m\u001b[1;33m\u001b[0m\u001b[1;33m\u001b[0m\u001b[0m\n\u001b[0m\u001b[0;32m     56\u001b[0m         \u001b[0mprint\u001b[0m\u001b[1;33m(\u001b[0m\u001b[0mx\u001b[0m\u001b[1;33m)\u001b[0m\u001b[1;33m\u001b[0m\u001b[1;33m\u001b[0m\u001b[0m\n\u001b[0;32m     57\u001b[0m \u001b[1;33m\u001b[0m\u001b[0m\n",
      "\u001b[1;32m~\\anaconda3\\envs\\geo\\lib\\statistics.py\u001b[0m in \u001b[0;36mmean\u001b[1;34m(data)\u001b[0m\n\u001b[0;32m    313\u001b[0m     \u001b[0mn\u001b[0m \u001b[1;33m=\u001b[0m \u001b[0mlen\u001b[0m\u001b[1;33m(\u001b[0m\u001b[0mdata\u001b[0m\u001b[1;33m)\u001b[0m\u001b[1;33m\u001b[0m\u001b[1;33m\u001b[0m\u001b[0m\n\u001b[0;32m    314\u001b[0m     \u001b[1;32mif\u001b[0m \u001b[0mn\u001b[0m \u001b[1;33m<\u001b[0m \u001b[1;36m1\u001b[0m\u001b[1;33m:\u001b[0m\u001b[1;33m\u001b[0m\u001b[1;33m\u001b[0m\u001b[0m\n\u001b[1;32m--> 315\u001b[1;33m         \u001b[1;32mraise\u001b[0m \u001b[0mStatisticsError\u001b[0m\u001b[1;33m(\u001b[0m\u001b[1;34m'mean requires at least one data point'\u001b[0m\u001b[1;33m)\u001b[0m\u001b[1;33m\u001b[0m\u001b[1;33m\u001b[0m\u001b[0m\n\u001b[0m\u001b[0;32m    316\u001b[0m     \u001b[0mT\u001b[0m\u001b[1;33m,\u001b[0m \u001b[0mtotal\u001b[0m\u001b[1;33m,\u001b[0m \u001b[0mcount\u001b[0m \u001b[1;33m=\u001b[0m \u001b[0m_sum\u001b[0m\u001b[1;33m(\u001b[0m\u001b[0mdata\u001b[0m\u001b[1;33m)\u001b[0m\u001b[1;33m\u001b[0m\u001b[1;33m\u001b[0m\u001b[0m\n\u001b[0;32m    317\u001b[0m     \u001b[1;32massert\u001b[0m \u001b[0mcount\u001b[0m \u001b[1;33m==\u001b[0m \u001b[0mn\u001b[0m\u001b[1;33m\u001b[0m\u001b[1;33m\u001b[0m\u001b[0m\n",
      "\u001b[1;31mStatisticsError\u001b[0m: mean requires at least one data point"
     ]
    }
   ],
   "source": [
    "dataframeY = add_mean_spatial_to_plz_whitespot(df_poly, \"drive\")"
   ]
  },
  {
   "cell_type": "code",
   "execution_count": null,
   "metadata": {},
   "outputs": [],
   "source": []
  },
  {
   "cell_type": "code",
   "execution_count": 202,
   "metadata": {},
   "outputs": [
    {
     "data": {
      "text/html": [
       "<div>\n",
       "<style scoped>\n",
       "    .dataframe tbody tr th:only-of-type {\n",
       "        vertical-align: middle;\n",
       "    }\n",
       "\n",
       "    .dataframe tbody tr th {\n",
       "        vertical-align: top;\n",
       "    }\n",
       "\n",
       "    .dataframe thead th {\n",
       "        text-align: right;\n",
       "    }\n",
       "</style>\n",
       "<table border=\"1\" class=\"dataframe\">\n",
       "  <thead>\n",
       "    <tr style=\"text-align: right;\">\n",
       "      <th></th>\n",
       "      <th>plz</th>\n",
       "      <th>first_dig_plz</th>\n",
       "      <th>einwohner</th>\n",
       "      <th>area_m2</th>\n",
       "      <th>area_km2</th>\n",
       "      <th>einwohner_km2</th>\n",
       "      <th>einwohner_m2</th>\n",
       "      <th>mean_spatial_distance_15min</th>\n",
       "      <th>median_spatial_distance_15min</th>\n",
       "      <th>max_spatial_distance_15min</th>\n",
       "      <th>min_spatial_distance_15min</th>\n",
       "      <th>q5_spatial_distance_15min</th>\n",
       "      <th>q10_spatial_distance_15min</th>\n",
       "      <th>q15_spatial_distance_15min</th>\n",
       "      <th>q25_spatial_distance_15min</th>\n",
       "      <th>q50_spatial_distance_15min</th>\n",
       "      <th>q75_spatial_distance_15min</th>\n",
       "      <th>q95_spatial_distance_15min</th>\n",
       "      <th>q99_spatial_distance_15min</th>\n",
       "      <th>geometry</th>\n",
       "    </tr>\n",
       "  </thead>\n",
       "  <tbody>\n",
       "    <tr>\n",
       "      <th>0</th>\n",
       "      <td>14089</td>\n",
       "      <td>1</td>\n",
       "      <td>17734</td>\n",
       "      <td>2.488821e+07</td>\n",
       "      <td>24.888210</td>\n",
       "      <td>712.546</td>\n",
       "      <td>0.000713</td>\n",
       "      <td>11466.823723</td>\n",
       "      <td>12104.840663</td>\n",
       "      <td>13511.893792</td>\n",
       "      <td>0.0</td>\n",
       "      <td>9039.922949</td>\n",
       "      <td>10713.858743</td>\n",
       "      <td>11060.242925</td>\n",
       "      <td>11425.880429</td>\n",
       "      <td>12104.840663</td>\n",
       "      <td>12412.171885</td>\n",
       "      <td>13229.674334</td>\n",
       "      <td>13383.602613</td>\n",
       "      <td>POLYGON ((13.10929 52.45063, 13.10956 52.45108...</td>\n",
       "    </tr>\n",
       "    <tr>\n",
       "      <th>1</th>\n",
       "      <td>13593</td>\n",
       "      <td>1</td>\n",
       "      <td>20238</td>\n",
       "      <td>4.561552e+06</td>\n",
       "      <td>4.561552</td>\n",
       "      <td>4436.647</td>\n",
       "      <td>0.004437</td>\n",
       "      <td>11466.823723</td>\n",
       "      <td>12104.840663</td>\n",
       "      <td>13511.893792</td>\n",
       "      <td>0.0</td>\n",
       "      <td>9039.922949</td>\n",
       "      <td>10713.858743</td>\n",
       "      <td>11060.242925</td>\n",
       "      <td>11425.880429</td>\n",
       "      <td>12104.840663</td>\n",
       "      <td>12412.171885</td>\n",
       "      <td>13229.674334</td>\n",
       "      <td>13383.602613</td>\n",
       "      <td>POLYGON ((13.14288 52.52181, 13.14306 52.52179...</td>\n",
       "    </tr>\n",
       "    <tr>\n",
       "      <th>2</th>\n",
       "      <td>13595</td>\n",
       "      <td>1</td>\n",
       "      <td>19966</td>\n",
       "      <td>5.294865e+06</td>\n",
       "      <td>5.294865</td>\n",
       "      <td>3770.823</td>\n",
       "      <td>0.003771</td>\n",
       "      <td>11466.823723</td>\n",
       "      <td>12104.840663</td>\n",
       "      <td>13511.893792</td>\n",
       "      <td>0.0</td>\n",
       "      <td>9039.922949</td>\n",
       "      <td>10713.858743</td>\n",
       "      <td>11060.242925</td>\n",
       "      <td>11425.880429</td>\n",
       "      <td>12104.840663</td>\n",
       "      <td>12412.171885</td>\n",
       "      <td>13229.674334</td>\n",
       "      <td>13383.602613</td>\n",
       "      <td>POLYGON ((13.17354 52.50851, 13.17399 52.50926...</td>\n",
       "    </tr>\n",
       "    <tr>\n",
       "      <th>3</th>\n",
       "      <td>13581</td>\n",
       "      <td>1</td>\n",
       "      <td>14355</td>\n",
       "      <td>3.942352e+06</td>\n",
       "      <td>3.942352</td>\n",
       "      <td>3641.227</td>\n",
       "      <td>0.003641</td>\n",
       "      <td>11466.823723</td>\n",
       "      <td>12104.840663</td>\n",
       "      <td>13511.893792</td>\n",
       "      <td>0.0</td>\n",
       "      <td>9039.922949</td>\n",
       "      <td>10713.858743</td>\n",
       "      <td>11060.242925</td>\n",
       "      <td>11425.880429</td>\n",
       "      <td>12104.840663</td>\n",
       "      <td>12412.171885</td>\n",
       "      <td>13229.674334</td>\n",
       "      <td>13383.602613</td>\n",
       "      <td>POLYGON ((13.15664 52.53667, 13.15679 52.53734...</td>\n",
       "    </tr>\n",
       "    <tr>\n",
       "      <th>4</th>\n",
       "      <td>13591</td>\n",
       "      <td>1</td>\n",
       "      <td>26762</td>\n",
       "      <td>8.988007e+06</td>\n",
       "      <td>8.988007</td>\n",
       "      <td>2977.523</td>\n",
       "      <td>0.002978</td>\n",
       "      <td>11466.823723</td>\n",
       "      <td>12104.840663</td>\n",
       "      <td>13511.893792</td>\n",
       "      <td>0.0</td>\n",
       "      <td>9039.922949</td>\n",
       "      <td>10713.858743</td>\n",
       "      <td>11060.242925</td>\n",
       "      <td>11425.880429</td>\n",
       "      <td>12104.840663</td>\n",
       "      <td>12412.171885</td>\n",
       "      <td>13229.674334</td>\n",
       "      <td>13383.602613</td>\n",
       "      <td>POLYGON ((13.11738 52.51706, 13.11811 52.52010...</td>\n",
       "    </tr>\n",
       "    <tr>\n",
       "      <th>5</th>\n",
       "      <td>13589</td>\n",
       "      <td>1</td>\n",
       "      <td>21103</td>\n",
       "      <td>6.903208e+06</td>\n",
       "      <td>6.903208</td>\n",
       "      <td>3056.984</td>\n",
       "      <td>0.003057</td>\n",
       "      <td>11466.823723</td>\n",
       "      <td>12104.840663</td>\n",
       "      <td>13511.893792</td>\n",
       "      <td>0.0</td>\n",
       "      <td>9039.922949</td>\n",
       "      <td>10713.858743</td>\n",
       "      <td>11060.242925</td>\n",
       "      <td>11425.880429</td>\n",
       "      <td>12104.840663</td>\n",
       "      <td>12412.171885</td>\n",
       "      <td>13229.674334</td>\n",
       "      <td>13383.602613</td>\n",
       "      <td>POLYGON ((13.14345 52.55039, 13.14350 52.55090...</td>\n",
       "    </tr>\n",
       "    <tr>\n",
       "      <th>6</th>\n",
       "      <td>13587</td>\n",
       "      <td>1</td>\n",
       "      <td>20108</td>\n",
       "      <td>1.747880e+07</td>\n",
       "      <td>17.478802</td>\n",
       "      <td>1150.422</td>\n",
       "      <td>0.001150</td>\n",
       "      <td>11466.823723</td>\n",
       "      <td>12104.840663</td>\n",
       "      <td>13511.893792</td>\n",
       "      <td>0.0</td>\n",
       "      <td>9039.922949</td>\n",
       "      <td>10713.858743</td>\n",
       "      <td>11060.242925</td>\n",
       "      <td>11425.880429</td>\n",
       "      <td>12104.840663</td>\n",
       "      <td>12412.171885</td>\n",
       "      <td>13229.674334</td>\n",
       "      <td>13383.602613</td>\n",
       "      <td>POLYGON ((13.12796 52.58313, 13.12934 52.58593...</td>\n",
       "    </tr>\n",
       "    <tr>\n",
       "      <th>7</th>\n",
       "      <td>12559</td>\n",
       "      <td>1</td>\n",
       "      <td>1</td>\n",
       "      <td>2.820620e+03</td>\n",
       "      <td>0.002821</td>\n",
       "      <td>354.532</td>\n",
       "      <td>0.000355</td>\n",
       "      <td>11466.823723</td>\n",
       "      <td>12104.840663</td>\n",
       "      <td>13511.893792</td>\n",
       "      <td>0.0</td>\n",
       "      <td>9039.922949</td>\n",
       "      <td>10713.858743</td>\n",
       "      <td>11060.242925</td>\n",
       "      <td>11425.880429</td>\n",
       "      <td>12104.840663</td>\n",
       "      <td>12412.171885</td>\n",
       "      <td>13229.674334</td>\n",
       "      <td>13383.602613</td>\n",
       "      <td>POLYGON ((13.58139 52.44185, 13.58151 52.44239...</td>\n",
       "    </tr>\n",
       "    <tr>\n",
       "      <th>8</th>\n",
       "      <td>12559</td>\n",
       "      <td>1</td>\n",
       "      <td>17643</td>\n",
       "      <td>3.761828e+07</td>\n",
       "      <td>37.618275</td>\n",
       "      <td>469.001</td>\n",
       "      <td>0.000469</td>\n",
       "      <td>11466.823723</td>\n",
       "      <td>12104.840663</td>\n",
       "      <td>13511.893792</td>\n",
       "      <td>0.0</td>\n",
       "      <td>9039.922949</td>\n",
       "      <td>10713.858743</td>\n",
       "      <td>11060.242925</td>\n",
       "      <td>11425.880429</td>\n",
       "      <td>12104.840663</td>\n",
       "      <td>12412.171885</td>\n",
       "      <td>13229.674334</td>\n",
       "      <td>13383.602613</td>\n",
       "      <td>POLYGON ((13.58177 52.44236, 13.58248 52.44299...</td>\n",
       "    </tr>\n",
       "    <tr>\n",
       "      <th>9</th>\n",
       "      <td>12527</td>\n",
       "      <td>1</td>\n",
       "      <td>9425</td>\n",
       "      <td>2.620787e+07</td>\n",
       "      <td>26.207873</td>\n",
       "      <td>359.625</td>\n",
       "      <td>0.000360</td>\n",
       "      <td>11466.823723</td>\n",
       "      <td>12104.840663</td>\n",
       "      <td>13511.893792</td>\n",
       "      <td>0.0</td>\n",
       "      <td>9039.922949</td>\n",
       "      <td>10713.858743</td>\n",
       "      <td>11060.242925</td>\n",
       "      <td>11425.880429</td>\n",
       "      <td>12104.840663</td>\n",
       "      <td>12412.171885</td>\n",
       "      <td>13229.674334</td>\n",
       "      <td>13383.602613</td>\n",
       "      <td>POLYGON ((13.55431 52.42579, 13.55542 52.42590...</td>\n",
       "    </tr>\n",
       "    <tr>\n",
       "      <th>10</th>\n",
       "      <td>12557</td>\n",
       "      <td>1</td>\n",
       "      <td>21494</td>\n",
       "      <td>8.095616e+06</td>\n",
       "      <td>8.095616</td>\n",
       "      <td>2655.017</td>\n",
       "      <td>0.002655</td>\n",
       "      <td>11466.823723</td>\n",
       "      <td>12104.840663</td>\n",
       "      <td>13511.893792</td>\n",
       "      <td>0.0</td>\n",
       "      <td>9039.922949</td>\n",
       "      <td>10713.858743</td>\n",
       "      <td>11060.242925</td>\n",
       "      <td>11425.880429</td>\n",
       "      <td>12104.840663</td>\n",
       "      <td>12412.171885</td>\n",
       "      <td>13229.674334</td>\n",
       "      <td>13383.602613</td>\n",
       "      <td>POLYGON ((13.55915 52.44178, 13.56040 52.44222...</td>\n",
       "    </tr>\n",
       "    <tr>\n",
       "      <th>11</th>\n",
       "      <td>13159</td>\n",
       "      <td>1</td>\n",
       "      <td>1762</td>\n",
       "      <td>1.093987e+07</td>\n",
       "      <td>10.939874</td>\n",
       "      <td>161.062</td>\n",
       "      <td>0.000161</td>\n",
       "      <td>11466.823723</td>\n",
       "      <td>12104.840663</td>\n",
       "      <td>13511.893792</td>\n",
       "      <td>0.0</td>\n",
       "      <td>9039.922949</td>\n",
       "      <td>10713.858743</td>\n",
       "      <td>11060.242925</td>\n",
       "      <td>11425.880429</td>\n",
       "      <td>12104.840663</td>\n",
       "      <td>12412.171885</td>\n",
       "      <td>13229.674334</td>\n",
       "      <td>13383.602613</td>\n",
       "      <td>POLYGON ((13.36691 52.62544, 13.36697 52.62547...</td>\n",
       "    </tr>\n",
       "  </tbody>\n",
       "</table>\n",
       "</div>"
      ],
      "text/plain": [
       "      plz first_dig_plz  einwohner       area_m2   area_km2  einwohner_km2  \\\n",
       "0   14089             1      17734  2.488821e+07  24.888210        712.546   \n",
       "1   13593             1      20238  4.561552e+06   4.561552       4436.647   \n",
       "2   13595             1      19966  5.294865e+06   5.294865       3770.823   \n",
       "3   13581             1      14355  3.942352e+06   3.942352       3641.227   \n",
       "4   13591             1      26762  8.988007e+06   8.988007       2977.523   \n",
       "5   13589             1      21103  6.903208e+06   6.903208       3056.984   \n",
       "6   13587             1      20108  1.747880e+07  17.478802       1150.422   \n",
       "7   12559             1          1  2.820620e+03   0.002821        354.532   \n",
       "8   12559             1      17643  3.761828e+07  37.618275        469.001   \n",
       "9   12527             1       9425  2.620787e+07  26.207873        359.625   \n",
       "10  12557             1      21494  8.095616e+06   8.095616       2655.017   \n",
       "11  13159             1       1762  1.093987e+07  10.939874        161.062   \n",
       "\n",
       "    einwohner_m2  mean_spatial_distance_15min  median_spatial_distance_15min  \\\n",
       "0       0.000713                 11466.823723                   12104.840663   \n",
       "1       0.004437                 11466.823723                   12104.840663   \n",
       "2       0.003771                 11466.823723                   12104.840663   \n",
       "3       0.003641                 11466.823723                   12104.840663   \n",
       "4       0.002978                 11466.823723                   12104.840663   \n",
       "5       0.003057                 11466.823723                   12104.840663   \n",
       "6       0.001150                 11466.823723                   12104.840663   \n",
       "7       0.000355                 11466.823723                   12104.840663   \n",
       "8       0.000469                 11466.823723                   12104.840663   \n",
       "9       0.000360                 11466.823723                   12104.840663   \n",
       "10      0.002655                 11466.823723                   12104.840663   \n",
       "11      0.000161                 11466.823723                   12104.840663   \n",
       "\n",
       "    max_spatial_distance_15min  min_spatial_distance_15min  \\\n",
       "0                 13511.893792                         0.0   \n",
       "1                 13511.893792                         0.0   \n",
       "2                 13511.893792                         0.0   \n",
       "3                 13511.893792                         0.0   \n",
       "4                 13511.893792                         0.0   \n",
       "5                 13511.893792                         0.0   \n",
       "6                 13511.893792                         0.0   \n",
       "7                 13511.893792                         0.0   \n",
       "8                 13511.893792                         0.0   \n",
       "9                 13511.893792                         0.0   \n",
       "10                13511.893792                         0.0   \n",
       "11                13511.893792                         0.0   \n",
       "\n",
       "    q5_spatial_distance_15min  q10_spatial_distance_15min  \\\n",
       "0                 9039.922949                10713.858743   \n",
       "1                 9039.922949                10713.858743   \n",
       "2                 9039.922949                10713.858743   \n",
       "3                 9039.922949                10713.858743   \n",
       "4                 9039.922949                10713.858743   \n",
       "5                 9039.922949                10713.858743   \n",
       "6                 9039.922949                10713.858743   \n",
       "7                 9039.922949                10713.858743   \n",
       "8                 9039.922949                10713.858743   \n",
       "9                 9039.922949                10713.858743   \n",
       "10                9039.922949                10713.858743   \n",
       "11                9039.922949                10713.858743   \n",
       "\n",
       "    q15_spatial_distance_15min  q25_spatial_distance_15min  \\\n",
       "0                 11060.242925                11425.880429   \n",
       "1                 11060.242925                11425.880429   \n",
       "2                 11060.242925                11425.880429   \n",
       "3                 11060.242925                11425.880429   \n",
       "4                 11060.242925                11425.880429   \n",
       "5                 11060.242925                11425.880429   \n",
       "6                 11060.242925                11425.880429   \n",
       "7                 11060.242925                11425.880429   \n",
       "8                 11060.242925                11425.880429   \n",
       "9                 11060.242925                11425.880429   \n",
       "10                11060.242925                11425.880429   \n",
       "11                11060.242925                11425.880429   \n",
       "\n",
       "    q50_spatial_distance_15min  q75_spatial_distance_15min  \\\n",
       "0                 12104.840663                12412.171885   \n",
       "1                 12104.840663                12412.171885   \n",
       "2                 12104.840663                12412.171885   \n",
       "3                 12104.840663                12412.171885   \n",
       "4                 12104.840663                12412.171885   \n",
       "5                 12104.840663                12412.171885   \n",
       "6                 12104.840663                12412.171885   \n",
       "7                 12104.840663                12412.171885   \n",
       "8                 12104.840663                12412.171885   \n",
       "9                 12104.840663                12412.171885   \n",
       "10                12104.840663                12412.171885   \n",
       "11                12104.840663                12412.171885   \n",
       "\n",
       "    q95_spatial_distance_15min  q99_spatial_distance_15min  \\\n",
       "0                 13229.674334                13383.602613   \n",
       "1                 13229.674334                13383.602613   \n",
       "2                 13229.674334                13383.602613   \n",
       "3                 13229.674334                13383.602613   \n",
       "4                 13229.674334                13383.602613   \n",
       "5                 13229.674334                13383.602613   \n",
       "6                 13229.674334                13383.602613   \n",
       "7                 13229.674334                13383.602613   \n",
       "8                 13229.674334                13383.602613   \n",
       "9                 13229.674334                13383.602613   \n",
       "10                13229.674334                13383.602613   \n",
       "11                13229.674334                13383.602613   \n",
       "\n",
       "                                             geometry  \n",
       "0   POLYGON ((13.10929 52.45063, 13.10956 52.45108...  \n",
       "1   POLYGON ((13.14288 52.52181, 13.14306 52.52179...  \n",
       "2   POLYGON ((13.17354 52.50851, 13.17399 52.50926...  \n",
       "3   POLYGON ((13.15664 52.53667, 13.15679 52.53734...  \n",
       "4   POLYGON ((13.11738 52.51706, 13.11811 52.52010...  \n",
       "5   POLYGON ((13.14345 52.55039, 13.14350 52.55090...  \n",
       "6   POLYGON ((13.12796 52.58313, 13.12934 52.58593...  \n",
       "7   POLYGON ((13.58139 52.44185, 13.58151 52.44239...  \n",
       "8   POLYGON ((13.58177 52.44236, 13.58248 52.44299...  \n",
       "9   POLYGON ((13.55431 52.42579, 13.55542 52.42590...  \n",
       "10  POLYGON ((13.55915 52.44178, 13.56040 52.44222...  \n",
       "11  POLYGON ((13.36691 52.62544, 13.36697 52.62547...  "
      ]
     },
     "execution_count": 202,
     "metadata": {},
     "output_type": "execute_result"
    }
   ],
   "source": [
    "dataname = \"drive\"\n",
    "df_test = gp.read_file('../results/berlin-plz-whitespots-'+str(dataname)+'-analysis-15min.geojson')\n",
    "df_test"
   ]
  },
  {
   "cell_type": "code",
   "execution_count": 193,
   "metadata": {},
   "outputs": [
    {
     "name": "stdout",
     "output_type": "stream",
     "text": [
      "0    12140.573855\n",
      "dtype: float64\n",
      "0    11676.908536\n",
      "dtype: float64\n",
      "0    15556.950175\n",
      "dtype: float64\n",
      "0    0.0\n",
      "dtype: float64\n",
      "0    8181.585127\n",
      "Name: 0.05, dtype: float64\n",
      "0    8759.823513\n",
      "Name: 0.1, dtype: float64\n",
      "0    9321.696234\n",
      "Name: 0.15, dtype: float64\n",
      "0    10884.648888\n",
      "Name: 0.25, dtype: float64\n",
      "0    12140.573855\n",
      "Name: 0.5, dtype: float64\n",
      "0    12972.198971\n",
      "Name: 0.75, dtype: float64\n",
      "0    14128.580993\n",
      "Name: 0.95, dtype: float64\n",
      "0    14736.978385\n",
      "Name: 0.99, dtype: float64\n"
     ]
    }
   ],
   "source": [
    "print(measure.median())\n",
    "print(measure.mean())\n",
    "print(measure.max())\n",
    "print(measure.min())\n",
    "print(measure.quantile(q=0.05))\n",
    "print(measure.quantile(q=0.1))\n",
    "print(measure.quantile(q=0.15))\n",
    "print(measure.quantile(q=0.25))\n",
    "print(measure.quantile(q=0.5))\n",
    "print(measure.quantile(q=0.75))\n",
    "print(measure.quantile(q=0.95))\n",
    "print(measure.quantile(q=0.99))"
   ]
  },
  {
   "cell_type": "code",
   "execution_count": 191,
   "metadata": {},
   "outputs": [
    {
     "name": "stdout",
     "output_type": "stream",
     "text": [
      "                  0\n",
      "count    973.000000\n",
      "mean   11676.908536\n",
      "std     2002.928419\n",
      "min        0.000000\n",
      "25%    10884.648888\n",
      "50%    12140.573855\n",
      "75%    12972.198971\n",
      "max    15556.950175\n"
     ]
    },
    {
     "data": {
      "text/html": [
       "<div>\n",
       "<style scoped>\n",
       "    .dataframe tbody tr th:only-of-type {\n",
       "        vertical-align: middle;\n",
       "    }\n",
       "\n",
       "    .dataframe tbody tr th {\n",
       "        vertical-align: top;\n",
       "    }\n",
       "\n",
       "    .dataframe thead th {\n",
       "        text-align: right;\n",
       "    }\n",
       "</style>\n",
       "<table border=\"1\" class=\"dataframe\">\n",
       "  <thead>\n",
       "    <tr style=\"text-align: right;\">\n",
       "      <th></th>\n",
       "      <th>0</th>\n",
       "    </tr>\n",
       "  </thead>\n",
       "  <tbody>\n",
       "    <tr>\n",
       "      <th>count</th>\n",
       "      <td>973.000000</td>\n",
       "    </tr>\n",
       "    <tr>\n",
       "      <th>mean</th>\n",
       "      <td>11676.908536</td>\n",
       "    </tr>\n",
       "    <tr>\n",
       "      <th>std</th>\n",
       "      <td>2002.928419</td>\n",
       "    </tr>\n",
       "    <tr>\n",
       "      <th>min</th>\n",
       "      <td>0.000000</td>\n",
       "    </tr>\n",
       "    <tr>\n",
       "      <th>25%</th>\n",
       "      <td>10884.648888</td>\n",
       "    </tr>\n",
       "    <tr>\n",
       "      <th>50%</th>\n",
       "      <td>12140.573855</td>\n",
       "    </tr>\n",
       "    <tr>\n",
       "      <th>75%</th>\n",
       "      <td>12972.198971</td>\n",
       "    </tr>\n",
       "    <tr>\n",
       "      <th>max</th>\n",
       "      <td>15556.950175</td>\n",
       "    </tr>\n",
       "  </tbody>\n",
       "</table>\n",
       "</div>"
      ],
      "text/plain": [
       "                  0\n",
       "count    973.000000\n",
       "mean   11676.908536\n",
       "std     2002.928419\n",
       "min        0.000000\n",
       "25%    10884.648888\n",
       "50%    12140.573855\n",
       "75%    12972.198971\n",
       "max    15556.950175"
      ]
     },
     "execution_count": 191,
     "metadata": {},
     "output_type": "execute_result"
    }
   ],
   "source": [
    "print(measure.describe())\n",
    "\n",
    "dataframe = measure.describe()\n",
    "dataframe"
   ]
  },
  {
   "cell_type": "code",
   "execution_count": null,
   "metadata": {},
   "outputs": [],
   "source": []
  },
  {
   "cell_type": "code",
   "execution_count": null,
   "metadata": {},
   "outputs": [],
   "source": []
  },
  {
   "cell_type": "code",
   "execution_count": 157,
   "metadata": {},
   "outputs": [],
   "source": [
    "df_test = gp.read_file('../results/isochrones-drive-15.geojson')"
   ]
  },
  {
   "cell_type": "code",
   "execution_count": 158,
   "metadata": {},
   "outputs": [],
   "source": [
    "#df_test = gp.read_file('../results/isochrones-tram-15.geojson')"
   ]
  },
  {
   "cell_type": "code",
   "execution_count": 159,
   "metadata": {},
   "outputs": [],
   "source": [
    "#df_test = gp.read_file('../results/isochrones-bus-15.geojson')"
   ]
  },
  {
   "cell_type": "code",
   "execution_count": 160,
   "metadata": {},
   "outputs": [
    {
     "data": {
      "text/plain": [
       "9675"
      ]
     },
     "execution_count": 160,
     "metadata": {},
     "output_type": "execute_result"
    }
   ],
   "source": [
    "len(df_test)"
   ]
  },
  {
   "cell_type": "code",
   "execution_count": 161,
   "metadata": {},
   "outputs": [
    {
     "data": {
      "text/html": [
       "<div>\n",
       "<style scoped>\n",
       "    .dataframe tbody tr th:only-of-type {\n",
       "        vertical-align: middle;\n",
       "    }\n",
       "\n",
       "    .dataframe tbody tr th {\n",
       "        vertical-align: top;\n",
       "    }\n",
       "\n",
       "    .dataframe thead th {\n",
       "        text-align: right;\n",
       "    }\n",
       "</style>\n",
       "<table border=\"1\" class=\"dataframe\">\n",
       "  <thead>\n",
       "    <tr style=\"text-align: right;\">\n",
       "      <th></th>\n",
       "      <th>mean_spatial_distance_15min</th>\n",
       "    </tr>\n",
       "  </thead>\n",
       "  <tbody>\n",
       "    <tr>\n",
       "      <th>count</th>\n",
       "      <td>9675.000000</td>\n",
       "    </tr>\n",
       "    <tr>\n",
       "      <th>mean</th>\n",
       "      <td>13449.167885</td>\n",
       "    </tr>\n",
       "    <tr>\n",
       "      <th>std</th>\n",
       "      <td>2294.268411</td>\n",
       "    </tr>\n",
       "    <tr>\n",
       "      <th>min</th>\n",
       "      <td>0.000000</td>\n",
       "    </tr>\n",
       "    <tr>\n",
       "      <th>25%</th>\n",
       "      <td>12211.883459</td>\n",
       "    </tr>\n",
       "    <tr>\n",
       "      <th>50%</th>\n",
       "      <td>13526.241777</td>\n",
       "    </tr>\n",
       "    <tr>\n",
       "      <th>75%</th>\n",
       "      <td>14790.617048</td>\n",
       "    </tr>\n",
       "    <tr>\n",
       "      <th>max</th>\n",
       "      <td>20494.205390</td>\n",
       "    </tr>\n",
       "  </tbody>\n",
       "</table>\n",
       "</div>"
      ],
      "text/plain": [
       "       mean_spatial_distance_15min\n",
       "count                  9675.000000\n",
       "mean                  13449.167885\n",
       "std                    2294.268411\n",
       "min                       0.000000\n",
       "25%                   12211.883459\n",
       "50%                   13526.241777\n",
       "75%                   14790.617048\n",
       "max                   20494.205390"
      ]
     },
     "execution_count": 161,
     "metadata": {},
     "output_type": "execute_result"
    }
   ],
   "source": [
    "df_test.describe()"
   ]
  },
  {
   "cell_type": "code",
   "execution_count": 162,
   "metadata": {},
   "outputs": [
    {
     "name": "stdout",
     "output_type": "stream",
     "text": [
      "mean_spatial_distance_15min    628.290716\n",
      "Name: 0.004, dtype: float64\n"
     ]
    }
   ],
   "source": [
    "print(df_test.quantile(q=0.004))"
   ]
  },
  {
   "cell_type": "code",
   "execution_count": 163,
   "metadata": {},
   "outputs": [],
   "source": [
    "tail50 = df_test.sort_values(by='mean_spatial_distance_15min', ascending=True).head(80)"
   ]
  },
  {
   "cell_type": "code",
   "execution_count": 168,
   "metadata": {},
   "outputs": [
    {
     "data": {
      "text/html": [
       "<div>\n",
       "<style scoped>\n",
       "    .dataframe tbody tr th:only-of-type {\n",
       "        vertical-align: middle;\n",
       "    }\n",
       "\n",
       "    .dataframe tbody tr th {\n",
       "        vertical-align: top;\n",
       "    }\n",
       "\n",
       "    .dataframe thead th {\n",
       "        text-align: right;\n",
       "    }\n",
       "</style>\n",
       "<table border=\"1\" class=\"dataframe\">\n",
       "  <thead>\n",
       "    <tr style=\"text-align: right;\">\n",
       "      <th></th>\n",
       "      <th>mean_spatial_distance_15min</th>\n",
       "      <th>geometry</th>\n",
       "    </tr>\n",
       "  </thead>\n",
       "  <tbody>\n",
       "    <tr>\n",
       "      <th>1776</th>\n",
       "      <td>0.000000</td>\n",
       "      <td>POINT (13.44261 52.55878)</td>\n",
       "    </tr>\n",
       "    <tr>\n",
       "      <th>5023</th>\n",
       "      <td>0.000000</td>\n",
       "      <td>POINT (13.42290 52.44884)</td>\n",
       "    </tr>\n",
       "    <tr>\n",
       "      <th>2755</th>\n",
       "      <td>0.000000</td>\n",
       "      <td>POINT (13.38507 52.61215)</td>\n",
       "    </tr>\n",
       "    <tr>\n",
       "      <th>9311</th>\n",
       "      <td>0.000000</td>\n",
       "      <td>POINT (13.38398 52.61551)</td>\n",
       "    </tr>\n",
       "    <tr>\n",
       "      <th>7200</th>\n",
       "      <td>0.000000</td>\n",
       "      <td>POINT (13.52323 52.52084)</td>\n",
       "    </tr>\n",
       "    <tr>\n",
       "      <th>...</th>\n",
       "      <td>...</td>\n",
       "      <td>...</td>\n",
       "    </tr>\n",
       "    <tr>\n",
       "      <th>1073</th>\n",
       "      <td>6793.765289</td>\n",
       "      <td>POINT (13.12961 52.58412)</td>\n",
       "    </tr>\n",
       "    <tr>\n",
       "      <th>7706</th>\n",
       "      <td>7032.276179</td>\n",
       "      <td>POINT (13.40977 52.43086)</td>\n",
       "    </tr>\n",
       "    <tr>\n",
       "      <th>9207</th>\n",
       "      <td>7075.449547</td>\n",
       "      <td>POINT (13.12083 52.44403)</td>\n",
       "    </tr>\n",
       "    <tr>\n",
       "      <th>4063</th>\n",
       "      <td>7168.518135</td>\n",
       "      <td>POINT (13.12145 52.44252)</td>\n",
       "    </tr>\n",
       "    <tr>\n",
       "      <th>7867</th>\n",
       "      <td>7170.611300</td>\n",
       "      <td>POINT (13.11701 52.44530)</td>\n",
       "    </tr>\n",
       "  </tbody>\n",
       "</table>\n",
       "<p>80 rows × 2 columns</p>\n",
       "</div>"
      ],
      "text/plain": [
       "      mean_spatial_distance_15min                   geometry\n",
       "1776                     0.000000  POINT (13.44261 52.55878)\n",
       "5023                     0.000000  POINT (13.42290 52.44884)\n",
       "2755                     0.000000  POINT (13.38507 52.61215)\n",
       "9311                     0.000000  POINT (13.38398 52.61551)\n",
       "7200                     0.000000  POINT (13.52323 52.52084)\n",
       "...                           ...                        ...\n",
       "1073                  6793.765289  POINT (13.12961 52.58412)\n",
       "7706                  7032.276179  POINT (13.40977 52.43086)\n",
       "9207                  7075.449547  POINT (13.12083 52.44403)\n",
       "4063                  7168.518135  POINT (13.12145 52.44252)\n",
       "7867                  7170.611300  POINT (13.11701 52.44530)\n",
       "\n",
       "[80 rows x 2 columns]"
      ]
     },
     "execution_count": 168,
     "metadata": {},
     "output_type": "execute_result"
    }
   ],
   "source": [
    "tail50"
   ]
  },
  {
   "cell_type": "code",
   "execution_count": 165,
   "metadata": {},
   "outputs": [
    {
     "data": {
      "text/plain": [
       "<AxesSubplot:>"
      ]
     },
     "execution_count": 165,
     "metadata": {},
     "output_type": "execute_result"
    },
    {
     "data": {
      "image/png": "[encoded data removed]",
      "text/plain": [
       "<Figure size 432x288 with 1 Axes>"
      ]
     },
     "metadata": {
      "needs_background": "light"
     },
     "output_type": "display_data"
    }
   ],
   "source": [
    "tail50_drive['mean_spatial_distance_15min'].plot()"
   ]
  },
  {
   "cell_type": "code",
   "execution_count": 176,
   "metadata": {},
   "outputs": [],
   "source": [
    "plt.rcParams['figure.figsize'] = [16, 11]"
   ]
  },
  {
   "cell_type": "code",
   "execution_count": 177,
   "metadata": {},
   "outputs": [],
   "source": [
    "tail = pd.DataFrame(tail50_drive['mean_spatial_distance_15min'].tolist())"
   ]
  },
  {
   "cell_type": "code",
   "execution_count": 178,
   "metadata": {},
   "outputs": [
    {
     "data": {
      "text/plain": [
       "<AxesSubplot:>"
      ]
     },
     "execution_count": 178,
     "metadata": {},
     "output_type": "execute_result"
    },
    {
     "data": {
      "image/png": "[encoded data removed]",
      "text/plain": [
       "<Figure size 1152x792 with 1 Axes>"
      ]
     },
     "metadata": {
      "needs_background": "light"
     },
     "output_type": "display_data"
    }
   ],
   "source": [
    "tail.plot()"
   ]
  },
  {
   "cell_type": "code",
   "execution_count": 179,
   "metadata": {},
   "outputs": [
    {
     "data": {
      "text/plain": [
       "<AxesSubplot:>"
      ]
     },
     "execution_count": 179,
     "metadata": {},
     "output_type": "execute_result"
    },
    {
     "data": {
      "image/png": "[encoded data removed]",
      "text/plain": [
       "<Figure size 1152x792 with 1 Axes>"
      ]
     },
     "metadata": {
      "needs_background": "light"
     },
     "output_type": "display_data"
    }
   ],
   "source": [
    "df_test = gp.read_file('../results/isochrones-tram-15.geojson')\n",
    "tail50 = df_test.sort_values(by='mean_spatial_distance_15min', ascending=True).head(80)\n",
    "tail = pd.DataFrame(tail50['mean_spatial_distance_15min'].tolist())\n",
    "tail.plot()"
   ]
  },
  {
   "cell_type": "code",
   "execution_count": 180,
   "metadata": {},
   "outputs": [
    {
     "data": {
      "text/plain": [
       "<AxesSubplot:>"
      ]
     },
     "execution_count": 180,
     "metadata": {},
     "output_type": "execute_result"
    },
    {
     "data": {
      "image/png": "[encoded data removed]",
      "text/plain": [
       "<Figure size 1152x792 with 1 Axes>"
      ]
     },
     "metadata": {
      "needs_background": "light"
     },
     "output_type": "display_data"
    }
   ],
   "source": [
    "df_test = gp.read_file('../results/isochrones-bus-15.geojson')\n",
    "tail50 = df_test.sort_values(by='mean_spatial_distance_15min', ascending=True).head(80)\n",
    "tail = pd.DataFrame(tail50['mean_spatial_distance_15min'].tolist())\n",
    "tail.plot()"
   ]
  },
  {
   "cell_type": "code",
   "execution_count": 181,
   "metadata": {},
   "outputs": [
    {
     "data": {
      "text/plain": [
       "<AxesSubplot:>"
      ]
     },
     "execution_count": 181,
     "metadata": {},
     "output_type": "execute_result"
    },
    {
     "data": {
      "image/png": "[encoded data removed]",
      "text/plain": [
       "<Figure size 1152x792 with 1 Axes>"
      ]
     },
     "metadata": {
      "needs_background": "light"
     },
     "output_type": "display_data"
    }
   ],
   "source": [
    "df_test = gp.read_file('../results/isochrones-subway-15.geojson')\n",
    "tail50 = df_test.sort_values(by='mean_spatial_distance_15min', ascending=True).head(80)\n",
    "tail = pd.DataFrame(tail50['mean_spatial_distance_15min'].tolist())\n",
    "tail.plot()"
   ]
  },
  {
   "cell_type": "code",
   "execution_count": 182,
   "metadata": {},
   "outputs": [
    {
     "data": {
      "text/plain": [
       "<AxesSubplot:>"
      ]
     },
     "execution_count": 182,
     "metadata": {},
     "output_type": "execute_result"
    },
    {
     "data": {
      "image/png": "[encoded data removed]",
      "text/plain": [
       "<Figure size 1152x792 with 1 Axes>"
      ]
     },
     "metadata": {
      "needs_background": "light"
     },
     "output_type": "display_data"
    }
   ],
   "source": [
    "df_test = gp.read_file('../results/isochrones-light_rail-15.geojson')\n",
    "tail50 = df_test.sort_values(by='mean_spatial_distance_15min', ascending=True).head(80)\n",
    "tail = pd.DataFrame(tail50['mean_spatial_distance_15min'].tolist())\n",
    "tail.plot()"
   ]
  },
  {
   "cell_type": "code",
   "execution_count": 183,
   "metadata": {},
   "outputs": [
    {
     "data": {
      "text/plain": [
       "<AxesSubplot:>"
      ]
     },
     "execution_count": 183,
     "metadata": {},
     "output_type": "execute_result"
    },
    {
     "data": {
      "image/png": "[encoded data removed]",
      "text/plain": [
       "<Figure size 1152x792 with 1 Axes>"
      ]
     },
     "metadata": {
      "needs_background": "light"
     },
     "output_type": "display_data"
    }
   ],
   "source": [
    "df_test = gp.read_file('../results/isochrones-bike-15.geojson')\n",
    "tail50 = df_test.sort_values(by='mean_spatial_distance_15min', ascending=True).head(80)\n",
    "tail = pd.DataFrame(tail50['mean_spatial_distance_15min'].tolist())\n",
    "tail.plot()"
   ]
  },
  {
   "cell_type": "code",
   "execution_count": 184,
   "metadata": {},
   "outputs": [
    {
     "data": {
      "text/plain": [
       "<AxesSubplot:>"
      ]
     },
     "execution_count": 184,
     "metadata": {},
     "output_type": "execute_result"
    },
    {
     "data": {
      "image/png": "[encoded data removed]",
      "text/plain": [
       "<Figure size 1152x792 with 1 Axes>"
      ]
     },
     "metadata": {
      "needs_background": "light"
     },
     "output_type": "display_data"
    }
   ],
   "source": [
    "df_test = gp.read_file('../results/isochrones-all-15.geojson')\n",
    "tail50 = df_test.sort_values(by='mean_spatial_distance_15min', ascending=True).head(80)\n",
    "tail = pd.DataFrame(tail50['mean_spatial_distance_15min'].tolist())\n",
    "tail.plot()"
   ]
  },
  {
   "cell_type": "code",
   "execution_count": 188,
   "metadata": {},
   "outputs": [],
   "source": [
    "df_points = gp.read_file(\"../results/isochrones-bus-15.geojson\",driver='GeoJSON')"
   ]
  },
  {
   "cell_type": "code",
   "execution_count": 189,
   "metadata": {},
   "outputs": [
    {
     "data": {
      "text/plain": [
       "3104.1437350543233"
      ]
     },
     "execution_count": 189,
     "metadata": {},
     "output_type": "execute_result"
    }
   ],
   "source": [
    "df_points['mean_spatial_distance_15min'].median()"
   ]
  },
  {
   "cell_type": "code",
   "execution_count": 243,
   "metadata": {},
   "outputs": [],
   "source": [
    "df = gp.read_file(\"../results/berlin-inhabitants-improved.geojson\")\n",
    "dfnew = df[df.plz == '13627'] #13159, 14129,14019\n",
    "#dfnew = df[df.plz == '13159'] #13159, 14129,14019\n",
    "#dfnew = df[df.plz == '14129'] #13159, 14129,14019\n",
    "#dfnew = df[df.plz == '14019'] #13159, 14129,14019"
   ]
  },
  {
   "cell_type": "code",
   "execution_count": 244,
   "metadata": {},
   "outputs": [],
   "source": [
    "def calculate_mean_for_plz(poly,df_points):\n",
    "    counter = 0\n",
    "    count = 0.0\n",
    "    for i in range(len(df_points)):\n",
    "        if if_point_inpolygon(poly, df_points.geometry[i]):\n",
    "            counter = counter + 1\n",
    "            count = count + float(df_points['mean_spatial_distance_15min'][i])\n",
    "    return float(count/counter)"
   ]
  },
  {
   "cell_type": "code",
   "execution_count": 245,
   "metadata": {},
   "outputs": [
    {
     "data": {
      "text/plain": [
       "29    POLYGON ((13.27259 52.53880, 13.27278 52.53927...\n",
       "Name: geometry, dtype: geometry"
      ]
     },
     "execution_count": 245,
     "metadata": {},
     "output_type": "execute_result"
    }
   ],
   "source": [
    "dfnew['geometry'][:]"
   ]
  },
  {
   "cell_type": "code",
   "execution_count": 246,
   "metadata": {},
   "outputs": [],
   "source": [
    "polytest = dfnew['geometry'][29]"
   ]
  },
  {
   "cell_type": "code",
   "execution_count": 247,
   "metadata": {},
   "outputs": [
    {
     "data": {
      "text/plain": [
       "shapely.geometry.polygon.Polygon"
      ]
     },
     "execution_count": 247,
     "metadata": {},
     "output_type": "execute_result"
    }
   ],
   "source": [
    "type(polytest)"
   ]
  },
  {
   "cell_type": "code",
   "execution_count": 248,
   "metadata": {},
   "outputs": [],
   "source": [
    "df_points_helper = gp.read_file(\"../results/sample-points.geojson\",driver='GeoJSON')\n",
    "#df_points = pd.read_json(\"../results/isochrones-bus-15.geojson\", orient='values')\n",
    "#data = json.loads(\"../results/isochrones-bus-15.geojson\")\n",
    "df_points['geometry'] = df_points_helper['geometry']"
   ]
  },
  {
   "cell_type": "code",
   "execution_count": 249,
   "metadata": {},
   "outputs": [
    {
     "data": {
      "text/plain": [
       "3267.9808154533507"
      ]
     },
     "execution_count": 249,
     "metadata": {},
     "output_type": "execute_result"
    }
   ],
   "source": [
    "calculate_mean_for_plz(polytest, df_points)"
   ]
  },
  {
   "cell_type": "code",
   "execution_count": 250,
   "metadata": {},
   "outputs": [
    {
     "data": {
      "text/plain": [
       "265.7460923337877"
      ]
     },
     "execution_count": 250,
     "metadata": {},
     "output_type": "execute_result"
    }
   ],
   "source": [
    "df_points['mean_spatial_distance_15min'].min()"
   ]
  },
  {
   "cell_type": "code",
   "execution_count": 253,
   "metadata": {},
   "outputs": [
    {
     "data": {
      "text/plain": [
       "4079.301643516218"
      ]
     },
     "execution_count": 253,
     "metadata": {},
     "output_type": "execute_result"
    }
   ],
   "source": [
    "df_points['mean_spatial_distance_15min'].max()"
   ]
  },
  {
   "cell_type": "code",
   "execution_count": 251,
   "metadata": {},
   "outputs": [],
   "source": [
    "def calculate_mean_for_plz(poly,df_points):\n",
    "    counter = 0\n",
    "    count = 0.0\n",
    "    for i in range(len(df_points)):\n",
    "        if if_point_inpolygon(poly, df_points.geometry[i]):\n",
    "            counter = counter + 1\n",
    "            count = count + float(df_points['min_spatial_distance_15min'][i])\n",
    "    return float(count/counter)"
   ]
  },
  {
   "cell_type": "code",
   "execution_count": 252,
   "metadata": {},
   "outputs": [
    {
     "data": {
      "text/plain": [
       "2582.699192368661"
      ]
     },
     "execution_count": 252,
     "metadata": {},
     "output_type": "execute_result"
    }
   ],
   "source": [
    "calculate_mean_for_plz(polytest, df_points)"
   ]
  },
  {
   "cell_type": "code",
   "execution_count": null,
   "metadata": {},
   "outputs": [],
   "source": []
  }
 ],
 "metadata": {
  "kernelspec": {
   "display_name": "Python 3",
   "language": "python",
   "name": "python3"
  },
  "language_info": {
   "codemirror_mode": {
    "name": "ipython",
    "version": 3
   },
   "file_extension": ".py",
   "mimetype": "text/x-python",
   "name": "python",
   "nbconvert_exporter": "python",
   "pygments_lexer": "ipython3",
   "version": "3.8.5"
  }
 },
 "nbformat": 4,
 "nbformat_minor": 4
}
