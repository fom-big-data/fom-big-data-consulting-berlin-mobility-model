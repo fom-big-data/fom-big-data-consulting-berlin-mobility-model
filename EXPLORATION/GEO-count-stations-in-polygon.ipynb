{
 "cells": [
  {
   "cell_type": "markdown",
   "metadata": {},
   "source": [
    "# Count of Points in Geometries\n",
    "\n",
    "## **actual only Polygon and Point**\n",
    "\n",
    "### TODO .. MultiPoint, LineString and so on"
   ]
  },
  {
   "cell_type": "markdown",
   "metadata": {},
   "source": [
    "#### import"
   ]
  },
  {
   "cell_type": "code",
   "execution_count": 62,
   "metadata": {},
   "outputs": [],
   "source": [
    "from shapely.geometry import Point, Polygon\n",
    "import geopandas as gp\n",
    "import pandas as pd\n",
    "from points_in_polygons import if_point_inpolygon, count_points_in_polygon, count_points_in_polygonlist"
   ]
  },
  {
   "cell_type": "markdown",
   "metadata": {},
   "source": [
    "#### Test"
   ]
  },
  {
   "cell_type": "code",
   "execution_count": 45,
   "metadata": {},
   "outputs": [],
   "source": [
    "# Create Point objects\n",
    "p1 = Point(24.952242, 60.1696017)\n",
    "p2 = Point(24.976567, 60.1612500)\n",
    "\n",
    "p3 = Point(13.8, 57.77)\n",
    "\n",
    "# Create a Polygon\n",
    "coords = [(24.950899, 60.169158), (24.953492, 60.169158), (24.953510, 60.170104), (24.950958, 60.169990)]\n",
    "poly = Polygon(coords)"
   ]
  },
  {
   "cell_type": "code",
   "execution_count": 76,
   "metadata": {},
   "outputs": [
    {
     "name": "stdout",
     "output_type": "stream",
     "text": [
      "List of Points -> [<shapely.geometry.point.Point object at 0x7fd265b99f40>, <shapely.geometry.point.Point object at 0x7fd265b99ee0>, <shapely.geometry.point.Point object at 0x7fd265b99fa0>]\n",
      "\n",
      "Check Point3 -> False\n",
      "Check Point1 -> True\n",
      "Count/Check List of Points in Polygon -> 1\n"
     ]
    }
   ],
   "source": [
    "pointlist = [p1,p2,p3]\n",
    "print(\"List of Points -> \"+str(pointlist)+\"\\n\")\n",
    "print(\"Check Point3 -> \"+str(p3.within(poly)))\n",
    "print(\"Check Point1 -> \"+str(p1.within(poly)))\n",
    "print(\"Count/Check List of Points in Polygon -> \"+str(count_points_in_polygon(poly,pointlist)))"
   ]
  },
  {
   "cell_type": "code",
   "execution_count": 52,
   "metadata": {},
   "outputs": [],
   "source": [
    "#actual all stations where i can find\n",
    "stationsvbb = gp.read_file(\"../results/vbb-stations.geojson\")\n",
    "stationsvbbsu = gp.read_file(\"../results/vbb-stations-s-u-bahn.geojson\")\n",
    "stationsnextb  = gp.read_file(\"../results/nextbike-stations.geojson\")\n",
    "stationsjelbi = gp.read_file(\"../results/jelbi-stations.geojson\")\n",
    "# Polygons from inhab-postal geojson\n",
    "postalarea = gp.read_file(\"../results/berlin-inhabitants.geojson\")"
   ]
  },
  {
   "cell_type": "code",
   "execution_count": 55,
   "metadata": {},
   "outputs": [],
   "source": [
    "# add an dummy attribut public for the int list\n",
    "postalarea[\"public\"]=0"
   ]
  },
  {
   "cell_type": "code",
   "execution_count": 57,
   "metadata": {},
   "outputs": [],
   "source": [
    "# transform dfx.geometry to list for the methodes\n",
    "polygonlist = postalarea.geometry.tolist()\n",
    "pointlist = stationsvbbsu.geometry.tolist()"
   ]
  },
  {
   "cell_type": "code",
   "execution_count": 59,
   "metadata": {},
   "outputs": [
    {
     "name": "stdout",
     "output_type": "stream",
     "text": [
      "2556\n",
      "198\n"
     ]
    }
   ],
   "source": [
    "# check the len \n",
    "print(len(pointlist))\n",
    "print(len(polygonlist))"
   ]
  },
  {
   "cell_type": "code",
   "execution_count": 61,
   "metadata": {},
   "outputs": [],
   "source": [
    "#count the points in polygonlist\n",
    "countliste = count_points_in_polygonlist(polygonlist,pointlist)"
   ]
  },
  {
   "cell_type": "code",
   "execution_count": 63,
   "metadata": {},
   "outputs": [
    {
     "name": "stdout",
     "output_type": "stream",
     "text": [
      "198\n"
     ]
    }
   ],
   "source": [
    "#check the count list len .. must equal the polygon list\n",
    "print(len(countliste))"
   ]
  },
  {
   "cell_type": "code",
   "execution_count": 64,
   "metadata": {},
   "outputs": [],
   "source": [
    "#concat all public stations to one dataframe\n",
    "vbb_all = pd.concat([stationsvbbsu, stationsvbb])"
   ]
  },
  {
   "cell_type": "code",
   "execution_count": 65,
   "metadata": {},
   "outputs": [],
   "source": [
    "#extract all points as a list\n",
    "pointlist = vbb_all.geometry.tolist()"
   ]
  },
  {
   "cell_type": "code",
   "execution_count": 66,
   "metadata": {},
   "outputs": [],
   "source": [
    "#counting\n",
    "countliste = count_points_in_polygonlist(polygonlist,pointlist)"
   ]
  },
  {
   "cell_type": "code",
   "execution_count": 67,
   "metadata": {},
   "outputs": [
    {
     "name": "stdout",
     "output_type": "stream",
     "text": [
      "198\n"
     ]
    }
   ],
   "source": [
    "#check the len\n",
    "print(len(countliste))"
   ]
  },
  {
   "cell_type": "code",
   "execution_count": 68,
   "metadata": {},
   "outputs": [],
   "source": [
    "#add the values of public station counting to polygons \n",
    "postalarea[\"public\"] = countliste"
   ]
  },
  {
   "cell_type": "code",
   "execution_count": 69,
   "metadata": {},
   "outputs": [],
   "source": [
    "#dummy attribute for commercial counting\n",
    "postalarea[\"com\"] = 0"
   ]
  },
  {
   "cell_type": "code",
   "execution_count": 70,
   "metadata": {},
   "outputs": [],
   "source": [
    "#concact two dataframes with commercial stations\n",
    "com_all = pd.concat([stationsnextb, stationsjelbi])"
   ]
  },
  {
   "cell_type": "code",
   "execution_count": 69,
   "metadata": {},
   "outputs": [],
   "source": [
    "#extract a list of points\n",
    "pointlist = com_all.geometry.tolist()"
   ]
  },
  {
   "cell_type": "code",
   "execution_count": 70,
   "metadata": {},
   "outputs": [],
   "source": [
    "#counting the points in polygons\n",
    "countliste = count_points_in_polygonlist(polygonlist,pointlist)"
   ]
  },
  {
   "cell_type": "code",
   "execution_count": 72,
   "metadata": {},
   "outputs": [],
   "source": [
    "# fill the attribute com with the int values \n",
    "postalarea[\"com\"] = countliste"
   ]
  },
  {
   "cell_type": "code",
   "execution_count": 73,
   "metadata": {},
   "outputs": [],
   "source": [
    "# save the dataframe with GEOJson driver\n",
    "postalarea.to_file(\"../results/berlin-postal-with-station-count.geojson\", driver='GeoJSON')"
   ]
  },
  {
   "cell_type": "code",
   "execution_count": null,
   "metadata": {},
   "outputs": [],
   "source": []
  }
 ],
 "metadata": {
  "kernelspec": {
   "display_name": "Python 3",
   "language": "python",
   "name": "python3"
  },
  "language_info": {
   "codemirror_mode": {
    "name": "ipython",
    "version": 3
   },
   "file_extension": ".py",
   "mimetype": "text/x-python",
   "name": "python",
   "nbconvert_exporter": "python",
   "pygments_lexer": "ipython3",
   "version": "3.8.5"
  }
 },
 "nbformat": 4,
 "nbformat_minor": 4
}
