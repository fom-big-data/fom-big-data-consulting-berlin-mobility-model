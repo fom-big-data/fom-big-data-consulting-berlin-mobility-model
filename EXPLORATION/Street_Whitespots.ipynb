{
 "cells": [
  {
   "cell_type": "code",
   "execution_count": 6,
   "metadata": {},
   "outputs": [],
   "source": [
    "import osmnx as ox\n",
    "import matplotlib.pyplot as plt\n",
    "import geopandas as gp\n",
    "from geopandas import GeoDataFrame\n",
    "from shapely.geometry import LineString\n",
    "from shapely.geometry import MultiPoint\n",
    "import shapely\n",
    "import networkx as nx\n",
    "import os.path\n",
    "from os import path\n",
    "import pathlib\n",
    "import pandas as pd\n",
    "from datetime import datetime\n",
    "import numpy as np\n",
    "\n",
    "import geopy.distance\n",
    "\n",
    "\n",
    "from OSMPythonTools.api import Api as osm_api\n",
    "ox.config(log_console=True, use_cache=True)"
   ]
  },
  {
   "cell_type": "code",
   "execution_count": 7,
   "metadata": {},
   "outputs": [],
   "source": [
    "# Isochrone Maxspeed\n",
    "\n",
    "start_point = (52.5153, 13.4040)\n",
    "hours_of_day = range(24)\n",
    "speed_aggregate = 'mean' # min, mean, max\n",
    "local_set = False\n",
    "path = 'travel_time+uberJan2020.graphml'"
   ]
  },
  {
   "cell_type": "code",
   "execution_count": 8,
   "metadata": {},
   "outputs": [],
   "source": [
    "#G = ox.graph.graph_from_point(start_point, dist=dist, dist_type='network', network_type='drive')\n",
    "#, simplify=True, retain_all=False, truncate_by_edge=False, clean_periphery=True, custom_filter=None)\n",
    "\n",
    "\n"
   ]
  },
  {
   "cell_type": "code",
   "execution_count": 9,
   "metadata": {},
   "outputs": [],
   "source": [
    "if local_set:\n",
    "    G = ox.graph.graph_from_place('Berlin, Germany', retain_all=True, buffer_dist=2500, network_type='drive')\n",
    "    speed_df_orig = pd.read_csv('../data/Uber_speeds/movement-speeds-hourly-berlin-2020-1.csv')\n",
    "else:\n",
    "    G = ox.io.load_graphml(path)#, node_type=None, node_dtypes=None, edge_dtypes=None)\n",
    "    "
   ]
  },
  {
   "cell_type": "code",
   "execution_count": null,
   "metadata": {},
   "outputs": [],
   "source": [
    "# Load Uber speeds into osm Graph\n",
    "\n",
    "if speed_aggregate == 'min':\n",
    "    speed_df = speed_df_orig.groupby(['osm_way_id','osm_start_node_id','osm_end_node_id']).min()['speed_kph_mean'].reset_index()\n",
    "elif speed_aggregate == 'mean':\n",
    "    speed_df = speed_df_orig.groupby(['osm_way_id','osm_start_node_id','osm_end_node_id']).mean()['speed_kph_mean'].reset_index()\n",
    "elif speed_aggregate == 'max':\n",
    "    speed_df = speed_df_orig.groupby(['osm_way_id','osm_start_node_id','osm_end_node_id']).max()['speed_kph_mean'].reset_index()\n",
    "\n",
    "    \n",
    "for way in speed_df.iloc():\n",
    "    node_ids = [int(way['osm_start_node_id']),int(way['osm_end_node_id'])]\n",
    "    try:\n",
    "        G.edges[min(node_ids),max(node_ids),0]['real_speed'] = way['speed_kph_mean']\n",
    "    except:\n",
    "        pass\n"
   ]
  },
  {
   "cell_type": "code",
   "execution_count": 14,
   "metadata": {},
   "outputs": [],
   "source": [
    "# Calculate Way Times for each Segment\n",
    "\n",
    "for u, v, k, data in G.edges(data=True, keys=True):\n",
    "    #print('maxspeed' in data.keys())\n",
    "    if ('maxspeed' in data.keys()):\n",
    "        #print(isinstance(data['maxspeed'], list))\n",
    "        #print(data['maxspeed'])\n",
    "        #print(type(data['maxspeed']))\n",
    "        if(isinstance(data['maxspeed'], list)):\n",
    "            \n",
    "            \n",
    "            #print(type(data['maxspeed']))\n",
    "            #print(data['maxspeed'])\n",
    "            speed = min(data['maxspeed'])\n",
    "            #print(speed)\n",
    "        else:\n",
    "            speed = data['maxspeed']\n",
    "    else:\n",
    "        speed = 50.0\n",
    "        \n",
    "    if (speed == 'DE:urban'):\n",
    "        speed = 50.0\n",
    "    elif (speed == 'walk'):\n",
    "        speed = 6.0\n",
    "    elif (speed == 'none'):\n",
    "        speed = 130.0\n",
    "        \n",
    "    #print(speed)    \n",
    "    data['time'] = data['length'] / (float(speed) * 1000 / 60)\n",
    "    data['maxspeed'] = float(speed)\n",
    "    #print(data['test_maxspeed'])\n",
    "\n",
    "    \n",
    "    \n",
    "    if ('real_speed' in data.keys()):\n",
    "        real_speed = float(data['real_speed'])\n",
    "    else:\n",
    "        real_speed = speed\n",
    "    data['real_time'] = data['length'] / (float(real_speed)* 1000 / 60)\n",
    "\n",
    "ox.save_graphml(G, filepath='./travel_time+uberJan2020.graphml')"
   ]
  },
  {
   "cell_type": "code",
   "execution_count": 15,
   "metadata": {},
   "outputs": [],
   "source": [
    "#nodes, edges = ox.graph_to_gdfs(G)\n",
    "#set(list(edges['maxspeed'].values))"
   ]
  },
  {
   "cell_type": "code",
   "execution_count": 16,
   "metadata": {},
   "outputs": [],
   "source": [
    "#center_node = ox.get_nearest_node(G, start_point)\n",
    "\n",
    "#subgraph_15 = nx.ego_graph(G, center_node, radius=5, distance='time')\n",
    "#subgraph_15_real = nx.ego_graph(G, center_node, radius=5, distance='real_time')\n",
    "\n",
    "#ox.plot_graph(subgraph_15)\n",
    "#ox.plot_graph(subgraph_15_real)\n",
    "\n"
   ]
  },
  {
   "cell_type": "code",
   "execution_count": 17,
   "metadata": {},
   "outputs": [],
   "source": [
    "#nodes, edges = ox.graph_to_gdfs(subgraph_15_real)\n",
    "\n",
    "#lat, long = MultiPoint(nodes.reset_index()['geometry']).convex_hull.exterior.coords.xy\n",
    "\n",
    "#nodes['geometry'].plot()\n",
    "#zip(lat,long)[0]\n",
    "\n",
    "#MultiPoint(nodes.reset_index()['geometry']).convex_hull\n",
    "    \n",
    "#dist = [geopy.distance.geodesic(point,start_point).meters for point in zip(long,lat)]\n",
    "#np.mean(dist)"
   ]
  },
  {
   "cell_type": "code",
   "execution_count": 18,
   "metadata": {},
   "outputs": [],
   "source": [
    "#nodes, edges = ox.graph_to_gdfs()\n",
    "#edges = edges.sort_values('time')\n",
    "#nodes"
   ]
  },
  {
   "cell_type": "code",
   "execution_count": 41,
   "metadata": {},
   "outputs": [],
   "source": [
    "def getAvgIsochroneDistStreet(start_point, travel_time_min, real_speed=True, plot_subgraph=False):\n",
    "    \n",
    "    center_node = ox.get_nearest_node(G, start_point)\n",
    "    \n",
    "    distance_type = 'real_time' if real_speed else 'time'\n",
    "    \n",
    "    subgraph = nx.ego_graph(G, center_node, radius=travel_time_min, distance=distance_type)\n",
    "    \n",
    "    if plot_subgraph:\n",
    "        ox.plot_graph(subgraph)\n",
    "    \n",
    "    nodes, edges = ox.graph_to_gdfs(subgraph)\n",
    "\n",
    "    lat, long = MultiPoint(nodes.reset_index()['geometry']).convex_hull.exterior.coords.xy\n",
    "    \n",
    "    dist = [geopy.distance.geodesic(point,start_point).meters for point in zip(long,lat)]\n",
    "    #dist = [geopy.distance.geodesic(point,start_point).meters for point in zip(lat,long)]\n",
    "    \n",
    "    return np.mean(dist)\n",
    "    "
   ]
  },
  {
   "cell_type": "code",
   "execution_count": 43,
   "metadata": {},
   "outputs": [
    {
     "data": {
      "text/plain": [
       "2172.1179374040607"
      ]
     },
     "execution_count": 43,
     "metadata": {},
     "output_type": "execute_result"
    }
   ],
   "source": [
    "getAvgIsochroneDistStreet((52.617670, 13.223318), 5)\n",
    "#getAvgIsochroneDistStreet((13.223318, 52.617670), 5)"
   ]
  },
  {
   "cell_type": "code",
   "execution_count": 49,
   "metadata": {},
   "outputs": [],
   "source": [
    "def getAvgIsochroneDistStreet_list(list_of_points, travel_time_min):\n",
    "    list_of_avg = []\n",
    "    for point in list_of_points: \n",
    "        list_of_avg.append(getAvgIsochroneDistStreet(point, travel_time_min, real_speed=True, plot_subgraph=False))\n",
    "    return list_of_avg"
   ]
  },
  {
   "cell_type": "code",
   "execution_count": 50,
   "metadata": {},
   "outputs": [],
   "source": [
    "list_of_points = [(52.5652055, 13.3355015),\n",
    " (52.567033, 13.3466053),\n",
    " (52.567738, 13.3522545),\n",
    " (52.5640768, 13.339564),\n",
    " (52.5633975, 13.3429006),\n",
    " (52.5587807, 13.3373679),\n",
    " (52.5626152, 13.3306441),\n",
    " (52.5640457, 13.3277078),\n",
    " (52.5659103, 13.3202135),\n",
    " (52.5746796, 13.3460089),\n",
    " (52.573666, 13.3521078)]"
   ]
  },
  {
   "cell_type": "code",
   "execution_count": 51,
   "metadata": {},
   "outputs": [
    {
     "data": {
      "text/plain": [
       "[(52.5652055, 13.3355015),\n",
       " (52.567033, 13.3466053),\n",
       " (52.567738, 13.3522545),\n",
       " (52.5640768, 13.339564),\n",
       " (52.5633975, 13.3429006),\n",
       " (52.5587807, 13.3373679),\n",
       " (52.5626152, 13.3306441),\n",
       " (52.5640457, 13.3277078),\n",
       " (52.5659103, 13.3202135),\n",
       " (52.5746796, 13.3460089),\n",
       " (52.573666, 13.3521078)]"
      ]
     },
     "execution_count": 51,
     "metadata": {},
     "output_type": "execute_result"
    }
   ],
   "source": [
    "list_of_points"
   ]
  },
  {
   "cell_type": "code",
   "execution_count": 53,
   "metadata": {},
   "outputs": [
    {
     "data": {
      "text/plain": [
       "[11766.416317775762,\n",
       " 10812.488666984458,\n",
       " 10961.184851116454,\n",
       " 11442.465927365474,\n",
       " 11138.249779635902,\n",
       " 11407.569077393635,\n",
       " 12019.883129042162,\n",
       " 11854.357152209472,\n",
       " 11912.33630113283,\n",
       " 10676.386708925558,\n",
       " 10660.647581727786]"
      ]
     },
     "execution_count": 53,
     "metadata": {},
     "output_type": "execute_result"
    }
   ],
   "source": [
    "getAvgIsochroneDistStreet_list(list_of_points, 15)"
   ]
  },
  {
   "cell_type": "code",
   "execution_count": null,
   "metadata": {},
   "outputs": [],
   "source": []
  }
 ],
 "metadata": {
  "kernelspec": {
   "display_name": "Python 3",
   "language": "python",
   "name": "python3"
  },
  "language_info": {
   "codemirror_mode": {
    "name": "ipython",
    "version": 3
   },
   "file_extension": ".py",
   "mimetype": "text/x-python",
   "name": "python",
   "nbconvert_exporter": "python",
   "pygments_lexer": "ipython3",
   "version": "3.8.5"
  }
 },
 "nbformat": 4,
 "nbformat_minor": 4
}
