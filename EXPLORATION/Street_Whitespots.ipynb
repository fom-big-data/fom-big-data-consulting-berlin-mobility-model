{
 "cells": [
  {
   "cell_type": "code",
   "execution_count": 1,
   "metadata": {},
   "outputs": [],
   "source": [
    "import osmnx as ox\n",
    "import matplotlib.pyplot as plt\n",
    "import geopandas as gp\n",
    "from geopandas import GeoDataFrame\n",
    "from shapely.geometry import LineString\n",
    "from shapely.geometry import MultiPoint\n",
    "from shapely.geometry import Point\n",
    "import shapely\n",
    "import networkx as nx\n",
    "import os.path\n",
    "from os import path\n",
    "import pathlib\n",
    "import pandas as pd\n",
    "from datetime import datetime\n",
    "import numpy as np\n",
    "\n",
    "import geopy.distance\n",
    "\n",
    "\n",
    "from OSMPythonTools.api import Api as osm_api\n",
    "ox.config(log_console=True, use_cache=True)"
   ]
  },
  {
   "cell_type": "code",
   "execution_count": 2,
   "metadata": {},
   "outputs": [],
   "source": [
    "# Isochrone Maxspeed\n",
    "\n",
    "start_point = (52.5153, 13.4040)\n",
    "hours_of_day = range(24)\n",
    "speed_aggregate = 'mean' # min, mean, max\n",
    "local_set = True\n",
    "path = 'travel_time+uberJan2020.graphml'"
   ]
  },
  {
   "cell_type": "code",
   "execution_count": 3,
   "metadata": {},
   "outputs": [],
   "source": [
    "#G = ox.graph.graph_from_point(start_point, dist=dist, dist_type='network', network_type='drive')\n",
    "#, simplify=True, retain_all=False, truncate_by_edge=False, clean_periphery=True, custom_filter=None)\n"
   ]
  },
  {
   "cell_type": "code",
   "execution_count": 5,
   "metadata": {},
   "outputs": [],
   "source": [
    "if local_set:\n",
    "    G = ox.graph.graph_from_place('Berlin, Germany', retain_all=True, buffer_dist=2500, network_type='drive', simplify=False)\n",
    "    speed_df_orig = pd.read_csv('../data/movement-speeds-hourly-berlin-2020-1.csv')\n",
    "else:\n",
    "    G = ox.io.load_graphml(path)#, node_type=None, node_dtypes=None, edge_dtypes=None)\n",
    "    "
   ]
  },
  {
   "cell_type": "code",
   "execution_count": 6,
   "metadata": {},
   "outputs": [],
   "source": [
    "# Load Uber speeds into osm Graph\n",
    "\n",
    "if speed_aggregate == 'min':\n",
    "    speed_df = speed_df_orig.groupby(['osm_way_id','osm_start_node_id','osm_end_node_id']).min()['speed_kph_mean'].reset_index()\n",
    "elif speed_aggregate == 'mean':\n",
    "    speed_df = speed_df_orig.groupby(['osm_way_id','osm_start_node_id','osm_end_node_id']).mean()['speed_kph_mean'].reset_index()\n",
    "elif speed_aggregate == 'max':\n",
    "    speed_df = speed_df_orig.groupby(['osm_way_id','osm_start_node_id','osm_end_node_id']).max()['speed_kph_mean'].reset_index()\n",
    "\n",
    "    \n",
    "for way in speed_df.iloc():\n",
    "    node_ids = [int(way['osm_start_node_id']),int(way['osm_end_node_id'])]\n",
    "    try:\n",
    "        G.edges[min(node_ids),max(node_ids),0]['real_speed'] = way['speed_kph_mean']\n",
    "    except:\n",
    "        pass\n"
   ]
  },
  {
   "cell_type": "code",
   "execution_count": 7,
   "metadata": {},
   "outputs": [],
   "source": [
    "# Calculate Way Times for each Segment\n",
    "\n",
    "for u, v, k, data in G.edges(data=True, keys=True):\n",
    "    #print('maxspeed' in data.keys())\n",
    "    if ('maxspeed' in data.keys()):\n",
    "        #print(isinstance(data['maxspeed'], list))\n",
    "        #print(data['maxspeed'])\n",
    "        #print(type(data['maxspeed']))\n",
    "        if(isinstance(data['maxspeed'], list)):\n",
    "            \n",
    "            \n",
    "            #print(type(data['maxspeed']))\n",
    "            #print(data['maxspeed'])\n",
    "            speed = min(data['maxspeed'])\n",
    "            #print(speed)\n",
    "        else:\n",
    "            speed = data['maxspeed']\n",
    "    else:\n",
    "        speed = 50.0\n",
    "        \n",
    "    if (speed == 'DE:urban'):\n",
    "        speed = 50.0\n",
    "    elif (speed == 'walk'):\n",
    "        speed = 6.0\n",
    "    elif (speed == 'none'):\n",
    "        speed = 130.0\n",
    "        \n",
    "    #print(speed)    \n",
    "    data['time'] = data['length'] / (float(speed) * 1000 / 60)\n",
    "    data['maxspeed'] = float(speed)\n",
    "    #print(data['test_maxspeed'])\n",
    "\n",
    "    \n",
    "    \n",
    "    if ('real_speed' in data.keys()):\n",
    "        real_speed = float(data['real_speed'])\n",
    "    else:\n",
    "        real_speed = speed\n",
    "    data['real_time'] = data['length'] / (float(real_speed)* 1000 / 60)\n",
    "\n",
    "ox.save_graphml(G, filepath='./travel_time+uberJan2020.graphml')"
   ]
  },
  {
   "cell_type": "code",
   "execution_count": 8,
   "metadata": {},
   "outputs": [],
   "source": [
    "#nodes, edges = ox.graph_to_gdfs(G)\n",
    "#set(list(edges['maxspeed'].values))"
   ]
  },
  {
   "cell_type": "code",
   "execution_count": 9,
   "metadata": {},
   "outputs": [],
   "source": [
    "#center_node = ox.get_nearest_node(G, start_point)\n",
    "\n",
    "#subgraph_15 = nx.ego_graph(G, center_node, radius=5, distance='time')\n",
    "#subgraph_15_real = nx.ego_graph(G, center_node, radius=5, distance='real_time')\n",
    "\n",
    "#ox.plot_graph(subgraph_15)\n",
    "#ox.plot_graph(subgraph_15_real)\n",
    "\n"
   ]
  },
  {
   "cell_type": "code",
   "execution_count": 10,
   "metadata": {},
   "outputs": [],
   "source": [
    "#nodes, edges = ox.graph_to_gdfs(subgraph_15_real)\n",
    "\n",
    "#lat, long = MultiPoint(nodes.reset_index()['geometry']).convex_hull.exterior.coords.xy\n",
    "\n",
    "#nodes['geometry'].plot()\n",
    "#zip(lat,long)[0]\n",
    "\n",
    "#MultiPoint(nodes.reset_index()['geometry']).convex_hull\n",
    "    \n",
    "#dist = [geopy.distance.geodesic(point,start_point).meters for point in zip(long,lat)]\n",
    "#np.mean(dist)"
   ]
  },
  {
   "cell_type": "code",
   "execution_count": 11,
   "metadata": {},
   "outputs": [],
   "source": [
    "#nodes, edges = ox.graph_to_gdfs()\n",
    "#edges = edges.sort_values('time')\n",
    "#nodes"
   ]
  },
  {
   "cell_type": "code",
   "execution_count": 12,
   "metadata": {},
   "outputs": [],
   "source": [
    "def getAvgIsochroneDistStreet(start_point, travel_time_min, real_speed=True, plot_subgraph=False):\n",
    "    x, y = Point(start_point).xy\n",
    "    center_node = ox.get_nearest_node(G, (y[0],x[0]))\n",
    "    dist=[]\n",
    "    distance_type = 'real_time' if real_speed else 'time'\n",
    "    \n",
    "    subgraph = nx.ego_graph(G, center_node, radius=travel_time_min, distance=distance_type)\n",
    "    \n",
    "    dist = []\n",
    "    if plot_subgraph:\n",
    "        ox.plot_graph(subgraph)\n",
    "    nodes, edges = ox.graph_to_gdfs(subgraph)\n",
    "    lat, long = MultiPoint(nodes.reset_index()['geometry']).convex_hull.exterior.coords.xy\n",
    "    #dist = []\n",
    "    \n",
    "    for point in zip(lat,long):\n",
    "        try:\n",
    "            dist.append(geopy.distance.geodesic(point,start_point).meters)\n",
    "        except:\n",
    "            dist.append(float(0.0))\n",
    "    \n",
    "    return np.mean(dist)\n",
    "                            "
   ]
  },
  {
   "cell_type": "code",
   "execution_count": 12,
   "metadata": {},
   "outputs": [
    {
     "data": {
      "text/plain": [
       "2910.7369366390253"
      ]
     },
     "execution_count": 12,
     "metadata": {},
     "output_type": "execute_result"
    }
   ],
   "source": [
    "#getAvgIsochroneDistStreet((52.617670, 13.223318), 5)\n",
    "getAvgIsochroneDistStreet((13.223318, 52.617670), 5)"
   ]
  },
  {
   "cell_type": "code",
   "execution_count": 13,
   "metadata": {},
   "outputs": [
    {
     "data": {
      "text/plain": [
       "2910.7369366390253"
      ]
     },
     "execution_count": 13,
     "metadata": {},
     "output_type": "execute_result"
    }
   ],
   "source": [
    "#getAvgIsochroneDistStreet((52.617670, 13.223318), 5)\n",
    "getAvgIsochroneDistStreet((13.223318, 52.617670), 5)"
   ]
  },
  {
   "cell_type": "code",
   "execution_count": 14,
   "metadata": {},
   "outputs": [],
   "source": [
    "def getAvgIsochroneDistStreet_list(list_of_points, travel_time_min):\n",
    "    list_of_avg = []\n",
    "    for point in list_of_points:\n",
    "        try:\n",
    "            list_of_avg.append(getAvgIsochroneDistStreet(point, travel_time_min, real_speed=True, plot_subgraph=False))\n",
    "        except:\n",
    "            list_of_avg.append(float(0.0))\n",
    "    return list_of_avg\n",
    "    #return [getAvgIsochroneDistStreet(point, travel_time_min, real_speed=True, plot_subgraph=False) for point in list_of_points ]"
   ]
  },
  {
   "cell_type": "code",
   "execution_count": 15,
   "metadata": {},
   "outputs": [],
   "source": [
    "list_of_points = [(13.3355015, 52.5652055),\n",
    " (13.3466053, 52.567033),\n",
    " (13.3522545, 52.567738),\n",
    " (13.339564, 52.5640768),\n",
    " (13.3429006, 52.5633975),\n",
    " (13.3373679, 52.5587807),\n",
    " (13.3306441, 52.5626152),\n",
    " (13.3277078, 52.5640457),\n",
    " (13.3202135, 52.5659103),\n",
    " (13.3460089, 52.5746796),\n",
    " (13.3521078, 52.573666),\n",
    " (13.223318, 52.617670)]"
   ]
  },
  {
   "cell_type": "code",
   "execution_count": 164,
   "metadata": {},
   "outputs": [
    {
     "data": {
      "text/plain": [
       "[(13.3355015, 52.5652055),\n",
       " (13.3466053, 52.567033),\n",
       " (13.3522545, 52.567738),\n",
       " (13.339564, 52.5640768),\n",
       " (13.3429006, 52.5633975),\n",
       " (13.3373679, 52.5587807),\n",
       " (13.3306441, 52.5626152),\n",
       " (13.3277078, 52.5640457),\n",
       " (13.3202135, 52.5659103),\n",
       " (13.3460089, 52.5746796),\n",
       " (13.3521078, 52.573666),\n",
       " (13.223318, 52.61767)]"
      ]
     },
     "execution_count": 164,
     "metadata": {},
     "output_type": "execute_result"
    }
   ],
   "source": [
    "list_of_points"
   ]
  },
  {
   "cell_type": "code",
   "execution_count": 16,
   "metadata": {},
   "outputs": [
    {
     "data": {
      "text/plain": [
       "[(13.3355015, 52.5652055),\n",
       " (13.3466053, 52.567033),\n",
       " (13.3522545, 52.567738),\n",
       " (13.339564, 52.5640768),\n",
       " (13.3429006, 52.5633975),\n",
       " (13.3373679, 52.5587807),\n",
       " (13.3306441, 52.5626152),\n",
       " (13.3277078, 52.5640457),\n",
       " (13.3202135, 52.5659103),\n",
       " (13.3460089, 52.5746796),\n",
       " (13.3521078, 52.573666),\n",
       " (13.223318, 52.61767)]"
      ]
     },
     "execution_count": 16,
     "metadata": {},
     "output_type": "execute_result"
    }
   ],
   "source": [
    "list_of_points"
   ]
  },
  {
   "cell_type": "code",
   "execution_count": 17,
   "metadata": {},
   "outputs": [
    {
     "data": {
      "text/plain": [
       "list"
      ]
     },
     "execution_count": 17,
     "metadata": {},
     "output_type": "execute_result"
    }
   ],
   "source": [
    "type(list_of_points)"
   ]
  },
  {
   "cell_type": "code",
   "execution_count": 18,
   "metadata": {},
   "outputs": [
    {
     "data": {
      "text/plain": [
       "tuple"
      ]
     },
     "execution_count": 18,
     "metadata": {},
     "output_type": "execute_result"
    }
   ],
   "source": [
    "type(list_of_points[0])"
   ]
  },
  {
   "cell_type": "code",
   "execution_count": 167,
   "metadata": {},
   "outputs": [
    {
     "data": {
      "text/plain": [
       "[966.3989078822983,\n",
       " 893.7996979168427,\n",
       " 775.1927108393782,\n",
       " 549.3071439668252,\n",
       " 802.4380705938473,\n",
       " 779.0320054908456,\n",
       " 923.2139286447663,\n",
       " 846.7789439417503,\n",
       " 836.629831889678,\n",
       " 871.7162721339846,\n",
       " 960.6990439838968,\n",
       " 248.1645827665362]"
      ]
     },
     "execution_count": 167,
     "metadata": {},
     "output_type": "execute_result"
    }
   ],
   "source": [
    "getAvgIsochroneDistStreet_list(list_of_points, 1)"
   ]
  },
  {
   "cell_type": "code",
   "execution_count": 19,
   "metadata": {},
   "outputs": [
    {
     "data": {
      "text/plain": [
       "[966.3989078822983,\n",
       " 893.7996979168427,\n",
       " 775.1927108393782,\n",
       " 549.3071439668252,\n",
       " 802.4380705938473,\n",
       " 779.0320054908456,\n",
       " 923.2139286447663,\n",
       " 846.7789439417503,\n",
       " 836.629831889678,\n",
       " 871.7162721339846,\n",
       " 960.6990439838968,\n",
       " 248.1645827665362]"
      ]
     },
     "execution_count": 19,
     "metadata": {},
     "output_type": "execute_result"
    }
   ],
   "source": [
    "getAvgIsochroneDistStreet_list(list_of_points, 1)"
   ]
  },
  {
   "cell_type": "markdown",
   "metadata": {},
   "source": [
    "#  AvgIsoDistance of a PointList"
   ]
  },
  {
   "cell_type": "code",
   "execution_count": 21,
   "metadata": {},
   "outputs": [
    {
     "data": {
      "text/plain": [
       "<AxesSubplot:>"
      ]
     },
     "execution_count": 21,
     "metadata": {},
     "output_type": "execute_result"
    },
    {
     "data": {
      "image/png": "[encoded data removed]",
      "text/plain": [
       "<Figure size 432x288 with 1 Axes>"
      ]
     },
     "metadata": {
      "needs_background": "light"
     },
     "output_type": "display_data"
    }
   ],
   "source": [
    "#samplepoints = gp.read_file(\"../results/sample-points.json\")\n",
    "samplepoints = gp.read_file(\"../results/sample-points.geojson\")\n",
    "samplepoints.plot()"
   ]
  },
  {
   "cell_type": "code",
   "execution_count": 22,
   "metadata": {},
   "outputs": [
    {
     "data": {
      "text/html": [
       "<div>\n",
       "<style scoped>\n",
       "    .dataframe tbody tr th:only-of-type {\n",
       "        vertical-align: middle;\n",
       "    }\n",
       "\n",
       "    .dataframe tbody tr th {\n",
       "        vertical-align: top;\n",
       "    }\n",
       "\n",
       "    .dataframe thead th {\n",
       "        text-align: right;\n",
       "    }\n",
       "</style>\n",
       "<table border=\"1\" class=\"dataframe\">\n",
       "  <thead>\n",
       "    <tr style=\"text-align: right;\">\n",
       "      <th></th>\n",
       "      <th>geometry</th>\n",
       "    </tr>\n",
       "  </thead>\n",
       "  <tbody>\n",
       "    <tr>\n",
       "      <th>0</th>\n",
       "      <td>POINT (13.40766 52.39305)</td>\n",
       "    </tr>\n",
       "    <tr>\n",
       "      <th>1</th>\n",
       "      <td>POINT (13.29389 52.62069)</td>\n",
       "    </tr>\n",
       "    <tr>\n",
       "      <th>2</th>\n",
       "      <td>POINT (13.55983 52.39874)</td>\n",
       "    </tr>\n",
       "    <tr>\n",
       "      <th>3</th>\n",
       "      <td>POINT (13.32518 52.48467)</td>\n",
       "    </tr>\n",
       "    <tr>\n",
       "      <th>4</th>\n",
       "      <td>POINT (13.46647 52.66642)</td>\n",
       "    </tr>\n",
       "    <tr>\n",
       "      <th>...</th>\n",
       "      <td>...</td>\n",
       "    </tr>\n",
       "    <tr>\n",
       "      <th>9995</th>\n",
       "      <td>POINT (13.26623 52.51403)</td>\n",
       "    </tr>\n",
       "    <tr>\n",
       "      <th>9996</th>\n",
       "      <td>POINT (13.33180 52.46694)</td>\n",
       "    </tr>\n",
       "    <tr>\n",
       "      <th>9997</th>\n",
       "      <td>POINT (13.59042 52.51521)</td>\n",
       "    </tr>\n",
       "    <tr>\n",
       "      <th>9998</th>\n",
       "      <td>POINT (13.39571 52.44361)</td>\n",
       "    </tr>\n",
       "    <tr>\n",
       "      <th>9999</th>\n",
       "      <td>POINT (13.23582 52.54467)</td>\n",
       "    </tr>\n",
       "  </tbody>\n",
       "</table>\n",
       "<p>10000 rows × 1 columns</p>\n",
       "</div>"
      ],
      "text/plain": [
       "                       geometry\n",
       "0     POINT (13.40766 52.39305)\n",
       "1     POINT (13.29389 52.62069)\n",
       "2     POINT (13.55983 52.39874)\n",
       "3     POINT (13.32518 52.48467)\n",
       "4     POINT (13.46647 52.66642)\n",
       "...                         ...\n",
       "9995  POINT (13.26623 52.51403)\n",
       "9996  POINT (13.33180 52.46694)\n",
       "9997  POINT (13.59042 52.51521)\n",
       "9998  POINT (13.39571 52.44361)\n",
       "9999  POINT (13.23582 52.54467)\n",
       "\n",
       "[10000 rows x 1 columns]"
      ]
     },
     "execution_count": 22,
     "metadata": {},
     "output_type": "execute_result"
    }
   ],
   "source": [
    "samplepoints"
   ]
  },
  {
   "cell_type": "code",
   "execution_count": 23,
   "metadata": {},
   "outputs": [],
   "source": [
    "geodf = gp.read_file(\"../results/isochrones-drive-15.geojson\")\n"
   ]
  },
  {
   "cell_type": "code",
   "execution_count": 24,
   "metadata": {},
   "outputs": [],
   "source": [
    "#samplepoints.geometry.tolist()"
   ]
  },
  {
   "cell_type": "code",
   "execution_count": 25,
   "metadata": {},
   "outputs": [
    {
     "name": "stderr",
     "output_type": "stream",
     "text": [
      "C:\\Users\\micha\\anaconda3\\envs\\geo\\lib\\site-packages\\geopandas\\geodataframe.py:422: RuntimeWarning: Sequential read of iterator was interrupted. Resetting iterator. This can negatively impact the performance.\n",
      "  for feature in features_lst:\n"
     ]
    }
   ],
   "source": [
    "samplepoints = gp.read_file(\"../results/sample-points.csv\")"
   ]
  },
  {
   "cell_type": "code",
   "execution_count": 26,
   "metadata": {},
   "outputs": [
    {
     "data": {
      "text/html": [
       "<div>\n",
       "<style scoped>\n",
       "    .dataframe tbody tr th:only-of-type {\n",
       "        vertical-align: middle;\n",
       "    }\n",
       "\n",
       "    .dataframe tbody tr th {\n",
       "        vertical-align: top;\n",
       "    }\n",
       "\n",
       "    .dataframe thead th {\n",
       "        text-align: right;\n",
       "    }\n",
       "</style>\n",
       "<table border=\"1\" class=\"dataframe\">\n",
       "  <thead>\n",
       "    <tr style=\"text-align: right;\">\n",
       "      <th></th>\n",
       "      <th>field_1</th>\n",
       "      <th>field_2</th>\n",
       "    </tr>\n",
       "  </thead>\n",
       "  <tbody>\n",
       "    <tr>\n",
       "      <th>0</th>\n",
       "      <td>13.407658767026547</td>\n",
       "      <td>52.393048113138015</td>\n",
       "    </tr>\n",
       "    <tr>\n",
       "      <th>1</th>\n",
       "      <td>13.293887436892298</td>\n",
       "      <td>52.62069091743619</td>\n",
       "    </tr>\n",
       "    <tr>\n",
       "      <th>2</th>\n",
       "      <td>13.559826799428494</td>\n",
       "      <td>52.39873609001193</td>\n",
       "    </tr>\n",
       "    <tr>\n",
       "      <th>3</th>\n",
       "      <td>13.325182388650976</td>\n",
       "      <td>52.484672415195845</td>\n",
       "    </tr>\n",
       "    <tr>\n",
       "      <th>4</th>\n",
       "      <td>13.466470594920276</td>\n",
       "      <td>52.6664231476963</td>\n",
       "    </tr>\n",
       "    <tr>\n",
       "      <th>...</th>\n",
       "      <td>...</td>\n",
       "      <td>...</td>\n",
       "    </tr>\n",
       "    <tr>\n",
       "      <th>9995</th>\n",
       "      <td>13.266233615413078</td>\n",
       "      <td>52.5140268518015</td>\n",
       "    </tr>\n",
       "    <tr>\n",
       "      <th>9996</th>\n",
       "      <td>13.331797338216681</td>\n",
       "      <td>52.466937990238605</td>\n",
       "    </tr>\n",
       "    <tr>\n",
       "      <th>9997</th>\n",
       "      <td>13.590419553202727</td>\n",
       "      <td>52.51520653463045</td>\n",
       "    </tr>\n",
       "    <tr>\n",
       "      <th>9998</th>\n",
       "      <td>13.395710236497312</td>\n",
       "      <td>52.44360655522949</td>\n",
       "    </tr>\n",
       "    <tr>\n",
       "      <th>9999</th>\n",
       "      <td>13.235821096877997</td>\n",
       "      <td>52.54466619465846</td>\n",
       "    </tr>\n",
       "  </tbody>\n",
       "</table>\n",
       "<p>10000 rows × 2 columns</p>\n",
       "</div>"
      ],
      "text/plain": [
       "                 field_1             field_2\n",
       "0     13.407658767026547  52.393048113138015\n",
       "1     13.293887436892298   52.62069091743619\n",
       "2     13.559826799428494   52.39873609001193\n",
       "3     13.325182388650976  52.484672415195845\n",
       "4     13.466470594920276    52.6664231476963\n",
       "...                  ...                 ...\n",
       "9995  13.266233615413078    52.5140268518015\n",
       "9996  13.331797338216681  52.466937990238605\n",
       "9997  13.590419553202727   52.51520653463045\n",
       "9998  13.395710236497312   52.44360655522949\n",
       "9999  13.235821096877997   52.54466619465846\n",
       "\n",
       "[10000 rows x 2 columns]"
      ]
     },
     "execution_count": 26,
     "metadata": {},
     "output_type": "execute_result"
    }
   ],
   "source": [
    "samplepoints = samplepoints[['field_1', 'field_2']]\n",
    "samplepoints"
   ]
  },
  {
   "cell_type": "code",
   "execution_count": 27,
   "metadata": {},
   "outputs": [
    {
     "name": "stdout",
     "output_type": "stream",
     "text": [
      "<class 'pandas.core.frame.DataFrame'>\n",
      "RangeIndex: 10000 entries, 0 to 9999\n",
      "Data columns (total 2 columns):\n",
      " #   Column   Non-Null Count  Dtype \n",
      "---  ------   --------------  ----- \n",
      " 0   field_1  10000 non-null  object\n",
      " 1   field_2  10000 non-null  object\n",
      "dtypes: object(2)\n",
      "memory usage: 156.4+ KB\n"
     ]
    }
   ],
   "source": [
    "samplepoints.info()"
   ]
  },
  {
   "cell_type": "code",
   "execution_count": 28,
   "metadata": {},
   "outputs": [
    {
     "data": {
      "text/plain": [
       "field_1    float64\n",
       "field_2    float64\n",
       "dtype: object"
      ]
     },
     "execution_count": 28,
     "metadata": {},
     "output_type": "execute_result"
    }
   ],
   "source": [
    "# changing the dataframe  \n",
    "# data types to string \n",
    "samplepoints = samplepoints.astype(float) \n",
    "  \n",
    "# show the data types  \n",
    "# of dataframe \n",
    "samplepoints.dtypes"
   ]
  },
  {
   "cell_type": "code",
   "execution_count": 29,
   "metadata": {},
   "outputs": [],
   "source": [
    "samplepoints = samplepoints.apply(tuple, axis=1)\n"
   ]
  },
  {
   "cell_type": "code",
   "execution_count": 30,
   "metadata": {},
   "outputs": [],
   "source": [
    "samplepoints = samplepoints.tolist()"
   ]
  },
  {
   "cell_type": "code",
   "execution_count": 31,
   "metadata": {},
   "outputs": [
    {
     "data": {
      "text/plain": [
       "[(13.407658767026547, 52.393048113138015),\n",
       " (13.293887436892298, 52.62069091743619),\n",
       " (13.559826799428494, 52.39873609001193),\n",
       " (13.325182388650976, 52.484672415195845),\n",
       " (13.466470594920276, 52.6664231476963)]"
      ]
     },
     "execution_count": 31,
     "metadata": {},
     "output_type": "execute_result"
    }
   ],
   "source": [
    "samplepoints[0:5]"
   ]
  },
  {
   "cell_type": "code",
   "execution_count": null,
   "metadata": {},
   "outputs": [],
   "source": []
  },
  {
   "cell_type": "code",
   "execution_count": 32,
   "metadata": {},
   "outputs": [],
   "source": [
    "#geodf = geodf.apply(tuple, axis=1)"
   ]
  },
  {
   "cell_type": "code",
   "execution_count": 33,
   "metadata": {},
   "outputs": [],
   "source": [
    "#df = pd.read_json(\"../results/sample-points.geojson\")\n",
    "#print(\"len (\"+str(len(df))+\")\")\n",
    "#df.head(5)"
   ]
  },
  {
   "cell_type": "code",
   "execution_count": 34,
   "metadata": {},
   "outputs": [],
   "source": [
    "#geodf = gp.GeoDataFrame(samplepoints)\n",
    "#print(\"len (\"+str(len(geodf))+\")\")\n",
    "#geodf.head(5)"
   ]
  },
  {
   "cell_type": "code",
   "execution_count": 35,
   "metadata": {},
   "outputs": [],
   "source": [
    "#geodf = gp.GeoDataFrame(geodf)\n",
    "#geodf.rename(columns = {0:'geometry'}, inplace = True) \n",
    "#geodf"
   ]
  },
  {
   "cell_type": "code",
   "execution_count": 36,
   "metadata": {},
   "outputs": [
    {
     "data": {
      "image/svg+xml": [
       "<svg xmlns=\"http://www.w3.org/2000/svg\" xmlns:xlink=\"http://www.w3.org/1999/xlink\" width=\"100.0\" height=\"100.0\" viewBox=\"12.406899879057638 51.63922539580549 2.0 2.0\" preserveAspectRatio=\"xMinYMin meet\"><g transform=\"matrix(1,0,0,-1,0,105.27845079161098)\"><circle cx=\"13.406899879057638\" cy=\"52.63922539580549\" r=\"0.06\" stroke=\"#555555\" stroke-width=\"0.02\" fill=\"#66cc99\" opacity=\"0.6\" /></g></svg>"
      ],
      "text/plain": [
       "<shapely.geometry.point.Point at 0x19bb13ad5b0>"
      ]
     },
     "execution_count": 36,
     "metadata": {},
     "output_type": "execute_result"
    }
   ],
   "source": [
    "geodf.geometry[1]"
   ]
  },
  {
   "cell_type": "code",
   "execution_count": 37,
   "metadata": {},
   "outputs": [],
   "source": [
    "#print(f'NumPy Array:\\n{arr}')\n",
    "#list1 = geodf.values().toList()\n",
    "#list1=[]\n",
    "#for i in range(len(geodf)):\n",
    "#    list1.append(geodf.geometry[i])\n"
   ]
  },
  {
   "cell_type": "code",
   "execution_count": 38,
   "metadata": {},
   "outputs": [],
   "source": [
    "list1 = samplepoints"
   ]
  },
  {
   "cell_type": "markdown",
   "metadata": {},
   "source": [
    "# Fixed\n",
    "\n",
    "# 5 Minute Calculation"
   ]
  },
  {
   "cell_type": "code",
   "execution_count": 39,
   "metadata": {},
   "outputs": [],
   "source": [
    "avg_iso_list = getAvgIsochroneDistStreet_list(list1,5)\n",
    "#avg_iso_list = getAvgIsochroneDistStreet_list(list1[182:199], 5)"
   ]
  },
  {
   "cell_type": "code",
   "execution_count": 40,
   "metadata": {},
   "outputs": [
    {
     "data": {
      "text/plain": [
       "[4511.410114105008,\n",
       " 3441.480203037102,\n",
       " 3616.025751478763,\n",
       " 4536.1740164189805,\n",
       " 3548.545198114402,\n",
       " 3345.7143986817114,\n",
       " 4442.512393771328,\n",
       " 4016.725200777777,\n",
       " 5387.435185750388,\n",
       " 3831.962818340905]"
      ]
     },
     "execution_count": 40,
     "metadata": {},
     "output_type": "execute_result"
    }
   ],
   "source": [
    "avg_iso_list[0:10]"
   ]
  },
  {
   "cell_type": "code",
   "execution_count": 41,
   "metadata": {},
   "outputs": [],
   "source": [
    "geo_points = gp.read_file(\"../results/sample-points.geojson\")"
   ]
  },
  {
   "cell_type": "code",
   "execution_count": 42,
   "metadata": {},
   "outputs": [
    {
     "data": {
      "text/html": [
       "<div>\n",
       "<style scoped>\n",
       "    .dataframe tbody tr th:only-of-type {\n",
       "        vertical-align: middle;\n",
       "    }\n",
       "\n",
       "    .dataframe tbody tr th {\n",
       "        vertical-align: top;\n",
       "    }\n",
       "\n",
       "    .dataframe thead th {\n",
       "        text-align: right;\n",
       "    }\n",
       "</style>\n",
       "<table border=\"1\" class=\"dataframe\">\n",
       "  <thead>\n",
       "    <tr style=\"text-align: right;\">\n",
       "      <th></th>\n",
       "      <th>geometry</th>\n",
       "    </tr>\n",
       "  </thead>\n",
       "  <tbody>\n",
       "    <tr>\n",
       "      <th>0</th>\n",
       "      <td>POINT (13.40766 52.39305)</td>\n",
       "    </tr>\n",
       "    <tr>\n",
       "      <th>1</th>\n",
       "      <td>POINT (13.29389 52.62069)</td>\n",
       "    </tr>\n",
       "    <tr>\n",
       "      <th>2</th>\n",
       "      <td>POINT (13.55983 52.39874)</td>\n",
       "    </tr>\n",
       "    <tr>\n",
       "      <th>3</th>\n",
       "      <td>POINT (13.32518 52.48467)</td>\n",
       "    </tr>\n",
       "    <tr>\n",
       "      <th>4</th>\n",
       "      <td>POINT (13.46647 52.66642)</td>\n",
       "    </tr>\n",
       "    <tr>\n",
       "      <th>...</th>\n",
       "      <td>...</td>\n",
       "    </tr>\n",
       "    <tr>\n",
       "      <th>9995</th>\n",
       "      <td>POINT (13.26623 52.51403)</td>\n",
       "    </tr>\n",
       "    <tr>\n",
       "      <th>9996</th>\n",
       "      <td>POINT (13.33180 52.46694)</td>\n",
       "    </tr>\n",
       "    <tr>\n",
       "      <th>9997</th>\n",
       "      <td>POINT (13.59042 52.51521)</td>\n",
       "    </tr>\n",
       "    <tr>\n",
       "      <th>9998</th>\n",
       "      <td>POINT (13.39571 52.44361)</td>\n",
       "    </tr>\n",
       "    <tr>\n",
       "      <th>9999</th>\n",
       "      <td>POINT (13.23582 52.54467)</td>\n",
       "    </tr>\n",
       "  </tbody>\n",
       "</table>\n",
       "<p>10000 rows × 1 columns</p>\n",
       "</div>"
      ],
      "text/plain": [
       "                       geometry\n",
       "0     POINT (13.40766 52.39305)\n",
       "1     POINT (13.29389 52.62069)\n",
       "2     POINT (13.55983 52.39874)\n",
       "3     POINT (13.32518 52.48467)\n",
       "4     POINT (13.46647 52.66642)\n",
       "...                         ...\n",
       "9995  POINT (13.26623 52.51403)\n",
       "9996  POINT (13.33180 52.46694)\n",
       "9997  POINT (13.59042 52.51521)\n",
       "9998  POINT (13.39571 52.44361)\n",
       "9999  POINT (13.23582 52.54467)\n",
       "\n",
       "[10000 rows x 1 columns]"
      ]
     },
     "execution_count": 42,
     "metadata": {},
     "output_type": "execute_result"
    }
   ],
   "source": [
    "geo_points"
   ]
  },
  {
   "cell_type": "code",
   "execution_count": 45,
   "metadata": {},
   "outputs": [
    {
     "data": {
      "text/plain": [
       "[(13.407658767026547, 52.393048113138015),\n",
       " (13.293887436892298, 52.62069091743619),\n",
       " (13.559826799428494, 52.39873609001193),\n",
       " (13.325182388650976, 52.484672415195845),\n",
       " (13.466470594920276, 52.6664231476963)]"
      ]
     },
     "execution_count": 45,
     "metadata": {},
     "output_type": "execute_result"
    }
   ],
   "source": []
  },
  {
   "cell_type": "code",
   "execution_count": 43,
   "metadata": {},
   "outputs": [],
   "source": [
    "geo_points[\"avg_dist\"] = avg_iso_list"
   ]
  },
  {
   "cell_type": "code",
   "execution_count": 44,
   "metadata": {},
   "outputs": [
    {
     "data": {
      "text/html": [
       "<div>\n",
       "<style scoped>\n",
       "    .dataframe tbody tr th:only-of-type {\n",
       "        vertical-align: middle;\n",
       "    }\n",
       "\n",
       "    .dataframe tbody tr th {\n",
       "        vertical-align: top;\n",
       "    }\n",
       "\n",
       "    .dataframe thead th {\n",
       "        text-align: right;\n",
       "    }\n",
       "</style>\n",
       "<table border=\"1\" class=\"dataframe\">\n",
       "  <thead>\n",
       "    <tr style=\"text-align: right;\">\n",
       "      <th></th>\n",
       "      <th>geometry</th>\n",
       "      <th>avg_dist</th>\n",
       "    </tr>\n",
       "  </thead>\n",
       "  <tbody>\n",
       "    <tr>\n",
       "      <th>0</th>\n",
       "      <td>POINT (13.40766 52.39305)</td>\n",
       "      <td>4511.410114</td>\n",
       "    </tr>\n",
       "    <tr>\n",
       "      <th>1</th>\n",
       "      <td>POINT (13.29389 52.62069)</td>\n",
       "      <td>3441.480203</td>\n",
       "    </tr>\n",
       "    <tr>\n",
       "      <th>2</th>\n",
       "      <td>POINT (13.55983 52.39874)</td>\n",
       "      <td>3616.025751</td>\n",
       "    </tr>\n",
       "    <tr>\n",
       "      <th>3</th>\n",
       "      <td>POINT (13.32518 52.48467)</td>\n",
       "      <td>4536.174016</td>\n",
       "    </tr>\n",
       "    <tr>\n",
       "      <th>4</th>\n",
       "      <td>POINT (13.46647 52.66642)</td>\n",
       "      <td>3548.545198</td>\n",
       "    </tr>\n",
       "    <tr>\n",
       "      <th>...</th>\n",
       "      <td>...</td>\n",
       "      <td>...</td>\n",
       "    </tr>\n",
       "    <tr>\n",
       "      <th>9995</th>\n",
       "      <td>POINT (13.26623 52.51403)</td>\n",
       "      <td>5338.312755</td>\n",
       "    </tr>\n",
       "    <tr>\n",
       "      <th>9996</th>\n",
       "      <td>POINT (13.33180 52.46694)</td>\n",
       "      <td>4770.537873</td>\n",
       "    </tr>\n",
       "    <tr>\n",
       "      <th>9997</th>\n",
       "      <td>POINT (13.59042 52.51521)</td>\n",
       "      <td>4322.059142</td>\n",
       "    </tr>\n",
       "    <tr>\n",
       "      <th>9998</th>\n",
       "      <td>POINT (13.39571 52.44361)</td>\n",
       "      <td>4141.479509</td>\n",
       "    </tr>\n",
       "    <tr>\n",
       "      <th>9999</th>\n",
       "      <td>POINT (13.23582 52.54467)</td>\n",
       "      <td>4017.031739</td>\n",
       "    </tr>\n",
       "  </tbody>\n",
       "</table>\n",
       "<p>10000 rows × 2 columns</p>\n",
       "</div>"
      ],
      "text/plain": [
       "                       geometry     avg_dist\n",
       "0     POINT (13.40766 52.39305)  4511.410114\n",
       "1     POINT (13.29389 52.62069)  3441.480203\n",
       "2     POINT (13.55983 52.39874)  3616.025751\n",
       "3     POINT (13.32518 52.48467)  4536.174016\n",
       "4     POINT (13.46647 52.66642)  3548.545198\n",
       "...                         ...          ...\n",
       "9995  POINT (13.26623 52.51403)  5338.312755\n",
       "9996  POINT (13.33180 52.46694)  4770.537873\n",
       "9997  POINT (13.59042 52.51521)  4322.059142\n",
       "9998  POINT (13.39571 52.44361)  4141.479509\n",
       "9999  POINT (13.23582 52.54467)  4017.031739\n",
       "\n",
       "[10000 rows x 2 columns]"
      ]
     },
     "execution_count": 44,
     "metadata": {},
     "output_type": "execute_result"
    }
   ],
   "source": [
    "geo_points"
   ]
  },
  {
   "cell_type": "code",
   "execution_count": null,
   "metadata": {},
   "outputs": [],
   "source": [
    "#geodf[\"geometry\"] = Point()\n",
    "#for i in range(len(geodf)):\n",
    "#    geodf.geometry[i] = Point(geodf.lon[i],geodf.lat[i],)\n",
    "#del geodf[\"lon\"]\n",
    "#del geodf[\"lat\"]\n",
    "#geodf = geodf[['geometry','avg_dist']]\n",
    "#geodf"
   ]
  },
  {
   "cell_type": "code",
   "execution_count": 46,
   "metadata": {},
   "outputs": [],
   "source": [
    "geo_points.to_file(\"../results/isochrones-drive-5.geojson\", driver='GeoJSON')"
   ]
  },
  {
   "cell_type": "markdown",
   "metadata": {},
   "source": [
    "# 10 Minute Calculation"
   ]
  },
  {
   "cell_type": "code",
   "execution_count": 47,
   "metadata": {},
   "outputs": [],
   "source": [
    "avg_iso_list = getAvgIsochroneDistStreet_list(list1, 10)\n",
    "geo_points[\"avg_dist\"] = avg_iso_list\n",
    "geo_points.to_file(\"../results/isochrones-drive-10.geojson\", driver='GeoJSON')"
   ]
  },
  {
   "cell_type": "markdown",
   "metadata": {},
   "source": [
    "# 15 Minute Calculation"
   ]
  },
  {
   "cell_type": "code",
   "execution_count": null,
   "metadata": {},
   "outputs": [],
   "source": [
    "avg_iso_list = getAvgIsochroneDistStreet_list(list1, 15)\n",
    "geo_points[\"avg_dist\"] = avg_iso_list\n",
    "geo_points.to_file(\"../results/isochrones-drive-15.geojson\", driver='GeoJSON')"
   ]
  },
  {
   "cell_type": "markdown",
   "metadata": {},
   "source": [
    "# 20 Minutes Calculation"
   ]
  },
  {
   "cell_type": "code",
   "execution_count": null,
   "metadata": {},
   "outputs": [],
   "source": [
    "avg_iso_list = getAvgIsochroneDistStreet_list(list1, 20)\n",
    "geo_points[\"avg_dist\"] = avg_iso_list\n",
    "geo_points.to_file(\"../results/isochrones-drive-20.geojson\", driver='GeoJSON')"
   ]
  },
  {
   "cell_type": "code",
   "execution_count": 161,
   "metadata": {},
   "outputs": [
    {
     "data": {
      "text/plain": [
       "[31359.76148149969, 30267.012743275332]"
      ]
     },
     "execution_count": 161,
     "metadata": {},
     "output_type": "execute_result"
    }
   ],
   "source": [
    "avg_iso_list[0:100]"
   ]
  },
  {
   "cell_type": "code",
   "execution_count": null,
   "metadata": {},
   "outputs": [],
   "source": []
  }
 ],
 "metadata": {
  "kernelspec": {
   "display_name": "Python 3",
   "language": "python",
   "name": "python3"
  },
  "language_info": {
   "codemirror_mode": {
    "name": "ipython",
    "version": 3
   },
   "file_extension": ".py",
   "mimetype": "text/x-python",
   "name": "python",
   "nbconvert_exporter": "python",
   "pygments_lexer": "ipython3",
   "version": "3.8.5"
  }
 },
 "nbformat": 4,
 "nbformat_minor": 4
}
