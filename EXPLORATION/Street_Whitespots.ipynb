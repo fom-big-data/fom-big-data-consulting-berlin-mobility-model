{
 "cells": [
  {
   "cell_type": "code",
   "execution_count": 2,
   "metadata": {},
   "outputs": [],
   "source": [
    "import osmnx as ox\n",
    "import matplotlib.pyplot as plt\n",
    "import geopandas as gp\n",
    "from geopandas import GeoDataFrame\n",
    "from shapely.geometry import LineString\n",
    "from shapely.geometry import MultiPoint\n",
    "from shapely.geometry import Point\n",
    "import shapely\n",
    "import networkx as nx\n",
    "import os.path\n",
    "from os import path\n",
    "import pathlib\n",
    "import pandas as pd\n",
    "from datetime import datetime\n",
    "import numpy as np\n",
    "\n",
    "import geopy.distance\n",
    "\n",
    "\n",
    "from OSMPythonTools.api import Api as osm_api\n",
    "ox.config(log_console=True, use_cache=True)"
   ]
  },
  {
   "cell_type": "code",
   "execution_count": 3,
   "metadata": {},
   "outputs": [],
   "source": [
    "# Isochrone Maxspeed\n",
    "\n",
    "start_point = (52.5153, 13.4040)\n",
    "hours_of_day = range(24)\n",
    "speed_aggregate = 'mean' # min, mean, max\n",
    "local_set = False\n",
    "path = 'travel_time+uberJan2020.graphml'"
   ]
  },
  {
   "cell_type": "code",
   "execution_count": 4,
   "metadata": {},
   "outputs": [],
   "source": [
    "#G = ox.graph.graph_from_point(start_point, dist=dist, dist_type='network', network_type='drive')\n",
    "#, simplify=True, retain_all=False, truncate_by_edge=False, clean_periphery=True, custom_filter=None)\n",
    "\n",
    "\n"
   ]
  },
  {
   "cell_type": "code",
   "execution_count": 5,
   "metadata": {},
   "outputs": [],
   "source": [
    "if local_set:\n",
    "    G = ox.graph.graph_from_place('Berlin, Germany', retain_all=True, buffer_dist=2500, network_type='drive')\n",
    "    speed_df_orig = pd.read_csv('../data/Uber_speeds/movement-speeds-hourly-berlin-2020-1.csv')\n",
    "else:\n",
    "    G = ox.io.load_graphml(path)#, node_type=None, node_dtypes=None, edge_dtypes=None)\n",
    "    "
   ]
  },
  {
   "cell_type": "code",
   "execution_count": null,
   "metadata": {},
   "outputs": [],
   "source": [
    "# Load Uber speeds into osm Graph\n",
    "\n",
    "if speed_aggregate == 'min':\n",
    "    speed_df = speed_df_orig.groupby(['osm_way_id','osm_start_node_id','osm_end_node_id']).min()['speed_kph_mean'].reset_index()\n",
    "elif speed_aggregate == 'mean':\n",
    "    speed_df = speed_df_orig.groupby(['osm_way_id','osm_start_node_id','osm_end_node_id']).mean()['speed_kph_mean'].reset_index()\n",
    "elif speed_aggregate == 'max':\n",
    "    speed_df = speed_df_orig.groupby(['osm_way_id','osm_start_node_id','osm_end_node_id']).max()['speed_kph_mean'].reset_index()\n",
    "\n",
    "    \n",
    "for way in speed_df.iloc():\n",
    "    node_ids = [int(way['osm_start_node_id']),int(way['osm_end_node_id'])]\n",
    "    try:\n",
    "        G.edges[min(node_ids),max(node_ids),0]['real_speed'] = way['speed_kph_mean']\n",
    "    except:\n",
    "        pass\n"
   ]
  },
  {
   "cell_type": "code",
   "execution_count": 6,
   "metadata": {},
   "outputs": [],
   "source": [
    "# Calculate Way Times for each Segment\n",
    "\n",
    "for u, v, k, data in G.edges(data=True, keys=True):\n",
    "    #print('maxspeed' in data.keys())\n",
    "    if ('maxspeed' in data.keys()):\n",
    "        #print(isinstance(data['maxspeed'], list))\n",
    "        #print(data['maxspeed'])\n",
    "        #print(type(data['maxspeed']))\n",
    "        if(isinstance(data['maxspeed'], list)):\n",
    "            \n",
    "            \n",
    "            #print(type(data['maxspeed']))\n",
    "            #print(data['maxspeed'])\n",
    "            speed = min(data['maxspeed'])\n",
    "            #print(speed)\n",
    "        else:\n",
    "            speed = data['maxspeed']\n",
    "    else:\n",
    "        speed = 50.0\n",
    "        \n",
    "    if (speed == 'DE:urban'):\n",
    "        speed = 50.0\n",
    "    elif (speed == 'walk'):\n",
    "        speed = 6.0\n",
    "    elif (speed == 'none'):\n",
    "        speed = 130.0\n",
    "        \n",
    "    #print(speed)    \n",
    "    data['time'] = data['length'] / (float(speed) * 1000 / 60)\n",
    "    data['maxspeed'] = float(speed)\n",
    "    #print(data['test_maxspeed'])\n",
    "\n",
    "    \n",
    "    \n",
    "    if ('real_speed' in data.keys()):\n",
    "        real_speed = float(data['real_speed'])\n",
    "    else:\n",
    "        real_speed = speed\n",
    "    data['real_time'] = data['length'] / (float(real_speed)* 1000 / 60)\n",
    "\n",
    "ox.save_graphml(G, filepath='./travel_time+uberJan2020.graphml')"
   ]
  },
  {
   "cell_type": "code",
   "execution_count": 7,
   "metadata": {},
   "outputs": [],
   "source": [
    "#nodes, edges = ox.graph_to_gdfs(G)\n",
    "#set(list(edges['maxspeed'].values))"
   ]
  },
  {
   "cell_type": "code",
   "execution_count": 8,
   "metadata": {},
   "outputs": [],
   "source": [
    "#center_node = ox.get_nearest_node(G, start_point)\n",
    "\n",
    "#subgraph_15 = nx.ego_graph(G, center_node, radius=5, distance='time')\n",
    "#subgraph_15_real = nx.ego_graph(G, center_node, radius=5, distance='real_time')\n",
    "\n",
    "#ox.plot_graph(subgraph_15)\n",
    "#ox.plot_graph(subgraph_15_real)\n",
    "\n"
   ]
  },
  {
   "cell_type": "code",
   "execution_count": 9,
   "metadata": {},
   "outputs": [],
   "source": [
    "#nodes, edges = ox.graph_to_gdfs(subgraph_15_real)\n",
    "\n",
    "#lat, long = MultiPoint(nodes.reset_index()['geometry']).convex_hull.exterior.coords.xy\n",
    "\n",
    "#nodes['geometry'].plot()\n",
    "#zip(lat,long)[0]\n",
    "\n",
    "#MultiPoint(nodes.reset_index()['geometry']).convex_hull\n",
    "    \n",
    "#dist = [geopy.distance.geodesic(point,start_point).meters for point in zip(long,lat)]\n",
    "#np.mean(dist)"
   ]
  },
  {
   "cell_type": "code",
   "execution_count": 10,
   "metadata": {},
   "outputs": [],
   "source": [
    "#nodes, edges = ox.graph_to_gdfs()\n",
    "#edges = edges.sort_values('time')\n",
    "#nodes"
   ]
  },
  {
   "cell_type": "code",
   "execution_count": 124,
   "metadata": {},
   "outputs": [],
   "source": [
    "def getAvgIsochroneDistStreet(start_point, travel_time_min, real_speed=True, plot_subgraph=False):\n",
    "    x, y = Point(start_point).xy\n",
    "    #print(\"y -> \"+str(y))\n",
    "    #print(\"x -> \"+str(x))\n",
    "    #start_point = [x,y]\n",
    "    #print(start_point)\n",
    "    center_node = ox.get_nearest_node(G, (y[0],x[0]))\n",
    "    dist=[]\n",
    "    distance_type = 'real_time' if real_speed else 'time'\n",
    "    \n",
    "    subgraph = nx.ego_graph(G, center_node, radius=travel_time_min, distance=distance_type)\n",
    "    \n",
    "    if plot_subgraph:\n",
    "        ox.plot_graph(subgraph)\n",
    "    nodes, edges = ox.graph_to_gdfs(subgraph)\n",
    "    lat, long = MultiPoint(nodes.reset_index()['geometry']).convex_hull.exterior.coords.xy\n",
    "    \n",
    "    dist = [geopy.distance.geodesic(point,start_point).meters for point in zip(lat,long)]\n",
    "   \n",
    "    #long, lat = MultiPoint(nodes.reset_index()['geometry']).convex_hull.exterior.coords.xy\n",
    "    #dist = [geopy.distance.geodesic(point,start_point).meters for point in zip(long,lat)]\n",
    "    \n",
    "    #for point in zip(lat,long):\n",
    "    #    try:\n",
    "    #        dist.append(geopy.distance.geodesic(point,start_point).meters)\n",
    "    #    except:\n",
    "    #        dist.append(float(0.0)\n",
    "    \n",
    "    return np.mean(dist)"
   ]
  },
  {
   "cell_type": "code",
   "execution_count": 125,
   "metadata": {},
   "outputs": [
    {
     "data": {
      "text/plain": [
       "2741.3243554480105"
      ]
     },
     "execution_count": 125,
     "metadata": {},
     "output_type": "execute_result"
    }
   ],
   "source": [
    "#getAvgIsochroneDistStreet((52.617670, 13.223318), 5)\n",
    "getAvgIsochroneDistStreet((13.223318, 52.617670), 5)"
   ]
  },
  {
   "cell_type": "code",
   "execution_count": 126,
   "metadata": {},
   "outputs": [],
   "source": [
    "def getAvgIsochroneDistStreet_list(list_of_points, travel_time_min):\n",
    "    #list_of_avg = []\n",
    "    #for point in list_of_points: \n",
    "        #list_of_avg.append(getAvgIsochroneDistStreet(point, travel_time_min, real_speed=True, plot_subgraph=False))\n",
    "    #return list_of_avg\n",
    "    return [getAvgIsochroneDistStreet(point, travel_time_min, real_speed=True, plot_subgraph=False) for point in list_of_points ]"
   ]
  },
  {
   "cell_type": "code",
   "execution_count": 127,
   "metadata": {},
   "outputs": [],
   "source": [
    "list_of_points = [(13.3355015, 52.5652055),\n",
    " (13.3466053, 52.567033),\n",
    " (13.3522545, 52.567738),\n",
    " (13.339564, 52.5640768),\n",
    " (13.3429006, 52.5633975),\n",
    " (13.3373679, 52.5587807),\n",
    " (13.3306441, 52.5626152),\n",
    " (13.3277078, 52.5640457),\n",
    " (13.3202135, 52.5659103),\n",
    " (13.3460089, 52.5746796),\n",
    " (13.3521078, 52.573666),\n",
    " (13.223318, 52.617670)]"
   ]
  },
  {
   "cell_type": "code",
   "execution_count": 128,
   "metadata": {},
   "outputs": [
    {
     "data": {
      "text/plain": [
       "[(13.3355015, 52.5652055),\n",
       " (13.3466053, 52.567033),\n",
       " (13.3522545, 52.567738),\n",
       " (13.339564, 52.5640768),\n",
       " (13.3429006, 52.5633975),\n",
       " (13.3373679, 52.5587807),\n",
       " (13.3306441, 52.5626152),\n",
       " (13.3277078, 52.5640457),\n",
       " (13.3202135, 52.5659103),\n",
       " (13.3460089, 52.5746796),\n",
       " (13.3521078, 52.573666),\n",
       " (13.223318, 52.61767)]"
      ]
     },
     "execution_count": 128,
     "metadata": {},
     "output_type": "execute_result"
    }
   ],
   "source": [
    "list_of_points"
   ]
  },
  {
   "cell_type": "code",
   "execution_count": 129,
   "metadata": {},
   "outputs": [
    {
     "data": {
      "text/plain": [
       "[4506.090132233297,\n",
       " 4149.491464808888,\n",
       " 4203.411025505457,\n",
       " 4209.87430365739,\n",
       " 4020.941884888438,\n",
       " 4357.086723708959,\n",
       " 4912.219138834144,\n",
       " 4886.933472775906,\n",
       " 4799.4748232026595,\n",
       " 4134.692843293698,\n",
       " 4276.305608664883,\n",
       " 2741.3243554480105]"
      ]
     },
     "execution_count": 129,
     "metadata": {},
     "output_type": "execute_result"
    }
   ],
   "source": [
    "getAvgIsochroneDistStreet_list(list_of_points, 5)"
   ]
  },
  {
   "cell_type": "markdown",
   "metadata": {},
   "source": [
    "#  AvgIsoDistance of a PointList"
   ]
  },
  {
   "cell_type": "code",
   "execution_count": 130,
   "metadata": {},
   "outputs": [
    {
     "data": {
      "text/plain": [
       "<AxesSubplot:>"
      ]
     },
     "execution_count": 130,
     "metadata": {},
     "output_type": "execute_result"
    },
    {
     "data": {
      "image/png": "[encoded data removed]",
      "text/plain": [
       "<Figure size 432x288 with 1 Axes>"
      ]
     },
     "metadata": {
      "needs_background": "light"
     },
     "output_type": "display_data"
    }
   ],
   "source": [
    "samplepoints = gp.read_file(\"../results/sample-points.geojson\")\n",
    "samplepoints.plot()"
   ]
  },
  {
   "cell_type": "code",
   "execution_count": 131,
   "metadata": {},
   "outputs": [
    {
     "name": "stdout",
     "output_type": "stream",
     "text": [
      "len (9900)\n"
     ]
    },
    {
     "data": {
      "text/html": [
       "<div>\n",
       "<style scoped>\n",
       "    .dataframe tbody tr th:only-of-type {\n",
       "        vertical-align: middle;\n",
       "    }\n",
       "\n",
       "    .dataframe tbody tr th {\n",
       "        vertical-align: top;\n",
       "    }\n",
       "\n",
       "    .dataframe thead th {\n",
       "        text-align: right;\n",
       "    }\n",
       "</style>\n",
       "<table border=\"1\" class=\"dataframe\">\n",
       "  <thead>\n",
       "    <tr style=\"text-align: right;\">\n",
       "      <th></th>\n",
       "      <th>lon</th>\n",
       "      <th>lat</th>\n",
       "    </tr>\n",
       "  </thead>\n",
       "  <tbody>\n",
       "    <tr>\n",
       "      <th>0</th>\n",
       "      <td>13.174125</td>\n",
       "      <td>52.412713</td>\n",
       "    </tr>\n",
       "    <tr>\n",
       "      <th>1</th>\n",
       "      <td>13.161901</td>\n",
       "      <td>52.442945</td>\n",
       "    </tr>\n",
       "    <tr>\n",
       "      <th>2</th>\n",
       "      <td>13.148899</td>\n",
       "      <td>52.401989</td>\n",
       "    </tr>\n",
       "    <tr>\n",
       "      <th>3</th>\n",
       "      <td>13.146245</td>\n",
       "      <td>52.403329</td>\n",
       "    </tr>\n",
       "    <tr>\n",
       "      <th>4</th>\n",
       "      <td>13.133518</td>\n",
       "      <td>52.425969</td>\n",
       "    </tr>\n",
       "  </tbody>\n",
       "</table>\n",
       "</div>"
      ],
      "text/plain": [
       "         lon        lat\n",
       "0  13.174125  52.412713\n",
       "1  13.161901  52.442945\n",
       "2  13.148899  52.401989\n",
       "3  13.146245  52.403329\n",
       "4  13.133518  52.425969"
      ]
     },
     "execution_count": 131,
     "metadata": {},
     "output_type": "execute_result"
    }
   ],
   "source": [
    "df = pd.read_json(\"../results/sample-points.json\")\n",
    "print(\"len (\"+str(len(df))+\")\")\n",
    "df.head(5)"
   ]
  },
  {
   "cell_type": "code",
   "execution_count": 132,
   "metadata": {},
   "outputs": [
    {
     "name": "stdout",
     "output_type": "stream",
     "text": [
      "len (9900)\n"
     ]
    },
    {
     "data": {
      "text/html": [
       "<div>\n",
       "<style scoped>\n",
       "    .dataframe tbody tr th:only-of-type {\n",
       "        vertical-align: middle;\n",
       "    }\n",
       "\n",
       "    .dataframe tbody tr th {\n",
       "        vertical-align: top;\n",
       "    }\n",
       "\n",
       "    .dataframe thead th {\n",
       "        text-align: right;\n",
       "    }\n",
       "</style>\n",
       "<table border=\"1\" class=\"dataframe\">\n",
       "  <thead>\n",
       "    <tr style=\"text-align: right;\">\n",
       "      <th></th>\n",
       "      <th>lon</th>\n",
       "      <th>lat</th>\n",
       "    </tr>\n",
       "  </thead>\n",
       "  <tbody>\n",
       "    <tr>\n",
       "      <th>0</th>\n",
       "      <td>13.174125</td>\n",
       "      <td>52.412713</td>\n",
       "    </tr>\n",
       "    <tr>\n",
       "      <th>1</th>\n",
       "      <td>13.161901</td>\n",
       "      <td>52.442945</td>\n",
       "    </tr>\n",
       "    <tr>\n",
       "      <th>2</th>\n",
       "      <td>13.148899</td>\n",
       "      <td>52.401989</td>\n",
       "    </tr>\n",
       "    <tr>\n",
       "      <th>3</th>\n",
       "      <td>13.146245</td>\n",
       "      <td>52.403329</td>\n",
       "    </tr>\n",
       "    <tr>\n",
       "      <th>4</th>\n",
       "      <td>13.133518</td>\n",
       "      <td>52.425969</td>\n",
       "    </tr>\n",
       "  </tbody>\n",
       "</table>\n",
       "</div>"
      ],
      "text/plain": [
       "         lon        lat\n",
       "0  13.174125  52.412713\n",
       "1  13.161901  52.442945\n",
       "2  13.148899  52.401989\n",
       "3  13.146245  52.403329\n",
       "4  13.133518  52.425969"
      ]
     },
     "execution_count": 132,
     "metadata": {},
     "output_type": "execute_result"
    }
   ],
   "source": [
    "geodf = gp.GeoDataFrame(df)\n",
    "print(\"len (\"+str(len(geodf))+\")\")\n",
    "geodf.head(5)"
   ]
  },
  {
   "cell_type": "code",
   "execution_count": 133,
   "metadata": {},
   "outputs": [],
   "source": [
    "#print(f'NumPy Array:\\n{arr}')\n",
    "list1 = geodf.values.tolist()"
   ]
  },
  {
   "cell_type": "code",
   "execution_count": 134,
   "metadata": {},
   "outputs": [
    {
     "data": {
      "text/plain": [
       "[[13.161901338074973, 52.442944744460114],\n",
       " [13.148898817301504, 52.40198937293523],\n",
       " [13.146245476951975, 52.40332926172103],\n",
       " [13.133517862921396, 52.425968953045654]]"
      ]
     },
     "execution_count": 134,
     "metadata": {},
     "output_type": "execute_result"
    }
   ],
   "source": [
    "list1[1:5]"
   ]
  },
  {
   "cell_type": "markdown",
   "metadata": {},
   "source": [
    "## Wenn die Punkte nicht genug Verbindungen aufweisen bzw. ausreichend vertreten sind, kann die Convexe Hülle nicht gebaut werden und es wird eine Exception geworfen ... schwelle liegt bei 189:191 ... danach wieder partiell möglich"
   ]
  },
  {
   "cell_type": "code",
   "execution_count": 135,
   "metadata": {},
   "outputs": [],
   "source": [
    "avg_iso_list = getAvgIsochroneDistStreet_list(list1[0:150], 5)\n",
    "#Haesslicher Fehler ???\n",
    "#avg_iso_list = getAvgIsochroneDistStreet_list(list1[182:199], 5)"
   ]
  },
  {
   "cell_type": "code",
   "execution_count": 136,
   "metadata": {},
   "outputs": [
    {
     "data": {
      "text/plain": [
       "[3628.3781959415255,\n",
       " 2837.6579043388647,\n",
       " 3094.084498788022,\n",
       " 3208.976297993617,\n",
       " 2750.6975706596036,\n",
       " 4491.889788368286,\n",
       " 1617.0576763053925,\n",
       " 3409.845747860628,\n",
       " 4334.702348841503,\n",
       " 3617.1187248020797,\n",
       " 4887.71085776833,\n",
       " 2466.216896817992,\n",
       " 3265.3757659034095,\n",
       " 3214.2915999008283,\n",
       " 3432.050903401288,\n",
       " 2790.205657283627,\n",
       " 3506.22546953351,\n",
       " 2574.9519758016854,\n",
       " 4226.451192305865,\n",
       " 3024.091837587158,\n",
       " 3528.8201097215842,\n",
       " 2104.904121288704,\n",
       " 3206.3719383350954,\n",
       " 3926.7324790179046,\n",
       " 4303.800961453869,\n",
       " 3066.800105302719,\n",
       " 4641.8936091952355,\n",
       " 2297.9998762184964,\n",
       " 4769.2339289787515,\n",
       " 2917.6548866616317,\n",
       " 3027.8753968768574,\n",
       " 2682.844826744839,\n",
       " 3607.131427782379,\n",
       " 4060.5830634316885,\n",
       " 4286.321188400333,\n",
       " 3820.4312432657016,\n",
       " 4721.6875584410445,\n",
       " 1795.0914681228019,\n",
       " 3094.912701551502,\n",
       " 4287.741184055155,\n",
       " 4531.55346036418,\n",
       " 2750.0295573634235,\n",
       " 4603.330406700012,\n",
       " 2060.818471244114,\n",
       " 3343.0113586933344,\n",
       " 3472.6765829902893,\n",
       " 3358.4172986574504,\n",
       " 3371.6942243847107,\n",
       " 5328.231101442926,\n",
       " 1723.3315400530626,\n",
       " 3305.8913969556374,\n",
       " 3713.353379766279,\n",
       " 3491.254159493035,\n",
       " 2751.4303722378218,\n",
       " 2421.9257292421744,\n",
       " 2899.8537637633654,\n",
       " 3709.741785562495,\n",
       " 2270.1925857974747,\n",
       " 2248.0410519043658,\n",
       " 2681.0336915800804,\n",
       " 3000.986376960235,\n",
       " 3465.9762969222593,\n",
       " 3265.0114786980025,\n",
       " 3251.527442699861,\n",
       " 3756.2267661553165,\n",
       " 4087.3131611351964,\n",
       " 3325.8485711337553,\n",
       " 2783.2720517909233,\n",
       " 2157.4799708052365,\n",
       " 2498.2190997002094,\n",
       " 3801.716827273652,\n",
       " 4067.813240647192,\n",
       " 1683.4302742510188,\n",
       " 4111.474989345088,\n",
       " 2410.6623994209262,\n",
       " 2499.0429897874606,\n",
       " 3320.7950912250817,\n",
       " 2692.2806918754745,\n",
       " 3041.495060026649,\n",
       " 2327.099694233635,\n",
       " 1494.4624986134202,\n",
       " 3218.7304788723854,\n",
       " 2239.8456321755493,\n",
       " 2811.5437068327055,\n",
       " 3209.369399537891,\n",
       " 3272.2902450356773,\n",
       " 2662.4460307036925,\n",
       " 3425.622636224945,\n",
       " 3320.154336589009,\n",
       " 2418.9822232425813,\n",
       " 2756.8796611452703,\n",
       " 3469.7662796144546,\n",
       " 2958.952065309863,\n",
       " 3634.762386052222,\n",
       " 3048.2785567093283,\n",
       " 3040.116941322401,\n",
       " 3020.1629184511858,\n",
       " 4212.909728853269,\n",
       " 3839.67722109661,\n",
       " 3144.7476755946623,\n",
       " 4498.591311278723,\n",
       " 4186.684149623456,\n",
       " 3730.4857760522823,\n",
       " 2783.2728162271787,\n",
       " 3704.150918393736,\n",
       " 3900.2832671055585,\n",
       " 2684.08230869734,\n",
       " 3468.291326327711,\n",
       " 3598.6842515567173,\n",
       " 4744.534089298567,\n",
       " 3822.747519221375,\n",
       " 3804.2897008336145,\n",
       " 3793.4537260380066,\n",
       " 2673.937965688426,\n",
       " 3794.6190064852685,\n",
       " 609.2003797841335,\n",
       " 4595.900649671648,\n",
       " 3846.894669464803,\n",
       " 3391.9096016280696,\n",
       " 4514.42330188369,\n",
       " 3624.47152130434,\n",
       " 3987.6716527593726,\n",
       " 4930.742063376609,\n",
       " 2670.5037910599153,\n",
       " 3640.091020459516,\n",
       " 3600.9089242342247,\n",
       " 4656.8709518662,\n",
       " 4386.823892607223,\n",
       " 3146.844925409933,\n",
       " 4321.645007809162,\n",
       " 3705.612655944042,\n",
       " 3787.5468460419092,\n",
       " 3234.4563752944637,\n",
       " 4454.208572168364,\n",
       " 3905.7760362295903,\n",
       " 4636.0781270321095,\n",
       " 4086.1343074950573,\n",
       " 555.1050289095316,\n",
       " 4178.595701839736,\n",
       " 2668.9406575757334,\n",
       " 4030.466972223904,\n",
       " 3697.4877384316455,\n",
       " 4046.5387429699267,\n",
       " 2285.476016468903,\n",
       " 3872.4929519446264,\n",
       " 3965.0286414858833,\n",
       " 3424.6327723245295,\n",
       " 4287.603762289932,\n",
       " 4050.5788445482,\n",
       " 4229.447720645702]"
      ]
     },
     "execution_count": 136,
     "metadata": {},
     "output_type": "execute_result"
    }
   ],
   "source": [
    "avg_iso_list"
   ]
  },
  {
   "cell_type": "code",
   "execution_count": null,
   "metadata": {},
   "outputs": [],
   "source": [
    "#geodf[\"avg_dist\"] = avg_iso_list"
   ]
  },
  {
   "cell_type": "code",
   "execution_count": 137,
   "metadata": {},
   "outputs": [],
   "source": [
    "newdf = df[0:150]"
   ]
  },
  {
   "cell_type": "code",
   "execution_count": 138,
   "metadata": {},
   "outputs": [
    {
     "name": "stderr",
     "output_type": "stream",
     "text": [
      "<ipython-input-138-629fdb2b7fbb>:1: SettingWithCopyWarning: \n",
      "A value is trying to be set on a copy of a slice from a DataFrame.\n",
      "Try using .loc[row_indexer,col_indexer] = value instead\n",
      "\n",
      "See the caveats in the documentation: https://pandas.pydata.org/pandas-docs/stable/user_guide/indexing.html#returning-a-view-versus-a-copy\n",
      "  newdf[\"avg_iso_distance\"] = avg_iso_list\n"
     ]
    }
   ],
   "source": [
    "newdf[\"avg_iso_distance\"] = avg_iso_list"
   ]
  },
  {
   "cell_type": "code",
   "execution_count": 140,
   "metadata": {},
   "outputs": [
    {
     "data": {
      "text/html": [
       "<div>\n",
       "<style scoped>\n",
       "    .dataframe tbody tr th:only-of-type {\n",
       "        vertical-align: middle;\n",
       "    }\n",
       "\n",
       "    .dataframe tbody tr th {\n",
       "        vertical-align: top;\n",
       "    }\n",
       "\n",
       "    .dataframe thead th {\n",
       "        text-align: right;\n",
       "    }\n",
       "</style>\n",
       "<table border=\"1\" class=\"dataframe\">\n",
       "  <thead>\n",
       "    <tr style=\"text-align: right;\">\n",
       "      <th></th>\n",
       "      <th>lon</th>\n",
       "      <th>lat</th>\n",
       "      <th>avg_iso_distance</th>\n",
       "    </tr>\n",
       "  </thead>\n",
       "  <tbody>\n",
       "    <tr>\n",
       "      <th>count</th>\n",
       "      <td>150.000000</td>\n",
       "      <td>150.000000</td>\n",
       "      <td>150.000000</td>\n",
       "    </tr>\n",
       "    <tr>\n",
       "      <th>mean</th>\n",
       "      <td>13.146385</td>\n",
       "      <td>52.474740</td>\n",
       "      <td>3383.501446</td>\n",
       "    </tr>\n",
       "    <tr>\n",
       "      <th>std</th>\n",
       "      <td>0.021222</td>\n",
       "      <td>0.048923</td>\n",
       "      <td>835.415686</td>\n",
       "    </tr>\n",
       "    <tr>\n",
       "      <th>min</th>\n",
       "      <td>13.090981</td>\n",
       "      <td>52.396558</td>\n",
       "      <td>555.105029</td>\n",
       "    </tr>\n",
       "    <tr>\n",
       "      <th>25%</th>\n",
       "      <td>13.130082</td>\n",
       "      <td>52.426166</td>\n",
       "      <td>2795.540170</td>\n",
       "    </tr>\n",
       "    <tr>\n",
       "      <th>50%</th>\n",
       "      <td>13.144265</td>\n",
       "      <td>52.467208</td>\n",
       "      <td>3425.127704</td>\n",
       "    </tr>\n",
       "    <tr>\n",
       "      <th>75%</th>\n",
       "      <td>13.161714</td>\n",
       "      <td>52.527634</td>\n",
       "      <td>3955.454601</td>\n",
       "    </tr>\n",
       "    <tr>\n",
       "      <th>max</th>\n",
       "      <td>13.197869</td>\n",
       "      <td>52.552970</td>\n",
       "      <td>5328.231101</td>\n",
       "    </tr>\n",
       "  </tbody>\n",
       "</table>\n",
       "</div>"
      ],
      "text/plain": [
       "              lon         lat  avg_iso_distance\n",
       "count  150.000000  150.000000        150.000000\n",
       "mean    13.146385   52.474740       3383.501446\n",
       "std      0.021222    0.048923        835.415686\n",
       "min     13.090981   52.396558        555.105029\n",
       "25%     13.130082   52.426166       2795.540170\n",
       "50%     13.144265   52.467208       3425.127704\n",
       "75%     13.161714   52.527634       3955.454601\n",
       "max     13.197869   52.552970       5328.231101"
      ]
     },
     "execution_count": 140,
     "metadata": {},
     "output_type": "execute_result"
    }
   ],
   "source": [
    "newdf.describe()"
   ]
  },
  {
   "cell_type": "code",
   "execution_count": null,
   "metadata": {},
   "outputs": [],
   "source": []
  }
 ],
 "metadata": {
  "kernelspec": {
   "display_name": "Python 3",
   "language": "python",
   "name": "python3"
  },
  "language_info": {
   "codemirror_mode": {
    "name": "ipython",
    "version": 3
   },
   "file_extension": ".py",
   "mimetype": "text/x-python",
   "name": "python",
   "nbconvert_exporter": "python",
   "pygments_lexer": "ipython3",
   "version": "3.8.5"
  }
 },
 "nbformat": 4,
 "nbformat_minor": 4
}
