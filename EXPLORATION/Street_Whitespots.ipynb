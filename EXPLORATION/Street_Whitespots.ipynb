{
 "cells": [
  {
   "cell_type": "code",
   "execution_count": 1,
   "metadata": {},
   "outputs": [],
   "source": [
    "import osmnx as ox\n",
    "import matplotlib.pyplot as plt\n",
    "import geopandas as gp\n",
    "from geopandas import GeoDataFrame\n",
    "from shapely.geometry import LineString\n",
    "from shapely.geometry import MultiPoint\n",
    "import shapely\n",
    "import networkx as nx\n",
    "import os.path\n",
    "from os import path\n",
    "import pathlib\n",
    "import pandas as pd\n",
    "from datetime import datetime\n",
    "import numpy as np\n",
    "\n",
    "import geopy.distance\n",
    "\n",
    "\n",
    "from OSMPythonTools.api import Api as osm_api\n",
    "ox.config(log_console=True, use_cache=True)"
   ]
  },
  {
   "cell_type": "code",
   "execution_count": 2,
   "metadata": {},
   "outputs": [],
   "source": [
    "# Isochrone Maxspeed\n",
    "\n",
    "start_point = (52.5153, 13.4040)\n",
    "hours_of_day = range(24)\n",
    "speed_aggregate = 'mean' # min, mean, max\n",
    "local_set = False\n",
    "path = 'travel_time+uberJan2020.graphml'"
   ]
  },
  {
   "cell_type": "code",
   "execution_count": 3,
   "metadata": {},
   "outputs": [],
   "source": [
    "#G = ox.graph.graph_from_point(start_point, dist=dist, dist_type='network', network_type='drive')\n",
    "#, simplify=True, retain_all=False, truncate_by_edge=False, clean_periphery=True, custom_filter=None)\n",
    "\n",
    "\n"
   ]
  },
  {
   "cell_type": "code",
   "execution_count": 4,
   "metadata": {},
   "outputs": [],
   "source": [
    "if local_set:\n",
    "    G = ox.graph.graph_from_place('Berlin, Germany', retain_all=True, buffer_dist=2500, network_type='drive')\n",
    "    speed_df_orig = pd.read_csv('../data/Uber_speeds/movement-speeds-hourly-berlin-2020-1.csv')\n",
    "else:\n",
    "    G = ox.io.load_graphml(path)#, node_type=None, node_dtypes=None, edge_dtypes=None)\n",
    "    "
   ]
  },
  {
   "cell_type": "code",
   "execution_count": 5,
   "metadata": {},
   "outputs": [
    {
     "ename": "NameError",
     "evalue": "name 'speed_df_orig' is not defined",
     "output_type": "error",
     "traceback": [
      "\u001b[0;31m-------------------------------------------------------------------------\u001b[0m",
      "\u001b[0;31mNameError\u001b[0m                               Traceback (most recent call last)",
      "\u001b[0;32m<ipython-input-5-e71358a78d56>\u001b[0m in \u001b[0;36m<module>\u001b[0;34m\u001b[0m\n\u001b[1;32m      4\u001b[0m     \u001b[0mspeed_df\u001b[0m \u001b[0;34m=\u001b[0m \u001b[0mspeed_df_orig\u001b[0m\u001b[0;34m.\u001b[0m\u001b[0mgroupby\u001b[0m\u001b[0;34m(\u001b[0m\u001b[0;34m[\u001b[0m\u001b[0;34m'osm_way_id'\u001b[0m\u001b[0;34m,\u001b[0m\u001b[0;34m'osm_start_node_id'\u001b[0m\u001b[0;34m,\u001b[0m\u001b[0;34m'osm_end_node_id'\u001b[0m\u001b[0;34m]\u001b[0m\u001b[0;34m)\u001b[0m\u001b[0;34m.\u001b[0m\u001b[0mmin\u001b[0m\u001b[0;34m(\u001b[0m\u001b[0;34m)\u001b[0m\u001b[0;34m[\u001b[0m\u001b[0;34m'speed_kph_mean'\u001b[0m\u001b[0;34m]\u001b[0m\u001b[0;34m.\u001b[0m\u001b[0mreset_index\u001b[0m\u001b[0;34m(\u001b[0m\u001b[0;34m)\u001b[0m\u001b[0;34m\u001b[0m\u001b[0;34m\u001b[0m\u001b[0m\n\u001b[1;32m      5\u001b[0m \u001b[0;32melif\u001b[0m \u001b[0mspeed_aggregate\u001b[0m \u001b[0;34m==\u001b[0m \u001b[0;34m'mean'\u001b[0m\u001b[0;34m:\u001b[0m\u001b[0;34m\u001b[0m\u001b[0;34m\u001b[0m\u001b[0m\n\u001b[0;32m----> 6\u001b[0;31m     \u001b[0mspeed_df\u001b[0m \u001b[0;34m=\u001b[0m \u001b[0mspeed_df_orig\u001b[0m\u001b[0;34m.\u001b[0m\u001b[0mgroupby\u001b[0m\u001b[0;34m(\u001b[0m\u001b[0;34m[\u001b[0m\u001b[0;34m'osm_way_id'\u001b[0m\u001b[0;34m,\u001b[0m\u001b[0;34m'osm_start_node_id'\u001b[0m\u001b[0;34m,\u001b[0m\u001b[0;34m'osm_end_node_id'\u001b[0m\u001b[0;34m]\u001b[0m\u001b[0;34m)\u001b[0m\u001b[0;34m.\u001b[0m\u001b[0mmean\u001b[0m\u001b[0;34m(\u001b[0m\u001b[0;34m)\u001b[0m\u001b[0;34m[\u001b[0m\u001b[0;34m'speed_kph_mean'\u001b[0m\u001b[0;34m]\u001b[0m\u001b[0;34m.\u001b[0m\u001b[0mreset_index\u001b[0m\u001b[0;34m(\u001b[0m\u001b[0;34m)\u001b[0m\u001b[0;34m\u001b[0m\u001b[0;34m\u001b[0m\u001b[0m\n\u001b[0m\u001b[1;32m      7\u001b[0m \u001b[0;32melif\u001b[0m \u001b[0mspeed_aggregate\u001b[0m \u001b[0;34m==\u001b[0m \u001b[0;34m'max'\u001b[0m\u001b[0;34m:\u001b[0m\u001b[0;34m\u001b[0m\u001b[0;34m\u001b[0m\u001b[0m\n\u001b[1;32m      8\u001b[0m     \u001b[0mspeed_df\u001b[0m \u001b[0;34m=\u001b[0m \u001b[0mspeed_df_orig\u001b[0m\u001b[0;34m.\u001b[0m\u001b[0mgroupby\u001b[0m\u001b[0;34m(\u001b[0m\u001b[0;34m[\u001b[0m\u001b[0;34m'osm_way_id'\u001b[0m\u001b[0;34m,\u001b[0m\u001b[0;34m'osm_start_node_id'\u001b[0m\u001b[0;34m,\u001b[0m\u001b[0;34m'osm_end_node_id'\u001b[0m\u001b[0;34m]\u001b[0m\u001b[0;34m)\u001b[0m\u001b[0;34m.\u001b[0m\u001b[0mmax\u001b[0m\u001b[0;34m(\u001b[0m\u001b[0;34m)\u001b[0m\u001b[0;34m[\u001b[0m\u001b[0;34m'speed_kph_mean'\u001b[0m\u001b[0;34m]\u001b[0m\u001b[0;34m.\u001b[0m\u001b[0mreset_index\u001b[0m\u001b[0;34m(\u001b[0m\u001b[0;34m)\u001b[0m\u001b[0;34m\u001b[0m\u001b[0;34m\u001b[0m\u001b[0m\n",
      "\u001b[0;31mNameError\u001b[0m: name 'speed_df_orig' is not defined"
     ]
    }
   ],
   "source": [
    "# Load Uber speeds into osm Graph\n",
    "\n",
    "if speed_aggregate == 'min':\n",
    "    speed_df = speed_df_orig.groupby(['osm_way_id','osm_start_node_id','osm_end_node_id']).min()['speed_kph_mean'].reset_index()\n",
    "elif speed_aggregate == 'mean':\n",
    "    speed_df = speed_df_orig.groupby(['osm_way_id','osm_start_node_id','osm_end_node_id']).mean()['speed_kph_mean'].reset_index()\n",
    "elif speed_aggregate == 'max':\n",
    "    speed_df = speed_df_orig.groupby(['osm_way_id','osm_start_node_id','osm_end_node_id']).max()['speed_kph_mean'].reset_index()\n",
    "\n",
    "    \n",
    "for way in speed_df.iloc():\n",
    "    node_ids = [int(way['osm_start_node_id']),int(way['osm_end_node_id'])]\n",
    "    try:\n",
    "        G.edges[min(node_ids),max(node_ids),0]['real_speed'] = way['speed_kph_mean']\n",
    "    except:\n",
    "        pass\n"
   ]
  },
  {
   "cell_type": "code",
   "execution_count": 5,
   "metadata": {},
   "outputs": [],
   "source": [
    "# Calculate Way Times for each Segment\n",
    "\n",
    "for u, v, k, data in G.edges(data=True, keys=True):\n",
    "    #print('maxspeed' in data.keys())\n",
    "    if ('maxspeed' in data.keys()):\n",
    "        #print(isinstance(data['maxspeed'], list))\n",
    "        #print(data['maxspeed'])\n",
    "        #print(type(data['maxspeed']))\n",
    "        if(isinstance(data['maxspeed'], list)):\n",
    "            \n",
    "            \n",
    "            #print(type(data['maxspeed']))\n",
    "            #print(data['maxspeed'])\n",
    "            speed = min(data['maxspeed'])\n",
    "            #print(speed)\n",
    "        else:\n",
    "            speed = data['maxspeed']\n",
    "    else:\n",
    "        speed = 50.0\n",
    "        \n",
    "    if (speed == 'DE:urban'):\n",
    "        speed = 50.0\n",
    "    elif (speed == 'walk'):\n",
    "        speed = 6.0\n",
    "    elif (speed == 'none'):\n",
    "        speed = 130.0\n",
    "        \n",
    "    #print(speed)    \n",
    "    data['time'] = data['length'] / (float(speed) * 1000 / 60)\n",
    "    data['maxspeed'] = float(speed)\n",
    "    #print(data['test_maxspeed'])\n",
    "\n",
    "    \n",
    "    \n",
    "    if ('real_speed' in data.keys()):\n",
    "        real_speed = float(data['real_speed'])\n",
    "    else:\n",
    "        real_speed = speed\n",
    "    data['real_time'] = data['length'] / (float(real_speed)* 1000 / 60)\n",
    "\n",
    "ox.save_graphml(G, filepath='./travel_time+uberJan2020.graphml')"
   ]
  },
  {
   "cell_type": "code",
   "execution_count": 6,
   "metadata": {},
   "outputs": [],
   "source": [
    "#nodes, edges = ox.graph_to_gdfs(G)\n",
    "#set(list(edges['maxspeed'].values))"
   ]
  },
  {
   "cell_type": "code",
   "execution_count": 7,
   "metadata": {},
   "outputs": [],
   "source": [
    "#center_node = ox.get_nearest_node(G, start_point)\n",
    "\n",
    "#subgraph_15 = nx.ego_graph(G, center_node, radius=5, distance='time')\n",
    "#subgraph_15_real = nx.ego_graph(G, center_node, radius=5, distance='real_time')\n",
    "\n",
    "#ox.plot_graph(subgraph_15)\n",
    "#ox.plot_graph(subgraph_15_real)\n",
    "\n"
   ]
  },
  {
   "cell_type": "code",
   "execution_count": 8,
   "metadata": {},
   "outputs": [],
   "source": [
    "#nodes, edges = ox.graph_to_gdfs(subgraph_15_real)\n",
    "\n",
    "#lat, long = MultiPoint(nodes.reset_index()['geometry']).convex_hull.exterior.coords.xy\n",
    "\n",
    "#nodes['geometry'].plot()\n",
    "#zip(lat,long)[0]\n",
    "\n",
    "#MultiPoint(nodes.reset_index()['geometry']).convex_hull\n",
    "    \n",
    "#dist = [geopy.distance.geodesic(point,start_point).meters for point in zip(long,lat)]\n",
    "#np.mean(dist)"
   ]
  },
  {
   "cell_type": "code",
   "execution_count": 9,
   "metadata": {},
   "outputs": [],
   "source": [
    "#nodes, edges = ox.graph_to_gdfs()\n",
    "#edges = edges.sort_values('time')\n",
    "#nodes"
   ]
  },
  {
   "cell_type": "code",
   "execution_count": 127,
   "metadata": {},
   "outputs": [],
   "source": [
    "def getAvgIsochroneDistStreet(start_point, travel_time_min, real_speed=True, plot_subgraph=False):\n",
    "    x, y = Point(start_point).xy\n",
    "    #print(\"y -> \"+str(y))\n",
    "    #print(\"x -> \"+str(x))\n",
    "    #start_point = [x,y]\n",
    "    #print(start_point)\n",
    "    center_node = ox.get_nearest_node(G, (y[0],x[0]))\n",
    "    \n",
    "    distance_type = 'real_time' if real_speed else 'time'\n",
    "    \n",
    "    subgraph = nx.ego_graph(G, center_node, radius=travel_time_min, distance=distance_type)\n",
    "    \n",
    "    if plot_subgraph:\n",
    "        ox.plot_graph(subgraph)\n",
    "    \n",
    "    nodes, edges = ox.graph_to_gdfs(subgraph)\n",
    "\n",
    "    lat, long = MultiPoint(nodes.reset_index()['geometry']).convex_hull.exterior.coords.xy\n",
    "    #long, lat = MultiPoint(nodes.reset_index()['geometry']).convex_hull.exterior.coords.xy\n",
    "    #dist = [geopy.distance.geodesic(point,start_point).meters for point in zip(long,lat)]\n",
    "    dist = [geopy.distance.geodesic(point,start_point).meters for point in zip(lat,long)]\n",
    "    \n",
    "    return np.mean(dist)\n",
    "    "
   ]
  },
  {
   "cell_type": "code",
   "execution_count": 128,
   "metadata": {},
   "outputs": [
    {
     "name": "stdout",
     "output_type": "stream",
     "text": [
      "y -> array('d', [52.61767])\n",
      "x -> array('d', [13.223318])\n"
     ]
    },
    {
     "data": {
      "text/plain": [
       "2741.3243554480105"
      ]
     },
     "execution_count": 128,
     "metadata": {},
     "output_type": "execute_result"
    }
   ],
   "source": [
    "#getAvgIsochroneDistStreet((52.617670, 13.223318), 5)\n",
    "getAvgIsochroneDistStreet((13.223318, 52.617670), 5)"
   ]
  },
  {
   "cell_type": "code",
   "execution_count": 129,
   "metadata": {},
   "outputs": [],
   "source": [
    "def getAvgIsochroneDistStreet_list(list_of_points, travel_time_min):\n",
    "    list_of_avg = []\n",
    "    for point in list_of_points: \n",
    "        list_of_avg.append(getAvgIsochroneDistStreet(point, travel_time_min, real_speed=True, plot_subgraph=False))\n",
    "    return list_of_avg"
   ]
  },
  {
   "cell_type": "code",
   "execution_count": 130,
   "metadata": {},
   "outputs": [],
   "source": [
    "list_of_points = [(52.5652055, 13.3355015),\n",
    " (52.567033, 13.3466053),\n",
    " (52.567738, 13.3522545),\n",
    " (52.5640768, 13.339564),\n",
    " (52.5633975, 13.3429006),\n",
    " (52.5587807, 13.3373679),\n",
    " (52.5626152, 13.3306441),\n",
    " (52.5640457, 13.3277078),\n",
    " (52.5659103, 13.3202135),\n",
    " (52.5746796, 13.3460089),\n",
    " (52.573666, 13.3521078)]"
   ]
  },
  {
   "cell_type": "code",
   "execution_count": 131,
   "metadata": {},
   "outputs": [
    {
     "data": {
      "text/plain": [
       "[(52.5652055, 13.3355015),\n",
       " (52.567033, 13.3466053),\n",
       " (52.567738, 13.3522545),\n",
       " (52.5640768, 13.339564),\n",
       " (52.5633975, 13.3429006),\n",
       " (52.5587807, 13.3373679),\n",
       " (52.5626152, 13.3306441),\n",
       " (52.5640457, 13.3277078),\n",
       " (52.5659103, 13.3202135),\n",
       " (52.5746796, 13.3460089),\n",
       " (52.573666, 13.3521078)]"
      ]
     },
     "execution_count": 131,
     "metadata": {},
     "output_type": "execute_result"
    }
   ],
   "source": [
    "list_of_points"
   ]
  },
  {
   "cell_type": "code",
   "execution_count": 132,
   "metadata": {},
   "outputs": [
    {
     "name": "stdout",
     "output_type": "stream",
     "text": [
      "y -> array('d', [13.3355015])\n",
      "x -> array('d', [52.5652055])\n",
      "y -> array('d', [13.3466053])\n",
      "x -> array('d', [52.567033])\n",
      "y -> array('d', [13.3522545])\n",
      "x -> array('d', [52.567738])\n",
      "y -> array('d', [13.339564])\n",
      "x -> array('d', [52.5640768])\n",
      "y -> array('d', [13.3429006])\n",
      "x -> array('d', [52.5633975])\n",
      "y -> array('d', [13.3373679])\n",
      "x -> array('d', [52.5587807])\n",
      "y -> array('d', [13.3306441])\n",
      "x -> array('d', [52.5626152])\n",
      "y -> array('d', [13.3277078])\n",
      "x -> array('d', [52.5640457])\n",
      "y -> array('d', [13.3202135])\n",
      "x -> array('d', [52.5659103])\n",
      "y -> array('d', [13.3460089])\n",
      "x -> array('d', [52.5746796])\n",
      "y -> array('d', [13.3521078])\n",
      "x -> array('d', [52.573666])\n"
     ]
    },
    {
     "data": {
      "text/plain": [
       "[5523359.256129372,\n",
       " 5522874.603449766,\n",
       " 5522613.225183795,\n",
       " 5523063.0567076085,\n",
       " 5522836.165342448,\n",
       " 5522832.621282967,\n",
       " 5523452.918420729,\n",
       " 5523707.658237695,\n",
       " 5524239.716216956,\n",
       " 5523412.94860589,\n",
       " 5523013.424009835]"
      ]
     },
     "execution_count": 132,
     "metadata": {},
     "output_type": "execute_result"
    }
   ],
   "source": [
    "getAvgIsochroneDistStreet_list(list_of_points, 15)"
   ]
  },
  {
   "cell_type": "markdown",
   "metadata": {},
   "source": [
    "#  AvgIsoDistance of a PointList"
   ]
  },
  {
   "cell_type": "code",
   "execution_count": null,
   "metadata": {},
   "outputs": [],
   "source": []
  },
  {
   "cell_type": "code",
   "execution_count": 133,
   "metadata": {},
   "outputs": [],
   "source": [
    "samplepoints = gp.read_file(\"../results/sample-points.geojson\")"
   ]
  },
  {
   "cell_type": "code",
   "execution_count": 134,
   "metadata": {},
   "outputs": [
    {
     "data": {
      "text/plain": [
       "<AxesSubplot:>"
      ]
     },
     "execution_count": 134,
     "metadata": {},
     "output_type": "execute_result"
    },
    {
     "data": {
      "image/png": "[encoded data removed]",
      "text/plain": [
       "<Figure size 432x288 with 1 Axes>"
      ]
     },
     "metadata": {
      "needs_background": "light"
     },
     "output_type": "display_data"
    }
   ],
   "source": [
    "samplepoints.plot()"
   ]
  },
  {
   "cell_type": "code",
   "execution_count": 135,
   "metadata": {},
   "outputs": [],
   "source": [
    "df = pd.read_json(\"../results/sample-points.json\")"
   ]
  },
  {
   "cell_type": "code",
   "execution_count": 136,
   "metadata": {},
   "outputs": [],
   "source": [
    "geodf = gp.GeoDataFrame(df)"
   ]
  },
  {
   "cell_type": "code",
   "execution_count": 137,
   "metadata": {},
   "outputs": [],
   "source": [
    "#print(f'NumPy Array:\\n{arr}')\n",
    "\n",
    "list1 = df.values.tolist()\n"
   ]
  },
  {
   "cell_type": "code",
   "execution_count": 138,
   "metadata": {},
   "outputs": [
    {
     "name": "stdout",
     "output_type": "stream",
     "text": [
      "y -> array('d', [52.442944744460114])\n",
      "x -> array('d', [13.161901338074973])\n",
      "y -> array('d', [52.40198937293523])\n",
      "x -> array('d', [13.148898817301504])\n",
      "y -> array('d', [52.40332926172103])\n",
      "x -> array('d', [13.146245476951975])\n",
      "y -> array('d', [52.425968953045654])\n",
      "x -> array('d', [13.133517862921396])\n",
      "y -> array('d', [52.42246773174963])\n",
      "x -> array('d', [13.19073265032867])\n",
      "y -> array('d', [52.407967435141714])\n",
      "x -> array('d', [13.135282531110501])\n",
      "y -> array('d', [52.412995008206074])\n",
      "x -> array('d', [13.179463536485974])\n",
      "y -> array('d', [52.42038240346487])\n",
      "x -> array('d', [13.09098099690146])\n",
      "y -> array('d', [52.41363496114821])\n",
      "x -> array('d', [13.17427618454405])\n"
     ]
    }
   ],
   "source": [
    "avg_iso_list = getAvgIsochroneDistStreet_list(list1, 5)"
   ]
  },
  {
   "cell_type": "code",
   "execution_count": 139,
   "metadata": {},
   "outputs": [
    {
     "data": {
      "text/plain": [
       "[2837.6579043388647,\n",
       " 3094.084498788022,\n",
       " 3208.976297993617,\n",
       " 2750.6975706596036,\n",
       " 4491.889788368286,\n",
       " 1617.0576763053925,\n",
       " 3409.845747860628,\n",
       " 4334.702348841503,\n",
       " 3617.1187248020797]"
      ]
     },
     "execution_count": 139,
     "metadata": {},
     "output_type": "execute_result"
    }
   ],
   "source": [
    "avg_iso_list"
   ]
  },
  {
   "cell_type": "code",
   "execution_count": 140,
   "metadata": {},
   "outputs": [
    {
     "ename": "ValueError",
     "evalue": "Length of values (9) does not match length of index (9900)",
     "output_type": "error",
     "traceback": [
      "\u001b[0;31m---------------------------------------------------------------------------\u001b[0m",
      "\u001b[0;31mValueError\u001b[0m                                Traceback (most recent call last)",
      "\u001b[0;32m<ipython-input-140-269fcbce2696>\u001b[0m in \u001b[0;36m<module>\u001b[0;34m\u001b[0m\n\u001b[0;32m----> 1\u001b[0;31m \u001b[0mgeodf\u001b[0m\u001b[0;34m[\u001b[0m\u001b[0;34m\"avg_dist\"\u001b[0m\u001b[0;34m]\u001b[0m \u001b[0;34m=\u001b[0m \u001b[0mavg_iso_list\u001b[0m\u001b[0;34m\u001b[0m\u001b[0;34m\u001b[0m\u001b[0m\n\u001b[0m",
      "\u001b[0;32m~/anaconda3/envs/geo/lib/python3.8/site-packages/geopandas/geodataframe.py\u001b[0m in \u001b[0;36m__setitem__\u001b[0;34m(self, key, value)\u001b[0m\n\u001b[1;32m    851\u001b[0m             \u001b[0;32mexcept\u001b[0m \u001b[0mTypeError\u001b[0m\u001b[0;34m:\u001b[0m\u001b[0;34m\u001b[0m\u001b[0;34m\u001b[0m\u001b[0m\n\u001b[1;32m    852\u001b[0m                 \u001b[0mwarnings\u001b[0m\u001b[0;34m.\u001b[0m\u001b[0mwarn\u001b[0m\u001b[0;34m(\u001b[0m\u001b[0;34m\"Geometry column does not contain geometry.\"\u001b[0m\u001b[0;34m)\u001b[0m\u001b[0;34m\u001b[0m\u001b[0;34m\u001b[0m\u001b[0m\n\u001b[0;32m--> 853\u001b[0;31m         \u001b[0msuper\u001b[0m\u001b[0;34m(\u001b[0m\u001b[0mGeoDataFrame\u001b[0m\u001b[0;34m,\u001b[0m \u001b[0mself\u001b[0m\u001b[0;34m)\u001b[0m\u001b[0;34m.\u001b[0m\u001b[0m__setitem__\u001b[0m\u001b[0;34m(\u001b[0m\u001b[0mkey\u001b[0m\u001b[0;34m,\u001b[0m \u001b[0mvalue\u001b[0m\u001b[0;34m)\u001b[0m\u001b[0;34m\u001b[0m\u001b[0;34m\u001b[0m\u001b[0m\n\u001b[0m\u001b[1;32m    854\u001b[0m \u001b[0;34m\u001b[0m\u001b[0m\n\u001b[1;32m    855\u001b[0m     \u001b[0;31m#\u001b[0m\u001b[0;34m\u001b[0m\u001b[0;34m\u001b[0m\u001b[0;34m\u001b[0m\u001b[0m\n",
      "\u001b[0;32m~/anaconda3/envs/geo/lib/python3.8/site-packages/pandas/core/frame.py\u001b[0m in \u001b[0;36m__setitem__\u001b[0;34m(self, key, value)\u001b[0m\n\u001b[1;32m   3042\u001b[0m         \u001b[0;32melse\u001b[0m\u001b[0;34m:\u001b[0m\u001b[0;34m\u001b[0m\u001b[0;34m\u001b[0m\u001b[0m\n\u001b[1;32m   3043\u001b[0m             \u001b[0;31m# set column\u001b[0m\u001b[0;34m\u001b[0m\u001b[0;34m\u001b[0m\u001b[0;34m\u001b[0m\u001b[0m\n\u001b[0;32m-> 3044\u001b[0;31m             \u001b[0mself\u001b[0m\u001b[0;34m.\u001b[0m\u001b[0m_set_item\u001b[0m\u001b[0;34m(\u001b[0m\u001b[0mkey\u001b[0m\u001b[0;34m,\u001b[0m \u001b[0mvalue\u001b[0m\u001b[0;34m)\u001b[0m\u001b[0;34m\u001b[0m\u001b[0;34m\u001b[0m\u001b[0m\n\u001b[0m\u001b[1;32m   3045\u001b[0m \u001b[0;34m\u001b[0m\u001b[0m\n\u001b[1;32m   3046\u001b[0m     \u001b[0;32mdef\u001b[0m \u001b[0m_setitem_slice\u001b[0m\u001b[0;34m(\u001b[0m\u001b[0mself\u001b[0m\u001b[0;34m,\u001b[0m \u001b[0mkey\u001b[0m\u001b[0;34m:\u001b[0m \u001b[0mslice\u001b[0m\u001b[0;34m,\u001b[0m \u001b[0mvalue\u001b[0m\u001b[0;34m)\u001b[0m\u001b[0;34m:\u001b[0m\u001b[0;34m\u001b[0m\u001b[0;34m\u001b[0m\u001b[0m\n",
      "\u001b[0;32m~/anaconda3/envs/geo/lib/python3.8/site-packages/pandas/core/frame.py\u001b[0m in \u001b[0;36m_set_item\u001b[0;34m(self, key, value)\u001b[0m\n\u001b[1;32m   3118\u001b[0m         \"\"\"\n\u001b[1;32m   3119\u001b[0m         \u001b[0mself\u001b[0m\u001b[0;34m.\u001b[0m\u001b[0m_ensure_valid_index\u001b[0m\u001b[0;34m(\u001b[0m\u001b[0mvalue\u001b[0m\u001b[0;34m)\u001b[0m\u001b[0;34m\u001b[0m\u001b[0;34m\u001b[0m\u001b[0m\n\u001b[0;32m-> 3120\u001b[0;31m         \u001b[0mvalue\u001b[0m \u001b[0;34m=\u001b[0m \u001b[0mself\u001b[0m\u001b[0;34m.\u001b[0m\u001b[0m_sanitize_column\u001b[0m\u001b[0;34m(\u001b[0m\u001b[0mkey\u001b[0m\u001b[0;34m,\u001b[0m \u001b[0mvalue\u001b[0m\u001b[0;34m)\u001b[0m\u001b[0;34m\u001b[0m\u001b[0;34m\u001b[0m\u001b[0m\n\u001b[0m\u001b[1;32m   3121\u001b[0m         \u001b[0mNDFrame\u001b[0m\u001b[0;34m.\u001b[0m\u001b[0m_set_item\u001b[0m\u001b[0;34m(\u001b[0m\u001b[0mself\u001b[0m\u001b[0;34m,\u001b[0m \u001b[0mkey\u001b[0m\u001b[0;34m,\u001b[0m \u001b[0mvalue\u001b[0m\u001b[0;34m)\u001b[0m\u001b[0;34m\u001b[0m\u001b[0;34m\u001b[0m\u001b[0m\n\u001b[1;32m   3122\u001b[0m \u001b[0;34m\u001b[0m\u001b[0m\n",
      "\u001b[0;32m~/anaconda3/envs/geo/lib/python3.8/site-packages/pandas/core/frame.py\u001b[0m in \u001b[0;36m_sanitize_column\u001b[0;34m(self, key, value, broadcast)\u001b[0m\n\u001b[1;32m   3766\u001b[0m \u001b[0;34m\u001b[0m\u001b[0m\n\u001b[1;32m   3767\u001b[0m             \u001b[0;31m# turn me into an ndarray\u001b[0m\u001b[0;34m\u001b[0m\u001b[0;34m\u001b[0m\u001b[0;34m\u001b[0m\u001b[0m\n\u001b[0;32m-> 3768\u001b[0;31m             \u001b[0mvalue\u001b[0m \u001b[0;34m=\u001b[0m \u001b[0msanitize_index\u001b[0m\u001b[0;34m(\u001b[0m\u001b[0mvalue\u001b[0m\u001b[0;34m,\u001b[0m \u001b[0mself\u001b[0m\u001b[0;34m.\u001b[0m\u001b[0mindex\u001b[0m\u001b[0;34m)\u001b[0m\u001b[0;34m\u001b[0m\u001b[0;34m\u001b[0m\u001b[0m\n\u001b[0m\u001b[1;32m   3769\u001b[0m             \u001b[0;32mif\u001b[0m \u001b[0;32mnot\u001b[0m \u001b[0misinstance\u001b[0m\u001b[0;34m(\u001b[0m\u001b[0mvalue\u001b[0m\u001b[0;34m,\u001b[0m \u001b[0;34m(\u001b[0m\u001b[0mnp\u001b[0m\u001b[0;34m.\u001b[0m\u001b[0mndarray\u001b[0m\u001b[0;34m,\u001b[0m \u001b[0mIndex\u001b[0m\u001b[0;34m)\u001b[0m\u001b[0;34m)\u001b[0m\u001b[0;34m:\u001b[0m\u001b[0;34m\u001b[0m\u001b[0;34m\u001b[0m\u001b[0m\n\u001b[1;32m   3770\u001b[0m                 \u001b[0;32mif\u001b[0m \u001b[0misinstance\u001b[0m\u001b[0;34m(\u001b[0m\u001b[0mvalue\u001b[0m\u001b[0;34m,\u001b[0m \u001b[0mlist\u001b[0m\u001b[0;34m)\u001b[0m \u001b[0;32mand\u001b[0m \u001b[0mlen\u001b[0m\u001b[0;34m(\u001b[0m\u001b[0mvalue\u001b[0m\u001b[0;34m)\u001b[0m \u001b[0;34m>\u001b[0m \u001b[0;36m0\u001b[0m\u001b[0;34m:\u001b[0m\u001b[0;34m\u001b[0m\u001b[0;34m\u001b[0m\u001b[0m\n",
      "\u001b[0;32m~/anaconda3/envs/geo/lib/python3.8/site-packages/pandas/core/internals/construction.py\u001b[0m in \u001b[0;36msanitize_index\u001b[0;34m(data, index)\u001b[0m\n\u001b[1;32m    745\u001b[0m     \"\"\"\n\u001b[1;32m    746\u001b[0m     \u001b[0;32mif\u001b[0m \u001b[0mlen\u001b[0m\u001b[0;34m(\u001b[0m\u001b[0mdata\u001b[0m\u001b[0;34m)\u001b[0m \u001b[0;34m!=\u001b[0m \u001b[0mlen\u001b[0m\u001b[0;34m(\u001b[0m\u001b[0mindex\u001b[0m\u001b[0;34m)\u001b[0m\u001b[0;34m:\u001b[0m\u001b[0;34m\u001b[0m\u001b[0;34m\u001b[0m\u001b[0m\n\u001b[0;32m--> 747\u001b[0;31m         raise ValueError(\n\u001b[0m\u001b[1;32m    748\u001b[0m             \u001b[0;34m\"Length of values \"\u001b[0m\u001b[0;34m\u001b[0m\u001b[0;34m\u001b[0m\u001b[0m\n\u001b[1;32m    749\u001b[0m             \u001b[0;34mf\"({len(data)}) \"\u001b[0m\u001b[0;34m\u001b[0m\u001b[0;34m\u001b[0m\u001b[0m\n",
      "\u001b[0;31mValueError\u001b[0m: Length of values (9) does not match length of index (9900)"
     ]
    }
   ],
   "source": [
    "#geodf[\"avg_dist\"] = avg_iso_list"
   ]
  },
  {
   "cell_type": "code",
   "execution_count": null,
   "metadata": {},
   "outputs": [],
   "source": []
  }
 ],
 "metadata": {
  "kernelspec": {
   "display_name": "Python 3",
   "language": "python",
   "name": "python3"
  },
  "language_info": {
   "codemirror_mode": {
    "name": "ipython",
    "version": 3
   },
   "file_extension": ".py",
   "mimetype": "text/x-python",
   "name": "python",
   "nbconvert_exporter": "python",
   "pygments_lexer": "ipython3",
   "version": "3.8.5"
  }
 },
 "nbformat": 4,
 "nbformat_minor": 4
}
