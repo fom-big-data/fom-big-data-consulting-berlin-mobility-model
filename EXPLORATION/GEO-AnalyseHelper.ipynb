{
 "cells": [
  {
   "cell_type": "code",
   "execution_count": 27,
   "metadata": {},
   "outputs": [],
   "source": [
    "import osmnx as ox\n",
    "import matplotlib.pyplot as plt\n",
    "import geopandas as gp\n",
    "import networkx as nx\n",
    "import os.path\n",
    "from os import path\n",
    "import pathlib\n",
    "import pandas as pd\n",
    "ox.config(log_console=True, use_cache=True)\n"
   ]
  },
  {
   "cell_type": "markdown",
   "metadata": {},
   "source": [
    "# Story Helper to calculate some deskriptive analysis"
   ]
  },
  {
   "cell_type": "markdown",
   "metadata": {},
   "source": [
    "## None IsoChrones"
   ]
  },
  {
   "cell_type": "code",
   "execution_count": 28,
   "metadata": {},
   "outputs": [],
   "source": [
    "df = gp.read_file(\"../results/berlin-bicycleedges-important-ways.geojson\")"
   ]
  },
  {
   "cell_type": "code",
   "execution_count": 29,
   "metadata": {},
   "outputs": [
    {
     "data": {
      "text/html": [
       "<div>\n",
       "<style scoped>\n",
       "    .dataframe tbody tr th:only-of-type {\n",
       "        vertical-align: middle;\n",
       "    }\n",
       "\n",
       "    .dataframe tbody tr th {\n",
       "        vertical-align: top;\n",
       "    }\n",
       "\n",
       "    .dataframe thead th {\n",
       "        text-align: right;\n",
       "    }\n",
       "</style>\n",
       "<table border=\"1\" class=\"dataframe\">\n",
       "  <thead>\n",
       "    <tr style=\"text-align: right;\">\n",
       "      <th></th>\n",
       "      <th>length</th>\n",
       "      <th>color</th>\n",
       "      <th>geometry</th>\n",
       "    </tr>\n",
       "  </thead>\n",
       "  <tbody>\n",
       "    <tr>\n",
       "      <th>0</th>\n",
       "      <td>119.805</td>\n",
       "      <td>#0800ff</td>\n",
       "      <td>LINESTRING (13.33737 52.55878, 13.33725 52.558...</td>\n",
       "    </tr>\n",
       "    <tr>\n",
       "      <th>1</th>\n",
       "      <td>10.295</td>\n",
       "      <td>#0800ff</td>\n",
       "      <td>LINESTRING (13.33607 52.55952, 13.33597 52.55945)</td>\n",
       "    </tr>\n",
       "    <tr>\n",
       "      <th>2</th>\n",
       "      <td>112.639</td>\n",
       "      <td>#0800ff</td>\n",
       "      <td>LINESTRING (13.33607 52.55952, 13.33578 52.559...</td>\n",
       "    </tr>\n",
       "    <tr>\n",
       "      <th>3</th>\n",
       "      <td>13.660</td>\n",
       "      <td>#0800ff</td>\n",
       "      <td>LINESTRING (13.33064 52.56262, 13.33047 52.56255)</td>\n",
       "    </tr>\n",
       "    <tr>\n",
       "      <th>4</th>\n",
       "      <td>42.844</td>\n",
       "      <td>#0800ff</td>\n",
       "      <td>LINESTRING (13.33064 52.56262, 13.33075 52.562...</td>\n",
       "    </tr>\n",
       "    <tr>\n",
       "      <th>...</th>\n",
       "      <td>...</td>\n",
       "      <td>...</td>\n",
       "      <td>...</td>\n",
       "    </tr>\n",
       "    <tr>\n",
       "      <th>32363</th>\n",
       "      <td>22.319</td>\n",
       "      <td>#0800ff</td>\n",
       "      <td>LINESTRING (13.42429 52.46359, 13.42444 52.463...</td>\n",
       "    </tr>\n",
       "    <tr>\n",
       "      <th>32364</th>\n",
       "      <td>31.589</td>\n",
       "      <td>#0800ff</td>\n",
       "      <td>LINESTRING (13.42429 52.46359, 13.42421 52.463...</td>\n",
       "    </tr>\n",
       "    <tr>\n",
       "      <th>32365</th>\n",
       "      <td>16.447</td>\n",
       "      <td>#0800ff</td>\n",
       "      <td>LINESTRING (13.44526 52.46208, 13.44536 52.46195)</td>\n",
       "    </tr>\n",
       "    <tr>\n",
       "      <th>32366</th>\n",
       "      <td>6.324</td>\n",
       "      <td>#91ff00</td>\n",
       "      <td>LINESTRING (13.50087 52.43517, 13.50081 52.43521)</td>\n",
       "    </tr>\n",
       "    <tr>\n",
       "      <th>32367</th>\n",
       "      <td>74.499</td>\n",
       "      <td>#91ff00</td>\n",
       "      <td>LINESTRING (13.50087 52.43517, 13.50091 52.435...</td>\n",
       "    </tr>\n",
       "  </tbody>\n",
       "</table>\n",
       "<p>32368 rows × 3 columns</p>\n",
       "</div>"
      ],
      "text/plain": [
       "        length    color                                           geometry\n",
       "0      119.805  #0800ff  LINESTRING (13.33737 52.55878, 13.33725 52.558...\n",
       "1       10.295  #0800ff  LINESTRING (13.33607 52.55952, 13.33597 52.55945)\n",
       "2      112.639  #0800ff  LINESTRING (13.33607 52.55952, 13.33578 52.559...\n",
       "3       13.660  #0800ff  LINESTRING (13.33064 52.56262, 13.33047 52.56255)\n",
       "4       42.844  #0800ff  LINESTRING (13.33064 52.56262, 13.33075 52.562...\n",
       "...        ...      ...                                                ...\n",
       "32363   22.319  #0800ff  LINESTRING (13.42429 52.46359, 13.42444 52.463...\n",
       "32364   31.589  #0800ff  LINESTRING (13.42429 52.46359, 13.42421 52.463...\n",
       "32365   16.447  #0800ff  LINESTRING (13.44526 52.46208, 13.44536 52.46195)\n",
       "32366    6.324  #91ff00  LINESTRING (13.50087 52.43517, 13.50081 52.43521)\n",
       "32367   74.499  #91ff00  LINESTRING (13.50087 52.43517, 13.50091 52.435...\n",
       "\n",
       "[32368 rows x 3 columns]"
      ]
     },
     "execution_count": 29,
     "metadata": {},
     "output_type": "execute_result"
    }
   ],
   "source": [
    "df"
   ]
  },
  {
   "cell_type": "code",
   "execution_count": 30,
   "metadata": {},
   "outputs": [
    {
     "data": {
      "text/plain": [
       "length    81.079923\n",
       "dtype: float64"
      ]
     },
     "execution_count": 30,
     "metadata": {},
     "output_type": "execute_result"
    }
   ],
   "source": [
    "df.mean(axis=0)"
   ]
  },
  {
   "cell_type": "code",
   "execution_count": 31,
   "metadata": {},
   "outputs": [
    {
     "data": {
      "text/plain": [
       "length     1727.8\n",
       "color     #ff0000\n",
       "dtype: object"
      ]
     },
     "execution_count": 31,
     "metadata": {},
     "output_type": "execute_result"
    }
   ],
   "source": [
    "df.max(axis=0)"
   ]
  },
  {
   "cell_type": "code",
   "execution_count": 32,
   "metadata": {},
   "outputs": [
    {
     "data": {
      "text/plain": [
       "length      0.108\n",
       "color     #0800ff\n",
       "dtype: object"
      ]
     },
     "execution_count": 32,
     "metadata": {},
     "output_type": "execute_result"
    }
   ],
   "source": [
    "df.min(axis=0)"
   ]
  },
  {
   "cell_type": "markdown",
   "metadata": {},
   "source": [
    "# IsoCHrones"
   ]
  },
  {
   "cell_type": "markdown",
   "metadata": {},
   "source": [
    "### Drive"
   ]
  },
  {
   "cell_type": "code",
   "execution_count": 21,
   "metadata": {},
   "outputs": [
    {
     "name": "stdout",
     "output_type": "stream",
     "text": [
      "Drive\n",
      "Minimum: mean_spatial_distance_15min    0.0\n",
      "dtype: float64\n",
      "Maximum: mean_spatial_distance_15min    20494.20539\n",
      "dtype: float64\n",
      "Mean: mean_spatial_distance_15min    13359.712571\n",
      "dtype: float64\n"
     ]
    }
   ],
   "source": [
    "df = gp.read_file(\"../results/isochrones-drive-15.geojson\")\n",
    "print(\"Drive\\nMinimum: \"+str(df.min(axis=0)))\n",
    "print(\"Maximum: \"+str(df.max(axis=0)))\n",
    "print(\"Mean: \"+str(df.mean(axis=0)))"
   ]
  },
  {
   "cell_type": "code",
   "execution_count": 41,
   "metadata": {},
   "outputs": [
    {
     "name": "stdout",
     "output_type": "stream",
     "text": [
      "Bike\n",
      "Minimum: max_spatial_distance_15min       851.008137\n",
      "mean_spatial_distance_15min      645.939202\n",
      "median_spatial_distance_15min    250.175503\n",
      "min_spatial_distance_15min        31.873245\n",
      "dtype: float64\n",
      "Maximum: max_spatial_distance_15min       3958.531757\n",
      "mean_spatial_distance_15min      3280.540820\n",
      "median_spatial_distance_15min    3311.365349\n",
      "min_spatial_distance_15min       2963.547828\n",
      "dtype: float64\n",
      "Mean: max_spatial_distance_15min       3050.264385\n",
      "mean_spatial_distance_15min      2599.437823\n",
      "median_spatial_distance_15min    2606.050477\n",
      "min_spatial_distance_15min       2094.306263\n",
      "dtype: float64\n",
      "12.2\n"
     ]
    }
   ],
   "source": [
    "df = gp.read_file(\"../results/isochrones-bike-15.geojson\")\n",
    "print(\"Bike\\nMinimum: \"+str(df.min(axis=0)))\n",
    "print(\"Maximum: \"+str(df.max(axis=0)))\n",
    "print(\"Mean: \"+str(df.mean(axis=0)))\n",
    "\n",
    "print(3.050*4)"
   ]
  },
  {
   "cell_type": "code",
   "execution_count": 16,
   "metadata": {},
   "outputs": [
    {
     "name": "stdout",
     "output_type": "stream",
     "text": [
      "Subway\n",
      "Minimum: max_spatial_distance_15min       417.137234\n",
      "mean_spatial_distance_15min      269.283978\n",
      "median_spatial_distance_15min    133.297778\n",
      "min_spatial_distance_15min        10.507125\n",
      "dtype: float64\n",
      "Maximum: max_spatial_distance_15min       7095.074365\n",
      "mean_spatial_distance_15min      5606.464461\n",
      "median_spatial_distance_15min    5585.814196\n",
      "min_spatial_distance_15min       3800.467491\n",
      "dtype: float64\n",
      "Mean: max_spatial_distance_15min       1693.778844\n",
      "mean_spatial_distance_15min      1342.316392\n",
      "median_spatial_distance_15min    1331.585952\n",
      "min_spatial_distance_15min        978.842195\n",
      "dtype: float64\n"
     ]
    }
   ],
   "source": [
    "df = gp.read_file(\"../results/isochrones-subway-15.geojson\")\n",
    "print(\"Subway\\nMinimum: \"+str(df.min(axis=0)))\n",
    "print(\"Maximum: \"+str(df.max(axis=0)))\n",
    "print(\"Mean: \"+str(df.mean(axis=0)))"
   ]
  },
  {
   "cell_type": "code",
   "execution_count": 22,
   "metadata": {},
   "outputs": [
    {
     "name": "stdout",
     "output_type": "stream",
     "text": [
      "Light-Rail\n",
      "Minimum: max_spatial_distance_15min       819.414045\n",
      "mean_spatial_distance_15min      381.945490\n",
      "median_spatial_distance_15min    133.932960\n",
      "min_spatial_distance_15min        10.507125\n",
      "dtype: float64\n",
      "Maximum: max_spatial_distance_15min       22585.663981\n",
      "mean_spatial_distance_15min      17067.390347\n",
      "median_spatial_distance_15min    17745.460195\n",
      "min_spatial_distance_15min       12512.964772\n",
      "dtype: float64\n",
      "Mean: max_spatial_distance_15min       3930.274886\n",
      "mean_spatial_distance_15min      2771.390157\n",
      "median_spatial_distance_15min    2722.829440\n",
      "min_spatial_distance_15min       1542.688384\n",
      "dtype: float64\n"
     ]
    }
   ],
   "source": [
    "df = gp.read_file(\"../results/isochrones-light_rail-15.geojson\")\n",
    "print(\"Light-Rail\\nMinimum: \"+str(df.min(axis=0)))\n",
    "print(\"Maximum: \"+str(df.max(axis=0)))\n",
    "print(\"Mean: \"+str(df.mean(axis=0)))"
   ]
  },
  {
   "cell_type": "code",
   "execution_count": 24,
   "metadata": {},
   "outputs": [
    {
     "name": "stdout",
     "output_type": "stream",
     "text": [
      "Tram\n",
      "Minimum: max_spatial_distance_15min       417.137234\n",
      "mean_spatial_distance_15min      269.283978\n",
      "median_spatial_distance_15min    133.297778\n",
      "min_spatial_distance_15min        10.507125\n",
      "dtype: float64\n",
      "Maximum: max_spatial_distance_15min       4584.803939\n",
      "mean_spatial_distance_15min      3818.965111\n",
      "median_spatial_distance_15min    4158.060004\n",
      "min_spatial_distance_15min       3081.691815\n",
      "dtype: float64\n",
      "Mean: max_spatial_distance_15min       1654.891579\n",
      "mean_spatial_distance_15min      1347.455641\n",
      "median_spatial_distance_15min    1346.041221\n",
      "min_spatial_distance_15min       1005.463447\n",
      "dtype: float64\n"
     ]
    }
   ],
   "source": [
    "df = gp.read_file(\"../results/isochrones-tram-15.geojson\")\n",
    "print(\"Tram\\nMinimum: \"+str(df.min(axis=0)))\n",
    "print(\"Maximum: \"+str(df.max(axis=0)))\n",
    "print(\"Mean: \"+str(df.mean(axis=0)))"
   ]
  },
  {
   "cell_type": "code",
   "execution_count": 23,
   "metadata": {},
   "outputs": [
    {
     "name": "stdout",
     "output_type": "stream",
     "text": [
      "Bus\n",
      "Minimum: max_spatial_distance_15min       417.137234\n",
      "mean_spatial_distance_15min      265.746092\n",
      "median_spatial_distance_15min    151.173129\n",
      "min_spatial_distance_15min        19.303006\n",
      "dtype: float64\n",
      "Maximum: max_spatial_distance_15min       4747.427442\n",
      "mean_spatial_distance_15min      4079.301644\n",
      "median_spatial_distance_15min    4242.477085\n",
      "min_spatial_distance_15min       3671.868479\n",
      "dtype: float64\n",
      "Mean: max_spatial_distance_15min       3533.773053\n",
      "mean_spatial_distance_15min      2930.466171\n",
      "median_spatial_distance_15min    2960.161526\n",
      "min_spatial_distance_15min       2166.464180\n",
      "dtype: float64\n"
     ]
    }
   ],
   "source": [
    "df = gp.read_file(\"../results/isochrones-bus-15.geojson\")\n",
    "print(\"Bus\\nMinimum: \"+str(df.min(axis=0)))\n",
    "print(\"Maximum: \"+str(df.max(axis=0)))\n",
    "print(\"Mean: \"+str(df.mean(axis=0)))"
   ]
  },
  {
   "cell_type": "code",
   "execution_count": null,
   "metadata": {},
   "outputs": [],
   "source": []
  },
  {
   "cell_type": "markdown",
   "metadata": {},
   "source": [
    "## Lebensräume"
   ]
  },
  {
   "cell_type": "code",
   "execution_count": 51,
   "metadata": {},
   "outputs": [],
   "source": [
    "df = gp.read_file(\"../results/berlin-inhabitants-centerpoints-top5.geojson\")"
   ]
  },
  {
   "cell_type": "code",
   "execution_count": 52,
   "metadata": {},
   "outputs": [],
   "source": [
    "#df = df.sort_values(by='einwohner', ascending=False).head(10)"
   ]
  },
  {
   "cell_type": "code",
   "execution_count": 53,
   "metadata": {},
   "outputs": [
    {
     "data": {
      "text/html": [
       "<div>\n",
       "<style scoped>\n",
       "    .dataframe tbody tr th:only-of-type {\n",
       "        vertical-align: middle;\n",
       "    }\n",
       "\n",
       "    .dataframe tbody tr th {\n",
       "        vertical-align: top;\n",
       "    }\n",
       "\n",
       "    .dataframe thead th {\n",
       "        text-align: right;\n",
       "    }\n",
       "</style>\n",
       "<table border=\"1\" class=\"dataframe\">\n",
       "  <thead>\n",
       "    <tr style=\"text-align: right;\">\n",
       "      <th></th>\n",
       "      <th>plz</th>\n",
       "      <th>first_dig_plz</th>\n",
       "      <th>einwohner</th>\n",
       "      <th>area_m2</th>\n",
       "      <th>area_km2</th>\n",
       "      <th>einwohner_km2</th>\n",
       "      <th>einwohner_m2</th>\n",
       "      <th>geometry</th>\n",
       "    </tr>\n",
       "  </thead>\n",
       "  <tbody>\n",
       "    <tr>\n",
       "      <th>0</th>\n",
       "      <td>10623</td>\n",
       "      <td>1</td>\n",
       "      <td>5680</td>\n",
       "      <td>8518.534412</td>\n",
       "      <td>0.008519</td>\n",
       "      <td>666781.365</td>\n",
       "      <td>0.666781</td>\n",
       "      <td>POINT (13.31943 52.50234)</td>\n",
       "    </tr>\n",
       "    <tr>\n",
       "      <th>1</th>\n",
       "      <td>12107</td>\n",
       "      <td>1</td>\n",
       "      <td>19767</td>\n",
       "      <td>33683.063698</td>\n",
       "      <td>0.033683</td>\n",
       "      <td>586852.793</td>\n",
       "      <td>0.586853</td>\n",
       "      <td>POINT (13.40439 52.44134)</td>\n",
       "    </tr>\n",
       "    <tr>\n",
       "      <th>2</th>\n",
       "      <td>12623</td>\n",
       "      <td>1</td>\n",
       "      <td>27373</td>\n",
       "      <td>60427.724456</td>\n",
       "      <td>0.060428</td>\n",
       "      <td>452987.437</td>\n",
       "      <td>0.452987</td>\n",
       "      <td>POINT (13.57961 52.48101)</td>\n",
       "    </tr>\n",
       "    <tr>\n",
       "      <th>3</th>\n",
       "      <td>12679</td>\n",
       "      <td>1</td>\n",
       "      <td>25823</td>\n",
       "      <td>58814.767518</td>\n",
       "      <td>0.058815</td>\n",
       "      <td>439056.398</td>\n",
       "      <td>0.439056</td>\n",
       "      <td>POINT (13.57525 52.54533)</td>\n",
       "    </tr>\n",
       "    <tr>\n",
       "      <th>4</th>\n",
       "      <td>12305</td>\n",
       "      <td>1</td>\n",
       "      <td>20742</td>\n",
       "      <td>121144.852985</td>\n",
       "      <td>0.121145</td>\n",
       "      <td>171216.519</td>\n",
       "      <td>0.171217</td>\n",
       "      <td>POINT (13.41718 52.40546)</td>\n",
       "    </tr>\n",
       "  </tbody>\n",
       "</table>\n",
       "</div>"
      ],
      "text/plain": [
       "     plz first_dig_plz  einwohner        area_m2  area_km2  einwohner_km2  \\\n",
       "0  10623             1       5680    8518.534412  0.008519     666781.365   \n",
       "1  12107             1      19767   33683.063698  0.033683     586852.793   \n",
       "2  12623             1      27373   60427.724456  0.060428     452987.437   \n",
       "3  12679             1      25823   58814.767518  0.058815     439056.398   \n",
       "4  12305             1      20742  121144.852985  0.121145     171216.519   \n",
       "\n",
       "   einwohner_m2                   geometry  \n",
       "0      0.666781  POINT (13.31943 52.50234)  \n",
       "1      0.586853  POINT (13.40439 52.44134)  \n",
       "2      0.452987  POINT (13.57961 52.48101)  \n",
       "3      0.439056  POINT (13.57525 52.54533)  \n",
       "4      0.171217  POINT (13.41718 52.40546)  "
      ]
     },
     "execution_count": 53,
     "metadata": {},
     "output_type": "execute_result"
    }
   ],
   "source": [
    "df"
   ]
  },
  {
   "cell_type": "markdown",
   "metadata": {},
   "source": [
    "##  Standard Deviation "
   ]
  },
  {
   "cell_type": "code",
   "execution_count": 54,
   "metadata": {},
   "outputs": [],
   "source": [
    "df = gp.read_file(\"../results/berlin-inhabitants-improved.geojson\")"
   ]
  },
  {
   "cell_type": "code",
   "execution_count": 63,
   "metadata": {},
   "outputs": [
    {
     "name": "stdout",
     "output_type": "stream",
     "text": [
      "Bus\n",
      "Minimum: plz                   10115\n",
      "first_dig_plz             1\n",
      "einwohner                 1\n",
      "area_m2             2820.62\n",
      "area_km2         0.00282062\n",
      "einwohner_km2        94.607\n",
      "einwohner_m2        9.5e-05\n",
      "dtype: object\n",
      "Maximum: plz                    14199\n",
      "first_dig_plz              1\n",
      "einwohner              35353\n",
      "area_m2          3.76183e+07\n",
      "area_km2             37.6183\n",
      "einwohner_km2         666781\n",
      "einwohner_m2        0.666781\n",
      "dtype: object\n",
      "Mean: plz                        inf\n",
      "first_dig_plz    5.611672e+194\n",
      "einwohner         1.730370e+04\n",
      "area_m2           4.501250e+06\n",
      "area_km2          4.501250e+00\n",
      "einwohner_km2     2.044887e+04\n",
      "einwohner_m2      2.044890e-02\n",
      "dtype: float64\n"
     ]
    }
   ],
   "source": [
    "print(\"Bus\\nMinimum: \"+str(df.min(axis=0)))\n",
    "print(\"Maximum: \"+str(df.max(axis=0)))\n",
    "print(\"Mean: \"+str(df.mean(axis=0)))"
   ]
  },
  {
   "cell_type": "code",
   "execution_count": 59,
   "metadata": {},
   "outputs": [],
   "source": [
    "top = df.sort_values(by='einwohner_km2', ascending=False).head(1)\n",
    "tail = df.sort_values(by='einwohner_km2', ascending=False).tail(1)\n",
    "mean = 2.044887*10000"
   ]
  },
  {
   "cell_type": "code",
   "execution_count": 60,
   "metadata": {},
   "outputs": [
    {
     "data": {
      "text/plain": [
       "20448.870000000003"
      ]
     },
     "execution_count": 60,
     "metadata": {},
     "output_type": "execute_result"
    }
   ],
   "source": [
    "mean"
   ]
  },
  {
   "cell_type": "code",
   "execution_count": 62,
   "metadata": {},
   "outputs": [
    {
     "ename": "KeyError",
     "evalue": "0",
     "output_type": "error",
     "traceback": [
      "\u001b[1;31m---------------------------------------------------------------------------\u001b[0m",
      "\u001b[1;31mKeyError\u001b[0m                                  Traceback (most recent call last)",
      "\u001b[1;32m~\\anaconda3\\envs\\geo\\lib\\site-packages\\pandas\\core\\indexes\\base.py\u001b[0m in \u001b[0;36mget_loc\u001b[1;34m(self, key, method, tolerance)\u001b[0m\n\u001b[0;32m   2897\u001b[0m             \u001b[1;32mtry\u001b[0m\u001b[1;33m:\u001b[0m\u001b[1;33m\u001b[0m\u001b[1;33m\u001b[0m\u001b[0m\n\u001b[1;32m-> 2898\u001b[1;33m                 \u001b[1;32mreturn\u001b[0m \u001b[0mself\u001b[0m\u001b[1;33m.\u001b[0m\u001b[0m_engine\u001b[0m\u001b[1;33m.\u001b[0m\u001b[0mget_loc\u001b[0m\u001b[1;33m(\u001b[0m\u001b[0mcasted_key\u001b[0m\u001b[1;33m)\u001b[0m\u001b[1;33m\u001b[0m\u001b[1;33m\u001b[0m\u001b[0m\n\u001b[0m\u001b[0;32m   2899\u001b[0m             \u001b[1;32mexcept\u001b[0m \u001b[0mKeyError\u001b[0m \u001b[1;32mas\u001b[0m \u001b[0merr\u001b[0m\u001b[1;33m:\u001b[0m\u001b[1;33m\u001b[0m\u001b[1;33m\u001b[0m\u001b[0m\n",
      "\u001b[1;32mpandas\\_libs\\index.pyx\u001b[0m in \u001b[0;36mpandas._libs.index.IndexEngine.get_loc\u001b[1;34m()\u001b[0m\n",
      "\u001b[1;32mpandas\\_libs\\index.pyx\u001b[0m in \u001b[0;36mpandas._libs.index.IndexEngine.get_loc\u001b[1;34m()\u001b[0m\n",
      "\u001b[1;32mpandas\\_libs\\hashtable_class_helper.pxi\u001b[0m in \u001b[0;36mpandas._libs.hashtable.Int64HashTable.get_item\u001b[1;34m()\u001b[0m\n",
      "\u001b[1;32mpandas\\_libs\\hashtable_class_helper.pxi\u001b[0m in \u001b[0;36mpandas._libs.hashtable.Int64HashTable.get_item\u001b[1;34m()\u001b[0m\n",
      "\u001b[1;31mKeyError\u001b[0m: 0",
      "\nThe above exception was the direct cause of the following exception:\n",
      "\u001b[1;31mKeyError\u001b[0m                                  Traceback (most recent call last)",
      "\u001b[1;32m<ipython-input-62-a1d2088d2b68>\u001b[0m in \u001b[0;36m<module>\u001b[1;34m\u001b[0m\n\u001b[1;32m----> 1\u001b[1;33m \u001b[0mabw\u001b[0m \u001b[1;33m=\u001b[0m \u001b[0mtop\u001b[0m\u001b[1;33m.\u001b[0m\u001b[0meinwohner_km2\u001b[0m\u001b[1;33m[\u001b[0m\u001b[1;36m0\u001b[0m\u001b[1;33m]\u001b[0m \u001b[1;33m-\u001b[0m \u001b[0mtail\u001b[0m\u001b[1;33m.\u001b[0m\u001b[0meinwohner_km2\u001b[0m\u001b[1;33m[\u001b[0m\u001b[1;36m0\u001b[0m\u001b[1;33m]\u001b[0m\u001b[1;33m\u001b[0m\u001b[1;33m\u001b[0m\u001b[0m\n\u001b[0m\u001b[0;32m      2\u001b[0m \u001b[0mabw\u001b[0m\u001b[1;33m\u001b[0m\u001b[1;33m\u001b[0m\u001b[0m\n",
      "\u001b[1;32m~\\anaconda3\\envs\\geo\\lib\\site-packages\\pandas\\core\\series.py\u001b[0m in \u001b[0;36m__getitem__\u001b[1;34m(self, key)\u001b[0m\n\u001b[0;32m    880\u001b[0m \u001b[1;33m\u001b[0m\u001b[0m\n\u001b[0;32m    881\u001b[0m         \u001b[1;32melif\u001b[0m \u001b[0mkey_is_scalar\u001b[0m\u001b[1;33m:\u001b[0m\u001b[1;33m\u001b[0m\u001b[1;33m\u001b[0m\u001b[0m\n\u001b[1;32m--> 882\u001b[1;33m             \u001b[1;32mreturn\u001b[0m \u001b[0mself\u001b[0m\u001b[1;33m.\u001b[0m\u001b[0m_get_value\u001b[0m\u001b[1;33m(\u001b[0m\u001b[0mkey\u001b[0m\u001b[1;33m)\u001b[0m\u001b[1;33m\u001b[0m\u001b[1;33m\u001b[0m\u001b[0m\n\u001b[0m\u001b[0;32m    883\u001b[0m \u001b[1;33m\u001b[0m\u001b[0m\n\u001b[0;32m    884\u001b[0m         \u001b[1;32mif\u001b[0m \u001b[0mis_hashable\u001b[0m\u001b[1;33m(\u001b[0m\u001b[0mkey\u001b[0m\u001b[1;33m)\u001b[0m\u001b[1;33m:\u001b[0m\u001b[1;33m\u001b[0m\u001b[1;33m\u001b[0m\u001b[0m\n",
      "\u001b[1;32m~\\anaconda3\\envs\\geo\\lib\\site-packages\\pandas\\core\\series.py\u001b[0m in \u001b[0;36m_get_value\u001b[1;34m(self, label, takeable)\u001b[0m\n\u001b[0;32m    988\u001b[0m \u001b[1;33m\u001b[0m\u001b[0m\n\u001b[0;32m    989\u001b[0m         \u001b[1;31m# Similar to Index.get_value, but we do not fall back to positional\u001b[0m\u001b[1;33m\u001b[0m\u001b[1;33m\u001b[0m\u001b[1;33m\u001b[0m\u001b[0m\n\u001b[1;32m--> 990\u001b[1;33m         \u001b[0mloc\u001b[0m \u001b[1;33m=\u001b[0m \u001b[0mself\u001b[0m\u001b[1;33m.\u001b[0m\u001b[0mindex\u001b[0m\u001b[1;33m.\u001b[0m\u001b[0mget_loc\u001b[0m\u001b[1;33m(\u001b[0m\u001b[0mlabel\u001b[0m\u001b[1;33m)\u001b[0m\u001b[1;33m\u001b[0m\u001b[1;33m\u001b[0m\u001b[0m\n\u001b[0m\u001b[0;32m    991\u001b[0m         \u001b[1;32mreturn\u001b[0m \u001b[0mself\u001b[0m\u001b[1;33m.\u001b[0m\u001b[0mindex\u001b[0m\u001b[1;33m.\u001b[0m\u001b[0m_get_values_for_loc\u001b[0m\u001b[1;33m(\u001b[0m\u001b[0mself\u001b[0m\u001b[1;33m,\u001b[0m \u001b[0mloc\u001b[0m\u001b[1;33m,\u001b[0m \u001b[0mlabel\u001b[0m\u001b[1;33m)\u001b[0m\u001b[1;33m\u001b[0m\u001b[1;33m\u001b[0m\u001b[0m\n\u001b[0;32m    992\u001b[0m \u001b[1;33m\u001b[0m\u001b[0m\n",
      "\u001b[1;32m~\\anaconda3\\envs\\geo\\lib\\site-packages\\pandas\\core\\indexes\\base.py\u001b[0m in \u001b[0;36mget_loc\u001b[1;34m(self, key, method, tolerance)\u001b[0m\n\u001b[0;32m   2898\u001b[0m                 \u001b[1;32mreturn\u001b[0m \u001b[0mself\u001b[0m\u001b[1;33m.\u001b[0m\u001b[0m_engine\u001b[0m\u001b[1;33m.\u001b[0m\u001b[0mget_loc\u001b[0m\u001b[1;33m(\u001b[0m\u001b[0mcasted_key\u001b[0m\u001b[1;33m)\u001b[0m\u001b[1;33m\u001b[0m\u001b[1;33m\u001b[0m\u001b[0m\n\u001b[0;32m   2899\u001b[0m             \u001b[1;32mexcept\u001b[0m \u001b[0mKeyError\u001b[0m \u001b[1;32mas\u001b[0m \u001b[0merr\u001b[0m\u001b[1;33m:\u001b[0m\u001b[1;33m\u001b[0m\u001b[1;33m\u001b[0m\u001b[0m\n\u001b[1;32m-> 2900\u001b[1;33m                 \u001b[1;32mraise\u001b[0m \u001b[0mKeyError\u001b[0m\u001b[1;33m(\u001b[0m\u001b[0mkey\u001b[0m\u001b[1;33m)\u001b[0m \u001b[1;32mfrom\u001b[0m \u001b[0merr\u001b[0m\u001b[1;33m\u001b[0m\u001b[1;33m\u001b[0m\u001b[0m\n\u001b[0m\u001b[0;32m   2901\u001b[0m \u001b[1;33m\u001b[0m\u001b[0m\n\u001b[0;32m   2902\u001b[0m         \u001b[1;32mif\u001b[0m \u001b[0mtolerance\u001b[0m \u001b[1;32mis\u001b[0m \u001b[1;32mnot\u001b[0m \u001b[1;32mNone\u001b[0m\u001b[1;33m:\u001b[0m\u001b[1;33m\u001b[0m\u001b[1;33m\u001b[0m\u001b[0m\n",
      "\u001b[1;31mKeyError\u001b[0m: 0"
     ]
    }
   ],
   "source": [
    "abw = top.einwohner_km2[0] - tail.einwohner_km2[0]\n",
    "abw"
   ]
  },
  {
   "cell_type": "code",
   "execution_count": 58,
   "metadata": {},
   "outputs": [
    {
     "name": "stdout",
     "output_type": "stream",
     "text": [
      "Mean: plz                        inf\n",
      "first_dig_plz    5.611672e+194\n",
      "einwohner         1.730370e+04\n",
      "area_m2           4.501250e+06\n",
      "area_km2          4.501250e+00\n",
      "einwohner_km2     2.044887e+04\n",
      "einwohner_m2      2.044890e-02\n",
      "dtype: float64\n"
     ]
    }
   ],
   "source": [
    "print(\"Mean: \"+str(df.mean(axis=0)))"
   ]
  },
  {
   "cell_type": "code",
   "execution_count": null,
   "metadata": {},
   "outputs": [],
   "source": [
    "deviations = [(x - mean) ** 2 for x in data]"
   ]
  },
  {
   "cell_type": "markdown",
   "metadata": {},
   "source": [
    "## Industrial"
   ]
  },
  {
   "cell_type": "code",
   "execution_count": 45,
   "metadata": {},
   "outputs": [],
   "source": [
    "df = gp.read_file(\"../results/residential.geojson\")"
   ]
  },
  {
   "cell_type": "code",
   "execution_count": 46,
   "metadata": {},
   "outputs": [
    {
     "data": {
      "text/html": [
       "<div>\n",
       "<style scoped>\n",
       "    .dataframe tbody tr th:only-of-type {\n",
       "        vertical-align: middle;\n",
       "    }\n",
       "\n",
       "    .dataframe tbody tr th {\n",
       "        vertical-align: top;\n",
       "    }\n",
       "\n",
       "    .dataframe thead th {\n",
       "        text-align: right;\n",
       "    }\n",
       "</style>\n",
       "<table border=\"1\" class=\"dataframe\">\n",
       "  <thead>\n",
       "    <tr style=\"text-align: right;\">\n",
       "      <th></th>\n",
       "      <th>id</th>\n",
       "      <th>@id</th>\n",
       "      <th>landuse</th>\n",
       "      <th>name</th>\n",
       "      <th>type</th>\n",
       "      <th>is_in</th>\n",
       "      <th>place</th>\n",
       "      <th>wikidata</th>\n",
       "      <th>wikipedia</th>\n",
       "      <th>reg_name</th>\n",
       "      <th>...</th>\n",
       "      <th>religion</th>\n",
       "      <th>fence_type</th>\n",
       "      <th>alt_name2</th>\n",
       "      <th>contact:phone</th>\n",
       "      <th>building:levels</th>\n",
       "      <th>traffic_island</th>\n",
       "      <th>name:etymology:wikidata</th>\n",
       "      <th>crossing</th>\n",
       "      <th>@relations</th>\n",
       "      <th>geometry</th>\n",
       "    </tr>\n",
       "  </thead>\n",
       "  <tbody>\n",
       "    <tr>\n",
       "      <th>0</th>\n",
       "      <td>relation/19962</td>\n",
       "      <td>relation/19962</td>\n",
       "      <td>residential</td>\n",
       "      <td>Buch IV</td>\n",
       "      <td>multipolygon</td>\n",
       "      <td>None</td>\n",
       "      <td>None</td>\n",
       "      <td>None</td>\n",
       "      <td>None</td>\n",
       "      <td>None</td>\n",
       "      <td>...</td>\n",
       "      <td>None</td>\n",
       "      <td>None</td>\n",
       "      <td>None</td>\n",
       "      <td>None</td>\n",
       "      <td>None</td>\n",
       "      <td>None</td>\n",
       "      <td>None</td>\n",
       "      <td>None</td>\n",
       "      <td>None</td>\n",
       "      <td>POLYGON ((13.49105 52.63147, 13.48827 52.62938...</td>\n",
       "    </tr>\n",
       "    <tr>\n",
       "      <th>1</th>\n",
       "      <td>relation/38487</td>\n",
       "      <td>relation/38487</td>\n",
       "      <td>residential</td>\n",
       "      <td>None</td>\n",
       "      <td>multipolygon</td>\n",
       "      <td>None</td>\n",
       "      <td>None</td>\n",
       "      <td>None</td>\n",
       "      <td>None</td>\n",
       "      <td>None</td>\n",
       "      <td>...</td>\n",
       "      <td>None</td>\n",
       "      <td>None</td>\n",
       "      <td>None</td>\n",
       "      <td>None</td>\n",
       "      <td>None</td>\n",
       "      <td>None</td>\n",
       "      <td>None</td>\n",
       "      <td>None</td>\n",
       "      <td>None</td>\n",
       "      <td>POLYGON ((13.22365 52.40662, 13.22376 52.40597...</td>\n",
       "    </tr>\n",
       "    <tr>\n",
       "      <th>2</th>\n",
       "      <td>relation/57594</td>\n",
       "      <td>relation/57594</td>\n",
       "      <td>residential</td>\n",
       "      <td>None</td>\n",
       "      <td>multipolygon</td>\n",
       "      <td>None</td>\n",
       "      <td>None</td>\n",
       "      <td>None</td>\n",
       "      <td>None</td>\n",
       "      <td>None</td>\n",
       "      <td>...</td>\n",
       "      <td>None</td>\n",
       "      <td>None</td>\n",
       "      <td>None</td>\n",
       "      <td>None</td>\n",
       "      <td>None</td>\n",
       "      <td>None</td>\n",
       "      <td>None</td>\n",
       "      <td>None</td>\n",
       "      <td>None</td>\n",
       "      <td>POLYGON ((13.66087 52.41268, 13.66075 52.41277...</td>\n",
       "    </tr>\n",
       "    <tr>\n",
       "      <th>3</th>\n",
       "      <td>relation/67993</td>\n",
       "      <td>relation/67993</td>\n",
       "      <td>residential</td>\n",
       "      <td>None</td>\n",
       "      <td>multipolygon</td>\n",
       "      <td>None</td>\n",
       "      <td>None</td>\n",
       "      <td>None</td>\n",
       "      <td>None</td>\n",
       "      <td>None</td>\n",
       "      <td>...</td>\n",
       "      <td>None</td>\n",
       "      <td>None</td>\n",
       "      <td>None</td>\n",
       "      <td>None</td>\n",
       "      <td>None</td>\n",
       "      <td>None</td>\n",
       "      <td>None</td>\n",
       "      <td>None</td>\n",
       "      <td>None</td>\n",
       "      <td>POLYGON ((13.45222 52.49024, 13.45354 52.48931...</td>\n",
       "    </tr>\n",
       "    <tr>\n",
       "      <th>4</th>\n",
       "      <td>relation/75605</td>\n",
       "      <td>relation/75605</td>\n",
       "      <td>residential</td>\n",
       "      <td>None</td>\n",
       "      <td>multipolygon</td>\n",
       "      <td>None</td>\n",
       "      <td>None</td>\n",
       "      <td>None</td>\n",
       "      <td>None</td>\n",
       "      <td>None</td>\n",
       "      <td>...</td>\n",
       "      <td>None</td>\n",
       "      <td>None</td>\n",
       "      <td>None</td>\n",
       "      <td>None</td>\n",
       "      <td>None</td>\n",
       "      <td>None</td>\n",
       "      <td>None</td>\n",
       "      <td>None</td>\n",
       "      <td>None</td>\n",
       "      <td>POLYGON ((13.57454 52.52783, 13.57479 52.52895...</td>\n",
       "    </tr>\n",
       "    <tr>\n",
       "      <th>...</th>\n",
       "      <td>...</td>\n",
       "      <td>...</td>\n",
       "      <td>...</td>\n",
       "      <td>...</td>\n",
       "      <td>...</td>\n",
       "      <td>...</td>\n",
       "      <td>...</td>\n",
       "      <td>...</td>\n",
       "      <td>...</td>\n",
       "      <td>...</td>\n",
       "      <td>...</td>\n",
       "      <td>...</td>\n",
       "      <td>...</td>\n",
       "      <td>...</td>\n",
       "      <td>...</td>\n",
       "      <td>...</td>\n",
       "      <td>...</td>\n",
       "      <td>...</td>\n",
       "      <td>...</td>\n",
       "      <td>...</td>\n",
       "      <td>...</td>\n",
       "    </tr>\n",
       "    <tr>\n",
       "      <th>7902</th>\n",
       "      <td>way/887400476</td>\n",
       "      <td>way/887400476</td>\n",
       "      <td>residential</td>\n",
       "      <td>None</td>\n",
       "      <td>None</td>\n",
       "      <td>None</td>\n",
       "      <td>None</td>\n",
       "      <td>None</td>\n",
       "      <td>None</td>\n",
       "      <td>None</td>\n",
       "      <td>...</td>\n",
       "      <td>None</td>\n",
       "      <td>None</td>\n",
       "      <td>None</td>\n",
       "      <td>None</td>\n",
       "      <td>None</td>\n",
       "      <td>None</td>\n",
       "      <td>None</td>\n",
       "      <td>None</td>\n",
       "      <td>None</td>\n",
       "      <td>POLYGON ((13.73620 52.42931, 13.73590 52.42871...</td>\n",
       "    </tr>\n",
       "    <tr>\n",
       "      <th>7903</th>\n",
       "      <td>way/887654044</td>\n",
       "      <td>way/887654044</td>\n",
       "      <td>residential</td>\n",
       "      <td>None</td>\n",
       "      <td>None</td>\n",
       "      <td>None</td>\n",
       "      <td>None</td>\n",
       "      <td>None</td>\n",
       "      <td>None</td>\n",
       "      <td>None</td>\n",
       "      <td>...</td>\n",
       "      <td>None</td>\n",
       "      <td>None</td>\n",
       "      <td>None</td>\n",
       "      <td>None</td>\n",
       "      <td>None</td>\n",
       "      <td>None</td>\n",
       "      <td>None</td>\n",
       "      <td>None</td>\n",
       "      <td>None</td>\n",
       "      <td>POLYGON ((13.29687 52.45270, 13.29726 52.45255...</td>\n",
       "    </tr>\n",
       "    <tr>\n",
       "      <th>7904</th>\n",
       "      <td>way/887654045</td>\n",
       "      <td>way/887654045</td>\n",
       "      <td>residential</td>\n",
       "      <td>None</td>\n",
       "      <td>None</td>\n",
       "      <td>None</td>\n",
       "      <td>None</td>\n",
       "      <td>None</td>\n",
       "      <td>None</td>\n",
       "      <td>None</td>\n",
       "      <td>...</td>\n",
       "      <td>None</td>\n",
       "      <td>None</td>\n",
       "      <td>None</td>\n",
       "      <td>None</td>\n",
       "      <td>None</td>\n",
       "      <td>None</td>\n",
       "      <td>None</td>\n",
       "      <td>None</td>\n",
       "      <td>None</td>\n",
       "      <td>POLYGON ((13.29810 52.45330, 13.29835 52.45353...</td>\n",
       "    </tr>\n",
       "    <tr>\n",
       "      <th>7905</th>\n",
       "      <td>way/217186438</td>\n",
       "      <td>way/217186438</td>\n",
       "      <td>residential</td>\n",
       "      <td>Treskowhöfe</td>\n",
       "      <td>None</td>\n",
       "      <td>None</td>\n",
       "      <td>None</td>\n",
       "      <td>None</td>\n",
       "      <td>None</td>\n",
       "      <td>None</td>\n",
       "      <td>...</td>\n",
       "      <td>None</td>\n",
       "      <td>None</td>\n",
       "      <td>None</td>\n",
       "      <td>None</td>\n",
       "      <td>None</td>\n",
       "      <td>None</td>\n",
       "      <td>None</td>\n",
       "      <td>None</td>\n",
       "      <td>[ { \"role\": \"inner\", \"rel\": 5738069, \"reltags\"...</td>\n",
       "      <td>POLYGON ((13.52606 52.49165, 13.52566 52.49041...</td>\n",
       "    </tr>\n",
       "    <tr>\n",
       "      <th>7906</th>\n",
       "      <td>way/880770433</td>\n",
       "      <td>way/880770433</td>\n",
       "      <td>residential</td>\n",
       "      <td>None</td>\n",
       "      <td>None</td>\n",
       "      <td>None</td>\n",
       "      <td>None</td>\n",
       "      <td>None</td>\n",
       "      <td>None</td>\n",
       "      <td>None</td>\n",
       "      <td>...</td>\n",
       "      <td>None</td>\n",
       "      <td>None</td>\n",
       "      <td>None</td>\n",
       "      <td>None</td>\n",
       "      <td>None</td>\n",
       "      <td>None</td>\n",
       "      <td>None</td>\n",
       "      <td>None</td>\n",
       "      <td>None</td>\n",
       "      <td>LINESTRING (13.56858 52.38896, 13.56700 52.388...</td>\n",
       "    </tr>\n",
       "  </tbody>\n",
       "</table>\n",
       "<p>7907 rows × 93 columns</p>\n",
       "</div>"
      ],
      "text/plain": [
       "                  id             @id      landuse         name          type  \\\n",
       "0     relation/19962  relation/19962  residential      Buch IV  multipolygon   \n",
       "1     relation/38487  relation/38487  residential         None  multipolygon   \n",
       "2     relation/57594  relation/57594  residential         None  multipolygon   \n",
       "3     relation/67993  relation/67993  residential         None  multipolygon   \n",
       "4     relation/75605  relation/75605  residential         None  multipolygon   \n",
       "...              ...             ...          ...          ...           ...   \n",
       "7902   way/887400476   way/887400476  residential         None          None   \n",
       "7903   way/887654044   way/887654044  residential         None          None   \n",
       "7904   way/887654045   way/887654045  residential         None          None   \n",
       "7905   way/217186438   way/217186438  residential  Treskowhöfe          None   \n",
       "7906   way/880770433   way/880770433  residential         None          None   \n",
       "\n",
       "     is_in place wikidata wikipedia reg_name  ... religion fence_type  \\\n",
       "0     None  None     None      None     None  ...     None       None   \n",
       "1     None  None     None      None     None  ...     None       None   \n",
       "2     None  None     None      None     None  ...     None       None   \n",
       "3     None  None     None      None     None  ...     None       None   \n",
       "4     None  None     None      None     None  ...     None       None   \n",
       "...    ...   ...      ...       ...      ...  ...      ...        ...   \n",
       "7902  None  None     None      None     None  ...     None       None   \n",
       "7903  None  None     None      None     None  ...     None       None   \n",
       "7904  None  None     None      None     None  ...     None       None   \n",
       "7905  None  None     None      None     None  ...     None       None   \n",
       "7906  None  None     None      None     None  ...     None       None   \n",
       "\n",
       "     alt_name2 contact:phone building:levels traffic_island  \\\n",
       "0         None          None            None           None   \n",
       "1         None          None            None           None   \n",
       "2         None          None            None           None   \n",
       "3         None          None            None           None   \n",
       "4         None          None            None           None   \n",
       "...        ...           ...             ...            ...   \n",
       "7902      None          None            None           None   \n",
       "7903      None          None            None           None   \n",
       "7904      None          None            None           None   \n",
       "7905      None          None            None           None   \n",
       "7906      None          None            None           None   \n",
       "\n",
       "     name:etymology:wikidata crossing  \\\n",
       "0                       None     None   \n",
       "1                       None     None   \n",
       "2                       None     None   \n",
       "3                       None     None   \n",
       "4                       None     None   \n",
       "...                      ...      ...   \n",
       "7902                    None     None   \n",
       "7903                    None     None   \n",
       "7904                    None     None   \n",
       "7905                    None     None   \n",
       "7906                    None     None   \n",
       "\n",
       "                                             @relations  \\\n",
       "0                                                  None   \n",
       "1                                                  None   \n",
       "2                                                  None   \n",
       "3                                                  None   \n",
       "4                                                  None   \n",
       "...                                                 ...   \n",
       "7902                                               None   \n",
       "7903                                               None   \n",
       "7904                                               None   \n",
       "7905  [ { \"role\": \"inner\", \"rel\": 5738069, \"reltags\"...   \n",
       "7906                                               None   \n",
       "\n",
       "                                               geometry  \n",
       "0     POLYGON ((13.49105 52.63147, 13.48827 52.62938...  \n",
       "1     POLYGON ((13.22365 52.40662, 13.22376 52.40597...  \n",
       "2     POLYGON ((13.66087 52.41268, 13.66075 52.41277...  \n",
       "3     POLYGON ((13.45222 52.49024, 13.45354 52.48931...  \n",
       "4     POLYGON ((13.57454 52.52783, 13.57479 52.52895...  \n",
       "...                                                 ...  \n",
       "7902  POLYGON ((13.73620 52.42931, 13.73590 52.42871...  \n",
       "7903  POLYGON ((13.29687 52.45270, 13.29726 52.45255...  \n",
       "7904  POLYGON ((13.29810 52.45330, 13.29835 52.45353...  \n",
       "7905  POLYGON ((13.52606 52.49165, 13.52566 52.49041...  \n",
       "7906  LINESTRING (13.56858 52.38896, 13.56700 52.388...  \n",
       "\n",
       "[7907 rows x 93 columns]"
      ]
     },
     "execution_count": 46,
     "metadata": {},
     "output_type": "execute_result"
    }
   ],
   "source": [
    "df"
   ]
  },
  {
   "cell_type": "code",
   "execution_count": null,
   "metadata": {},
   "outputs": [],
   "source": []
  }
 ],
 "metadata": {
  "kernelspec": {
   "display_name": "Python 3",
   "language": "python",
   "name": "python3"
  },
  "language_info": {
   "codemirror_mode": {
    "name": "ipython",
    "version": 3
   },
   "file_extension": ".py",
   "mimetype": "text/x-python",
   "name": "python",
   "nbconvert_exporter": "python",
   "pygments_lexer": "ipython3",
   "version": "3.8.5"
  }
 },
 "nbformat": 4,
 "nbformat_minor": 4
}
