{
 "cells": [
  {
   "cell_type": "code",
   "execution_count": 1,
   "metadata": {},
   "outputs": [],
   "source": [
    "import osmnx as ox\n",
    "import matplotlib.pyplot as plt\n",
    "import geopandas as gp\n",
    "import networkx as nx\n",
    "import os.path\n",
    "from os import path\n",
    "import pathlib\n",
    "import pandas as pd\n",
    "ox.config(log_console=True, use_cache=True)\n"
   ]
  },
  {
   "cell_type": "code",
   "execution_count": 2,
   "metadata": {},
   "outputs": [],
   "source": [
    "df = gp.read_file(\"../results/berlin-bicycleedges-important-ways.geojson\")"
   ]
  },
  {
   "cell_type": "code",
   "execution_count": 3,
   "metadata": {},
   "outputs": [
    {
     "data": {
      "text/html": [
       "<div>\n",
       "<style scoped>\n",
       "    .dataframe tbody tr th:only-of-type {\n",
       "        vertical-align: middle;\n",
       "    }\n",
       "\n",
       "    .dataframe tbody tr th {\n",
       "        vertical-align: top;\n",
       "    }\n",
       "\n",
       "    .dataframe thead th {\n",
       "        text-align: right;\n",
       "    }\n",
       "</style>\n",
       "<table border=\"1\" class=\"dataframe\">\n",
       "  <thead>\n",
       "    <tr style=\"text-align: right;\">\n",
       "      <th></th>\n",
       "      <th>length</th>\n",
       "      <th>color</th>\n",
       "      <th>geometry</th>\n",
       "    </tr>\n",
       "  </thead>\n",
       "  <tbody>\n",
       "    <tr>\n",
       "      <th>0</th>\n",
       "      <td>119.805</td>\n",
       "      <td>#0800ff</td>\n",
       "      <td>LINESTRING (13.33737 52.55878, 13.33725 52.558...</td>\n",
       "    </tr>\n",
       "    <tr>\n",
       "      <th>1</th>\n",
       "      <td>10.295</td>\n",
       "      <td>#0800ff</td>\n",
       "      <td>LINESTRING (13.33607 52.55952, 13.33597 52.55945)</td>\n",
       "    </tr>\n",
       "    <tr>\n",
       "      <th>2</th>\n",
       "      <td>112.639</td>\n",
       "      <td>#0800ff</td>\n",
       "      <td>LINESTRING (13.33607 52.55952, 13.33578 52.559...</td>\n",
       "    </tr>\n",
       "    <tr>\n",
       "      <th>3</th>\n",
       "      <td>13.660</td>\n",
       "      <td>#0800ff</td>\n",
       "      <td>LINESTRING (13.33064 52.56262, 13.33047 52.56255)</td>\n",
       "    </tr>\n",
       "    <tr>\n",
       "      <th>4</th>\n",
       "      <td>42.844</td>\n",
       "      <td>#0800ff</td>\n",
       "      <td>LINESTRING (13.33064 52.56262, 13.33075 52.562...</td>\n",
       "    </tr>\n",
       "    <tr>\n",
       "      <th>...</th>\n",
       "      <td>...</td>\n",
       "      <td>...</td>\n",
       "      <td>...</td>\n",
       "    </tr>\n",
       "    <tr>\n",
       "      <th>32363</th>\n",
       "      <td>22.319</td>\n",
       "      <td>#0800ff</td>\n",
       "      <td>LINESTRING (13.42429 52.46359, 13.42444 52.463...</td>\n",
       "    </tr>\n",
       "    <tr>\n",
       "      <th>32364</th>\n",
       "      <td>31.589</td>\n",
       "      <td>#0800ff</td>\n",
       "      <td>LINESTRING (13.42429 52.46359, 13.42421 52.463...</td>\n",
       "    </tr>\n",
       "    <tr>\n",
       "      <th>32365</th>\n",
       "      <td>16.447</td>\n",
       "      <td>#0800ff</td>\n",
       "      <td>LINESTRING (13.44526 52.46208, 13.44536 52.46195)</td>\n",
       "    </tr>\n",
       "    <tr>\n",
       "      <th>32366</th>\n",
       "      <td>6.324</td>\n",
       "      <td>#91ff00</td>\n",
       "      <td>LINESTRING (13.50087 52.43517, 13.50081 52.43521)</td>\n",
       "    </tr>\n",
       "    <tr>\n",
       "      <th>32367</th>\n",
       "      <td>74.499</td>\n",
       "      <td>#91ff00</td>\n",
       "      <td>LINESTRING (13.50087 52.43517, 13.50091 52.435...</td>\n",
       "    </tr>\n",
       "  </tbody>\n",
       "</table>\n",
       "<p>32368 rows × 3 columns</p>\n",
       "</div>"
      ],
      "text/plain": [
       "        length    color                                           geometry\n",
       "0      119.805  #0800ff  LINESTRING (13.33737 52.55878, 13.33725 52.558...\n",
       "1       10.295  #0800ff  LINESTRING (13.33607 52.55952, 13.33597 52.55945)\n",
       "2      112.639  #0800ff  LINESTRING (13.33607 52.55952, 13.33578 52.559...\n",
       "3       13.660  #0800ff  LINESTRING (13.33064 52.56262, 13.33047 52.56255)\n",
       "4       42.844  #0800ff  LINESTRING (13.33064 52.56262, 13.33075 52.562...\n",
       "...        ...      ...                                                ...\n",
       "32363   22.319  #0800ff  LINESTRING (13.42429 52.46359, 13.42444 52.463...\n",
       "32364   31.589  #0800ff  LINESTRING (13.42429 52.46359, 13.42421 52.463...\n",
       "32365   16.447  #0800ff  LINESTRING (13.44526 52.46208, 13.44536 52.46195)\n",
       "32366    6.324  #91ff00  LINESTRING (13.50087 52.43517, 13.50081 52.43521)\n",
       "32367   74.499  #91ff00  LINESTRING (13.50087 52.43517, 13.50091 52.435...\n",
       "\n",
       "[32368 rows x 3 columns]"
      ]
     },
     "execution_count": 3,
     "metadata": {},
     "output_type": "execute_result"
    }
   ],
   "source": [
    "df"
   ]
  },
  {
   "cell_type": "code",
   "execution_count": 6,
   "metadata": {},
   "outputs": [
    {
     "data": {
      "text/plain": [
       "length    81.079923\n",
       "dtype: float64"
      ]
     },
     "execution_count": 6,
     "metadata": {},
     "output_type": "execute_result"
    }
   ],
   "source": [
    "df.mean(axis=0)"
   ]
  },
  {
   "cell_type": "code",
   "execution_count": 7,
   "metadata": {},
   "outputs": [
    {
     "data": {
      "text/plain": [
       "length     1727.8\n",
       "color     #ff0000\n",
       "dtype: object"
      ]
     },
     "execution_count": 7,
     "metadata": {},
     "output_type": "execute_result"
    }
   ],
   "source": [
    "df.max(axis=0)"
   ]
  },
  {
   "cell_type": "code",
   "execution_count": 8,
   "metadata": {},
   "outputs": [
    {
     "data": {
      "text/plain": [
       "length      0.108\n",
       "color     #0800ff\n",
       "dtype: object"
      ]
     },
     "execution_count": 8,
     "metadata": {},
     "output_type": "execute_result"
    }
   ],
   "source": [
    "df.min(axis=0)"
   ]
  }
 ],
 "metadata": {
  "kernelspec": {
   "display_name": "Python 3",
   "language": "python",
   "name": "python3"
  },
  "language_info": {
   "codemirror_mode": {
    "name": "ipython",
    "version": 3
   },
   "file_extension": ".py",
   "mimetype": "text/x-python",
   "name": "python",
   "nbconvert_exporter": "python",
   "pygments_lexer": "ipython3",
   "version": "3.8.5"
  }
 },
 "nbformat": 4,
 "nbformat_minor": 4
}
