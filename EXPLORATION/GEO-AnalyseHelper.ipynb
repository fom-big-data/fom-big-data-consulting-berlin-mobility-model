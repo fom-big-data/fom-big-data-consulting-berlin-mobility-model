{
 "cells": [
  {
   "cell_type": "code",
   "execution_count": 27,
   "metadata": {},
   "outputs": [],
   "source": [
    "import osmnx as ox\n",
    "import matplotlib.pyplot as plt\n",
    "import geopandas as gp\n",
    "import networkx as nx\n",
    "import os.path\n",
    "from os import path\n",
    "import pathlib\n",
    "import pandas as pd\n",
    "ox.config(log_console=True, use_cache=True)\n"
   ]
  },
  {
   "cell_type": "markdown",
   "metadata": {},
   "source": [
    "# Story Helper to calculate some deskriptive analysis"
   ]
  },
  {
   "cell_type": "markdown",
   "metadata": {},
   "source": [
    "## None IsoChrones"
   ]
  },
  {
   "cell_type": "code",
   "execution_count": 28,
   "metadata": {},
   "outputs": [],
   "source": [
    "df = gp.read_file(\"../results/berlin-bicycleedges-important-ways.geojson\")"
   ]
  },
  {
   "cell_type": "code",
   "execution_count": 29,
   "metadata": {},
   "outputs": [
    {
     "data": {
      "text/html": [
       "<div>\n",
       "<style scoped>\n",
       "    .dataframe tbody tr th:only-of-type {\n",
       "        vertical-align: middle;\n",
       "    }\n",
       "\n",
       "    .dataframe tbody tr th {\n",
       "        vertical-align: top;\n",
       "    }\n",
       "\n",
       "    .dataframe thead th {\n",
       "        text-align: right;\n",
       "    }\n",
       "</style>\n",
       "<table border=\"1\" class=\"dataframe\">\n",
       "  <thead>\n",
       "    <tr style=\"text-align: right;\">\n",
       "      <th></th>\n",
       "      <th>length</th>\n",
       "      <th>color</th>\n",
       "      <th>geometry</th>\n",
       "    </tr>\n",
       "  </thead>\n",
       "  <tbody>\n",
       "    <tr>\n",
       "      <th>0</th>\n",
       "      <td>119.805</td>\n",
       "      <td>#0800ff</td>\n",
       "      <td>LINESTRING (13.33737 52.55878, 13.33725 52.558...</td>\n",
       "    </tr>\n",
       "    <tr>\n",
       "      <th>1</th>\n",
       "      <td>10.295</td>\n",
       "      <td>#0800ff</td>\n",
       "      <td>LINESTRING (13.33607 52.55952, 13.33597 52.55945)</td>\n",
       "    </tr>\n",
       "    <tr>\n",
       "      <th>2</th>\n",
       "      <td>112.639</td>\n",
       "      <td>#0800ff</td>\n",
       "      <td>LINESTRING (13.33607 52.55952, 13.33578 52.559...</td>\n",
       "    </tr>\n",
       "    <tr>\n",
       "      <th>3</th>\n",
       "      <td>13.660</td>\n",
       "      <td>#0800ff</td>\n",
       "      <td>LINESTRING (13.33064 52.56262, 13.33047 52.56255)</td>\n",
       "    </tr>\n",
       "    <tr>\n",
       "      <th>4</th>\n",
       "      <td>42.844</td>\n",
       "      <td>#0800ff</td>\n",
       "      <td>LINESTRING (13.33064 52.56262, 13.33075 52.562...</td>\n",
       "    </tr>\n",
       "    <tr>\n",
       "      <th>...</th>\n",
       "      <td>...</td>\n",
       "      <td>...</td>\n",
       "      <td>...</td>\n",
       "    </tr>\n",
       "    <tr>\n",
       "      <th>32363</th>\n",
       "      <td>22.319</td>\n",
       "      <td>#0800ff</td>\n",
       "      <td>LINESTRING (13.42429 52.46359, 13.42444 52.463...</td>\n",
       "    </tr>\n",
       "    <tr>\n",
       "      <th>32364</th>\n",
       "      <td>31.589</td>\n",
       "      <td>#0800ff</td>\n",
       "      <td>LINESTRING (13.42429 52.46359, 13.42421 52.463...</td>\n",
       "    </tr>\n",
       "    <tr>\n",
       "      <th>32365</th>\n",
       "      <td>16.447</td>\n",
       "      <td>#0800ff</td>\n",
       "      <td>LINESTRING (13.44526 52.46208, 13.44536 52.46195)</td>\n",
       "    </tr>\n",
       "    <tr>\n",
       "      <th>32366</th>\n",
       "      <td>6.324</td>\n",
       "      <td>#91ff00</td>\n",
       "      <td>LINESTRING (13.50087 52.43517, 13.50081 52.43521)</td>\n",
       "    </tr>\n",
       "    <tr>\n",
       "      <th>32367</th>\n",
       "      <td>74.499</td>\n",
       "      <td>#91ff00</td>\n",
       "      <td>LINESTRING (13.50087 52.43517, 13.50091 52.435...</td>\n",
       "    </tr>\n",
       "  </tbody>\n",
       "</table>\n",
       "<p>32368 rows × 3 columns</p>\n",
       "</div>"
      ],
      "text/plain": [
       "        length    color                                           geometry\n",
       "0      119.805  #0800ff  LINESTRING (13.33737 52.55878, 13.33725 52.558...\n",
       "1       10.295  #0800ff  LINESTRING (13.33607 52.55952, 13.33597 52.55945)\n",
       "2      112.639  #0800ff  LINESTRING (13.33607 52.55952, 13.33578 52.559...\n",
       "3       13.660  #0800ff  LINESTRING (13.33064 52.56262, 13.33047 52.56255)\n",
       "4       42.844  #0800ff  LINESTRING (13.33064 52.56262, 13.33075 52.562...\n",
       "...        ...      ...                                                ...\n",
       "32363   22.319  #0800ff  LINESTRING (13.42429 52.46359, 13.42444 52.463...\n",
       "32364   31.589  #0800ff  LINESTRING (13.42429 52.46359, 13.42421 52.463...\n",
       "32365   16.447  #0800ff  LINESTRING (13.44526 52.46208, 13.44536 52.46195)\n",
       "32366    6.324  #91ff00  LINESTRING (13.50087 52.43517, 13.50081 52.43521)\n",
       "32367   74.499  #91ff00  LINESTRING (13.50087 52.43517, 13.50091 52.435...\n",
       "\n",
       "[32368 rows x 3 columns]"
      ]
     },
     "execution_count": 29,
     "metadata": {},
     "output_type": "execute_result"
    }
   ],
   "source": [
    "df"
   ]
  },
  {
   "cell_type": "code",
   "execution_count": 30,
   "metadata": {},
   "outputs": [
    {
     "data": {
      "text/plain": [
       "length    81.079923\n",
       "dtype: float64"
      ]
     },
     "execution_count": 30,
     "metadata": {},
     "output_type": "execute_result"
    }
   ],
   "source": [
    "df.mean(axis=0)"
   ]
  },
  {
   "cell_type": "code",
   "execution_count": 31,
   "metadata": {},
   "outputs": [
    {
     "data": {
      "text/plain": [
       "length     1727.8\n",
       "color     #ff0000\n",
       "dtype: object"
      ]
     },
     "execution_count": 31,
     "metadata": {},
     "output_type": "execute_result"
    }
   ],
   "source": [
    "df.max(axis=0)"
   ]
  },
  {
   "cell_type": "code",
   "execution_count": 32,
   "metadata": {},
   "outputs": [
    {
     "data": {
      "text/plain": [
       "length      0.108\n",
       "color     #0800ff\n",
       "dtype: object"
      ]
     },
     "execution_count": 32,
     "metadata": {},
     "output_type": "execute_result"
    }
   ],
   "source": [
    "df.min(axis=0)"
   ]
  },
  {
   "cell_type": "markdown",
   "metadata": {},
   "source": [
    "# IsoCHrones"
   ]
  },
  {
   "cell_type": "markdown",
   "metadata": {},
   "source": [
    "### Drive"
   ]
  },
  {
   "cell_type": "code",
   "execution_count": 21,
   "metadata": {},
   "outputs": [
    {
     "name": "stdout",
     "output_type": "stream",
     "text": [
      "Drive\n",
      "Minimum: mean_spatial_distance_15min    0.0\n",
      "dtype: float64\n",
      "Maximum: mean_spatial_distance_15min    20494.20539\n",
      "dtype: float64\n",
      "Mean: mean_spatial_distance_15min    13359.712571\n",
      "dtype: float64\n"
     ]
    }
   ],
   "source": [
    "df = gp.read_file(\"../results/isochrones-drive-15.geojson\")\n",
    "print(\"Drive\\nMinimum: \"+str(df.min(axis=0)))\n",
    "print(\"Maximum: \"+str(df.max(axis=0)))\n",
    "print(\"Mean: \"+str(df.mean(axis=0)))"
   ]
  },
  {
   "cell_type": "code",
   "execution_count": 20,
   "metadata": {},
   "outputs": [
    {
     "name": "stdout",
     "output_type": "stream",
     "text": [
      "Bike\n",
      "Minimum: max_spatial_distance_15min       851.008137\n",
      "mean_spatial_distance_15min      645.939202\n",
      "median_spatial_distance_15min    250.175503\n",
      "min_spatial_distance_15min        31.873245\n",
      "dtype: float64\n",
      "Maximum: max_spatial_distance_15min       3958.531757\n",
      "mean_spatial_distance_15min      3280.540820\n",
      "median_spatial_distance_15min    3311.365349\n",
      "min_spatial_distance_15min       2963.547828\n",
      "dtype: float64\n",
      "Mean: max_spatial_distance_15min       3050.264385\n",
      "mean_spatial_distance_15min      2599.437823\n",
      "median_spatial_distance_15min    2606.050477\n",
      "min_spatial_distance_15min       2094.306263\n",
      "dtype: float64\n"
     ]
    }
   ],
   "source": [
    "df = gp.read_file(\"../results/isochrones-bike-15.geojson\")\n",
    "print(\"Bike\\nMinimum: \"+str(df.min(axis=0)))\n",
    "print(\"Maximum: \"+str(df.max(axis=0)))\n",
    "print(\"Mean: \"+str(df.mean(axis=0)))"
   ]
  },
  {
   "cell_type": "code",
   "execution_count": 16,
   "metadata": {},
   "outputs": [
    {
     "name": "stdout",
     "output_type": "stream",
     "text": [
      "Subway\n",
      "Minimum: max_spatial_distance_15min       417.137234\n",
      "mean_spatial_distance_15min      269.283978\n",
      "median_spatial_distance_15min    133.297778\n",
      "min_spatial_distance_15min        10.507125\n",
      "dtype: float64\n",
      "Maximum: max_spatial_distance_15min       7095.074365\n",
      "mean_spatial_distance_15min      5606.464461\n",
      "median_spatial_distance_15min    5585.814196\n",
      "min_spatial_distance_15min       3800.467491\n",
      "dtype: float64\n",
      "Mean: max_spatial_distance_15min       1693.778844\n",
      "mean_spatial_distance_15min      1342.316392\n",
      "median_spatial_distance_15min    1331.585952\n",
      "min_spatial_distance_15min        978.842195\n",
      "dtype: float64\n"
     ]
    }
   ],
   "source": [
    "df = gp.read_file(\"../results/isochrones-subway-15.geojson\")\n",
    "print(\"Subway\\nMinimum: \"+str(df.min(axis=0)))\n",
    "print(\"Maximum: \"+str(df.max(axis=0)))\n",
    "print(\"Mean: \"+str(df.mean(axis=0)))"
   ]
  },
  {
   "cell_type": "code",
   "execution_count": 22,
   "metadata": {},
   "outputs": [
    {
     "name": "stdout",
     "output_type": "stream",
     "text": [
      "Light-Rail\n",
      "Minimum: max_spatial_distance_15min       819.414045\n",
      "mean_spatial_distance_15min      381.945490\n",
      "median_spatial_distance_15min    133.932960\n",
      "min_spatial_distance_15min        10.507125\n",
      "dtype: float64\n",
      "Maximum: max_spatial_distance_15min       22585.663981\n",
      "mean_spatial_distance_15min      17067.390347\n",
      "median_spatial_distance_15min    17745.460195\n",
      "min_spatial_distance_15min       12512.964772\n",
      "dtype: float64\n",
      "Mean: max_spatial_distance_15min       3930.274886\n",
      "mean_spatial_distance_15min      2771.390157\n",
      "median_spatial_distance_15min    2722.829440\n",
      "min_spatial_distance_15min       1542.688384\n",
      "dtype: float64\n"
     ]
    }
   ],
   "source": [
    "df = gp.read_file(\"../results/isochrones-light_rail-15.geojson\")\n",
    "print(\"Light-Rail\\nMinimum: \"+str(df.min(axis=0)))\n",
    "print(\"Maximum: \"+str(df.max(axis=0)))\n",
    "print(\"Mean: \"+str(df.mean(axis=0)))"
   ]
  },
  {
   "cell_type": "code",
   "execution_count": 23,
   "metadata": {},
   "outputs": [
    {
     "name": "stdout",
     "output_type": "stream",
     "text": [
      "Bus\n",
      "Minimum: max_spatial_distance_15min       417.137234\n",
      "mean_spatial_distance_15min      265.746092\n",
      "median_spatial_distance_15min    151.173129\n",
      "min_spatial_distance_15min        19.303006\n",
      "dtype: float64\n",
      "Maximum: max_spatial_distance_15min       4747.427442\n",
      "mean_spatial_distance_15min      4079.301644\n",
      "median_spatial_distance_15min    4242.477085\n",
      "min_spatial_distance_15min       3671.868479\n",
      "dtype: float64\n",
      "Mean: max_spatial_distance_15min       3533.773053\n",
      "mean_spatial_distance_15min      2930.466171\n",
      "median_spatial_distance_15min    2960.161526\n",
      "min_spatial_distance_15min       2166.464180\n",
      "dtype: float64\n"
     ]
    }
   ],
   "source": [
    "df = gp.read_file(\"../results/isochrones-bus-15.geojson\")\n",
    "print(\"Bus\\nMinimum: \"+str(df.min(axis=0)))\n",
    "print(\"Maximum: \"+str(df.max(axis=0)))\n",
    "print(\"Mean: \"+str(df.mean(axis=0)))"
   ]
  },
  {
   "cell_type": "code",
   "execution_count": 24,
   "metadata": {},
   "outputs": [
    {
     "name": "stdout",
     "output_type": "stream",
     "text": [
      "Tram\n",
      "Minimum: max_spatial_distance_15min       417.137234\n",
      "mean_spatial_distance_15min      269.283978\n",
      "median_spatial_distance_15min    133.297778\n",
      "min_spatial_distance_15min        10.507125\n",
      "dtype: float64\n",
      "Maximum: max_spatial_distance_15min       4584.803939\n",
      "mean_spatial_distance_15min      3818.965111\n",
      "median_spatial_distance_15min    4158.060004\n",
      "min_spatial_distance_15min       3081.691815\n",
      "dtype: float64\n",
      "Mean: max_spatial_distance_15min       1654.891579\n",
      "mean_spatial_distance_15min      1347.455641\n",
      "median_spatial_distance_15min    1346.041221\n",
      "min_spatial_distance_15min       1005.463447\n",
      "dtype: float64\n"
     ]
    }
   ],
   "source": [
    "df = gp.read_file(\"../results/isochrones-tram-15.geojson\")\n",
    "print(\"Tram\\nMinimum: \"+str(df.min(axis=0)))\n",
    "print(\"Maximum: \"+str(df.max(axis=0)))\n",
    "print(\"Mean: \"+str(df.mean(axis=0)))"
   ]
  },
  {
   "cell_type": "code",
   "execution_count": null,
   "metadata": {},
   "outputs": [],
   "source": []
  }
 ],
 "metadata": {
  "kernelspec": {
   "display_name": "Python 3",
   "language": "python",
   "name": "python3"
  },
  "language_info": {
   "codemirror_mode": {
    "name": "ipython",
    "version": 3
   },
   "file_extension": ".py",
   "mimetype": "text/x-python",
   "name": "python",
   "nbconvert_exporter": "python",
   "pygments_lexer": "ipython3",
   "version": "3.8.5"
  }
 },
 "nbformat": 4,
 "nbformat_minor": 4
}
