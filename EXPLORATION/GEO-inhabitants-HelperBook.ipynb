{
 "cells": [
  {
   "cell_type": "code",
   "execution_count": 2,
   "metadata": {},
   "outputs": [],
   "source": [
    "import geopandas as gp\n",
    "import pandas as pd\n",
    "import numpy as np\n",
    "import matplotlib.pyplot as plt\n",
    "import shapely\n",
    "plt.style.use('seaborn')\n",
    "\n",
    "%matplotlib inline"
   ]
  },
  {
   "cell_type": "code",
   "execution_count": 2,
   "metadata": {},
   "outputs": [],
   "source": [
    "inhab_plz = gp.read_file(\"../results/berlin-inhabitants.geojson\")"
   ]
  },
  {
   "cell_type": "markdown",
   "metadata": {},
   "source": [
    "# Ausreißer 193 !!!! what the Fuck same PLZ, geringe fläche aber die selbe EInwohneranzahl wie 12559 ... reduziere auf 10 EInwohner"
   ]
  },
  {
   "cell_type": "code",
   "execution_count": 3,
   "metadata": {},
   "outputs": [
    {
     "data": {
      "text/html": [
       "<div>\n",
       "<style scoped>\n",
       "    .dataframe tbody tr th:only-of-type {\n",
       "        vertical-align: middle;\n",
       "    }\n",
       "\n",
       "    .dataframe tbody tr th {\n",
       "        vertical-align: top;\n",
       "    }\n",
       "\n",
       "    .dataframe thead th {\n",
       "        text-align: right;\n",
       "    }\n",
       "</style>\n",
       "<table border=\"1\" class=\"dataframe\">\n",
       "  <thead>\n",
       "    <tr style=\"text-align: right;\">\n",
       "      <th></th>\n",
       "      <th>plz</th>\n",
       "      <th>first_dig_plz</th>\n",
       "      <th>einwohner</th>\n",
       "      <th>geometry</th>\n",
       "    </tr>\n",
       "  </thead>\n",
       "  <tbody>\n",
       "    <tr>\n",
       "      <th>0</th>\n",
       "      <td>14109</td>\n",
       "      <td>1</td>\n",
       "      <td>10049</td>\n",
       "      <td>POLYGON ((13.08835 52.41963, 13.09584 52.42198...</td>\n",
       "    </tr>\n",
       "    <tr>\n",
       "      <th>1</th>\n",
       "      <td>14089</td>\n",
       "      <td>1</td>\n",
       "      <td>17734</td>\n",
       "      <td>POLYGON ((13.10929 52.45063, 13.10956 52.45108...</td>\n",
       "    </tr>\n",
       "    <tr>\n",
       "      <th>2</th>\n",
       "      <td>13591</td>\n",
       "      <td>1</td>\n",
       "      <td>26762</td>\n",
       "      <td>POLYGON ((13.11738 52.51706, 13.11811 52.52010...</td>\n",
       "    </tr>\n",
       "    <tr>\n",
       "      <th>3</th>\n",
       "      <td>13587</td>\n",
       "      <td>1</td>\n",
       "      <td>20108</td>\n",
       "      <td>POLYGON ((13.12796 52.58313, 13.12934 52.58593...</td>\n",
       "    </tr>\n",
       "    <tr>\n",
       "      <th>4</th>\n",
       "      <td>13593</td>\n",
       "      <td>1</td>\n",
       "      <td>20238</td>\n",
       "      <td>POLYGON ((13.14288 52.52181, 13.14306 52.52179...</td>\n",
       "    </tr>\n",
       "    <tr>\n",
       "      <th>...</th>\n",
       "      <td>...</td>\n",
       "      <td>...</td>\n",
       "      <td>...</td>\n",
       "      <td>...</td>\n",
       "    </tr>\n",
       "    <tr>\n",
       "      <th>193</th>\n",
       "      <td>12559</td>\n",
       "      <td>1</td>\n",
       "      <td>17643</td>\n",
       "      <td>POLYGON ((13.58139 52.44185, 13.58151 52.44239...</td>\n",
       "    </tr>\n",
       "    <tr>\n",
       "      <th>194</th>\n",
       "      <td>12559</td>\n",
       "      <td>1</td>\n",
       "      <td>17643</td>\n",
       "      <td>POLYGON ((13.58177 52.44236, 13.58248 52.44299...</td>\n",
       "    </tr>\n",
       "    <tr>\n",
       "      <th>195</th>\n",
       "      <td>12627</td>\n",
       "      <td>1</td>\n",
       "      <td>35353</td>\n",
       "      <td>POLYGON ((13.59131 52.53367, 13.59148 52.53485...</td>\n",
       "    </tr>\n",
       "    <tr>\n",
       "      <th>196</th>\n",
       "      <td>12587</td>\n",
       "      <td>1</td>\n",
       "      <td>17717</td>\n",
       "      <td>POLYGON ((13.59408 52.45418, 13.59430 52.45452...</td>\n",
       "    </tr>\n",
       "    <tr>\n",
       "      <th>197</th>\n",
       "      <td>12589</td>\n",
       "      <td>1</td>\n",
       "      <td>9236</td>\n",
       "      <td>POLYGON ((13.65676 52.43742, 13.66248 52.44738...</td>\n",
       "    </tr>\n",
       "  </tbody>\n",
       "</table>\n",
       "<p>198 rows × 4 columns</p>\n",
       "</div>"
      ],
      "text/plain": [
       "       plz first_dig_plz  einwohner  \\\n",
       "0    14109             1      10049   \n",
       "1    14089             1      17734   \n",
       "2    13591             1      26762   \n",
       "3    13587             1      20108   \n",
       "4    13593             1      20238   \n",
       "..     ...           ...        ...   \n",
       "193  12559             1      17643   \n",
       "194  12559             1      17643   \n",
       "195  12627             1      35353   \n",
       "196  12587             1      17717   \n",
       "197  12589             1       9236   \n",
       "\n",
       "                                              geometry  \n",
       "0    POLYGON ((13.08835 52.41963, 13.09584 52.42198...  \n",
       "1    POLYGON ((13.10929 52.45063, 13.10956 52.45108...  \n",
       "2    POLYGON ((13.11738 52.51706, 13.11811 52.52010...  \n",
       "3    POLYGON ((13.12796 52.58313, 13.12934 52.58593...  \n",
       "4    POLYGON ((13.14288 52.52181, 13.14306 52.52179...  \n",
       "..                                                 ...  \n",
       "193  POLYGON ((13.58139 52.44185, 13.58151 52.44239...  \n",
       "194  POLYGON ((13.58177 52.44236, 13.58248 52.44299...  \n",
       "195  POLYGON ((13.59131 52.53367, 13.59148 52.53485...  \n",
       "196  POLYGON ((13.59408 52.45418, 13.59430 52.45452...  \n",
       "197  POLYGON ((13.65676 52.43742, 13.66248 52.44738...  \n",
       "\n",
       "[198 rows x 4 columns]"
      ]
     },
     "execution_count": 3,
     "metadata": {},
     "output_type": "execute_result"
    }
   ],
   "source": [
    "inhab_plz"
   ]
  },
  {
   "cell_type": "code",
   "execution_count": 4,
   "metadata": {},
   "outputs": [
    {
     "name": "stderr",
     "output_type": "stream",
     "text": [
      "<ipython-input-4-799b8683da4c>:1: SettingWithCopyWarning: \n",
      "A value is trying to be set on a copy of a slice from a DataFrame\n",
      "\n",
      "See the caveats in the documentation: https://pandas.pydata.org/pandas-docs/stable/user_guide/indexing.html#returning-a-view-versus-a-copy\n",
      "  inhab_plz.einwohner[193:194] = 1\n"
     ]
    }
   ],
   "source": [
    "inhab_plz.einwohner[193:194] = 1"
   ]
  },
  {
   "cell_type": "code",
   "execution_count": 5,
   "metadata": {},
   "outputs": [
    {
     "data": {
      "text/plain": [
       "<AxesSubplot:>"
      ]
     },
     "execution_count": 5,
     "metadata": {},
     "output_type": "execute_result"
    },
    {
     "data": {
      "image/png": "[encoded data removed]",
      "text/plain": [
       "<Figure size 432x288 with 1 Axes>"
      ]
     },
     "metadata": {
      "needs_background": "light"
     },
     "output_type": "display_data"
    }
   ],
   "source": [
    "inhab_plz.plot()"
   ]
  },
  {
   "cell_type": "code",
   "execution_count": 6,
   "metadata": {},
   "outputs": [
    {
     "name": "stdout",
     "output_type": "stream",
     "text": [
      "# Geodesic area: 25228864.822 m^2\n"
     ]
    },
    {
     "data": {
      "text/plain": [
       "[25228864.822468046,\n",
       " 24888210.485740192,\n",
       " 8988007.14226191,\n",
       " 17478801.640618935,\n",
       " 4561552.388685081,\n",
       " 6903208.170846933,\n",
       " 3942351.8594531785,\n",
       " 20496134.114165206,\n",
       " 2354013.059637749,\n",
       " 5294865.113202442]"
      ]
     },
     "execution_count": 6,
     "metadata": {},
     "output_type": "execute_result"
    }
   ],
   "source": [
    "from pyproj import Geod\n",
    "from shapely import wkt\n",
    "\n",
    "# specify a named ellipsoid\n",
    "geod = Geod(ellps=\"WGS84\")\n",
    "area = abs(geod.geometry_area_perimeter(inhab_plz[\"geometry\"][0])[0])\n",
    "print('# Geodesic area: {:.3f} m^2'.format(area))\n",
    "\n",
    "\n",
    "nlist = []\n",
    "for i in range(len(inhab_plz)):\n",
    "    nlist.append(abs(geod.geometry_area_perimeter(inhab_plz[\"geometry\"][i])[0]))\n",
    "nlist[0:10]\n",
    "# # Geodesic area: 13205034.647 m^2"
   ]
  },
  {
   "cell_type": "code",
   "execution_count": 7,
   "metadata": {},
   "outputs": [],
   "source": [
    "inhab_plz[\"area_m2\"] = nlist"
   ]
  },
  {
   "cell_type": "code",
   "execution_count": 8,
   "metadata": {},
   "outputs": [],
   "source": [
    "inhab_plz[\"area_km2\"] = inhab_plz[\"area_m2\"]/1000000"
   ]
  },
  {
   "cell_type": "code",
   "execution_count": 9,
   "metadata": {},
   "outputs": [
    {
     "data": {
      "text/html": [
       "<div>\n",
       "<style scoped>\n",
       "    .dataframe tbody tr th:only-of-type {\n",
       "        vertical-align: middle;\n",
       "    }\n",
       "\n",
       "    .dataframe tbody tr th {\n",
       "        vertical-align: top;\n",
       "    }\n",
       "\n",
       "    .dataframe thead th {\n",
       "        text-align: right;\n",
       "    }\n",
       "</style>\n",
       "<table border=\"1\" class=\"dataframe\">\n",
       "  <thead>\n",
       "    <tr style=\"text-align: right;\">\n",
       "      <th></th>\n",
       "      <th>plz</th>\n",
       "      <th>first_dig_plz</th>\n",
       "      <th>einwohner</th>\n",
       "      <th>geometry</th>\n",
       "      <th>area_m2</th>\n",
       "      <th>area_km2</th>\n",
       "    </tr>\n",
       "  </thead>\n",
       "  <tbody>\n",
       "    <tr>\n",
       "      <th>0</th>\n",
       "      <td>14109</td>\n",
       "      <td>1</td>\n",
       "      <td>10049</td>\n",
       "      <td>POLYGON ((13.08835 52.41963, 13.09584 52.42198...</td>\n",
       "      <td>2.522886e+07</td>\n",
       "      <td>25.228865</td>\n",
       "    </tr>\n",
       "    <tr>\n",
       "      <th>1</th>\n",
       "      <td>14089</td>\n",
       "      <td>1</td>\n",
       "      <td>17734</td>\n",
       "      <td>POLYGON ((13.10929 52.45063, 13.10956 52.45108...</td>\n",
       "      <td>2.488821e+07</td>\n",
       "      <td>24.888210</td>\n",
       "    </tr>\n",
       "    <tr>\n",
       "      <th>2</th>\n",
       "      <td>13591</td>\n",
       "      <td>1</td>\n",
       "      <td>26762</td>\n",
       "      <td>POLYGON ((13.11738 52.51706, 13.11811 52.52010...</td>\n",
       "      <td>8.988007e+06</td>\n",
       "      <td>8.988007</td>\n",
       "    </tr>\n",
       "    <tr>\n",
       "      <th>3</th>\n",
       "      <td>13587</td>\n",
       "      <td>1</td>\n",
       "      <td>20108</td>\n",
       "      <td>POLYGON ((13.12796 52.58313, 13.12934 52.58593...</td>\n",
       "      <td>1.747880e+07</td>\n",
       "      <td>17.478802</td>\n",
       "    </tr>\n",
       "    <tr>\n",
       "      <th>4</th>\n",
       "      <td>13593</td>\n",
       "      <td>1</td>\n",
       "      <td>20238</td>\n",
       "      <td>POLYGON ((13.14288 52.52181, 13.14306 52.52179...</td>\n",
       "      <td>4.561552e+06</td>\n",
       "      <td>4.561552</td>\n",
       "    </tr>\n",
       "    <tr>\n",
       "      <th>...</th>\n",
       "      <td>...</td>\n",
       "      <td>...</td>\n",
       "      <td>...</td>\n",
       "      <td>...</td>\n",
       "      <td>...</td>\n",
       "      <td>...</td>\n",
       "    </tr>\n",
       "    <tr>\n",
       "      <th>193</th>\n",
       "      <td>12559</td>\n",
       "      <td>1</td>\n",
       "      <td>1</td>\n",
       "      <td>POLYGON ((13.58139 52.44185, 13.58151 52.44239...</td>\n",
       "      <td>2.820620e+03</td>\n",
       "      <td>0.002821</td>\n",
       "    </tr>\n",
       "    <tr>\n",
       "      <th>194</th>\n",
       "      <td>12559</td>\n",
       "      <td>1</td>\n",
       "      <td>17643</td>\n",
       "      <td>POLYGON ((13.58177 52.44236, 13.58248 52.44299...</td>\n",
       "      <td>3.761828e+07</td>\n",
       "      <td>37.618275</td>\n",
       "    </tr>\n",
       "    <tr>\n",
       "      <th>195</th>\n",
       "      <td>12627</td>\n",
       "      <td>1</td>\n",
       "      <td>35353</td>\n",
       "      <td>POLYGON ((13.59131 52.53367, 13.59148 52.53485...</td>\n",
       "      <td>3.985389e+06</td>\n",
       "      <td>3.985389</td>\n",
       "    </tr>\n",
       "    <tr>\n",
       "      <th>196</th>\n",
       "      <td>12587</td>\n",
       "      <td>1</td>\n",
       "      <td>17717</td>\n",
       "      <td>POLYGON ((13.59408 52.45418, 13.59430 52.45452...</td>\n",
       "      <td>1.529608e+07</td>\n",
       "      <td>15.296081</td>\n",
       "    </tr>\n",
       "    <tr>\n",
       "      <th>197</th>\n",
       "      <td>12589</td>\n",
       "      <td>1</td>\n",
       "      <td>9236</td>\n",
       "      <td>POLYGON ((13.65676 52.43742, 13.66248 52.44738...</td>\n",
       "      <td>2.144565e+07</td>\n",
       "      <td>21.445649</td>\n",
       "    </tr>\n",
       "  </tbody>\n",
       "</table>\n",
       "<p>198 rows × 6 columns</p>\n",
       "</div>"
      ],
      "text/plain": [
       "       plz first_dig_plz  einwohner  \\\n",
       "0    14109             1      10049   \n",
       "1    14089             1      17734   \n",
       "2    13591             1      26762   \n",
       "3    13587             1      20108   \n",
       "4    13593             1      20238   \n",
       "..     ...           ...        ...   \n",
       "193  12559             1          1   \n",
       "194  12559             1      17643   \n",
       "195  12627             1      35353   \n",
       "196  12587             1      17717   \n",
       "197  12589             1       9236   \n",
       "\n",
       "                                              geometry       area_m2  \\\n",
       "0    POLYGON ((13.08835 52.41963, 13.09584 52.42198...  2.522886e+07   \n",
       "1    POLYGON ((13.10929 52.45063, 13.10956 52.45108...  2.488821e+07   \n",
       "2    POLYGON ((13.11738 52.51706, 13.11811 52.52010...  8.988007e+06   \n",
       "3    POLYGON ((13.12796 52.58313, 13.12934 52.58593...  1.747880e+07   \n",
       "4    POLYGON ((13.14288 52.52181, 13.14306 52.52179...  4.561552e+06   \n",
       "..                                                 ...           ...   \n",
       "193  POLYGON ((13.58139 52.44185, 13.58151 52.44239...  2.820620e+03   \n",
       "194  POLYGON ((13.58177 52.44236, 13.58248 52.44299...  3.761828e+07   \n",
       "195  POLYGON ((13.59131 52.53367, 13.59148 52.53485...  3.985389e+06   \n",
       "196  POLYGON ((13.59408 52.45418, 13.59430 52.45452...  1.529608e+07   \n",
       "197  POLYGON ((13.65676 52.43742, 13.66248 52.44738...  2.144565e+07   \n",
       "\n",
       "      area_km2  \n",
       "0    25.228865  \n",
       "1    24.888210  \n",
       "2     8.988007  \n",
       "3    17.478802  \n",
       "4     4.561552  \n",
       "..         ...  \n",
       "193   0.002821  \n",
       "194  37.618275  \n",
       "195   3.985389  \n",
       "196  15.296081  \n",
       "197  21.445649  \n",
       "\n",
       "[198 rows x 6 columns]"
      ]
     },
     "execution_count": 9,
     "metadata": {},
     "output_type": "execute_result"
    }
   ],
   "source": [
    "inhab_plz"
   ]
  },
  {
   "cell_type": "markdown",
   "metadata": {},
   "source": [
    "# TEST\n",
    "\n",
    "https://www.bing.com/search?q=berlin+fl%C3%A4che&cvid=95631a86c9f64a0b84639be308543a3d&pglt=43&FORM=ANNTA1&PC=U531\n",
    "\n",
    "~ 891,7 km²\n"
   ]
  },
  {
   "cell_type": "code",
   "execution_count": 10,
   "metadata": {},
   "outputs": [
    {
     "data": {
      "text/plain": [
       "891.2474882097497"
      ]
     },
     "execution_count": 10,
     "metadata": {},
     "output_type": "execute_result"
    }
   ],
   "source": [
    "inhab_plz[\"area_km2\"].sum()"
   ]
  },
  {
   "cell_type": "markdown",
   "metadata": {},
   "source": [
    "# Einwohner anzahl"
   ]
  },
  {
   "cell_type": "code",
   "execution_count": 11,
   "metadata": {},
   "outputs": [
    {
     "data": {
      "text/plain": [
       "3426133"
      ]
     },
     "execution_count": 11,
     "metadata": {},
     "output_type": "execute_result"
    }
   ],
   "source": [
    "inhab_plz[\"einwohner\"].sum()"
   ]
  },
  {
   "cell_type": "markdown",
   "metadata": {},
   "source": [
    "# X Einwohner pro km2 "
   ]
  },
  {
   "cell_type": "code",
   "execution_count": 12,
   "metadata": {},
   "outputs": [
    {
     "data": {
      "text/plain": [
       "3844.199333321072"
      ]
     },
     "execution_count": 12,
     "metadata": {},
     "output_type": "execute_result"
    }
   ],
   "source": [
    "inhab_plz[\"einwohner\"].sum() / inhab_plz[\"area_km2\"].sum() "
   ]
  },
  {
   "cell_type": "code",
   "execution_count": 13,
   "metadata": {},
   "outputs": [
    {
     "data": {
      "text/plain": [
       "0.00026013219224406924"
      ]
     },
     "execution_count": 13,
     "metadata": {},
     "output_type": "execute_result"
    }
   ],
   "source": [
    "inhab_plz[\"area_km2\"].sum() / inhab_plz[\"einwohner\"].sum()"
   ]
  },
  {
   "cell_type": "code",
   "execution_count": 14,
   "metadata": {},
   "outputs": [],
   "source": [
    "inhab_plz[\"einwohner_km2\"] = inhab_plz[\"einwohner\"] / inhab_plz[\"area_km2\"]\n",
    "inhab_plz[\"einwohner_m2\"] = inhab_plz[\"einwohner\"] / inhab_plz[\"area_m2\"]"
   ]
  },
  {
   "cell_type": "code",
   "execution_count": 15,
   "metadata": {},
   "outputs": [
    {
     "data": {
      "text/plain": [
       "0     398.313601\n",
       "1     712.546208\n",
       "2    2977.523224\n",
       "3    1150.422118\n",
       "4    4436.647500\n",
       "Name: einwohner_km2, dtype: float64"
      ]
     },
     "execution_count": 15,
     "metadata": {},
     "output_type": "execute_result"
    }
   ],
   "source": [
    "inhab_plz[\"einwohner_km2\"][0:5]\n",
    "#[geopy.distance.geodesic(point,start_point).meters for point in zip(long,lat)]"
   ]
  },
  {
   "cell_type": "code",
   "execution_count": 16,
   "metadata": {},
   "outputs": [],
   "source": [
    "inhab_plz['einwohner_km2'] = inhab_plz['einwohner_km2'].round(decimals=3)"
   ]
  },
  {
   "cell_type": "code",
   "execution_count": 17,
   "metadata": {},
   "outputs": [],
   "source": [
    "inhab_plz['einwohner_m2'] = inhab_plz['einwohner_m2'].round(decimals=6)"
   ]
  },
  {
   "cell_type": "code",
   "execution_count": 18,
   "metadata": {},
   "outputs": [
    {
     "data": {
      "text/html": [
       "<div>\n",
       "<style scoped>\n",
       "    .dataframe tbody tr th:only-of-type {\n",
       "        vertical-align: middle;\n",
       "    }\n",
       "\n",
       "    .dataframe tbody tr th {\n",
       "        vertical-align: top;\n",
       "    }\n",
       "\n",
       "    .dataframe thead th {\n",
       "        text-align: right;\n",
       "    }\n",
       "</style>\n",
       "<table border=\"1\" class=\"dataframe\">\n",
       "  <thead>\n",
       "    <tr style=\"text-align: right;\">\n",
       "      <th></th>\n",
       "      <th>einwohner</th>\n",
       "      <th>area_m2</th>\n",
       "      <th>area_km2</th>\n",
       "      <th>einwohner_km2</th>\n",
       "      <th>einwohner_m2</th>\n",
       "    </tr>\n",
       "  </thead>\n",
       "  <tbody>\n",
       "    <tr>\n",
       "      <th>count</th>\n",
       "      <td>198.000000</td>\n",
       "      <td>1.980000e+02</td>\n",
       "      <td>198.000000</td>\n",
       "      <td>198.000000</td>\n",
       "      <td>198.000000</td>\n",
       "    </tr>\n",
       "    <tr>\n",
       "      <th>mean</th>\n",
       "      <td>17303.702020</td>\n",
       "      <td>4.501250e+06</td>\n",
       "      <td>4.501250</td>\n",
       "      <td>20448.872515</td>\n",
       "      <td>0.020449</td>\n",
       "    </tr>\n",
       "    <tr>\n",
       "      <th>std</th>\n",
       "      <td>6427.008404</td>\n",
       "      <td>5.386013e+06</td>\n",
       "      <td>5.386013</td>\n",
       "      <td>77865.821950</td>\n",
       "      <td>0.077866</td>\n",
       "    </tr>\n",
       "    <tr>\n",
       "      <th>min</th>\n",
       "      <td>1.000000</td>\n",
       "      <td>2.820620e+03</td>\n",
       "      <td>0.002821</td>\n",
       "      <td>94.607000</td>\n",
       "      <td>0.000095</td>\n",
       "    </tr>\n",
       "    <tr>\n",
       "      <th>25%</th>\n",
       "      <td>13417.000000</td>\n",
       "      <td>1.463890e+06</td>\n",
       "      <td>1.463890</td>\n",
       "      <td>3082.145250</td>\n",
       "      <td>0.003082</td>\n",
       "    </tr>\n",
       "    <tr>\n",
       "      <th>50%</th>\n",
       "      <td>17062.000000</td>\n",
       "      <td>2.900474e+06</td>\n",
       "      <td>2.900474</td>\n",
       "      <td>6242.390500</td>\n",
       "      <td>0.006242</td>\n",
       "    </tr>\n",
       "    <tr>\n",
       "      <th>75%</th>\n",
       "      <td>21598.750000</td>\n",
       "      <td>5.789695e+06</td>\n",
       "      <td>5.789695</td>\n",
       "      <td>12328.896250</td>\n",
       "      <td>0.012329</td>\n",
       "    </tr>\n",
       "    <tr>\n",
       "      <th>max</th>\n",
       "      <td>35353.000000</td>\n",
       "      <td>3.761828e+07</td>\n",
       "      <td>37.618275</td>\n",
       "      <td>666781.365000</td>\n",
       "      <td>0.666781</td>\n",
       "    </tr>\n",
       "  </tbody>\n",
       "</table>\n",
       "</div>"
      ],
      "text/plain": [
       "          einwohner       area_m2    area_km2  einwohner_km2  einwohner_m2\n",
       "count    198.000000  1.980000e+02  198.000000     198.000000    198.000000\n",
       "mean   17303.702020  4.501250e+06    4.501250   20448.872515      0.020449\n",
       "std     6427.008404  5.386013e+06    5.386013   77865.821950      0.077866\n",
       "min        1.000000  2.820620e+03    0.002821      94.607000      0.000095\n",
       "25%    13417.000000  1.463890e+06    1.463890    3082.145250      0.003082\n",
       "50%    17062.000000  2.900474e+06    2.900474    6242.390500      0.006242\n",
       "75%    21598.750000  5.789695e+06    5.789695   12328.896250      0.012329\n",
       "max    35353.000000  3.761828e+07   37.618275  666781.365000      0.666781"
      ]
     },
     "execution_count": 18,
     "metadata": {},
     "output_type": "execute_result"
    }
   ],
   "source": [
    "inhab_plz.describe()"
   ]
  },
  {
   "cell_type": "code",
   "execution_count": 19,
   "metadata": {},
   "outputs": [
    {
     "data": {
      "text/plain": [
       "164"
      ]
     },
     "execution_count": 19,
     "metadata": {},
     "output_type": "execute_result"
    }
   ],
   "source": [
    "len(inhab_plz[inhab_plz['einwohner_km2']<15500])"
   ]
  },
  {
   "cell_type": "code",
   "execution_count": 20,
   "metadata": {},
   "outputs": [],
   "source": [
    "inhab_plz.to_file(\"../results/berlin-inhabitants-improved.geojson\", driver='GeoJSON')"
   ]
  },
  {
   "cell_type": "code",
   "execution_count": null,
   "metadata": {},
   "outputs": [],
   "source": []
  },
  {
   "cell_type": "code",
   "execution_count": null,
   "metadata": {},
   "outputs": [],
   "source": []
  },
  {
   "cell_type": "code",
   "execution_count": null,
   "metadata": {},
   "outputs": [],
   "source": []
  },
  {
   "cell_type": "code",
   "execution_count": null,
   "metadata": {},
   "outputs": [],
   "source": []
  },
  {
   "cell_type": "code",
   "execution_count": 21,
   "metadata": {},
   "outputs": [],
   "source": [
    "top3inhab_plz = inhab_plz.sort_values(by='einwohner_km2', ascending=False).head(3)\n",
    "top5inhab_plz = inhab_plz.sort_values(by='einwohner_km2', ascending=False).head(5)"
   ]
  },
  {
   "cell_type": "code",
   "execution_count": 22,
   "metadata": {},
   "outputs": [],
   "source": [
    "top3inhab_plz.to_file(\"../results/berlin-inhabitants-top3.geojson\", driver='GeoJSON')\n",
    "top5inhab_plz.to_file(\"../results/berlin-inhabitants-top5.geojson\", driver='GeoJSON')"
   ]
  },
  {
   "cell_type": "code",
   "execution_count": 23,
   "metadata": {},
   "outputs": [],
   "source": [
    "tail3inhab_plz = inhab_plz.sort_values(by='einwohner_km2', ascending=False).tail(3)\n",
    "tail5inhab_plz = inhab_plz.sort_values(by='einwohner_km2', ascending=False).tail(5)"
   ]
  },
  {
   "cell_type": "code",
   "execution_count": 24,
   "metadata": {},
   "outputs": [],
   "source": [
    "tail3inhab_plz.to_file(\"../results/berlin-inhabitants-tail3.geojson\", driver='GeoJSON')\n",
    "tail5inhab_plz.to_file(\"../results/berlin-inhabitants-tail5.geojson\", driver='GeoJSON')"
   ]
  },
  {
   "cell_type": "code",
   "execution_count": 25,
   "metadata": {},
   "outputs": [
    {
     "data": {
      "text/html": [
       "<div>\n",
       "<style scoped>\n",
       "    .dataframe tbody tr th:only-of-type {\n",
       "        vertical-align: middle;\n",
       "    }\n",
       "\n",
       "    .dataframe tbody tr th {\n",
       "        vertical-align: top;\n",
       "    }\n",
       "\n",
       "    .dataframe thead th {\n",
       "        text-align: right;\n",
       "    }\n",
       "</style>\n",
       "<table border=\"1\" class=\"dataframe\">\n",
       "  <thead>\n",
       "    <tr style=\"text-align: right;\">\n",
       "      <th></th>\n",
       "      <th>plz</th>\n",
       "      <th>first_dig_plz</th>\n",
       "      <th>einwohner</th>\n",
       "      <th>geometry</th>\n",
       "      <th>area_m2</th>\n",
       "      <th>area_km2</th>\n",
       "      <th>einwohner_km2</th>\n",
       "      <th>einwohner_m2</th>\n",
       "    </tr>\n",
       "  </thead>\n",
       "  <tbody>\n",
       "    <tr>\n",
       "      <th>193</th>\n",
       "      <td>12559</td>\n",
       "      <td>1</td>\n",
       "      <td>1</td>\n",
       "      <td>POLYGON ((13.58139 52.44185, 13.58151 52.44239...</td>\n",
       "      <td>2.820620e+03</td>\n",
       "      <td>0.002821</td>\n",
       "      <td>354.532</td>\n",
       "      <td>0.000355</td>\n",
       "    </tr>\n",
       "    <tr>\n",
       "      <th>102</th>\n",
       "      <td>13159</td>\n",
       "      <td>1</td>\n",
       "      <td>1762</td>\n",
       "      <td>POLYGON ((13.36691 52.62544, 13.36697 52.62547...</td>\n",
       "      <td>1.093987e+07</td>\n",
       "      <td>10.939874</td>\n",
       "      <td>161.062</td>\n",
       "      <td>0.000161</td>\n",
       "    </tr>\n",
       "    <tr>\n",
       "      <th>18</th>\n",
       "      <td>14053</td>\n",
       "      <td>1</td>\n",
       "      <td>139</td>\n",
       "      <td>POLYGON ((13.22312 52.51329, 13.22489 52.51423...</td>\n",
       "      <td>1.469243e+06</td>\n",
       "      <td>1.469243</td>\n",
       "      <td>94.607</td>\n",
       "      <td>0.000095</td>\n",
       "    </tr>\n",
       "  </tbody>\n",
       "</table>\n",
       "</div>"
      ],
      "text/plain": [
       "       plz first_dig_plz  einwohner  \\\n",
       "193  12559             1          1   \n",
       "102  13159             1       1762   \n",
       "18   14053             1        139   \n",
       "\n",
       "                                              geometry       area_m2  \\\n",
       "193  POLYGON ((13.58139 52.44185, 13.58151 52.44239...  2.820620e+03   \n",
       "102  POLYGON ((13.36691 52.62544, 13.36697 52.62547...  1.093987e+07   \n",
       "18   POLYGON ((13.22312 52.51329, 13.22489 52.51423...  1.469243e+06   \n",
       "\n",
       "      area_km2  einwohner_km2  einwohner_m2  \n",
       "193   0.002821        354.532      0.000355  \n",
       "102  10.939874        161.062      0.000161  \n",
       "18    1.469243         94.607      0.000095  "
      ]
     },
     "execution_count": 25,
     "metadata": {},
     "output_type": "execute_result"
    }
   ],
   "source": [
    "tail3inhab_plz"
   ]
  },
  {
   "cell_type": "code",
   "execution_count": 26,
   "metadata": {},
   "outputs": [],
   "source": [
    "#from shapely.geometry import Point\n",
    "#center_list = []\n",
    "#for i in range(len(inhab_plz)):\n",
    "#    center_list.append(Point(inhab_plz[\"geometry\"][i].centroid.coords))"
   ]
  },
  {
   "cell_type": "code",
   "execution_count": 27,
   "metadata": {},
   "outputs": [],
   "source": [
    "inhab_plz_point = inhab_plz"
   ]
  },
  {
   "cell_type": "code",
   "execution_count": 28,
   "metadata": {},
   "outputs": [
    {
     "name": "stderr",
     "output_type": "stream",
     "text": [
      "<ipython-input-28-db461ff8800e>:1: UserWarning: Geometry is in a geographic CRS. Results from 'centroid' are likely incorrect. Use 'GeoSeries.to_crs()' to re-project geometries to a projected CRS before this operation.\n",
      "\n",
      "  inhab_plz_point[\"geometry\"] = inhab_plz[\"geometry\"].centroid\n"
     ]
    }
   ],
   "source": [
    "inhab_plz_point[\"geometry\"] = inhab_plz[\"geometry\"].centroid"
   ]
  },
  {
   "cell_type": "code",
   "execution_count": 29,
   "metadata": {},
   "outputs": [
    {
     "name": "stdout",
     "output_type": "stream",
     "text": [
      "<class 'geopandas.geodataframe.GeoDataFrame'>\n",
      "RangeIndex: 198 entries, 0 to 197\n",
      "Data columns (total 8 columns):\n",
      " #   Column         Non-Null Count  Dtype   \n",
      "---  ------         --------------  -----   \n",
      " 0   plz            198 non-null    object  \n",
      " 1   first_dig_plz  198 non-null    object  \n",
      " 2   einwohner      198 non-null    int64   \n",
      " 3   geometry       198 non-null    geometry\n",
      " 4   area_m2        198 non-null    float64 \n",
      " 5   area_km2       198 non-null    float64 \n",
      " 6   einwohner_km2  198 non-null    float64 \n",
      " 7   einwohner_m2   198 non-null    float64 \n",
      "dtypes: float64(4), geometry(1), int64(1), object(2)\n",
      "memory usage: 12.5+ KB\n"
     ]
    }
   ],
   "source": [
    "inhab_plz_point.info()"
   ]
  },
  {
   "cell_type": "code",
   "execution_count": 30,
   "metadata": {},
   "outputs": [],
   "source": [
    "inhab_plz_point.to_file(\"../results/berlin-inhabitants-centerpoints.geojson\", driver='GeoJSON')"
   ]
  },
  {
   "cell_type": "code",
   "execution_count": 31,
   "metadata": {},
   "outputs": [],
   "source": [
    "top3inhab_plz_points = inhab_plz_point.sort_values(by='einwohner_km2', ascending=False).head(3)\n",
    "top5inhab_plz_points = inhab_plz_point.sort_values(by='einwohner_km2', ascending=False).head(5)"
   ]
  },
  {
   "cell_type": "code",
   "execution_count": 32,
   "metadata": {},
   "outputs": [
    {
     "data": {
      "text/html": [
       "<div>\n",
       "<style scoped>\n",
       "    .dataframe tbody tr th:only-of-type {\n",
       "        vertical-align: middle;\n",
       "    }\n",
       "\n",
       "    .dataframe tbody tr th {\n",
       "        vertical-align: top;\n",
       "    }\n",
       "\n",
       "    .dataframe thead th {\n",
       "        text-align: right;\n",
       "    }\n",
       "</style>\n",
       "<table border=\"1\" class=\"dataframe\">\n",
       "  <thead>\n",
       "    <tr style=\"text-align: right;\">\n",
       "      <th></th>\n",
       "      <th>plz</th>\n",
       "      <th>first_dig_plz</th>\n",
       "      <th>einwohner</th>\n",
       "      <th>geometry</th>\n",
       "      <th>area_m2</th>\n",
       "      <th>area_km2</th>\n",
       "      <th>einwohner_km2</th>\n",
       "      <th>einwohner_m2</th>\n",
       "    </tr>\n",
       "  </thead>\n",
       "  <tbody>\n",
       "    <tr>\n",
       "      <th>58</th>\n",
       "      <td>10623</td>\n",
       "      <td>1</td>\n",
       "      <td>5680</td>\n",
       "      <td>POINT (13.31943 52.50234)</td>\n",
       "      <td>8518.534412</td>\n",
       "      <td>0.008519</td>\n",
       "      <td>666781.365</td>\n",
       "      <td>0.666781</td>\n",
       "    </tr>\n",
       "    <tr>\n",
       "      <th>101</th>\n",
       "      <td>12107</td>\n",
       "      <td>1</td>\n",
       "      <td>19767</td>\n",
       "      <td>POINT (13.40439 52.44134)</td>\n",
       "      <td>33683.063698</td>\n",
       "      <td>0.033683</td>\n",
       "      <td>586852.793</td>\n",
       "      <td>0.586853</td>\n",
       "    </tr>\n",
       "    <tr>\n",
       "      <th>190</th>\n",
       "      <td>12623</td>\n",
       "      <td>1</td>\n",
       "      <td>27373</td>\n",
       "      <td>POINT (13.57961 52.48101)</td>\n",
       "      <td>60427.724456</td>\n",
       "      <td>0.060428</td>\n",
       "      <td>452987.437</td>\n",
       "      <td>0.452987</td>\n",
       "    </tr>\n",
       "    <tr>\n",
       "      <th>182</th>\n",
       "      <td>12679</td>\n",
       "      <td>1</td>\n",
       "      <td>25823</td>\n",
       "      <td>POINT (13.57525 52.54533)</td>\n",
       "      <td>58814.767518</td>\n",
       "      <td>0.058815</td>\n",
       "      <td>439056.398</td>\n",
       "      <td>0.439056</td>\n",
       "    </tr>\n",
       "    <tr>\n",
       "      <th>114</th>\n",
       "      <td>12305</td>\n",
       "      <td>1</td>\n",
       "      <td>20742</td>\n",
       "      <td>POINT (13.41718 52.40546)</td>\n",
       "      <td>121144.852985</td>\n",
       "      <td>0.121145</td>\n",
       "      <td>171216.519</td>\n",
       "      <td>0.171217</td>\n",
       "    </tr>\n",
       "  </tbody>\n",
       "</table>\n",
       "</div>"
      ],
      "text/plain": [
       "       plz first_dig_plz  einwohner                   geometry        area_m2  \\\n",
       "58   10623             1       5680  POINT (13.31943 52.50234)    8518.534412   \n",
       "101  12107             1      19767  POINT (13.40439 52.44134)   33683.063698   \n",
       "190  12623             1      27373  POINT (13.57961 52.48101)   60427.724456   \n",
       "182  12679             1      25823  POINT (13.57525 52.54533)   58814.767518   \n",
       "114  12305             1      20742  POINT (13.41718 52.40546)  121144.852985   \n",
       "\n",
       "     area_km2  einwohner_km2  einwohner_m2  \n",
       "58   0.008519     666781.365      0.666781  \n",
       "101  0.033683     586852.793      0.586853  \n",
       "190  0.060428     452987.437      0.452987  \n",
       "182  0.058815     439056.398      0.439056  \n",
       "114  0.121145     171216.519      0.171217  "
      ]
     },
     "execution_count": 32,
     "metadata": {},
     "output_type": "execute_result"
    }
   ],
   "source": [
    "top5inhab_plz_points"
   ]
  },
  {
   "cell_type": "code",
   "execution_count": 67,
   "metadata": {},
   "outputs": [],
   "source": [
    "top3inhab_plz_points.to_file(\"../results/berlin-inhabitants-centerpoints-top3.geojson\", driver='GeoJSON')\n",
    "top5inhab_plz_points.to_file(\"../results/berlin-inhabitants-centerpoints-top5.geojson\", driver='GeoJSON')"
   ]
  },
  {
   "cell_type": "code",
   "execution_count": 68,
   "metadata": {},
   "outputs": [],
   "source": [
    "tail3inhab_plz_points = inhab_plz_point.sort_values(by='einwohner_km2', ascending=False).tail(3)\n",
    "tail5inhab_plz_points = inhab_plz_point.sort_values(by='einwohner_km2', ascending=False).tail(5)"
   ]
  },
  {
   "cell_type": "code",
   "execution_count": 69,
   "metadata": {},
   "outputs": [],
   "source": [
    "tail3inhab_plz_points.to_file(\"../results/berlin-inhabitants-centerpoints-tail3.geojson\", driver='GeoJSON')\n",
    "tail5inhab_plz_points.to_file(\"../results/berlin-inhabitants-centerpoints-tail5.geojson\", driver='GeoJSON')"
   ]
  },
  {
   "cell_type": "code",
   "execution_count": 70,
   "metadata": {},
   "outputs": [
    {
     "data": {
      "text/html": [
       "<div>\n",
       "<style scoped>\n",
       "    .dataframe tbody tr th:only-of-type {\n",
       "        vertical-align: middle;\n",
       "    }\n",
       "\n",
       "    .dataframe tbody tr th {\n",
       "        vertical-align: top;\n",
       "    }\n",
       "\n",
       "    .dataframe thead th {\n",
       "        text-align: right;\n",
       "    }\n",
       "</style>\n",
       "<table border=\"1\" class=\"dataframe\">\n",
       "  <thead>\n",
       "    <tr style=\"text-align: right;\">\n",
       "      <th></th>\n",
       "      <th>plz</th>\n",
       "      <th>first_dig_plz</th>\n",
       "      <th>einwohner</th>\n",
       "      <th>geometry</th>\n",
       "      <th>area_m2</th>\n",
       "      <th>area_km2</th>\n",
       "      <th>einwohner_km2</th>\n",
       "      <th>einwohner_m2</th>\n",
       "    </tr>\n",
       "  </thead>\n",
       "  <tbody>\n",
       "    <tr>\n",
       "      <th>0</th>\n",
       "      <td>14109</td>\n",
       "      <td>1</td>\n",
       "      <td>10049</td>\n",
       "      <td>POINT (13.14399 52.41974)</td>\n",
       "      <td>2.522886e+07</td>\n",
       "      <td>25.228865</td>\n",
       "      <td>398.314</td>\n",
       "      <td>0.000398</td>\n",
       "    </tr>\n",
       "    <tr>\n",
       "      <th>186</th>\n",
       "      <td>12527</td>\n",
       "      <td>1</td>\n",
       "      <td>9425</td>\n",
       "      <td>POINT (13.63382 52.38563)</td>\n",
       "      <td>2.620787e+07</td>\n",
       "      <td>26.207873</td>\n",
       "      <td>359.625</td>\n",
       "      <td>0.000360</td>\n",
       "    </tr>\n",
       "    <tr>\n",
       "      <th>193</th>\n",
       "      <td>12559</td>\n",
       "      <td>1</td>\n",
       "      <td>1</td>\n",
       "      <td>POINT (13.58170 52.44200)</td>\n",
       "      <td>2.820620e+03</td>\n",
       "      <td>0.002821</td>\n",
       "      <td>354.532</td>\n",
       "      <td>0.000355</td>\n",
       "    </tr>\n",
       "    <tr>\n",
       "      <th>102</th>\n",
       "      <td>13159</td>\n",
       "      <td>1</td>\n",
       "      <td>1762</td>\n",
       "      <td>POINT (13.39499 52.62179)</td>\n",
       "      <td>1.093987e+07</td>\n",
       "      <td>10.939874</td>\n",
       "      <td>161.062</td>\n",
       "      <td>0.000161</td>\n",
       "    </tr>\n",
       "    <tr>\n",
       "      <th>18</th>\n",
       "      <td>14053</td>\n",
       "      <td>1</td>\n",
       "      <td>139</td>\n",
       "      <td>POINT (13.23820 52.51536)</td>\n",
       "      <td>1.469243e+06</td>\n",
       "      <td>1.469243</td>\n",
       "      <td>94.607</td>\n",
       "      <td>0.000095</td>\n",
       "    </tr>\n",
       "  </tbody>\n",
       "</table>\n",
       "</div>"
      ],
      "text/plain": [
       "       plz first_dig_plz  einwohner                   geometry       area_m2  \\\n",
       "0    14109             1      10049  POINT (13.14399 52.41974)  2.522886e+07   \n",
       "186  12527             1       9425  POINT (13.63382 52.38563)  2.620787e+07   \n",
       "193  12559             1          1  POINT (13.58170 52.44200)  2.820620e+03   \n",
       "102  13159             1       1762  POINT (13.39499 52.62179)  1.093987e+07   \n",
       "18   14053             1        139  POINT (13.23820 52.51536)  1.469243e+06   \n",
       "\n",
       "      area_km2  einwohner_km2  einwohner_m2  \n",
       "0    25.228865        398.314      0.000398  \n",
       "186  26.207873        359.625      0.000360  \n",
       "193   0.002821        354.532      0.000355  \n",
       "102  10.939874        161.062      0.000161  \n",
       "18    1.469243         94.607      0.000095  "
      ]
     },
     "execution_count": 70,
     "metadata": {},
     "output_type": "execute_result"
    }
   ],
   "source": [
    "tail5inhab_plz_points"
   ]
  },
  {
   "cell_type": "code",
   "execution_count": 71,
   "metadata": {},
   "outputs": [
    {
     "data": {
      "text/html": [
       "<div>\n",
       "<style scoped>\n",
       "    .dataframe tbody tr th:only-of-type {\n",
       "        vertical-align: middle;\n",
       "    }\n",
       "\n",
       "    .dataframe tbody tr th {\n",
       "        vertical-align: top;\n",
       "    }\n",
       "\n",
       "    .dataframe thead th {\n",
       "        text-align: right;\n",
       "    }\n",
       "</style>\n",
       "<table border=\"1\" class=\"dataframe\">\n",
       "  <thead>\n",
       "    <tr style=\"text-align: right;\">\n",
       "      <th></th>\n",
       "      <th>plz</th>\n",
       "      <th>first_dig_plz</th>\n",
       "      <th>einwohner</th>\n",
       "      <th>geometry</th>\n",
       "      <th>area_m2</th>\n",
       "      <th>area_km2</th>\n",
       "      <th>einwohner_km2</th>\n",
       "      <th>einwohner_m2</th>\n",
       "    </tr>\n",
       "  </thead>\n",
       "  <tbody>\n",
       "    <tr>\n",
       "      <th>193</th>\n",
       "      <td>12559</td>\n",
       "      <td>1</td>\n",
       "      <td>1</td>\n",
       "      <td>POINT (13.58170 52.44200)</td>\n",
       "      <td>2.820620e+03</td>\n",
       "      <td>0.002821</td>\n",
       "      <td>354.532</td>\n",
       "      <td>0.000355</td>\n",
       "    </tr>\n",
       "    <tr>\n",
       "      <th>102</th>\n",
       "      <td>13159</td>\n",
       "      <td>1</td>\n",
       "      <td>1762</td>\n",
       "      <td>POINT (13.39499 52.62179)</td>\n",
       "      <td>1.093987e+07</td>\n",
       "      <td>10.939874</td>\n",
       "      <td>161.062</td>\n",
       "      <td>0.000161</td>\n",
       "    </tr>\n",
       "    <tr>\n",
       "      <th>18</th>\n",
       "      <td>14053</td>\n",
       "      <td>1</td>\n",
       "      <td>139</td>\n",
       "      <td>POINT (13.23820 52.51536)</td>\n",
       "      <td>1.469243e+06</td>\n",
       "      <td>1.469243</td>\n",
       "      <td>94.607</td>\n",
       "      <td>0.000095</td>\n",
       "    </tr>\n",
       "  </tbody>\n",
       "</table>\n",
       "</div>"
      ],
      "text/plain": [
       "       plz first_dig_plz  einwohner                   geometry       area_m2  \\\n",
       "193  12559             1          1  POINT (13.58170 52.44200)  2.820620e+03   \n",
       "102  13159             1       1762  POINT (13.39499 52.62179)  1.093987e+07   \n",
       "18   14053             1        139  POINT (13.23820 52.51536)  1.469243e+06   \n",
       "\n",
       "      area_km2  einwohner_km2  einwohner_m2  \n",
       "193   0.002821        354.532      0.000355  \n",
       "102  10.939874        161.062      0.000161  \n",
       "18    1.469243         94.607      0.000095  "
      ]
     },
     "execution_count": 71,
     "metadata": {},
     "output_type": "execute_result"
    }
   ],
   "source": [
    "tail3inhab_plz_points"
   ]
  },
  {
   "cell_type": "code",
   "execution_count": null,
   "metadata": {},
   "outputs": [],
   "source": []
  },
  {
   "cell_type": "code",
   "execution_count": null,
   "metadata": {},
   "outputs": [],
   "source": []
  },
  {
   "cell_type": "code",
   "execution_count": 3,
   "metadata": {},
   "outputs": [],
   "source": [
    "residential = gp.read_file(\"../results/residential.geojson\")"
   ]
  },
  {
   "cell_type": "code",
   "execution_count": 5,
   "metadata": {},
   "outputs": [
    {
     "data": {
      "text/plain": [
       "<AxesSubplot:>"
      ]
     },
     "execution_count": 5,
     "metadata": {},
     "output_type": "execute_result"
    },
    {
     "data": {
      "image/png": "[encoded data removed]",
      "text/plain": [
       "<Figure size 432x288 with 1 Axes>"
      ]
     },
     "metadata": {
      "needs_background": "light"
     },
     "output_type": "display_data"
    }
   ],
   "source": [
    "residential.plot()"
   ]
  },
  {
   "cell_type": "code",
   "execution_count": 11,
   "metadata": {},
   "outputs": [
    {
     "data": {
      "text/plain": [
       "0.04748579827455013"
      ]
     },
     "execution_count": 11,
     "metadata": {},
     "output_type": "execute_result"
    }
   ],
   "source": [
    "fleachensumme = 0.0\n",
    "for i in range(len(residential)):\n",
    "    fleachensumme = fleachensumme + residential.geometry[i].area\n",
    "fleachensumme"
   ]
  },
  {
   "cell_type": "code",
   "execution_count": 15,
   "metadata": {},
   "outputs": [
    {
     "data": {
      "text/plain": [
       "1926826.4880065932"
      ]
     },
     "execution_count": 15,
     "metadata": {},
     "output_type": "execute_result"
    }
   ],
   "source": [
    "fleachensumme*6370**2"
   ]
  },
  {
   "cell_type": "code",
   "execution_count": 16,
   "metadata": {},
   "outputs": [
    {
     "name": "stdout",
     "output_type": "stream",
     "text": [
      "# Geodesic area: 225815.483 m^2\n"
     ]
    }
   ],
   "source": [
    "from pyproj import Geod\n",
    "from shapely import wkt\n",
    "\n",
    "# specify a named ellipsoid\n",
    "geod = Geod(ellps=\"WGS84\")\n",
    "area = abs(geod.geometry_area_perimeter(residential[\"geometry\"][0])[0])\n",
    "print('# Geodesic area: {:.3f} m^2'.format(area))\n",
    "\n"
   ]
  },
  {
   "cell_type": "code",
   "execution_count": 18,
   "metadata": {},
   "outputs": [
    {
     "data": {
      "text/plain": [
       "[225815.4833021909,\n",
       " 3639300.34992334,\n",
       " 1096821.372205857,\n",
       " 11254.390082558617,\n",
       " 386620.32871544315,\n",
       " 1003959.6132031579,\n",
       " 852322.9838822575,\n",
       " 577589.7421668558,\n",
       " 252899.09009483663,\n",
       " 4004.4250432569534]"
      ]
     },
     "execution_count": 18,
     "metadata": {},
     "output_type": "execute_result"
    }
   ],
   "source": [
    "\n",
    "nlist = []\n",
    "for i in range(len(residential)):\n",
    "    nlist.append(abs(geod.geometry_area_perimeter(residential[\"geometry\"][i])[0]))\n",
    "nlist[0:10]"
   ]
  },
  {
   "cell_type": "code",
   "execution_count": 19,
   "metadata": {},
   "outputs": [],
   "source": [
    "dftest = pd.DataFrame()"
   ]
  },
  {
   "cell_type": "code",
   "execution_count": 20,
   "metadata": {},
   "outputs": [],
   "source": [
    "dftest[\"area_m2\"] = nlist"
   ]
  },
  {
   "cell_type": "code",
   "execution_count": 21,
   "metadata": {},
   "outputs": [],
   "source": [
    "dftest[\"area_km2\"] = dftest[\"area_m2\"]/1000000"
   ]
  },
  {
   "cell_type": "code",
   "execution_count": 22,
   "metadata": {},
   "outputs": [
    {
     "data": {
      "text/plain": [
       "368.16606314961416"
      ]
     },
     "execution_count": 22,
     "metadata": {},
     "output_type": "execute_result"
    }
   ],
   "source": [
    "dftest[\"area_km2\"].sum()"
   ]
  },
  {
   "cell_type": "code",
   "execution_count": null,
   "metadata": {},
   "outputs": [],
   "source": []
  }
 ],
 "metadata": {
  "kernelspec": {
   "display_name": "Python 3",
   "language": "python",
   "name": "python3"
  },
  "language_info": {
   "codemirror_mode": {
    "name": "ipython",
    "version": 3
   },
   "file_extension": ".py",
   "mimetype": "text/x-python",
   "name": "python",
   "nbconvert_exporter": "python",
   "pygments_lexer": "ipython3",
   "version": "3.8.5"
  }
 },
 "nbformat": 4,
 "nbformat_minor": 4
}
