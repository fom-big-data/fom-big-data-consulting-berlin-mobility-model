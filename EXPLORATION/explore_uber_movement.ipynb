{
 "cells": [
  {
   "cell_type": "code",
   "execution_count": 35,
   "metadata": {},
   "outputs": [],
   "source": [
    "import osmnx as ox\n",
    "import matplotlib.pyplot as plt\n",
    "import geopandas as gp\n",
    "from geopandas import GeoDataFrame\n",
    "from shapely.geometry import LineString\n",
    "import networkx as nx\n",
    "import os.path\n",
    "from os import path\n",
    "import pathlib\n",
    "import pandas as pd\n",
    "ox.config(log_console=True, use_cache=True)"
   ]
  },
  {
   "cell_type": "code",
   "execution_count": 2,
   "metadata": {},
   "outputs": [
    {
     "data": {
      "text/html": [
       "<div>\n",
       "<style scoped>\n",
       "    .dataframe tbody tr th:only-of-type {\n",
       "        vertical-align: middle;\n",
       "    }\n",
       "\n",
       "    .dataframe tbody tr th {\n",
       "        vertical-align: top;\n",
       "    }\n",
       "\n",
       "    .dataframe thead th {\n",
       "        text-align: right;\n",
       "    }\n",
       "</style>\n",
       "<table border=\"1\" class=\"dataframe\">\n",
       "  <thead>\n",
       "    <tr style=\"text-align: right;\">\n",
       "      <th></th>\n",
       "      <th>year</th>\n",
       "      <th>month</th>\n",
       "      <th>day</th>\n",
       "      <th>hour</th>\n",
       "      <th>utc_timestamp</th>\n",
       "      <th>segment_id</th>\n",
       "      <th>start_junction_id</th>\n",
       "      <th>end_junction_id</th>\n",
       "      <th>osm_way_id</th>\n",
       "      <th>osm_start_node_id</th>\n",
       "      <th>osm_end_node_id</th>\n",
       "      <th>speed_kph_mean</th>\n",
       "      <th>speed_kph_stddev</th>\n",
       "    </tr>\n",
       "  </thead>\n",
       "  <tbody>\n",
       "    <tr>\n",
       "      <th>0</th>\n",
       "      <td>2020</td>\n",
       "      <td>1</td>\n",
       "      <td>15</td>\n",
       "      <td>22</td>\n",
       "      <td>2020-01-15T21:00:00.000Z</td>\n",
       "      <td>277640ca389fc7f0fc8a583386e6063df80485f0</td>\n",
       "      <td>ad26106a25d52c3409bd0165f05de3047a4e96b5</td>\n",
       "      <td>9c00a9375aeaba9c08f4f2fd507cc1808ba83b89</td>\n",
       "      <td>9932085</td>\n",
       "      <td>81398215</td>\n",
       "      <td>1236497752</td>\n",
       "      <td>35.532</td>\n",
       "      <td>4.510</td>\n",
       "    </tr>\n",
       "    <tr>\n",
       "      <th>1</th>\n",
       "      <td>2020</td>\n",
       "      <td>1</td>\n",
       "      <td>27</td>\n",
       "      <td>20</td>\n",
       "      <td>2020-01-27T19:00:00.000Z</td>\n",
       "      <td>277640ca389fc7f0fc8a583386e6063df80485f0</td>\n",
       "      <td>ad26106a25d52c3409bd0165f05de3047a4e96b5</td>\n",
       "      <td>9c00a9375aeaba9c08f4f2fd507cc1808ba83b89</td>\n",
       "      <td>9932085</td>\n",
       "      <td>81398215</td>\n",
       "      <td>1236497752</td>\n",
       "      <td>33.747</td>\n",
       "      <td>1.482</td>\n",
       "    </tr>\n",
       "    <tr>\n",
       "      <th>2</th>\n",
       "      <td>2020</td>\n",
       "      <td>1</td>\n",
       "      <td>15</td>\n",
       "      <td>19</td>\n",
       "      <td>2020-01-15T18:00:00.000Z</td>\n",
       "      <td>277640ca389fc7f0fc8a583386e6063df80485f0</td>\n",
       "      <td>ad26106a25d52c3409bd0165f05de3047a4e96b5</td>\n",
       "      <td>9c00a9375aeaba9c08f4f2fd507cc1808ba83b89</td>\n",
       "      <td>9932085</td>\n",
       "      <td>81398215</td>\n",
       "      <td>1236497752</td>\n",
       "      <td>41.433</td>\n",
       "      <td>9.934</td>\n",
       "    </tr>\n",
       "    <tr>\n",
       "      <th>3</th>\n",
       "      <td>2020</td>\n",
       "      <td>1</td>\n",
       "      <td>21</td>\n",
       "      <td>21</td>\n",
       "      <td>2020-01-21T20:00:00.000Z</td>\n",
       "      <td>277640ca389fc7f0fc8a583386e6063df80485f0</td>\n",
       "      <td>ad26106a25d52c3409bd0165f05de3047a4e96b5</td>\n",
       "      <td>9c00a9375aeaba9c08f4f2fd507cc1808ba83b89</td>\n",
       "      <td>9932085</td>\n",
       "      <td>81398215</td>\n",
       "      <td>1236497752</td>\n",
       "      <td>35.808</td>\n",
       "      <td>4.182</td>\n",
       "    </tr>\n",
       "    <tr>\n",
       "      <th>4</th>\n",
       "      <td>2020</td>\n",
       "      <td>1</td>\n",
       "      <td>25</td>\n",
       "      <td>21</td>\n",
       "      <td>2020-01-25T20:00:00.000Z</td>\n",
       "      <td>d0034ae2336f81ef5933a211f2ce2d979f0aff2a</td>\n",
       "      <td>66081f9fe2860af2a498e1248334cb51d6ea5073</td>\n",
       "      <td>9c00a9375aeaba9c08f4f2fd507cc1808ba83b89</td>\n",
       "      <td>9932085</td>\n",
       "      <td>1236497729</td>\n",
       "      <td>1236497752</td>\n",
       "      <td>41.691</td>\n",
       "      <td>5.543</td>\n",
       "    </tr>\n",
       "    <tr>\n",
       "      <th>...</th>\n",
       "      <td>...</td>\n",
       "      <td>...</td>\n",
       "      <td>...</td>\n",
       "      <td>...</td>\n",
       "      <td>...</td>\n",
       "      <td>...</td>\n",
       "      <td>...</td>\n",
       "      <td>...</td>\n",
       "      <td>...</td>\n",
       "      <td>...</td>\n",
       "      <td>...</td>\n",
       "      <td>...</td>\n",
       "      <td>...</td>\n",
       "    </tr>\n",
       "    <tr>\n",
       "      <th>2780210</th>\n",
       "      <td>2020</td>\n",
       "      <td>1</td>\n",
       "      <td>26</td>\n",
       "      <td>23</td>\n",
       "      <td>2020-01-26T22:00:00.000Z</td>\n",
       "      <td>46ec6887faf8d9d9d26fb72f575ae064f38d65dd</td>\n",
       "      <td>3c358a996e6db9c97f327284d8c6cd7355ddc03c</td>\n",
       "      <td>8e9f29c18cf04f6bac662cd03017619dfd68e0ee</td>\n",
       "      <td>385627960</td>\n",
       "      <td>312370453</td>\n",
       "      <td>29858455</td>\n",
       "      <td>51.693</td>\n",
       "      <td>7.077</td>\n",
       "    </tr>\n",
       "    <tr>\n",
       "      <th>2780211</th>\n",
       "      <td>2020</td>\n",
       "      <td>1</td>\n",
       "      <td>26</td>\n",
       "      <td>3</td>\n",
       "      <td>2020-01-26T02:00:00.000Z</td>\n",
       "      <td>46ec6887faf8d9d9d26fb72f575ae064f38d65dd</td>\n",
       "      <td>3c358a996e6db9c97f327284d8c6cd7355ddc03c</td>\n",
       "      <td>8e9f29c18cf04f6bac662cd03017619dfd68e0ee</td>\n",
       "      <td>385627960</td>\n",
       "      <td>312370453</td>\n",
       "      <td>29858455</td>\n",
       "      <td>47.522</td>\n",
       "      <td>23.820</td>\n",
       "    </tr>\n",
       "    <tr>\n",
       "      <th>2780212</th>\n",
       "      <td>2020</td>\n",
       "      <td>1</td>\n",
       "      <td>1</td>\n",
       "      <td>3</td>\n",
       "      <td>2020-01-01T02:00:00.000Z</td>\n",
       "      <td>46ec6887faf8d9d9d26fb72f575ae064f38d65dd</td>\n",
       "      <td>3c358a996e6db9c97f327284d8c6cd7355ddc03c</td>\n",
       "      <td>8e9f29c18cf04f6bac662cd03017619dfd68e0ee</td>\n",
       "      <td>385627960</td>\n",
       "      <td>312370453</td>\n",
       "      <td>29858455</td>\n",
       "      <td>35.562</td>\n",
       "      <td>23.883</td>\n",
       "    </tr>\n",
       "    <tr>\n",
       "      <th>2780213</th>\n",
       "      <td>2020</td>\n",
       "      <td>1</td>\n",
       "      <td>1</td>\n",
       "      <td>5</td>\n",
       "      <td>2020-01-01T04:00:00.000Z</td>\n",
       "      <td>46ec6887faf8d9d9d26fb72f575ae064f38d65dd</td>\n",
       "      <td>3c358a996e6db9c97f327284d8c6cd7355ddc03c</td>\n",
       "      <td>8e9f29c18cf04f6bac662cd03017619dfd68e0ee</td>\n",
       "      <td>385627960</td>\n",
       "      <td>312370453</td>\n",
       "      <td>29858455</td>\n",
       "      <td>39.424</td>\n",
       "      <td>24.362</td>\n",
       "    </tr>\n",
       "    <tr>\n",
       "      <th>2780214</th>\n",
       "      <td>2020</td>\n",
       "      <td>1</td>\n",
       "      <td>12</td>\n",
       "      <td>23</td>\n",
       "      <td>2020-01-12T22:00:00.000Z</td>\n",
       "      <td>46ec6887faf8d9d9d26fb72f575ae064f38d65dd</td>\n",
       "      <td>3c358a996e6db9c97f327284d8c6cd7355ddc03c</td>\n",
       "      <td>8e9f29c18cf04f6bac662cd03017619dfd68e0ee</td>\n",
       "      <td>385627960</td>\n",
       "      <td>312370453</td>\n",
       "      <td>29858455</td>\n",
       "      <td>46.732</td>\n",
       "      <td>19.972</td>\n",
       "    </tr>\n",
       "  </tbody>\n",
       "</table>\n",
       "<p>2780215 rows × 13 columns</p>\n",
       "</div>"
      ],
      "text/plain": [
       "         year  month  day  hour             utc_timestamp  \\\n",
       "0        2020      1   15    22  2020-01-15T21:00:00.000Z   \n",
       "1        2020      1   27    20  2020-01-27T19:00:00.000Z   \n",
       "2        2020      1   15    19  2020-01-15T18:00:00.000Z   \n",
       "3        2020      1   21    21  2020-01-21T20:00:00.000Z   \n",
       "4        2020      1   25    21  2020-01-25T20:00:00.000Z   \n",
       "...       ...    ...  ...   ...                       ...   \n",
       "2780210  2020      1   26    23  2020-01-26T22:00:00.000Z   \n",
       "2780211  2020      1   26     3  2020-01-26T02:00:00.000Z   \n",
       "2780212  2020      1    1     3  2020-01-01T02:00:00.000Z   \n",
       "2780213  2020      1    1     5  2020-01-01T04:00:00.000Z   \n",
       "2780214  2020      1   12    23  2020-01-12T22:00:00.000Z   \n",
       "\n",
       "                                       segment_id  \\\n",
       "0        277640ca389fc7f0fc8a583386e6063df80485f0   \n",
       "1        277640ca389fc7f0fc8a583386e6063df80485f0   \n",
       "2        277640ca389fc7f0fc8a583386e6063df80485f0   \n",
       "3        277640ca389fc7f0fc8a583386e6063df80485f0   \n",
       "4        d0034ae2336f81ef5933a211f2ce2d979f0aff2a   \n",
       "...                                           ...   \n",
       "2780210  46ec6887faf8d9d9d26fb72f575ae064f38d65dd   \n",
       "2780211  46ec6887faf8d9d9d26fb72f575ae064f38d65dd   \n",
       "2780212  46ec6887faf8d9d9d26fb72f575ae064f38d65dd   \n",
       "2780213  46ec6887faf8d9d9d26fb72f575ae064f38d65dd   \n",
       "2780214  46ec6887faf8d9d9d26fb72f575ae064f38d65dd   \n",
       "\n",
       "                                start_junction_id  \\\n",
       "0        ad26106a25d52c3409bd0165f05de3047a4e96b5   \n",
       "1        ad26106a25d52c3409bd0165f05de3047a4e96b5   \n",
       "2        ad26106a25d52c3409bd0165f05de3047a4e96b5   \n",
       "3        ad26106a25d52c3409bd0165f05de3047a4e96b5   \n",
       "4        66081f9fe2860af2a498e1248334cb51d6ea5073   \n",
       "...                                           ...   \n",
       "2780210  3c358a996e6db9c97f327284d8c6cd7355ddc03c   \n",
       "2780211  3c358a996e6db9c97f327284d8c6cd7355ddc03c   \n",
       "2780212  3c358a996e6db9c97f327284d8c6cd7355ddc03c   \n",
       "2780213  3c358a996e6db9c97f327284d8c6cd7355ddc03c   \n",
       "2780214  3c358a996e6db9c97f327284d8c6cd7355ddc03c   \n",
       "\n",
       "                                  end_junction_id  osm_way_id  \\\n",
       "0        9c00a9375aeaba9c08f4f2fd507cc1808ba83b89     9932085   \n",
       "1        9c00a9375aeaba9c08f4f2fd507cc1808ba83b89     9932085   \n",
       "2        9c00a9375aeaba9c08f4f2fd507cc1808ba83b89     9932085   \n",
       "3        9c00a9375aeaba9c08f4f2fd507cc1808ba83b89     9932085   \n",
       "4        9c00a9375aeaba9c08f4f2fd507cc1808ba83b89     9932085   \n",
       "...                                           ...         ...   \n",
       "2780210  8e9f29c18cf04f6bac662cd03017619dfd68e0ee   385627960   \n",
       "2780211  8e9f29c18cf04f6bac662cd03017619dfd68e0ee   385627960   \n",
       "2780212  8e9f29c18cf04f6bac662cd03017619dfd68e0ee   385627960   \n",
       "2780213  8e9f29c18cf04f6bac662cd03017619dfd68e0ee   385627960   \n",
       "2780214  8e9f29c18cf04f6bac662cd03017619dfd68e0ee   385627960   \n",
       "\n",
       "         osm_start_node_id  osm_end_node_id  speed_kph_mean  speed_kph_stddev  \n",
       "0                 81398215       1236497752          35.532             4.510  \n",
       "1                 81398215       1236497752          33.747             1.482  \n",
       "2                 81398215       1236497752          41.433             9.934  \n",
       "3                 81398215       1236497752          35.808             4.182  \n",
       "4               1236497729       1236497752          41.691             5.543  \n",
       "...                    ...              ...             ...               ...  \n",
       "2780210          312370453         29858455          51.693             7.077  \n",
       "2780211          312370453         29858455          47.522            23.820  \n",
       "2780212          312370453         29858455          35.562            23.883  \n",
       "2780213          312370453         29858455          39.424            24.362  \n",
       "2780214          312370453         29858455          46.732            19.972  \n",
       "\n",
       "[2780215 rows x 13 columns]"
      ]
     },
     "execution_count": 2,
     "metadata": {},
     "output_type": "execute_result"
    }
   ],
   "source": [
    "speed_df = pd.read_csv('../data/Uber_speeds/movement-speeds-hourly-berlin-2020-1.csv')\n",
    "speed_df"
   ]
  },
  {
   "cell_type": "code",
   "execution_count": 53,
   "metadata": {},
   "outputs": [
    {
     "ename": "TypeError",
     "evalue": "graph_from_place() got an unexpected keyword argument 'type'",
     "output_type": "error",
     "traceback": [
      "\u001b[0;31m---------------------------------------------------------------------------\u001b[0m",
      "\u001b[0;31mTypeError\u001b[0m                                 Traceback (most recent call last)",
      "\u001b[0;32m<ipython-input-53-cb748c12b0ce>\u001b[0m in \u001b[0;36m<module>\u001b[0;34m\u001b[0m\n\u001b[0;32m----> 1\u001b[0;31m \u001b[0mG\u001b[0m \u001b[0;34m=\u001b[0m \u001b[0mox\u001b[0m\u001b[0;34m.\u001b[0m\u001b[0mgraph_from_place\u001b[0m\u001b[0;34m(\u001b[0m\u001b[0;34m'Berlin, DE'\u001b[0m\u001b[0;34m,\u001b[0m \u001b[0mtype\u001b[0m\u001b[0;34m=\u001b[0m\u001b[0;34m\"driving\"\u001b[0m\u001b[0;34m)\u001b[0m\u001b[0;34m\u001b[0m\u001b[0;34m\u001b[0m\u001b[0m\n\u001b[0m",
      "\u001b[0;31mTypeError\u001b[0m: graph_from_place() got an unexpected keyword argument 'type'"
     ]
    }
   ],
   "source": [
    "G = ox.graph_from_place('Berlin, DE', type=\"driving\")"
   ]
  },
  {
   "cell_type": "code",
   "execution_count": 52,
   "metadata": {},
   "outputs": [],
   "source": [
    "osm_id_df = speed_df[['osm_way_id','osm_start_node_id','osm_end_node_id','speed_kph_mean']]\n",
    "osm_id_df = osm_id_df.groupby(['osm_start_node_id','osm_end_node_id']).mean().reset_index()\n",
    "in_graph = [ id_start in G.nodes and id_end in G.nodes and id_end in G[id_start].keys() for id_start, id_end in zip(osm_id_df['osm_start_node_id'], osm_id_df['osm_end_node_id'])]\n",
    "\n",
    "osm_id_df = osm_id_df[in_graph]\n",
    "\n",
    "#osm_id_df = osm_id_df[:100]\n",
    "\n",
    "osm_id_df['osm_segment'] = [G.edges[id_start,id_end,0] for id_start,id_end in zip(osm_id_df['osm_start_node_id'], osm_id_df['osm_end_node_id'])]\n",
    "\n",
    "has_geometry = ['geometry' in way.keys() for way in osm_id_df['osm_segment']]\n",
    "#osm_id_df = osm_id_df[has_geometry]\n",
    "\n",
    "osm_id_df\n",
    "\n",
    "##geometry = [row['geometry'] if row[has_geometry] else 0 for i,row in enumerate(osm_id_df['osm_segment'])]\n",
    "geometry = [segment['geometry'] if has_geometry[i] else LineString([(G.nodes[start]['x'],G.nodes[start]['y']),(G.nodes[end]['x'],G.nodes[end]['y'])]) for i,(segment,start,end) in enumerate(zip(osm_id_df['osm_segment'],osm_id_df['osm_start_node_id'],osm_id_df['osm_end_node_id']))]\n",
    "\n",
    "\n",
    "\n",
    "#geometry\n",
    "\n",
    "geo_df = GeoDataFrame(osm_id_df['speed_kph_mean'], geometry=geometry)\n",
    "geo_df.to_file(\"../results/uber_mean_speed.geojson\", driver='GeoJSON')"
   ]
  },
  {
   "cell_type": "code",
   "execution_count": 142,
   "metadata": {},
   "outputs": [
    {
     "data": {
      "text/plain": [
       "True"
      ]
     },
     "execution_count": 142,
     "metadata": {},
     "output_type": "execute_result"
    }
   ],
   "source": [
    "26904555 in G.nodes"
   ]
  },
  {
   "cell_type": "code",
   "execution_count": 43,
   "metadata": {},
   "outputs": [
    {
     "data": {
      "text/plain": [
       "{'y': 52.5703344, 'x': 13.3608121, 'osmid': 172594}"
      ]
     },
     "execution_count": 43,
     "metadata": {},
     "output_type": "execute_result"
    }
   ],
   "source": [
    "G.nodes[172594]"
   ]
  },
  {
   "cell_type": "code",
   "execution_count": 42,
   "metadata": {},
   "outputs": [
    {
     "data": {
      "text/plain": [
       "{'osmid': 40817197,\n",
       " 'name': 'Emmentaler Straße',\n",
       " 'highway': 'secondary',\n",
       " 'maxspeed': '50',\n",
       " 'oneway': False,\n",
       " 'length': 11.758}"
      ]
     },
     "execution_count": 42,
     "metadata": {},
     "output_type": "execute_result"
    }
   ],
   "source": [
    "G.edges[172594,223826118,0]"
   ]
  },
  {
   "cell_type": "code",
   "execution_count": 152,
   "metadata": {},
   "outputs": [
    {
     "data": {
      "text/plain": [
       "True"
      ]
     },
     "execution_count": 152,
     "metadata": {},
     "output_type": "execute_result"
    }
   ],
   "source": [
    "27587520 in G[26904555].keys()"
   ]
  },
  {
   "cell_type": "code",
   "execution_count": null,
   "metadata": {},
   "outputs": [],
   "source": [
    "#zip the coordinates into a point object and convert to a GeoData Frame\n",
    "geometry = [Point(xy) for xy in zip(df.X, df.Y)]\n",
    "geo_df = GeoDataFrame(df, geometry=geometry)\n",
    "\n",
    "# aggregate these points with the GrouBy\n",
    "geo_df = geo_df.groupby(['track_seg_point_id', 'Hour'])['geometry'].apply(lambda x: LineString(x.tolist()))\n",
    "geo_df = GeoDataFrame(geo_df, geometry='geometry')"
   ]
  },
  {
   "cell_type": "code",
   "execution_count": 54,
   "metadata": {},
   "outputs": [
    {
     "ename": "AttributeError",
     "evalue": "'MultiDiGraph' object has no attribute 'datafr'",
     "output_type": "error",
     "traceback": [
      "\u001b[0;31m---------------------------------------------------------------------------\u001b[0m",
      "\u001b[0;31mAttributeError\u001b[0m                            Traceback (most recent call last)",
      "\u001b[0;32m<ipython-input-54-441ee6415602>\u001b[0m in \u001b[0;36m<module>\u001b[0;34m\u001b[0m\n\u001b[0;32m----> 1\u001b[0;31m \u001b[0mnodes\u001b[0m\u001b[0;34m,\u001b[0m \u001b[0medges\u001b[0m \u001b[0;34m=\u001b[0m \u001b[0mG\u001b[0m\u001b[0;34m.\u001b[0m\u001b[0mdatafr\u001b[0m\u001b[0;34m\u001b[0m\u001b[0;34m\u001b[0m\u001b[0m\n\u001b[0m",
      "\u001b[0;31mAttributeError\u001b[0m: 'MultiDiGraph' object has no attribute 'datafr'"
     ]
    }
   ],
   "source": [
    " = G.datafr"
   ]
  },
  {
   "cell_type": "code",
   "execution_count": 128,
   "metadata": {},
   "outputs": [],
   "source": [
    "#nodes, edges = ox.graph_to_gdfs(G)\n",
    "\n",
    "#edges = edges.drop(columns=['access','service','tunnel','junction','width','est_width','area','oneway','lanes','bridge','ref','name','highway','u','v','key'])\n",
    "##edges\n",
    "##geo_edges = GeoDataFrame(edges, geometry='geometry')\n",
    "edges['osmid'] = [id if type(id)==int else id[0] for id in edges['osmid']]\n",
    "edges['maxspeed'] = [speed if type(speed)==float else speed[0] for speed in edges['maxspeed']]\n",
    "edges.dropna().to_file(\"../results/berlin_max_speed.geojson\", driver='GeoJSON')\n",
    "\n"
   ]
  },
  {
   "cell_type": "code",
   "execution_count": null,
   "metadata": {},
   "outputs": [],
   "source": []
  }
 ],
 "metadata": {
  "kernelspec": {
   "display_name": "Python 3",
   "language": "python",
   "name": "python3"
  },
  "language_info": {
   "codemirror_mode": {
    "name": "ipython",
    "version": 3
   },
   "file_extension": ".py",
   "mimetype": "text/x-python",
   "name": "python",
   "nbconvert_exporter": "python",
   "pygments_lexer": "ipython3",
   "version": "3.7.6"
  }
 },
 "nbformat": 4,
 "nbformat_minor": 4
}
